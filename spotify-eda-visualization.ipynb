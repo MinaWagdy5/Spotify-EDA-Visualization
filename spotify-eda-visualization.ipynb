{
 "cells": [
  {
   "cell_type": "markdown",
   "id": "6ed940b3",
   "metadata": {
    "papermill": {
     "duration": 0.006608,
     "end_time": "2024-02-01T16:39:36.127575",
     "exception": false,
     "start_time": "2024-02-01T16:39:36.120967",
     "status": "completed"
    },
    "tags": []
   },
   "source": [
    "## **Import Libraries**"
   ]
  },
  {
   "cell_type": "code",
   "execution_count": 1,
   "id": "9b67912a",
   "metadata": {
    "execution": {
     "iopub.execute_input": "2024-02-01T16:39:36.142222Z",
     "iopub.status.busy": "2024-02-01T16:39:36.141513Z",
     "iopub.status.idle": "2024-02-01T16:39:38.710636Z",
     "shell.execute_reply": "2024-02-01T16:39:38.709568Z"
    },
    "papermill": {
     "duration": 2.578911,
     "end_time": "2024-02-01T16:39:38.712975",
     "exception": false,
     "start_time": "2024-02-01T16:39:36.134064",
     "status": "completed"
    },
    "tags": []
   },
   "outputs": [],
   "source": [
    "import numpy as np\n",
    "import pandas as pd\n",
    "import matplotlib.pyplot as plt\n",
    "import seaborn as sns\n",
    "import plotly.express as px\n",
    "from plotly.offline import iplot, plot\n",
    "import warnings\n",
    "warnings.filterwarnings('ignore')"
   ]
  },
  {
   "cell_type": "code",
   "execution_count": 2,
   "id": "47320bb9",
   "metadata": {
    "execution": {
     "iopub.execute_input": "2024-02-01T16:39:38.726422Z",
     "iopub.status.busy": "2024-02-01T16:39:38.725724Z",
     "iopub.status.idle": "2024-02-01T16:39:38.775209Z",
     "shell.execute_reply": "2024-02-01T16:39:38.774203Z"
    },
    "papermill": {
     "duration": 0.058129,
     "end_time": "2024-02-01T16:39:38.777039",
     "exception": false,
     "start_time": "2024-02-01T16:39:38.718910",
     "status": "completed"
    },
    "tags": []
   },
   "outputs": [
    {
     "data": {
      "text/html": [
       "<div>\n",
       "<style scoped>\n",
       "    .dataframe tbody tr th:only-of-type {\n",
       "        vertical-align: middle;\n",
       "    }\n",
       "\n",
       "    .dataframe tbody tr th {\n",
       "        vertical-align: top;\n",
       "    }\n",
       "\n",
       "    .dataframe thead th {\n",
       "        text-align: right;\n",
       "    }\n",
       "</style>\n",
       "<table border=\"1\" class=\"dataframe\">\n",
       "  <thead>\n",
       "    <tr style=\"text-align: right;\">\n",
       "      <th></th>\n",
       "      <th>artist</th>\n",
       "      <th>song</th>\n",
       "      <th>duration_ms</th>\n",
       "      <th>explicit</th>\n",
       "      <th>year</th>\n",
       "      <th>popularity</th>\n",
       "      <th>danceability</th>\n",
       "      <th>energy</th>\n",
       "      <th>key</th>\n",
       "      <th>loudness</th>\n",
       "      <th>mode</th>\n",
       "      <th>speechiness</th>\n",
       "      <th>acousticness</th>\n",
       "      <th>instrumentalness</th>\n",
       "      <th>liveness</th>\n",
       "      <th>valence</th>\n",
       "      <th>tempo</th>\n",
       "      <th>genre</th>\n",
       "    </tr>\n",
       "  </thead>\n",
       "  <tbody>\n",
       "    <tr>\n",
       "      <th>0</th>\n",
       "      <td>Britney Spears</td>\n",
       "      <td>Oops!...I Did It Again</td>\n",
       "      <td>211160</td>\n",
       "      <td>False</td>\n",
       "      <td>2000</td>\n",
       "      <td>77</td>\n",
       "      <td>0.751</td>\n",
       "      <td>0.834</td>\n",
       "      <td>1</td>\n",
       "      <td>-5.444</td>\n",
       "      <td>0</td>\n",
       "      <td>0.0437</td>\n",
       "      <td>0.3000</td>\n",
       "      <td>0.000018</td>\n",
       "      <td>0.3550</td>\n",
       "      <td>0.894</td>\n",
       "      <td>95.053</td>\n",
       "      <td>pop</td>\n",
       "    </tr>\n",
       "    <tr>\n",
       "      <th>1</th>\n",
       "      <td>blink-182</td>\n",
       "      <td>All The Small Things</td>\n",
       "      <td>167066</td>\n",
       "      <td>False</td>\n",
       "      <td>1999</td>\n",
       "      <td>79</td>\n",
       "      <td>0.434</td>\n",
       "      <td>0.897</td>\n",
       "      <td>0</td>\n",
       "      <td>-4.918</td>\n",
       "      <td>1</td>\n",
       "      <td>0.0488</td>\n",
       "      <td>0.0103</td>\n",
       "      <td>0.000000</td>\n",
       "      <td>0.6120</td>\n",
       "      <td>0.684</td>\n",
       "      <td>148.726</td>\n",
       "      <td>rock, pop</td>\n",
       "    </tr>\n",
       "    <tr>\n",
       "      <th>2</th>\n",
       "      <td>Faith Hill</td>\n",
       "      <td>Breathe</td>\n",
       "      <td>250546</td>\n",
       "      <td>False</td>\n",
       "      <td>1999</td>\n",
       "      <td>66</td>\n",
       "      <td>0.529</td>\n",
       "      <td>0.496</td>\n",
       "      <td>7</td>\n",
       "      <td>-9.007</td>\n",
       "      <td>1</td>\n",
       "      <td>0.0290</td>\n",
       "      <td>0.1730</td>\n",
       "      <td>0.000000</td>\n",
       "      <td>0.2510</td>\n",
       "      <td>0.278</td>\n",
       "      <td>136.859</td>\n",
       "      <td>pop, country</td>\n",
       "    </tr>\n",
       "    <tr>\n",
       "      <th>3</th>\n",
       "      <td>Bon Jovi</td>\n",
       "      <td>It's My Life</td>\n",
       "      <td>224493</td>\n",
       "      <td>False</td>\n",
       "      <td>2000</td>\n",
       "      <td>78</td>\n",
       "      <td>0.551</td>\n",
       "      <td>0.913</td>\n",
       "      <td>0</td>\n",
       "      <td>-4.063</td>\n",
       "      <td>0</td>\n",
       "      <td>0.0466</td>\n",
       "      <td>0.0263</td>\n",
       "      <td>0.000013</td>\n",
       "      <td>0.3470</td>\n",
       "      <td>0.544</td>\n",
       "      <td>119.992</td>\n",
       "      <td>rock, metal</td>\n",
       "    </tr>\n",
       "    <tr>\n",
       "      <th>4</th>\n",
       "      <td>*NSYNC</td>\n",
       "      <td>Bye Bye Bye</td>\n",
       "      <td>200560</td>\n",
       "      <td>False</td>\n",
       "      <td>2000</td>\n",
       "      <td>65</td>\n",
       "      <td>0.614</td>\n",
       "      <td>0.928</td>\n",
       "      <td>8</td>\n",
       "      <td>-4.806</td>\n",
       "      <td>0</td>\n",
       "      <td>0.0516</td>\n",
       "      <td>0.0408</td>\n",
       "      <td>0.001040</td>\n",
       "      <td>0.0845</td>\n",
       "      <td>0.879</td>\n",
       "      <td>172.656</td>\n",
       "      <td>pop</td>\n",
       "    </tr>\n",
       "  </tbody>\n",
       "</table>\n",
       "</div>"
      ],
      "text/plain": [
       "           artist                    song  duration_ms  explicit  year  \\\n",
       "0  Britney Spears  Oops!...I Did It Again       211160     False  2000   \n",
       "1       blink-182    All The Small Things       167066     False  1999   \n",
       "2      Faith Hill                 Breathe       250546     False  1999   \n",
       "3        Bon Jovi            It's My Life       224493     False  2000   \n",
       "4          *NSYNC             Bye Bye Bye       200560     False  2000   \n",
       "\n",
       "   popularity  danceability  energy  key  loudness  mode  speechiness  \\\n",
       "0          77         0.751   0.834    1    -5.444     0       0.0437   \n",
       "1          79         0.434   0.897    0    -4.918     1       0.0488   \n",
       "2          66         0.529   0.496    7    -9.007     1       0.0290   \n",
       "3          78         0.551   0.913    0    -4.063     0       0.0466   \n",
       "4          65         0.614   0.928    8    -4.806     0       0.0516   \n",
       "\n",
       "   acousticness  instrumentalness  liveness  valence    tempo         genre  \n",
       "0        0.3000          0.000018    0.3550    0.894   95.053           pop  \n",
       "1        0.0103          0.000000    0.6120    0.684  148.726     rock, pop  \n",
       "2        0.1730          0.000000    0.2510    0.278  136.859  pop, country  \n",
       "3        0.0263          0.000013    0.3470    0.544  119.992   rock, metal  \n",
       "4        0.0408          0.001040    0.0845    0.879  172.656           pop  "
      ]
     },
     "execution_count": 2,
     "metadata": {},
     "output_type": "execute_result"
    }
   ],
   "source": [
    "df = pd.read_csv(\"/kaggle/input/top-hits-spotify-from-20002019/songs_normalize.csv\")\n",
    "df.head()"
   ]
  },
  {
   "cell_type": "code",
   "execution_count": 3,
   "id": "c992f580",
   "metadata": {
    "execution": {
     "iopub.execute_input": "2024-02-01T16:39:38.790797Z",
     "iopub.status.busy": "2024-02-01T16:39:38.790434Z",
     "iopub.status.idle": "2024-02-01T16:39:38.808134Z",
     "shell.execute_reply": "2024-02-01T16:39:38.807232Z"
    },
    "papermill": {
     "duration": 0.02659,
     "end_time": "2024-02-01T16:39:38.809803",
     "exception": false,
     "start_time": "2024-02-01T16:39:38.783213",
     "status": "completed"
    },
    "tags": []
   },
   "outputs": [
    {
     "data": {
      "text/html": [
       "<div>\n",
       "<style scoped>\n",
       "    .dataframe tbody tr th:only-of-type {\n",
       "        vertical-align: middle;\n",
       "    }\n",
       "\n",
       "    .dataframe tbody tr th {\n",
       "        vertical-align: top;\n",
       "    }\n",
       "\n",
       "    .dataframe thead th {\n",
       "        text-align: right;\n",
       "    }\n",
       "</style>\n",
       "<table border=\"1\" class=\"dataframe\">\n",
       "  <thead>\n",
       "    <tr style=\"text-align: right;\">\n",
       "      <th></th>\n",
       "      <th>artist</th>\n",
       "      <th>song</th>\n",
       "      <th>duration_ms</th>\n",
       "      <th>explicit</th>\n",
       "      <th>year</th>\n",
       "      <th>popularity</th>\n",
       "      <th>danceability</th>\n",
       "      <th>energy</th>\n",
       "      <th>key</th>\n",
       "      <th>loudness</th>\n",
       "      <th>mode</th>\n",
       "      <th>speechiness</th>\n",
       "      <th>acousticness</th>\n",
       "      <th>instrumentalness</th>\n",
       "      <th>liveness</th>\n",
       "      <th>valence</th>\n",
       "      <th>tempo</th>\n",
       "      <th>genre</th>\n",
       "    </tr>\n",
       "  </thead>\n",
       "  <tbody>\n",
       "    <tr>\n",
       "      <th>1995</th>\n",
       "      <td>Jonas Brothers</td>\n",
       "      <td>Sucker</td>\n",
       "      <td>181026</td>\n",
       "      <td>False</td>\n",
       "      <td>2019</td>\n",
       "      <td>79</td>\n",
       "      <td>0.842</td>\n",
       "      <td>0.734</td>\n",
       "      <td>1</td>\n",
       "      <td>-5.065</td>\n",
       "      <td>0</td>\n",
       "      <td>0.0588</td>\n",
       "      <td>0.0427</td>\n",
       "      <td>0.000000</td>\n",
       "      <td>0.1060</td>\n",
       "      <td>0.952</td>\n",
       "      <td>137.958</td>\n",
       "      <td>pop</td>\n",
       "    </tr>\n",
       "    <tr>\n",
       "      <th>1996</th>\n",
       "      <td>Taylor Swift</td>\n",
       "      <td>Cruel Summer</td>\n",
       "      <td>178426</td>\n",
       "      <td>False</td>\n",
       "      <td>2019</td>\n",
       "      <td>78</td>\n",
       "      <td>0.552</td>\n",
       "      <td>0.702</td>\n",
       "      <td>9</td>\n",
       "      <td>-5.707</td>\n",
       "      <td>1</td>\n",
       "      <td>0.1570</td>\n",
       "      <td>0.1170</td>\n",
       "      <td>0.000021</td>\n",
       "      <td>0.1050</td>\n",
       "      <td>0.564</td>\n",
       "      <td>169.994</td>\n",
       "      <td>pop</td>\n",
       "    </tr>\n",
       "    <tr>\n",
       "      <th>1997</th>\n",
       "      <td>Blanco Brown</td>\n",
       "      <td>The Git Up</td>\n",
       "      <td>200593</td>\n",
       "      <td>False</td>\n",
       "      <td>2019</td>\n",
       "      <td>69</td>\n",
       "      <td>0.847</td>\n",
       "      <td>0.678</td>\n",
       "      <td>9</td>\n",
       "      <td>-8.635</td>\n",
       "      <td>1</td>\n",
       "      <td>0.1090</td>\n",
       "      <td>0.0669</td>\n",
       "      <td>0.000000</td>\n",
       "      <td>0.2740</td>\n",
       "      <td>0.811</td>\n",
       "      <td>97.984</td>\n",
       "      <td>hip hop, country</td>\n",
       "    </tr>\n",
       "    <tr>\n",
       "      <th>1998</th>\n",
       "      <td>Sam Smith</td>\n",
       "      <td>Dancing With A Stranger (with Normani)</td>\n",
       "      <td>171029</td>\n",
       "      <td>False</td>\n",
       "      <td>2019</td>\n",
       "      <td>75</td>\n",
       "      <td>0.741</td>\n",
       "      <td>0.520</td>\n",
       "      <td>8</td>\n",
       "      <td>-7.513</td>\n",
       "      <td>1</td>\n",
       "      <td>0.0656</td>\n",
       "      <td>0.4500</td>\n",
       "      <td>0.000002</td>\n",
       "      <td>0.2220</td>\n",
       "      <td>0.347</td>\n",
       "      <td>102.998</td>\n",
       "      <td>pop</td>\n",
       "    </tr>\n",
       "    <tr>\n",
       "      <th>1999</th>\n",
       "      <td>Post Malone</td>\n",
       "      <td>Circles</td>\n",
       "      <td>215280</td>\n",
       "      <td>False</td>\n",
       "      <td>2019</td>\n",
       "      <td>85</td>\n",
       "      <td>0.695</td>\n",
       "      <td>0.762</td>\n",
       "      <td>0</td>\n",
       "      <td>-3.497</td>\n",
       "      <td>1</td>\n",
       "      <td>0.0395</td>\n",
       "      <td>0.1920</td>\n",
       "      <td>0.002440</td>\n",
       "      <td>0.0863</td>\n",
       "      <td>0.553</td>\n",
       "      <td>120.042</td>\n",
       "      <td>hip hop</td>\n",
       "    </tr>\n",
       "  </tbody>\n",
       "</table>\n",
       "</div>"
      ],
      "text/plain": [
       "              artist                                    song  duration_ms  \\\n",
       "1995  Jonas Brothers                                  Sucker       181026   \n",
       "1996    Taylor Swift                            Cruel Summer       178426   \n",
       "1997    Blanco Brown                              The Git Up       200593   \n",
       "1998       Sam Smith  Dancing With A Stranger (with Normani)       171029   \n",
       "1999     Post Malone                                 Circles       215280   \n",
       "\n",
       "      explicit  year  popularity  danceability  energy  key  loudness  mode  \\\n",
       "1995     False  2019          79         0.842   0.734    1    -5.065     0   \n",
       "1996     False  2019          78         0.552   0.702    9    -5.707     1   \n",
       "1997     False  2019          69         0.847   0.678    9    -8.635     1   \n",
       "1998     False  2019          75         0.741   0.520    8    -7.513     1   \n",
       "1999     False  2019          85         0.695   0.762    0    -3.497     1   \n",
       "\n",
       "      speechiness  acousticness  instrumentalness  liveness  valence    tempo  \\\n",
       "1995       0.0588        0.0427          0.000000    0.1060    0.952  137.958   \n",
       "1996       0.1570        0.1170          0.000021    0.1050    0.564  169.994   \n",
       "1997       0.1090        0.0669          0.000000    0.2740    0.811   97.984   \n",
       "1998       0.0656        0.4500          0.000002    0.2220    0.347  102.998   \n",
       "1999       0.0395        0.1920          0.002440    0.0863    0.553  120.042   \n",
       "\n",
       "                 genre  \n",
       "1995               pop  \n",
       "1996               pop  \n",
       "1997  hip hop, country  \n",
       "1998               pop  \n",
       "1999           hip hop  "
      ]
     },
     "execution_count": 3,
     "metadata": {},
     "output_type": "execute_result"
    }
   ],
   "source": [
    "df.tail()"
   ]
  },
  {
   "cell_type": "code",
   "execution_count": 4,
   "id": "4ceff1e6",
   "metadata": {
    "execution": {
     "iopub.execute_input": "2024-02-01T16:39:38.823659Z",
     "iopub.status.busy": "2024-02-01T16:39:38.823399Z",
     "iopub.status.idle": "2024-02-01T16:39:38.849860Z",
     "shell.execute_reply": "2024-02-01T16:39:38.848669Z"
    },
    "papermill": {
     "duration": 0.035542,
     "end_time": "2024-02-01T16:39:38.851619",
     "exception": false,
     "start_time": "2024-02-01T16:39:38.816077",
     "status": "completed"
    },
    "tags": []
   },
   "outputs": [
    {
     "name": "stdout",
     "output_type": "stream",
     "text": [
      "<class 'pandas.core.frame.DataFrame'>\n",
      "RangeIndex: 2000 entries, 0 to 1999\n",
      "Data columns (total 18 columns):\n",
      " #   Column            Non-Null Count  Dtype  \n",
      "---  ------            --------------  -----  \n",
      " 0   artist            2000 non-null   object \n",
      " 1   song              2000 non-null   object \n",
      " 2   duration_ms       2000 non-null   int64  \n",
      " 3   explicit          2000 non-null   bool   \n",
      " 4   year              2000 non-null   int64  \n",
      " 5   popularity        2000 non-null   int64  \n",
      " 6   danceability      2000 non-null   float64\n",
      " 7   energy            2000 non-null   float64\n",
      " 8   key               2000 non-null   int64  \n",
      " 9   loudness          2000 non-null   float64\n",
      " 10  mode              2000 non-null   int64  \n",
      " 11  speechiness       2000 non-null   float64\n",
      " 12  acousticness      2000 non-null   float64\n",
      " 13  instrumentalness  2000 non-null   float64\n",
      " 14  liveness          2000 non-null   float64\n",
      " 15  valence           2000 non-null   float64\n",
      " 16  tempo             2000 non-null   float64\n",
      " 17  genre             2000 non-null   object \n",
      "dtypes: bool(1), float64(9), int64(5), object(3)\n",
      "memory usage: 267.7+ KB\n"
     ]
    }
   ],
   "source": [
    "df.info()"
   ]
  },
  {
   "cell_type": "markdown",
   "id": "90fc5646",
   "metadata": {
    "papermill": {
     "duration": 0.006022,
     "end_time": "2024-02-01T16:39:38.864306",
     "exception": false,
     "start_time": "2024-02-01T16:39:38.858284",
     "status": "completed"
    },
    "tags": []
   },
   "source": [
    "### No missing values"
   ]
  },
  {
   "cell_type": "code",
   "execution_count": 5,
   "id": "13be2afb",
   "metadata": {
    "execution": {
     "iopub.execute_input": "2024-02-01T16:39:38.878375Z",
     "iopub.status.busy": "2024-02-01T16:39:38.877789Z",
     "iopub.status.idle": "2024-02-01T16:39:38.917358Z",
     "shell.execute_reply": "2024-02-01T16:39:38.916204Z"
    },
    "papermill": {
     "duration": 0.048844,
     "end_time": "2024-02-01T16:39:38.919285",
     "exception": false,
     "start_time": "2024-02-01T16:39:38.870441",
     "status": "completed"
    },
    "tags": []
   },
   "outputs": [
    {
     "data": {
      "text/html": [
       "<div>\n",
       "<style scoped>\n",
       "    .dataframe tbody tr th:only-of-type {\n",
       "        vertical-align: middle;\n",
       "    }\n",
       "\n",
       "    .dataframe tbody tr th {\n",
       "        vertical-align: top;\n",
       "    }\n",
       "\n",
       "    .dataframe thead th {\n",
       "        text-align: right;\n",
       "    }\n",
       "</style>\n",
       "<table border=\"1\" class=\"dataframe\">\n",
       "  <thead>\n",
       "    <tr style=\"text-align: right;\">\n",
       "      <th></th>\n",
       "      <th>duration_ms</th>\n",
       "      <th>year</th>\n",
       "      <th>popularity</th>\n",
       "      <th>danceability</th>\n",
       "      <th>energy</th>\n",
       "      <th>key</th>\n",
       "      <th>loudness</th>\n",
       "      <th>mode</th>\n",
       "      <th>speechiness</th>\n",
       "      <th>acousticness</th>\n",
       "      <th>instrumentalness</th>\n",
       "      <th>liveness</th>\n",
       "      <th>valence</th>\n",
       "      <th>tempo</th>\n",
       "    </tr>\n",
       "  </thead>\n",
       "  <tbody>\n",
       "    <tr>\n",
       "      <th>count</th>\n",
       "      <td>2000.000000</td>\n",
       "      <td>2000.00000</td>\n",
       "      <td>2000.000000</td>\n",
       "      <td>2000.000000</td>\n",
       "      <td>2000.000000</td>\n",
       "      <td>2000.000000</td>\n",
       "      <td>2000.000000</td>\n",
       "      <td>2000.000000</td>\n",
       "      <td>2000.000000</td>\n",
       "      <td>2000.000000</td>\n",
       "      <td>2000.000000</td>\n",
       "      <td>2000.000000</td>\n",
       "      <td>2000.000000</td>\n",
       "      <td>2000.000000</td>\n",
       "    </tr>\n",
       "    <tr>\n",
       "      <th>mean</th>\n",
       "      <td>228748.124500</td>\n",
       "      <td>2009.49400</td>\n",
       "      <td>59.872500</td>\n",
       "      <td>0.667438</td>\n",
       "      <td>0.720366</td>\n",
       "      <td>5.378000</td>\n",
       "      <td>-5.512434</td>\n",
       "      <td>0.553500</td>\n",
       "      <td>0.103568</td>\n",
       "      <td>0.128955</td>\n",
       "      <td>0.015226</td>\n",
       "      <td>0.181216</td>\n",
       "      <td>0.551690</td>\n",
       "      <td>120.122558</td>\n",
       "    </tr>\n",
       "    <tr>\n",
       "      <th>std</th>\n",
       "      <td>39136.569008</td>\n",
       "      <td>5.85996</td>\n",
       "      <td>21.335577</td>\n",
       "      <td>0.140416</td>\n",
       "      <td>0.152745</td>\n",
       "      <td>3.615059</td>\n",
       "      <td>1.933482</td>\n",
       "      <td>0.497254</td>\n",
       "      <td>0.096159</td>\n",
       "      <td>0.173346</td>\n",
       "      <td>0.087771</td>\n",
       "      <td>0.140669</td>\n",
       "      <td>0.220864</td>\n",
       "      <td>26.967112</td>\n",
       "    </tr>\n",
       "    <tr>\n",
       "      <th>min</th>\n",
       "      <td>113000.000000</td>\n",
       "      <td>1998.00000</td>\n",
       "      <td>0.000000</td>\n",
       "      <td>0.129000</td>\n",
       "      <td>0.054900</td>\n",
       "      <td>0.000000</td>\n",
       "      <td>-20.514000</td>\n",
       "      <td>0.000000</td>\n",
       "      <td>0.023200</td>\n",
       "      <td>0.000019</td>\n",
       "      <td>0.000000</td>\n",
       "      <td>0.021500</td>\n",
       "      <td>0.038100</td>\n",
       "      <td>60.019000</td>\n",
       "    </tr>\n",
       "    <tr>\n",
       "      <th>25%</th>\n",
       "      <td>203580.000000</td>\n",
       "      <td>2004.00000</td>\n",
       "      <td>56.000000</td>\n",
       "      <td>0.581000</td>\n",
       "      <td>0.622000</td>\n",
       "      <td>2.000000</td>\n",
       "      <td>-6.490250</td>\n",
       "      <td>0.000000</td>\n",
       "      <td>0.039600</td>\n",
       "      <td>0.014000</td>\n",
       "      <td>0.000000</td>\n",
       "      <td>0.088100</td>\n",
       "      <td>0.386750</td>\n",
       "      <td>98.985750</td>\n",
       "    </tr>\n",
       "    <tr>\n",
       "      <th>50%</th>\n",
       "      <td>223279.500000</td>\n",
       "      <td>2010.00000</td>\n",
       "      <td>65.500000</td>\n",
       "      <td>0.676000</td>\n",
       "      <td>0.736000</td>\n",
       "      <td>6.000000</td>\n",
       "      <td>-5.285000</td>\n",
       "      <td>1.000000</td>\n",
       "      <td>0.059850</td>\n",
       "      <td>0.055700</td>\n",
       "      <td>0.000000</td>\n",
       "      <td>0.124000</td>\n",
       "      <td>0.557500</td>\n",
       "      <td>120.021500</td>\n",
       "    </tr>\n",
       "    <tr>\n",
       "      <th>75%</th>\n",
       "      <td>248133.000000</td>\n",
       "      <td>2015.00000</td>\n",
       "      <td>73.000000</td>\n",
       "      <td>0.764000</td>\n",
       "      <td>0.839000</td>\n",
       "      <td>8.000000</td>\n",
       "      <td>-4.167750</td>\n",
       "      <td>1.000000</td>\n",
       "      <td>0.129000</td>\n",
       "      <td>0.176250</td>\n",
       "      <td>0.000068</td>\n",
       "      <td>0.241000</td>\n",
       "      <td>0.730000</td>\n",
       "      <td>134.265500</td>\n",
       "    </tr>\n",
       "    <tr>\n",
       "      <th>max</th>\n",
       "      <td>484146.000000</td>\n",
       "      <td>2020.00000</td>\n",
       "      <td>89.000000</td>\n",
       "      <td>0.975000</td>\n",
       "      <td>0.999000</td>\n",
       "      <td>11.000000</td>\n",
       "      <td>-0.276000</td>\n",
       "      <td>1.000000</td>\n",
       "      <td>0.576000</td>\n",
       "      <td>0.976000</td>\n",
       "      <td>0.985000</td>\n",
       "      <td>0.853000</td>\n",
       "      <td>0.973000</td>\n",
       "      <td>210.851000</td>\n",
       "    </tr>\n",
       "  </tbody>\n",
       "</table>\n",
       "</div>"
      ],
      "text/plain": [
       "         duration_ms        year   popularity  danceability       energy  \\\n",
       "count    2000.000000  2000.00000  2000.000000   2000.000000  2000.000000   \n",
       "mean   228748.124500  2009.49400    59.872500      0.667438     0.720366   \n",
       "std     39136.569008     5.85996    21.335577      0.140416     0.152745   \n",
       "min    113000.000000  1998.00000     0.000000      0.129000     0.054900   \n",
       "25%    203580.000000  2004.00000    56.000000      0.581000     0.622000   \n",
       "50%    223279.500000  2010.00000    65.500000      0.676000     0.736000   \n",
       "75%    248133.000000  2015.00000    73.000000      0.764000     0.839000   \n",
       "max    484146.000000  2020.00000    89.000000      0.975000     0.999000   \n",
       "\n",
       "               key     loudness         mode  speechiness  acousticness  \\\n",
       "count  2000.000000  2000.000000  2000.000000  2000.000000   2000.000000   \n",
       "mean      5.378000    -5.512434     0.553500     0.103568      0.128955   \n",
       "std       3.615059     1.933482     0.497254     0.096159      0.173346   \n",
       "min       0.000000   -20.514000     0.000000     0.023200      0.000019   \n",
       "25%       2.000000    -6.490250     0.000000     0.039600      0.014000   \n",
       "50%       6.000000    -5.285000     1.000000     0.059850      0.055700   \n",
       "75%       8.000000    -4.167750     1.000000     0.129000      0.176250   \n",
       "max      11.000000    -0.276000     1.000000     0.576000      0.976000   \n",
       "\n",
       "       instrumentalness     liveness      valence        tempo  \n",
       "count       2000.000000  2000.000000  2000.000000  2000.000000  \n",
       "mean           0.015226     0.181216     0.551690   120.122558  \n",
       "std            0.087771     0.140669     0.220864    26.967112  \n",
       "min            0.000000     0.021500     0.038100    60.019000  \n",
       "25%            0.000000     0.088100     0.386750    98.985750  \n",
       "50%            0.000000     0.124000     0.557500   120.021500  \n",
       "75%            0.000068     0.241000     0.730000   134.265500  \n",
       "max            0.985000     0.853000     0.973000   210.851000  "
      ]
     },
     "execution_count": 5,
     "metadata": {},
     "output_type": "execute_result"
    }
   ],
   "source": [
    "df.describe()"
   ]
  },
  {
   "cell_type": "code",
   "execution_count": 6,
   "id": "a7114923",
   "metadata": {
    "execution": {
     "iopub.execute_input": "2024-02-01T16:39:38.935921Z",
     "iopub.status.busy": "2024-02-01T16:39:38.935624Z",
     "iopub.status.idle": "2024-02-01T16:39:38.944455Z",
     "shell.execute_reply": "2024-02-01T16:39:38.942960Z"
    },
    "papermill": {
     "duration": 0.020247,
     "end_time": "2024-02-01T16:39:38.946720",
     "exception": false,
     "start_time": "2024-02-01T16:39:38.926473",
     "status": "completed"
    },
    "tags": []
   },
   "outputs": [
    {
     "data": {
      "text/plain": [
       "artist\n",
       "Rihanna           25\n",
       "Drake             23\n",
       "Eminem            21\n",
       "Calvin Harris     20\n",
       "Britney Spears    19\n",
       "David Guetta      18\n",
       "Chris Brown       17\n",
       "Kanye West        17\n",
       "Beyoncé           16\n",
       "Taylor Swift      16\n",
       "Name: count, dtype: int64"
      ]
     },
     "execution_count": 6,
     "metadata": {},
     "output_type": "execute_result"
    }
   ],
   "source": [
    "artist = df['artist'].value_counts().head(10)\n",
    "artist"
   ]
  },
  {
   "cell_type": "markdown",
   "id": "6a409228",
   "metadata": {
    "papermill": {
     "duration": 0.006577,
     "end_time": "2024-02-01T16:39:38.960490",
     "exception": false,
     "start_time": "2024-02-01T16:39:38.953913",
     "status": "completed"
    },
    "tags": []
   },
   "source": [
    "### Rihanna has the most songs in Spotify"
   ]
  },
  {
   "cell_type": "code",
   "execution_count": 7,
   "id": "dac62d7a",
   "metadata": {
    "execution": {
     "iopub.execute_input": "2024-02-01T16:39:38.975690Z",
     "iopub.status.busy": "2024-02-01T16:39:38.975322Z",
     "iopub.status.idle": "2024-02-01T16:39:40.513081Z",
     "shell.execute_reply": "2024-02-01T16:39:40.512229Z"
    },
    "papermill": {
     "duration": 1.54762,
     "end_time": "2024-02-01T16:39:40.514959",
     "exception": false,
     "start_time": "2024-02-01T16:39:38.967339",
     "status": "completed"
    },
    "tags": []
   },
   "outputs": [
    {
     "data": {
      "text/html": [
       "        <script type=\"text/javascript\">\n",
       "        window.PlotlyConfig = {MathJaxConfig: 'local'};\n",
       "        if (window.MathJax && window.MathJax.Hub && window.MathJax.Hub.Config) {window.MathJax.Hub.Config({SVG: {font: \"STIX-Web\"}});}\n",
       "        if (typeof require !== 'undefined') {\n",
       "        require.undef(\"plotly\");\n",
       "        requirejs.config({\n",
       "            paths: {\n",
       "                'plotly': ['https://cdn.plot.ly/plotly-2.27.0.min']\n",
       "            }\n",
       "        });\n",
       "        require(['plotly'], function(Plotly) {\n",
       "            window._Plotly = Plotly;\n",
       "        });\n",
       "        }\n",
       "        </script>\n",
       "        "
      ]
     },
     "metadata": {},
     "output_type": "display_data"
    },
    {
     "data": {
      "text/html": [
       "<div>                            <div id=\"b51c307d-8b3c-4b75-8882-95a8c9981332\" class=\"plotly-graph-div\" style=\"height:525px; width:100%;\"></div>            <script type=\"text/javascript\">                require([\"plotly\"], function(Plotly) {                    window.PLOTLYENV=window.PLOTLYENV || {};                                    if (document.getElementById(\"b51c307d-8b3c-4b75-8882-95a8c9981332\")) {                    Plotly.newPlot(                        \"b51c307d-8b3c-4b75-8882-95a8c9981332\",                        [{\"alignmentgroup\":\"True\",\"hovertemplate\":\"artist=%{x}\\u003cbr\\u003eNumber of Songs=%{y}\\u003cextra\\u003e\\u003c\\u002fextra\\u003e\",\"legendgroup\":\"\",\"marker\":{\"color\":\"#1DB954\",\"pattern\":{\"shape\":\"\"}},\"name\":\"\",\"offsetgroup\":\"\",\"orientation\":\"v\",\"showlegend\":false,\"textposition\":\"auto\",\"texttemplate\":\"%{y}\",\"x\":[\"Rihanna\",\"Drake\",\"Eminem\",\"Calvin Harris\",\"Britney Spears\",\"David Guetta\",\"Chris Brown\",\"Kanye West\",\"Beyoncé\",\"Taylor Swift\"],\"xaxis\":\"x\",\"y\":[25,23,21,20,19,18,17,17,16,16],\"yaxis\":\"y\",\"type\":\"bar\"}],                        {\"template\":{\"data\":{\"barpolar\":[{\"marker\":{\"line\":{\"color\":\"rgb(17,17,17)\",\"width\":0.5},\"pattern\":{\"fillmode\":\"overlay\",\"size\":10,\"solidity\":0.2}},\"type\":\"barpolar\"}],\"bar\":[{\"error_x\":{\"color\":\"#f2f5fa\"},\"error_y\":{\"color\":\"#f2f5fa\"},\"marker\":{\"line\":{\"color\":\"rgb(17,17,17)\",\"width\":0.5},\"pattern\":{\"fillmode\":\"overlay\",\"size\":10,\"solidity\":0.2}},\"type\":\"bar\"}],\"carpet\":[{\"aaxis\":{\"endlinecolor\":\"#A2B1C6\",\"gridcolor\":\"#506784\",\"linecolor\":\"#506784\",\"minorgridcolor\":\"#506784\",\"startlinecolor\":\"#A2B1C6\"},\"baxis\":{\"endlinecolor\":\"#A2B1C6\",\"gridcolor\":\"#506784\",\"linecolor\":\"#506784\",\"minorgridcolor\":\"#506784\",\"startlinecolor\":\"#A2B1C6\"},\"type\":\"carpet\"}],\"choropleth\":[{\"colorbar\":{\"outlinewidth\":0,\"ticks\":\"\"},\"type\":\"choropleth\"}],\"contourcarpet\":[{\"colorbar\":{\"outlinewidth\":0,\"ticks\":\"\"},\"type\":\"contourcarpet\"}],\"contour\":[{\"colorbar\":{\"outlinewidth\":0,\"ticks\":\"\"},\"colorscale\":[[0.0,\"#0d0887\"],[0.1111111111111111,\"#46039f\"],[0.2222222222222222,\"#7201a8\"],[0.3333333333333333,\"#9c179e\"],[0.4444444444444444,\"#bd3786\"],[0.5555555555555556,\"#d8576b\"],[0.6666666666666666,\"#ed7953\"],[0.7777777777777778,\"#fb9f3a\"],[0.8888888888888888,\"#fdca26\"],[1.0,\"#f0f921\"]],\"type\":\"contour\"}],\"heatmapgl\":[{\"colorbar\":{\"outlinewidth\":0,\"ticks\":\"\"},\"colorscale\":[[0.0,\"#0d0887\"],[0.1111111111111111,\"#46039f\"],[0.2222222222222222,\"#7201a8\"],[0.3333333333333333,\"#9c179e\"],[0.4444444444444444,\"#bd3786\"],[0.5555555555555556,\"#d8576b\"],[0.6666666666666666,\"#ed7953\"],[0.7777777777777778,\"#fb9f3a\"],[0.8888888888888888,\"#fdca26\"],[1.0,\"#f0f921\"]],\"type\":\"heatmapgl\"}],\"heatmap\":[{\"colorbar\":{\"outlinewidth\":0,\"ticks\":\"\"},\"colorscale\":[[0.0,\"#0d0887\"],[0.1111111111111111,\"#46039f\"],[0.2222222222222222,\"#7201a8\"],[0.3333333333333333,\"#9c179e\"],[0.4444444444444444,\"#bd3786\"],[0.5555555555555556,\"#d8576b\"],[0.6666666666666666,\"#ed7953\"],[0.7777777777777778,\"#fb9f3a\"],[0.8888888888888888,\"#fdca26\"],[1.0,\"#f0f921\"]],\"type\":\"heatmap\"}],\"histogram2dcontour\":[{\"colorbar\":{\"outlinewidth\":0,\"ticks\":\"\"},\"colorscale\":[[0.0,\"#0d0887\"],[0.1111111111111111,\"#46039f\"],[0.2222222222222222,\"#7201a8\"],[0.3333333333333333,\"#9c179e\"],[0.4444444444444444,\"#bd3786\"],[0.5555555555555556,\"#d8576b\"],[0.6666666666666666,\"#ed7953\"],[0.7777777777777778,\"#fb9f3a\"],[0.8888888888888888,\"#fdca26\"],[1.0,\"#f0f921\"]],\"type\":\"histogram2dcontour\"}],\"histogram2d\":[{\"colorbar\":{\"outlinewidth\":0,\"ticks\":\"\"},\"colorscale\":[[0.0,\"#0d0887\"],[0.1111111111111111,\"#46039f\"],[0.2222222222222222,\"#7201a8\"],[0.3333333333333333,\"#9c179e\"],[0.4444444444444444,\"#bd3786\"],[0.5555555555555556,\"#d8576b\"],[0.6666666666666666,\"#ed7953\"],[0.7777777777777778,\"#fb9f3a\"],[0.8888888888888888,\"#fdca26\"],[1.0,\"#f0f921\"]],\"type\":\"histogram2d\"}],\"histogram\":[{\"marker\":{\"pattern\":{\"fillmode\":\"overlay\",\"size\":10,\"solidity\":0.2}},\"type\":\"histogram\"}],\"mesh3d\":[{\"colorbar\":{\"outlinewidth\":0,\"ticks\":\"\"},\"type\":\"mesh3d\"}],\"parcoords\":[{\"line\":{\"colorbar\":{\"outlinewidth\":0,\"ticks\":\"\"}},\"type\":\"parcoords\"}],\"pie\":[{\"automargin\":true,\"type\":\"pie\"}],\"scatter3d\":[{\"line\":{\"colorbar\":{\"outlinewidth\":0,\"ticks\":\"\"}},\"marker\":{\"colorbar\":{\"outlinewidth\":0,\"ticks\":\"\"}},\"type\":\"scatter3d\"}],\"scattercarpet\":[{\"marker\":{\"colorbar\":{\"outlinewidth\":0,\"ticks\":\"\"}},\"type\":\"scattercarpet\"}],\"scattergeo\":[{\"marker\":{\"colorbar\":{\"outlinewidth\":0,\"ticks\":\"\"}},\"type\":\"scattergeo\"}],\"scattergl\":[{\"marker\":{\"line\":{\"color\":\"#283442\"}},\"type\":\"scattergl\"}],\"scattermapbox\":[{\"marker\":{\"colorbar\":{\"outlinewidth\":0,\"ticks\":\"\"}},\"type\":\"scattermapbox\"}],\"scatterpolargl\":[{\"marker\":{\"colorbar\":{\"outlinewidth\":0,\"ticks\":\"\"}},\"type\":\"scatterpolargl\"}],\"scatterpolar\":[{\"marker\":{\"colorbar\":{\"outlinewidth\":0,\"ticks\":\"\"}},\"type\":\"scatterpolar\"}],\"scatter\":[{\"marker\":{\"line\":{\"color\":\"#283442\"}},\"type\":\"scatter\"}],\"scatterternary\":[{\"marker\":{\"colorbar\":{\"outlinewidth\":0,\"ticks\":\"\"}},\"type\":\"scatterternary\"}],\"surface\":[{\"colorbar\":{\"outlinewidth\":0,\"ticks\":\"\"},\"colorscale\":[[0.0,\"#0d0887\"],[0.1111111111111111,\"#46039f\"],[0.2222222222222222,\"#7201a8\"],[0.3333333333333333,\"#9c179e\"],[0.4444444444444444,\"#bd3786\"],[0.5555555555555556,\"#d8576b\"],[0.6666666666666666,\"#ed7953\"],[0.7777777777777778,\"#fb9f3a\"],[0.8888888888888888,\"#fdca26\"],[1.0,\"#f0f921\"]],\"type\":\"surface\"}],\"table\":[{\"cells\":{\"fill\":{\"color\":\"#506784\"},\"line\":{\"color\":\"rgb(17,17,17)\"}},\"header\":{\"fill\":{\"color\":\"#2a3f5f\"},\"line\":{\"color\":\"rgb(17,17,17)\"}},\"type\":\"table\"}]},\"layout\":{\"annotationdefaults\":{\"arrowcolor\":\"#f2f5fa\",\"arrowhead\":0,\"arrowwidth\":1},\"autotypenumbers\":\"strict\",\"coloraxis\":{\"colorbar\":{\"outlinewidth\":0,\"ticks\":\"\"}},\"colorscale\":{\"diverging\":[[0,\"#8e0152\"],[0.1,\"#c51b7d\"],[0.2,\"#de77ae\"],[0.3,\"#f1b6da\"],[0.4,\"#fde0ef\"],[0.5,\"#f7f7f7\"],[0.6,\"#e6f5d0\"],[0.7,\"#b8e186\"],[0.8,\"#7fbc41\"],[0.9,\"#4d9221\"],[1,\"#276419\"]],\"sequential\":[[0.0,\"#0d0887\"],[0.1111111111111111,\"#46039f\"],[0.2222222222222222,\"#7201a8\"],[0.3333333333333333,\"#9c179e\"],[0.4444444444444444,\"#bd3786\"],[0.5555555555555556,\"#d8576b\"],[0.6666666666666666,\"#ed7953\"],[0.7777777777777778,\"#fb9f3a\"],[0.8888888888888888,\"#fdca26\"],[1.0,\"#f0f921\"]],\"sequentialminus\":[[0.0,\"#0d0887\"],[0.1111111111111111,\"#46039f\"],[0.2222222222222222,\"#7201a8\"],[0.3333333333333333,\"#9c179e\"],[0.4444444444444444,\"#bd3786\"],[0.5555555555555556,\"#d8576b\"],[0.6666666666666666,\"#ed7953\"],[0.7777777777777778,\"#fb9f3a\"],[0.8888888888888888,\"#fdca26\"],[1.0,\"#f0f921\"]]},\"colorway\":[\"#636efa\",\"#EF553B\",\"#00cc96\",\"#ab63fa\",\"#FFA15A\",\"#19d3f3\",\"#FF6692\",\"#B6E880\",\"#FF97FF\",\"#FECB52\"],\"font\":{\"color\":\"#f2f5fa\"},\"geo\":{\"bgcolor\":\"rgb(17,17,17)\",\"lakecolor\":\"rgb(17,17,17)\",\"landcolor\":\"rgb(17,17,17)\",\"showlakes\":true,\"showland\":true,\"subunitcolor\":\"#506784\"},\"hoverlabel\":{\"align\":\"left\"},\"hovermode\":\"closest\",\"mapbox\":{\"style\":\"dark\"},\"paper_bgcolor\":\"rgb(17,17,17)\",\"plot_bgcolor\":\"rgb(17,17,17)\",\"polar\":{\"angularaxis\":{\"gridcolor\":\"#506784\",\"linecolor\":\"#506784\",\"ticks\":\"\"},\"bgcolor\":\"rgb(17,17,17)\",\"radialaxis\":{\"gridcolor\":\"#506784\",\"linecolor\":\"#506784\",\"ticks\":\"\"}},\"scene\":{\"xaxis\":{\"backgroundcolor\":\"rgb(17,17,17)\",\"gridcolor\":\"#506784\",\"gridwidth\":2,\"linecolor\":\"#506784\",\"showbackground\":true,\"ticks\":\"\",\"zerolinecolor\":\"#C8D4E3\"},\"yaxis\":{\"backgroundcolor\":\"rgb(17,17,17)\",\"gridcolor\":\"#506784\",\"gridwidth\":2,\"linecolor\":\"#506784\",\"showbackground\":true,\"ticks\":\"\",\"zerolinecolor\":\"#C8D4E3\"},\"zaxis\":{\"backgroundcolor\":\"rgb(17,17,17)\",\"gridcolor\":\"#506784\",\"gridwidth\":2,\"linecolor\":\"#506784\",\"showbackground\":true,\"ticks\":\"\",\"zerolinecolor\":\"#C8D4E3\"}},\"shapedefaults\":{\"line\":{\"color\":\"#f2f5fa\"}},\"sliderdefaults\":{\"bgcolor\":\"#C8D4E3\",\"bordercolor\":\"rgb(17,17,17)\",\"borderwidth\":1,\"tickwidth\":0},\"ternary\":{\"aaxis\":{\"gridcolor\":\"#506784\",\"linecolor\":\"#506784\",\"ticks\":\"\"},\"baxis\":{\"gridcolor\":\"#506784\",\"linecolor\":\"#506784\",\"ticks\":\"\"},\"bgcolor\":\"rgb(17,17,17)\",\"caxis\":{\"gridcolor\":\"#506784\",\"linecolor\":\"#506784\",\"ticks\":\"\"}},\"title\":{\"x\":0.05},\"updatemenudefaults\":{\"bgcolor\":\"#506784\",\"borderwidth\":0},\"xaxis\":{\"automargin\":true,\"gridcolor\":\"#283442\",\"linecolor\":\"#506784\",\"ticks\":\"\",\"title\":{\"standoff\":15},\"zerolinecolor\":\"#283442\",\"zerolinewidth\":2},\"yaxis\":{\"automargin\":true,\"gridcolor\":\"#283442\",\"linecolor\":\"#506784\",\"ticks\":\"\",\"title\":{\"standoff\":15},\"zerolinecolor\":\"#283442\",\"zerolinewidth\":2}}},\"xaxis\":{\"anchor\":\"y\",\"domain\":[0.0,1.0],\"title\":{\"text\":\"artist\"}},\"yaxis\":{\"anchor\":\"x\",\"domain\":[0.0,1.0],\"title\":{\"text\":\"Number of Songs\"}},\"legend\":{\"tracegroupgap\":0},\"title\":{\"text\":\"Most artists have songs on the platform\"},\"barmode\":\"relative\"},                        {\"responsive\": true}                    ).then(function(){\n",
       "                            \n",
       "var gd = document.getElementById('b51c307d-8b3c-4b75-8882-95a8c9981332');\n",
       "var x = new MutationObserver(function (mutations, observer) {{\n",
       "        var display = window.getComputedStyle(gd).display;\n",
       "        if (!display || display === 'none') {{\n",
       "            console.log([gd, 'removed!']);\n",
       "            Plotly.purge(gd);\n",
       "            observer.disconnect();\n",
       "        }}\n",
       "}});\n",
       "\n",
       "// Listen for the removal of the full notebook cells\n",
       "var notebookContainer = gd.closest('#notebook-container');\n",
       "if (notebookContainer) {{\n",
       "    x.observe(notebookContainer, {childList: true});\n",
       "}}\n",
       "\n",
       "// Listen for the clearing of the current output cell\n",
       "var outputEl = gd.closest('.output');\n",
       "if (outputEl) {{\n",
       "    x.observe(outputEl, {childList: true});\n",
       "}}\n",
       "\n",
       "                        })                };                });            </script>        </div>"
      ]
     },
     "metadata": {},
     "output_type": "display_data"
    }
   ],
   "source": [
    "fig = px.bar(artist,\n",
    "            template='plotly_dark',\n",
    "            title = 'Most artists have songs on the platform',\n",
    "             color_discrete_sequence=['#1DB954'],\n",
    "             text_auto=True,\n",
    "             y=artist.values,\n",
    "             x=artist.index,\n",
    "             labels={'y':'Number of Songs'}\n",
    "            )\n",
    "fig.show()"
   ]
  },
  {
   "cell_type": "code",
   "execution_count": 8,
   "id": "fe0bfb78",
   "metadata": {
    "execution": {
     "iopub.execute_input": "2024-02-01T16:39:40.532188Z",
     "iopub.status.busy": "2024-02-01T16:39:40.531619Z",
     "iopub.status.idle": "2024-02-01T16:39:40.537764Z",
     "shell.execute_reply": "2024-02-01T16:39:40.536838Z"
    },
    "papermill": {
     "duration": 0.017151,
     "end_time": "2024-02-01T16:39:40.539900",
     "exception": false,
     "start_time": "2024-02-01T16:39:40.522749",
     "status": "completed"
    },
    "tags": []
   },
   "outputs": [
    {
     "data": {
      "text/plain": [
       "835"
      ]
     },
     "execution_count": 8,
     "metadata": {},
     "output_type": "execute_result"
    }
   ],
   "source": [
    "df['artist'].nunique()"
   ]
  },
  {
   "cell_type": "code",
   "execution_count": 9,
   "id": "d631715b",
   "metadata": {
    "execution": {
     "iopub.execute_input": "2024-02-01T16:39:40.556293Z",
     "iopub.status.busy": "2024-02-01T16:39:40.555932Z",
     "iopub.status.idle": "2024-02-01T16:39:40.565518Z",
     "shell.execute_reply": "2024-02-01T16:39:40.564456Z"
    },
    "papermill": {
     "duration": 0.019811,
     "end_time": "2024-02-01T16:39:40.567389",
     "exception": false,
     "start_time": "2024-02-01T16:39:40.547578",
     "status": "completed"
    },
    "tags": []
   },
   "outputs": [
    {
     "data": {
      "text/plain": [
       "duration_ms\n",
       "212106    4\n",
       "240040    3\n",
       "207506    3\n",
       "202066    3\n",
       "243533    3\n",
       "         ..\n",
       "262466    1\n",
       "208493    1\n",
       "229040    1\n",
       "222453    1\n",
       "215280    1\n",
       "Name: count, Length: 1793, dtype: int64"
      ]
     },
     "execution_count": 9,
     "metadata": {},
     "output_type": "execute_result"
    }
   ],
   "source": [
    "duration_ms = df['duration_ms'].value_counts()\n",
    "duration_ms"
   ]
  },
  {
   "cell_type": "code",
   "execution_count": 10,
   "id": "b8f51e84",
   "metadata": {
    "execution": {
     "iopub.execute_input": "2024-02-01T16:39:40.584545Z",
     "iopub.status.busy": "2024-02-01T16:39:40.583830Z",
     "iopub.status.idle": "2024-02-01T16:39:40.677291Z",
     "shell.execute_reply": "2024-02-01T16:39:40.676157Z"
    },
    "papermill": {
     "duration": 0.103921,
     "end_time": "2024-02-01T16:39:40.679062",
     "exception": false,
     "start_time": "2024-02-01T16:39:40.575141",
     "status": "completed"
    },
    "tags": []
   },
   "outputs": [
    {
     "data": {
      "text/html": [
       "<div>                            <div id=\"62875ae6-7535-47c8-9c32-92628b8b3d56\" class=\"plotly-graph-div\" style=\"height:525px; width:100%;\"></div>            <script type=\"text/javascript\">                require([\"plotly\"], function(Plotly) {                    window.PLOTLYENV=window.PLOTLYENV || {};                                    if (document.getElementById(\"62875ae6-7535-47c8-9c32-92628b8b3d56\")) {                    Plotly.newPlot(                        \"62875ae6-7535-47c8-9c32-92628b8b3d56\",                        [{\"alignmentgroup\":\"True\",\"hovertemplate\":\"variable=%{x}\\u003cbr\\u003evalue=%{y}\\u003cextra\\u003e\\u003c\\u002fextra\\u003e\",\"legendgroup\":\"\",\"marker\":{\"color\":\"#636efa\"},\"name\":\"\",\"notched\":false,\"offsetgroup\":\"\",\"orientation\":\"v\",\"showlegend\":false,\"x\":[\"duration_ms\",\"duration_ms\",\"duration_ms\",\"duration_ms\",\"duration_ms\",\"duration_ms\",\"duration_ms\",\"duration_ms\",\"duration_ms\",\"duration_ms\",\"duration_ms\",\"duration_ms\",\"duration_ms\",\"duration_ms\",\"duration_ms\",\"duration_ms\",\"duration_ms\",\"duration_ms\",\"duration_ms\",\"duration_ms\",\"duration_ms\",\"duration_ms\",\"duration_ms\",\"duration_ms\",\"duration_ms\",\"duration_ms\",\"duration_ms\",\"duration_ms\",\"duration_ms\",\"duration_ms\",\"duration_ms\",\"duration_ms\",\"duration_ms\",\"duration_ms\",\"duration_ms\",\"duration_ms\",\"duration_ms\",\"duration_ms\",\"duration_ms\",\"duration_ms\",\"duration_ms\",\"duration_ms\",\"duration_ms\",\"duration_ms\",\"duration_ms\",\"duration_ms\",\"duration_ms\",\"duration_ms\",\"duration_ms\",\"duration_ms\",\"duration_ms\",\"duration_ms\",\"duration_ms\",\"duration_ms\",\"duration_ms\",\"duration_ms\",\"duration_ms\",\"duration_ms\",\"duration_ms\",\"duration_ms\",\"duration_ms\",\"duration_ms\",\"duration_ms\",\"duration_ms\",\"duration_ms\",\"duration_ms\",\"duration_ms\",\"duration_ms\",\"duration_ms\",\"duration_ms\",\"duration_ms\",\"duration_ms\",\"duration_ms\",\"duration_ms\",\"duration_ms\",\"duration_ms\",\"duration_ms\",\"duration_ms\",\"duration_ms\",\"duration_ms\",\"duration_ms\",\"duration_ms\",\"duration_ms\",\"duration_ms\",\"duration_ms\",\"duration_ms\",\"duration_ms\",\"duration_ms\",\"duration_ms\",\"duration_ms\",\"duration_ms\",\"duration_ms\",\"duration_ms\",\"duration_ms\",\"duration_ms\",\"duration_ms\",\"duration_ms\",\"duration_ms\",\"duration_ms\",\"duration_ms\",\"duration_ms\",\"duration_ms\",\"duration_ms\",\"duration_ms\",\"duration_ms\",\"duration_ms\",\"duration_ms\",\"duration_ms\",\"duration_ms\",\"duration_ms\",\"duration_ms\",\"duration_ms\",\"duration_ms\",\"duration_ms\",\"duration_ms\",\"duration_ms\",\"duration_ms\",\"duration_ms\",\"duration_ms\",\"duration_ms\",\"duration_ms\",\"duration_ms\",\"duration_ms\",\"duration_ms\",\"duration_ms\",\"duration_ms\",\"duration_ms\",\"duration_ms\",\"duration_ms\",\"duration_ms\",\"duration_ms\",\"duration_ms\",\"duration_ms\",\"duration_ms\",\"duration_ms\",\"duration_ms\",\"duration_ms\",\"duration_ms\",\"duration_ms\",\"duration_ms\",\"duration_ms\",\"duration_ms\",\"duration_ms\",\"duration_ms\",\"duration_ms\",\"duration_ms\",\"duration_ms\",\"duration_ms\",\"duration_ms\",\"duration_ms\",\"duration_ms\",\"duration_ms\",\"duration_ms\",\"duration_ms\",\"duration_ms\",\"duration_ms\",\"duration_ms\",\"duration_ms\",\"duration_ms\",\"duration_ms\",\"duration_ms\",\"duration_ms\",\"duration_ms\",\"duration_ms\",\"duration_ms\",\"duration_ms\",\"duration_ms\",\"duration_ms\",\"duration_ms\",\"duration_ms\",\"duration_ms\",\"duration_ms\",\"duration_ms\",\"duration_ms\",\"duration_ms\",\"duration_ms\",\"duration_ms\",\"duration_ms\",\"duration_ms\",\"duration_ms\",\"duration_ms\",\"duration_ms\",\"duration_ms\",\"duration_ms\",\"duration_ms\",\"duration_ms\",\"duration_ms\",\"duration_ms\",\"duration_ms\",\"duration_ms\",\"duration_ms\",\"duration_ms\",\"duration_ms\",\"duration_ms\",\"duration_ms\",\"duration_ms\",\"duration_ms\",\"duration_ms\",\"duration_ms\",\"duration_ms\",\"duration_ms\",\"duration_ms\",\"duration_ms\",\"duration_ms\",\"duration_ms\",\"duration_ms\",\"duration_ms\",\"duration_ms\",\"duration_ms\",\"duration_ms\",\"duration_ms\",\"duration_ms\",\"duration_ms\",\"duration_ms\",\"duration_ms\",\"duration_ms\",\"duration_ms\",\"duration_ms\",\"duration_ms\",\"duration_ms\",\"duration_ms\",\"duration_ms\",\"duration_ms\",\"duration_ms\",\"duration_ms\",\"duration_ms\",\"duration_ms\",\"duration_ms\",\"duration_ms\",\"duration_ms\",\"duration_ms\",\"duration_ms\",\"duration_ms\",\"duration_ms\",\"duration_ms\",\"duration_ms\",\"duration_ms\",\"duration_ms\",\"duration_ms\",\"duration_ms\",\"duration_ms\",\"duration_ms\",\"duration_ms\",\"duration_ms\",\"duration_ms\",\"duration_ms\",\"duration_ms\",\"duration_ms\",\"duration_ms\",\"duration_ms\",\"duration_ms\",\"duration_ms\",\"duration_ms\",\"duration_ms\",\"duration_ms\",\"duration_ms\",\"duration_ms\",\"duration_ms\",\"duration_ms\",\"duration_ms\",\"duration_ms\",\"duration_ms\",\"duration_ms\",\"duration_ms\",\"duration_ms\",\"duration_ms\",\"duration_ms\",\"duration_ms\",\"duration_ms\",\"duration_ms\",\"duration_ms\",\"duration_ms\",\"duration_ms\",\"duration_ms\",\"duration_ms\",\"duration_ms\",\"duration_ms\",\"duration_ms\",\"duration_ms\",\"duration_ms\",\"duration_ms\",\"duration_ms\",\"duration_ms\",\"duration_ms\",\"duration_ms\",\"duration_ms\",\"duration_ms\",\"duration_ms\",\"duration_ms\",\"duration_ms\",\"duration_ms\",\"duration_ms\",\"duration_ms\",\"duration_ms\",\"duration_ms\",\"duration_ms\",\"duration_ms\",\"duration_ms\",\"duration_ms\",\"duration_ms\",\"duration_ms\",\"duration_ms\",\"duration_ms\",\"duration_ms\",\"duration_ms\",\"duration_ms\",\"duration_ms\",\"duration_ms\",\"duration_ms\",\"duration_ms\",\"duration_ms\",\"duration_ms\",\"duration_ms\",\"duration_ms\",\"duration_ms\",\"duration_ms\",\"duration_ms\",\"duration_ms\",\"duration_ms\",\"duration_ms\",\"duration_ms\",\"duration_ms\",\"duration_ms\",\"duration_ms\",\"duration_ms\",\"duration_ms\",\"duration_ms\",\"duration_ms\",\"duration_ms\",\"duration_ms\",\"duration_ms\",\"duration_ms\",\"duration_ms\",\"duration_ms\",\"duration_ms\",\"duration_ms\",\"duration_ms\",\"duration_ms\",\"duration_ms\",\"duration_ms\",\"duration_ms\",\"duration_ms\",\"duration_ms\",\"duration_ms\",\"duration_ms\",\"duration_ms\",\"duration_ms\",\"duration_ms\",\"duration_ms\",\"duration_ms\",\"duration_ms\",\"duration_ms\",\"duration_ms\",\"duration_ms\",\"duration_ms\",\"duration_ms\",\"duration_ms\",\"duration_ms\",\"duration_ms\",\"duration_ms\",\"duration_ms\",\"duration_ms\",\"duration_ms\",\"duration_ms\",\"duration_ms\",\"duration_ms\",\"duration_ms\",\"duration_ms\",\"duration_ms\",\"duration_ms\",\"duration_ms\",\"duration_ms\",\"duration_ms\",\"duration_ms\",\"duration_ms\",\"duration_ms\",\"duration_ms\",\"duration_ms\",\"duration_ms\",\"duration_ms\",\"duration_ms\",\"duration_ms\",\"duration_ms\",\"duration_ms\",\"duration_ms\",\"duration_ms\",\"duration_ms\",\"duration_ms\",\"duration_ms\",\"duration_ms\",\"duration_ms\",\"duration_ms\",\"duration_ms\",\"duration_ms\",\"duration_ms\",\"duration_ms\",\"duration_ms\",\"duration_ms\",\"duration_ms\",\"duration_ms\",\"duration_ms\",\"duration_ms\",\"duration_ms\",\"duration_ms\",\"duration_ms\",\"duration_ms\",\"duration_ms\",\"duration_ms\",\"duration_ms\",\"duration_ms\",\"duration_ms\",\"duration_ms\",\"duration_ms\",\"duration_ms\",\"duration_ms\",\"duration_ms\",\"duration_ms\",\"duration_ms\",\"duration_ms\",\"duration_ms\",\"duration_ms\",\"duration_ms\",\"duration_ms\",\"duration_ms\",\"duration_ms\",\"duration_ms\",\"duration_ms\",\"duration_ms\",\"duration_ms\",\"duration_ms\",\"duration_ms\",\"duration_ms\",\"duration_ms\",\"duration_ms\",\"duration_ms\",\"duration_ms\",\"duration_ms\",\"duration_ms\",\"duration_ms\",\"duration_ms\",\"duration_ms\",\"duration_ms\",\"duration_ms\",\"duration_ms\",\"duration_ms\",\"duration_ms\",\"duration_ms\",\"duration_ms\",\"duration_ms\",\"duration_ms\",\"duration_ms\",\"duration_ms\",\"duration_ms\",\"duration_ms\",\"duration_ms\",\"duration_ms\",\"duration_ms\",\"duration_ms\",\"duration_ms\",\"duration_ms\",\"duration_ms\",\"duration_ms\",\"duration_ms\",\"duration_ms\",\"duration_ms\",\"duration_ms\",\"duration_ms\",\"duration_ms\",\"duration_ms\",\"duration_ms\",\"duration_ms\",\"duration_ms\",\"duration_ms\",\"duration_ms\",\"duration_ms\",\"duration_ms\",\"duration_ms\",\"duration_ms\",\"duration_ms\",\"duration_ms\",\"duration_ms\",\"duration_ms\",\"duration_ms\",\"duration_ms\",\"duration_ms\",\"duration_ms\",\"duration_ms\",\"duration_ms\",\"duration_ms\",\"duration_ms\",\"duration_ms\",\"duration_ms\",\"duration_ms\",\"duration_ms\",\"duration_ms\",\"duration_ms\",\"duration_ms\",\"duration_ms\",\"duration_ms\",\"duration_ms\",\"duration_ms\",\"duration_ms\",\"duration_ms\",\"duration_ms\",\"duration_ms\",\"duration_ms\",\"duration_ms\",\"duration_ms\",\"duration_ms\",\"duration_ms\",\"duration_ms\",\"duration_ms\",\"duration_ms\",\"duration_ms\",\"duration_ms\",\"duration_ms\",\"duration_ms\",\"duration_ms\",\"duration_ms\",\"duration_ms\",\"duration_ms\",\"duration_ms\",\"duration_ms\",\"duration_ms\",\"duration_ms\",\"duration_ms\",\"duration_ms\",\"duration_ms\",\"duration_ms\",\"duration_ms\",\"duration_ms\",\"duration_ms\",\"duration_ms\",\"duration_ms\",\"duration_ms\",\"duration_ms\",\"duration_ms\",\"duration_ms\",\"duration_ms\",\"duration_ms\",\"duration_ms\",\"duration_ms\",\"duration_ms\",\"duration_ms\",\"duration_ms\",\"duration_ms\",\"duration_ms\",\"duration_ms\",\"duration_ms\",\"duration_ms\",\"duration_ms\",\"duration_ms\",\"duration_ms\",\"duration_ms\",\"duration_ms\",\"duration_ms\",\"duration_ms\",\"duration_ms\",\"duration_ms\",\"duration_ms\",\"duration_ms\",\"duration_ms\",\"duration_ms\",\"duration_ms\",\"duration_ms\",\"duration_ms\",\"duration_ms\",\"duration_ms\",\"duration_ms\",\"duration_ms\",\"duration_ms\",\"duration_ms\",\"duration_ms\",\"duration_ms\",\"duration_ms\",\"duration_ms\",\"duration_ms\",\"duration_ms\",\"duration_ms\",\"duration_ms\",\"duration_ms\",\"duration_ms\",\"duration_ms\",\"duration_ms\",\"duration_ms\",\"duration_ms\",\"duration_ms\",\"duration_ms\",\"duration_ms\",\"duration_ms\",\"duration_ms\",\"duration_ms\",\"duration_ms\",\"duration_ms\",\"duration_ms\",\"duration_ms\",\"duration_ms\",\"duration_ms\",\"duration_ms\",\"duration_ms\",\"duration_ms\",\"duration_ms\",\"duration_ms\",\"duration_ms\",\"duration_ms\",\"duration_ms\",\"duration_ms\",\"duration_ms\",\"duration_ms\",\"duration_ms\",\"duration_ms\",\"duration_ms\",\"duration_ms\",\"duration_ms\",\"duration_ms\",\"duration_ms\",\"duration_ms\",\"duration_ms\",\"duration_ms\",\"duration_ms\",\"duration_ms\",\"duration_ms\",\"duration_ms\",\"duration_ms\",\"duration_ms\",\"duration_ms\",\"duration_ms\",\"duration_ms\",\"duration_ms\",\"duration_ms\",\"duration_ms\",\"duration_ms\",\"duration_ms\",\"duration_ms\",\"duration_ms\",\"duration_ms\",\"duration_ms\",\"duration_ms\",\"duration_ms\",\"duration_ms\",\"duration_ms\",\"duration_ms\",\"duration_ms\",\"duration_ms\",\"duration_ms\",\"duration_ms\",\"duration_ms\",\"duration_ms\",\"duration_ms\",\"duration_ms\",\"duration_ms\",\"duration_ms\",\"duration_ms\",\"duration_ms\",\"duration_ms\",\"duration_ms\",\"duration_ms\",\"duration_ms\",\"duration_ms\",\"duration_ms\",\"duration_ms\",\"duration_ms\",\"duration_ms\",\"duration_ms\",\"duration_ms\",\"duration_ms\",\"duration_ms\",\"duration_ms\",\"duration_ms\",\"duration_ms\",\"duration_ms\",\"duration_ms\",\"duration_ms\",\"duration_ms\",\"duration_ms\",\"duration_ms\",\"duration_ms\",\"duration_ms\",\"duration_ms\",\"duration_ms\",\"duration_ms\",\"duration_ms\",\"duration_ms\",\"duration_ms\",\"duration_ms\",\"duration_ms\",\"duration_ms\",\"duration_ms\",\"duration_ms\",\"duration_ms\",\"duration_ms\",\"duration_ms\",\"duration_ms\",\"duration_ms\",\"duration_ms\",\"duration_ms\",\"duration_ms\",\"duration_ms\",\"duration_ms\",\"duration_ms\",\"duration_ms\",\"duration_ms\",\"duration_ms\",\"duration_ms\",\"duration_ms\",\"duration_ms\",\"duration_ms\",\"duration_ms\",\"duration_ms\",\"duration_ms\",\"duration_ms\",\"duration_ms\",\"duration_ms\",\"duration_ms\",\"duration_ms\",\"duration_ms\",\"duration_ms\",\"duration_ms\",\"duration_ms\",\"duration_ms\",\"duration_ms\",\"duration_ms\",\"duration_ms\",\"duration_ms\",\"duration_ms\",\"duration_ms\",\"duration_ms\",\"duration_ms\",\"duration_ms\",\"duration_ms\",\"duration_ms\",\"duration_ms\",\"duration_ms\",\"duration_ms\",\"duration_ms\",\"duration_ms\",\"duration_ms\",\"duration_ms\",\"duration_ms\",\"duration_ms\",\"duration_ms\",\"duration_ms\",\"duration_ms\",\"duration_ms\",\"duration_ms\",\"duration_ms\",\"duration_ms\",\"duration_ms\",\"duration_ms\",\"duration_ms\",\"duration_ms\",\"duration_ms\",\"duration_ms\",\"duration_ms\",\"duration_ms\",\"duration_ms\",\"duration_ms\",\"duration_ms\",\"duration_ms\",\"duration_ms\",\"duration_ms\",\"duration_ms\",\"duration_ms\",\"duration_ms\",\"duration_ms\",\"duration_ms\",\"duration_ms\",\"duration_ms\",\"duration_ms\",\"duration_ms\",\"duration_ms\",\"duration_ms\",\"duration_ms\",\"duration_ms\",\"duration_ms\",\"duration_ms\",\"duration_ms\",\"duration_ms\",\"duration_ms\",\"duration_ms\",\"duration_ms\",\"duration_ms\",\"duration_ms\",\"duration_ms\",\"duration_ms\",\"duration_ms\",\"duration_ms\",\"duration_ms\",\"duration_ms\",\"duration_ms\",\"duration_ms\",\"duration_ms\",\"duration_ms\",\"duration_ms\",\"duration_ms\",\"duration_ms\",\"duration_ms\",\"duration_ms\",\"duration_ms\",\"duration_ms\",\"duration_ms\",\"duration_ms\",\"duration_ms\",\"duration_ms\",\"duration_ms\",\"duration_ms\",\"duration_ms\",\"duration_ms\",\"duration_ms\",\"duration_ms\",\"duration_ms\",\"duration_ms\",\"duration_ms\",\"duration_ms\",\"duration_ms\",\"duration_ms\",\"duration_ms\",\"duration_ms\",\"duration_ms\",\"duration_ms\",\"duration_ms\",\"duration_ms\",\"duration_ms\",\"duration_ms\",\"duration_ms\",\"duration_ms\",\"duration_ms\",\"duration_ms\",\"duration_ms\",\"duration_ms\",\"duration_ms\",\"duration_ms\",\"duration_ms\",\"duration_ms\",\"duration_ms\",\"duration_ms\",\"duration_ms\",\"duration_ms\",\"duration_ms\",\"duration_ms\",\"duration_ms\",\"duration_ms\",\"duration_ms\",\"duration_ms\",\"duration_ms\",\"duration_ms\",\"duration_ms\",\"duration_ms\",\"duration_ms\",\"duration_ms\",\"duration_ms\",\"duration_ms\",\"duration_ms\",\"duration_ms\",\"duration_ms\",\"duration_ms\",\"duration_ms\",\"duration_ms\",\"duration_ms\",\"duration_ms\",\"duration_ms\",\"duration_ms\",\"duration_ms\",\"duration_ms\",\"duration_ms\",\"duration_ms\",\"duration_ms\",\"duration_ms\",\"duration_ms\",\"duration_ms\",\"duration_ms\",\"duration_ms\",\"duration_ms\",\"duration_ms\",\"duration_ms\",\"duration_ms\",\"duration_ms\",\"duration_ms\",\"duration_ms\",\"duration_ms\",\"duration_ms\",\"duration_ms\",\"duration_ms\",\"duration_ms\",\"duration_ms\",\"duration_ms\",\"duration_ms\",\"duration_ms\",\"duration_ms\",\"duration_ms\",\"duration_ms\",\"duration_ms\",\"duration_ms\",\"duration_ms\",\"duration_ms\",\"duration_ms\",\"duration_ms\",\"duration_ms\",\"duration_ms\",\"duration_ms\",\"duration_ms\",\"duration_ms\",\"duration_ms\",\"duration_ms\",\"duration_ms\",\"duration_ms\",\"duration_ms\",\"duration_ms\",\"duration_ms\",\"duration_ms\",\"duration_ms\",\"duration_ms\",\"duration_ms\",\"duration_ms\",\"duration_ms\",\"duration_ms\",\"duration_ms\",\"duration_ms\",\"duration_ms\",\"duration_ms\",\"duration_ms\",\"duration_ms\",\"duration_ms\",\"duration_ms\",\"duration_ms\",\"duration_ms\",\"duration_ms\",\"duration_ms\",\"duration_ms\",\"duration_ms\",\"duration_ms\",\"duration_ms\",\"duration_ms\",\"duration_ms\",\"duration_ms\",\"duration_ms\",\"duration_ms\",\"duration_ms\",\"duration_ms\",\"duration_ms\",\"duration_ms\",\"duration_ms\",\"duration_ms\",\"duration_ms\",\"duration_ms\",\"duration_ms\",\"duration_ms\",\"duration_ms\",\"duration_ms\",\"duration_ms\",\"duration_ms\",\"duration_ms\",\"duration_ms\",\"duration_ms\",\"duration_ms\",\"duration_ms\",\"duration_ms\",\"duration_ms\",\"duration_ms\",\"duration_ms\",\"duration_ms\",\"duration_ms\",\"duration_ms\",\"duration_ms\",\"duration_ms\",\"duration_ms\",\"duration_ms\",\"duration_ms\",\"duration_ms\",\"duration_ms\",\"duration_ms\",\"duration_ms\",\"duration_ms\",\"duration_ms\",\"duration_ms\",\"duration_ms\",\"duration_ms\",\"duration_ms\",\"duration_ms\",\"duration_ms\",\"duration_ms\",\"duration_ms\",\"duration_ms\",\"duration_ms\",\"duration_ms\",\"duration_ms\",\"duration_ms\",\"duration_ms\",\"duration_ms\",\"duration_ms\",\"duration_ms\",\"duration_ms\",\"duration_ms\",\"duration_ms\",\"duration_ms\",\"duration_ms\",\"duration_ms\",\"duration_ms\",\"duration_ms\",\"duration_ms\",\"duration_ms\",\"duration_ms\",\"duration_ms\",\"duration_ms\",\"duration_ms\",\"duration_ms\",\"duration_ms\",\"duration_ms\",\"duration_ms\",\"duration_ms\",\"duration_ms\",\"duration_ms\",\"duration_ms\",\"duration_ms\",\"duration_ms\",\"duration_ms\",\"duration_ms\",\"duration_ms\",\"duration_ms\",\"duration_ms\",\"duration_ms\",\"duration_ms\",\"duration_ms\",\"duration_ms\",\"duration_ms\",\"duration_ms\",\"duration_ms\",\"duration_ms\",\"duration_ms\",\"duration_ms\",\"duration_ms\",\"duration_ms\",\"duration_ms\",\"duration_ms\",\"duration_ms\",\"duration_ms\",\"duration_ms\",\"duration_ms\",\"duration_ms\",\"duration_ms\",\"duration_ms\",\"duration_ms\",\"duration_ms\",\"duration_ms\",\"duration_ms\",\"duration_ms\",\"duration_ms\",\"duration_ms\",\"duration_ms\",\"duration_ms\",\"duration_ms\",\"duration_ms\",\"duration_ms\",\"duration_ms\",\"duration_ms\",\"duration_ms\",\"duration_ms\",\"duration_ms\",\"duration_ms\",\"duration_ms\",\"duration_ms\",\"duration_ms\",\"duration_ms\",\"duration_ms\",\"duration_ms\",\"duration_ms\",\"duration_ms\",\"duration_ms\",\"duration_ms\",\"duration_ms\",\"duration_ms\",\"duration_ms\",\"duration_ms\",\"duration_ms\",\"duration_ms\",\"duration_ms\",\"duration_ms\",\"duration_ms\",\"duration_ms\",\"duration_ms\",\"duration_ms\",\"duration_ms\",\"duration_ms\",\"duration_ms\",\"duration_ms\",\"duration_ms\",\"duration_ms\",\"duration_ms\",\"duration_ms\",\"duration_ms\",\"duration_ms\",\"duration_ms\",\"duration_ms\",\"duration_ms\",\"duration_ms\",\"duration_ms\",\"duration_ms\",\"duration_ms\",\"duration_ms\",\"duration_ms\",\"duration_ms\",\"duration_ms\",\"duration_ms\",\"duration_ms\",\"duration_ms\",\"duration_ms\",\"duration_ms\",\"duration_ms\",\"duration_ms\",\"duration_ms\",\"duration_ms\",\"duration_ms\",\"duration_ms\",\"duration_ms\",\"duration_ms\",\"duration_ms\",\"duration_ms\",\"duration_ms\",\"duration_ms\",\"duration_ms\",\"duration_ms\",\"duration_ms\",\"duration_ms\",\"duration_ms\",\"duration_ms\",\"duration_ms\",\"duration_ms\",\"duration_ms\",\"duration_ms\",\"duration_ms\",\"duration_ms\",\"duration_ms\",\"duration_ms\",\"duration_ms\",\"duration_ms\",\"duration_ms\",\"duration_ms\",\"duration_ms\",\"duration_ms\",\"duration_ms\",\"duration_ms\",\"duration_ms\",\"duration_ms\",\"duration_ms\",\"duration_ms\",\"duration_ms\",\"duration_ms\",\"duration_ms\",\"duration_ms\",\"duration_ms\",\"duration_ms\",\"duration_ms\",\"duration_ms\",\"duration_ms\",\"duration_ms\",\"duration_ms\",\"duration_ms\",\"duration_ms\",\"duration_ms\",\"duration_ms\",\"duration_ms\",\"duration_ms\",\"duration_ms\",\"duration_ms\",\"duration_ms\",\"duration_ms\",\"duration_ms\",\"duration_ms\",\"duration_ms\",\"duration_ms\",\"duration_ms\",\"duration_ms\",\"duration_ms\",\"duration_ms\",\"duration_ms\",\"duration_ms\",\"duration_ms\",\"duration_ms\",\"duration_ms\",\"duration_ms\",\"duration_ms\",\"duration_ms\",\"duration_ms\",\"duration_ms\",\"duration_ms\",\"duration_ms\",\"duration_ms\",\"duration_ms\",\"duration_ms\",\"duration_ms\",\"duration_ms\",\"duration_ms\",\"duration_ms\",\"duration_ms\",\"duration_ms\",\"duration_ms\",\"duration_ms\",\"duration_ms\",\"duration_ms\",\"duration_ms\",\"duration_ms\",\"duration_ms\",\"duration_ms\",\"duration_ms\",\"duration_ms\",\"duration_ms\",\"duration_ms\",\"duration_ms\",\"duration_ms\",\"duration_ms\",\"duration_ms\",\"duration_ms\",\"duration_ms\",\"duration_ms\",\"duration_ms\",\"duration_ms\",\"duration_ms\",\"duration_ms\",\"duration_ms\",\"duration_ms\",\"duration_ms\",\"duration_ms\",\"duration_ms\",\"duration_ms\",\"duration_ms\",\"duration_ms\",\"duration_ms\",\"duration_ms\",\"duration_ms\",\"duration_ms\",\"duration_ms\",\"duration_ms\",\"duration_ms\",\"duration_ms\",\"duration_ms\",\"duration_ms\",\"duration_ms\",\"duration_ms\",\"duration_ms\",\"duration_ms\",\"duration_ms\",\"duration_ms\",\"duration_ms\",\"duration_ms\",\"duration_ms\",\"duration_ms\",\"duration_ms\",\"duration_ms\",\"duration_ms\",\"duration_ms\",\"duration_ms\",\"duration_ms\",\"duration_ms\",\"duration_ms\",\"duration_ms\",\"duration_ms\",\"duration_ms\",\"duration_ms\",\"duration_ms\",\"duration_ms\",\"duration_ms\",\"duration_ms\",\"duration_ms\",\"duration_ms\",\"duration_ms\",\"duration_ms\",\"duration_ms\",\"duration_ms\",\"duration_ms\",\"duration_ms\",\"duration_ms\",\"duration_ms\",\"duration_ms\",\"duration_ms\",\"duration_ms\",\"duration_ms\",\"duration_ms\",\"duration_ms\",\"duration_ms\",\"duration_ms\",\"duration_ms\",\"duration_ms\",\"duration_ms\",\"duration_ms\",\"duration_ms\",\"duration_ms\",\"duration_ms\",\"duration_ms\",\"duration_ms\",\"duration_ms\",\"duration_ms\",\"duration_ms\",\"duration_ms\",\"duration_ms\",\"duration_ms\",\"duration_ms\",\"duration_ms\",\"duration_ms\",\"duration_ms\",\"duration_ms\",\"duration_ms\",\"duration_ms\",\"duration_ms\",\"duration_ms\",\"duration_ms\",\"duration_ms\",\"duration_ms\",\"duration_ms\",\"duration_ms\",\"duration_ms\",\"duration_ms\",\"duration_ms\",\"duration_ms\",\"duration_ms\",\"duration_ms\",\"duration_ms\",\"duration_ms\",\"duration_ms\",\"duration_ms\",\"duration_ms\",\"duration_ms\",\"duration_ms\",\"duration_ms\",\"duration_ms\",\"duration_ms\",\"duration_ms\",\"duration_ms\",\"duration_ms\",\"duration_ms\",\"duration_ms\",\"duration_ms\",\"duration_ms\",\"duration_ms\",\"duration_ms\",\"duration_ms\",\"duration_ms\",\"duration_ms\",\"duration_ms\",\"duration_ms\",\"duration_ms\",\"duration_ms\",\"duration_ms\",\"duration_ms\",\"duration_ms\",\"duration_ms\",\"duration_ms\",\"duration_ms\",\"duration_ms\",\"duration_ms\",\"duration_ms\",\"duration_ms\",\"duration_ms\",\"duration_ms\",\"duration_ms\",\"duration_ms\",\"duration_ms\",\"duration_ms\",\"duration_ms\",\"duration_ms\",\"duration_ms\",\"duration_ms\",\"duration_ms\",\"duration_ms\",\"duration_ms\",\"duration_ms\",\"duration_ms\",\"duration_ms\",\"duration_ms\",\"duration_ms\",\"duration_ms\",\"duration_ms\",\"duration_ms\",\"duration_ms\",\"duration_ms\",\"duration_ms\",\"duration_ms\",\"duration_ms\",\"duration_ms\",\"duration_ms\",\"duration_ms\",\"duration_ms\",\"duration_ms\",\"duration_ms\",\"duration_ms\",\"duration_ms\",\"duration_ms\",\"duration_ms\",\"duration_ms\",\"duration_ms\",\"duration_ms\",\"duration_ms\",\"duration_ms\",\"duration_ms\",\"duration_ms\",\"duration_ms\",\"duration_ms\",\"duration_ms\",\"duration_ms\",\"duration_ms\",\"duration_ms\",\"duration_ms\",\"duration_ms\",\"duration_ms\",\"duration_ms\",\"duration_ms\",\"duration_ms\",\"duration_ms\",\"duration_ms\",\"duration_ms\",\"duration_ms\",\"duration_ms\",\"duration_ms\",\"duration_ms\",\"duration_ms\",\"duration_ms\",\"duration_ms\",\"duration_ms\",\"duration_ms\",\"duration_ms\",\"duration_ms\",\"duration_ms\",\"duration_ms\",\"duration_ms\",\"duration_ms\",\"duration_ms\",\"duration_ms\",\"duration_ms\",\"duration_ms\",\"duration_ms\",\"duration_ms\",\"duration_ms\",\"duration_ms\",\"duration_ms\",\"duration_ms\",\"duration_ms\",\"duration_ms\",\"duration_ms\",\"duration_ms\",\"duration_ms\",\"duration_ms\",\"duration_ms\",\"duration_ms\",\"duration_ms\",\"duration_ms\",\"duration_ms\",\"duration_ms\",\"duration_ms\",\"duration_ms\",\"duration_ms\",\"duration_ms\",\"duration_ms\",\"duration_ms\",\"duration_ms\",\"duration_ms\",\"duration_ms\",\"duration_ms\",\"duration_ms\",\"duration_ms\",\"duration_ms\",\"duration_ms\",\"duration_ms\",\"duration_ms\",\"duration_ms\",\"duration_ms\",\"duration_ms\",\"duration_ms\",\"duration_ms\",\"duration_ms\",\"duration_ms\",\"duration_ms\",\"duration_ms\",\"duration_ms\",\"duration_ms\",\"duration_ms\",\"duration_ms\",\"duration_ms\",\"duration_ms\",\"duration_ms\",\"duration_ms\",\"duration_ms\",\"duration_ms\",\"duration_ms\",\"duration_ms\",\"duration_ms\",\"duration_ms\",\"duration_ms\",\"duration_ms\",\"duration_ms\",\"duration_ms\",\"duration_ms\",\"duration_ms\",\"duration_ms\",\"duration_ms\",\"duration_ms\",\"duration_ms\",\"duration_ms\",\"duration_ms\",\"duration_ms\",\"duration_ms\",\"duration_ms\",\"duration_ms\",\"duration_ms\",\"duration_ms\",\"duration_ms\",\"duration_ms\",\"duration_ms\",\"duration_ms\",\"duration_ms\",\"duration_ms\",\"duration_ms\",\"duration_ms\",\"duration_ms\",\"duration_ms\",\"duration_ms\",\"duration_ms\",\"duration_ms\",\"duration_ms\",\"duration_ms\",\"duration_ms\",\"duration_ms\",\"duration_ms\",\"duration_ms\",\"duration_ms\",\"duration_ms\",\"duration_ms\",\"duration_ms\",\"duration_ms\",\"duration_ms\",\"duration_ms\",\"duration_ms\",\"duration_ms\",\"duration_ms\",\"duration_ms\",\"duration_ms\",\"duration_ms\",\"duration_ms\",\"duration_ms\",\"duration_ms\",\"duration_ms\",\"duration_ms\",\"duration_ms\",\"duration_ms\",\"duration_ms\",\"duration_ms\",\"duration_ms\",\"duration_ms\",\"duration_ms\",\"duration_ms\",\"duration_ms\",\"duration_ms\",\"duration_ms\",\"duration_ms\",\"duration_ms\",\"duration_ms\",\"duration_ms\",\"duration_ms\",\"duration_ms\",\"duration_ms\",\"duration_ms\",\"duration_ms\",\"duration_ms\",\"duration_ms\",\"duration_ms\",\"duration_ms\",\"duration_ms\",\"duration_ms\",\"duration_ms\",\"duration_ms\",\"duration_ms\",\"duration_ms\",\"duration_ms\",\"duration_ms\",\"duration_ms\",\"duration_ms\",\"duration_ms\",\"duration_ms\",\"duration_ms\",\"duration_ms\",\"duration_ms\",\"duration_ms\",\"duration_ms\",\"duration_ms\",\"duration_ms\",\"duration_ms\",\"duration_ms\",\"duration_ms\",\"duration_ms\",\"duration_ms\",\"duration_ms\",\"duration_ms\",\"duration_ms\",\"duration_ms\",\"duration_ms\",\"duration_ms\",\"duration_ms\",\"duration_ms\",\"duration_ms\",\"duration_ms\",\"duration_ms\",\"duration_ms\",\"duration_ms\",\"duration_ms\",\"duration_ms\",\"duration_ms\",\"duration_ms\",\"duration_ms\",\"duration_ms\",\"duration_ms\",\"duration_ms\",\"duration_ms\",\"duration_ms\",\"duration_ms\",\"duration_ms\",\"duration_ms\",\"duration_ms\",\"duration_ms\",\"duration_ms\",\"duration_ms\",\"duration_ms\",\"duration_ms\",\"duration_ms\",\"duration_ms\",\"duration_ms\",\"duration_ms\",\"duration_ms\",\"duration_ms\",\"duration_ms\",\"duration_ms\",\"duration_ms\",\"duration_ms\",\"duration_ms\",\"duration_ms\",\"duration_ms\",\"duration_ms\",\"duration_ms\",\"duration_ms\",\"duration_ms\",\"duration_ms\",\"duration_ms\",\"duration_ms\",\"duration_ms\",\"duration_ms\",\"duration_ms\",\"duration_ms\",\"duration_ms\",\"duration_ms\",\"duration_ms\",\"duration_ms\",\"duration_ms\",\"duration_ms\",\"duration_ms\",\"duration_ms\",\"duration_ms\",\"duration_ms\",\"duration_ms\",\"duration_ms\",\"duration_ms\",\"duration_ms\",\"duration_ms\",\"duration_ms\",\"duration_ms\",\"duration_ms\",\"duration_ms\",\"duration_ms\",\"duration_ms\",\"duration_ms\",\"duration_ms\",\"duration_ms\",\"duration_ms\",\"duration_ms\",\"duration_ms\",\"duration_ms\",\"duration_ms\",\"duration_ms\",\"duration_ms\",\"duration_ms\",\"duration_ms\",\"duration_ms\",\"duration_ms\",\"duration_ms\",\"duration_ms\",\"duration_ms\",\"duration_ms\",\"duration_ms\",\"duration_ms\",\"duration_ms\",\"duration_ms\",\"duration_ms\",\"duration_ms\",\"duration_ms\",\"duration_ms\",\"duration_ms\",\"duration_ms\",\"duration_ms\",\"duration_ms\",\"duration_ms\",\"duration_ms\",\"duration_ms\",\"duration_ms\",\"duration_ms\",\"duration_ms\",\"duration_ms\",\"duration_ms\",\"duration_ms\",\"duration_ms\",\"duration_ms\",\"duration_ms\",\"duration_ms\",\"duration_ms\",\"duration_ms\",\"duration_ms\",\"duration_ms\",\"duration_ms\",\"duration_ms\",\"duration_ms\",\"duration_ms\",\"duration_ms\",\"duration_ms\",\"duration_ms\",\"duration_ms\",\"duration_ms\",\"duration_ms\",\"duration_ms\",\"duration_ms\",\"duration_ms\",\"duration_ms\",\"duration_ms\",\"duration_ms\",\"duration_ms\",\"duration_ms\",\"duration_ms\",\"duration_ms\",\"duration_ms\",\"duration_ms\",\"duration_ms\",\"duration_ms\",\"duration_ms\",\"duration_ms\",\"duration_ms\",\"duration_ms\",\"duration_ms\",\"duration_ms\",\"duration_ms\",\"duration_ms\",\"duration_ms\",\"duration_ms\",\"duration_ms\",\"duration_ms\",\"duration_ms\",\"duration_ms\",\"duration_ms\",\"duration_ms\",\"duration_ms\",\"duration_ms\",\"duration_ms\",\"duration_ms\",\"duration_ms\",\"duration_ms\",\"duration_ms\",\"duration_ms\",\"duration_ms\",\"duration_ms\",\"duration_ms\",\"duration_ms\",\"duration_ms\",\"duration_ms\",\"duration_ms\",\"duration_ms\",\"duration_ms\",\"duration_ms\",\"duration_ms\",\"duration_ms\",\"duration_ms\",\"duration_ms\",\"duration_ms\",\"duration_ms\",\"duration_ms\",\"duration_ms\",\"duration_ms\",\"duration_ms\",\"duration_ms\",\"duration_ms\",\"duration_ms\",\"duration_ms\",\"duration_ms\",\"duration_ms\",\"duration_ms\",\"duration_ms\",\"duration_ms\",\"duration_ms\",\"duration_ms\",\"duration_ms\",\"duration_ms\",\"duration_ms\",\"duration_ms\",\"duration_ms\",\"duration_ms\",\"duration_ms\",\"duration_ms\",\"duration_ms\",\"duration_ms\",\"duration_ms\",\"duration_ms\",\"duration_ms\",\"duration_ms\",\"duration_ms\",\"duration_ms\",\"duration_ms\",\"duration_ms\",\"duration_ms\",\"duration_ms\",\"duration_ms\",\"duration_ms\",\"duration_ms\",\"duration_ms\",\"duration_ms\",\"duration_ms\",\"duration_ms\",\"duration_ms\",\"duration_ms\",\"duration_ms\",\"duration_ms\",\"duration_ms\",\"duration_ms\",\"duration_ms\",\"duration_ms\",\"duration_ms\",\"duration_ms\",\"duration_ms\",\"duration_ms\",\"duration_ms\",\"duration_ms\",\"duration_ms\",\"duration_ms\",\"duration_ms\",\"duration_ms\",\"duration_ms\",\"duration_ms\",\"duration_ms\",\"duration_ms\",\"duration_ms\",\"duration_ms\",\"duration_ms\",\"duration_ms\",\"duration_ms\",\"duration_ms\",\"duration_ms\",\"duration_ms\",\"duration_ms\",\"duration_ms\",\"duration_ms\",\"duration_ms\",\"duration_ms\",\"duration_ms\",\"duration_ms\",\"duration_ms\",\"duration_ms\",\"duration_ms\",\"duration_ms\",\"duration_ms\",\"duration_ms\",\"duration_ms\",\"duration_ms\",\"duration_ms\",\"duration_ms\",\"duration_ms\",\"duration_ms\",\"duration_ms\",\"duration_ms\",\"duration_ms\",\"duration_ms\",\"duration_ms\",\"duration_ms\",\"duration_ms\",\"duration_ms\",\"duration_ms\",\"duration_ms\",\"duration_ms\",\"duration_ms\",\"duration_ms\",\"duration_ms\",\"duration_ms\",\"duration_ms\",\"duration_ms\",\"duration_ms\",\"duration_ms\",\"duration_ms\",\"duration_ms\",\"duration_ms\",\"duration_ms\",\"duration_ms\",\"duration_ms\",\"duration_ms\",\"duration_ms\",\"duration_ms\",\"duration_ms\",\"duration_ms\",\"duration_ms\",\"duration_ms\",\"duration_ms\",\"duration_ms\",\"duration_ms\",\"duration_ms\",\"duration_ms\",\"duration_ms\",\"duration_ms\",\"duration_ms\",\"duration_ms\",\"duration_ms\",\"duration_ms\",\"duration_ms\",\"duration_ms\",\"duration_ms\",\"duration_ms\",\"duration_ms\",\"duration_ms\",\"duration_ms\",\"duration_ms\",\"duration_ms\",\"duration_ms\",\"duration_ms\",\"duration_ms\",\"duration_ms\",\"duration_ms\",\"duration_ms\",\"duration_ms\",\"duration_ms\",\"duration_ms\",\"duration_ms\",\"duration_ms\",\"duration_ms\",\"duration_ms\",\"duration_ms\",\"duration_ms\",\"duration_ms\",\"duration_ms\",\"duration_ms\",\"duration_ms\",\"duration_ms\",\"duration_ms\",\"duration_ms\",\"duration_ms\",\"duration_ms\",\"duration_ms\",\"duration_ms\",\"duration_ms\",\"duration_ms\",\"duration_ms\",\"duration_ms\",\"duration_ms\",\"duration_ms\",\"duration_ms\",\"duration_ms\",\"duration_ms\",\"duration_ms\",\"duration_ms\",\"duration_ms\",\"duration_ms\",\"duration_ms\",\"duration_ms\",\"duration_ms\",\"duration_ms\",\"duration_ms\",\"duration_ms\",\"duration_ms\",\"duration_ms\",\"duration_ms\",\"duration_ms\",\"duration_ms\",\"duration_ms\",\"duration_ms\",\"duration_ms\",\"duration_ms\",\"duration_ms\",\"duration_ms\",\"duration_ms\",\"duration_ms\",\"duration_ms\",\"duration_ms\",\"duration_ms\",\"duration_ms\",\"duration_ms\",\"duration_ms\",\"duration_ms\",\"duration_ms\",\"duration_ms\",\"duration_ms\",\"duration_ms\",\"duration_ms\",\"duration_ms\",\"duration_ms\",\"duration_ms\",\"duration_ms\",\"duration_ms\",\"duration_ms\",\"duration_ms\",\"duration_ms\",\"duration_ms\",\"duration_ms\",\"duration_ms\"],\"x0\":\" \",\"xaxis\":\"x\",\"y\":[211160,167066,250546,224493,200560,253733,284200,258560,271333,307153,238759,268863,306333,285960,294200,284000,245400,214883,285426,161506,216880,211893,240866,244466,352173,321040,225493,221160,318280,210786,268866,220106,225973,242560,243533,276266,207866,283066,229826,255600,219360,261933,175893,222293,215466,234960,201946,236906,198346,243666,265026,280626,244053,274226,227866,257360,198400,243733,215506,278666,219240,298960,199480,257200,273706,273533,255373,251040,235133,261973,243533,202800,214819,234826,228140,230200,241373,233933,226760,256973,236866,253626,281466,231760,268746,221133,191040,348893,347106,256133,219093,230093,274800,207506,296693,241666,203333,316733,206226,287000,227600,254026,404106,230640,264893,243160,196160,165853,259933,254640,250706,203600,197826,252986,265866,222435,213760,220973,253586,241000,264933,223546,194026,216733,337733,230133,246160,271626,223840,320357,270506,213346,229173,218360,213026,256240,211493,211120,252706,231213,452906,340920,266506,285386,326240,221226,295400,284666,193093,218626,213133,209266,223133,304506,210813,280973,207560,195506,232573,197760,233626,257200,276106,234400,207400,246720,201533,218546,222120,212973,207906,197360,295826,231666,162333,231166,329933,185013,257066,221133,217120,262133,304666,302826,302760,217493,300933,219093,291781,254400,228800,240626,196986,257426,262773,264706,263440,265533,292000,216360,289160,290320,244506,237493,208600,224066,302720,226440,324306,297786,285586,222546,276360,172240,244466,216880,213973,275026,204400,236426,200426,253200,200480,198600,234116,289373,230346,248933,207186,238600,259773,208449,239266,272293,222560,237800,207866,228240,227866,298853,223293,195866,432146,267093,237359,242586,287000,269000,254493,228000,267160,318213,238266,264653,233666,268800,201480,207040,265706,230013,283626,276373,206466,297840,262226,251280,192533,303333,161240,307879,263226,214306,335613,294600,245133,227386,204000,233600,231066,204706,216933,211506,206093,253600,170493,269400,269400,242000,238173,216760,296586,188693,268693,217680,257026,208626,303920,226680,295346,210693,193466,211666,322226,236133,225426,272533,187840,296186,214440,285570,324306,244666,238840,205560,249480,215480,162600,217586,235893,218173,287226,231480,324600,282773,239026,245240,223773,210066,248546,267266,231920,298600,244826,359973,255266,207466,222400,297960,285569,199040,184906,221426,293666,212413,164506,269973,237693,219400,236506,250746,339546,234800,209533,224440,304000,234893,220360,201920,245960,245293,299146,268373,243306,214600,208386,213760,253720,260333,294693,288333,199320,226053,218760,281240,307879,249293,263226,209120,181826,293960,232506,245773,254466,242773,240040,267933,314400,223973,214773,278693,228706,234000,295773,201373,257026,190173,202013,219826,223066,214733,250373,206200,198800,235213,232800,257426,192600,217733,215431,247426,212266,221226,186306,257920,236520,208600,185586,187280,235066,298773,190493,257333,242013,171360,223000,206106,267320,205973,265826,213893,232000,239026,235186,245173,216706,212413,233600,214893,252440,223133,182626,196906,242746,197186,263506,248680,237693,266066,273360,207066,249533,282306,192106,276800,216706,222146,200973,233360,213786,230306,193520,237026,247106,265026,225173,193733,262533,336506,229080,226053,202013,316053,176346,224933,266040,284160,221226,185133,290760,242413,240040,225106,301133,238733,223506,226013,252466,223440,277840,171546,254266,248200,234000,205360,191826,296880,189506,217440,214733,366733,201400,256733,207626,246960,209106,209493,261266,272080,233640,238493,337733,237706,168879,265480,213066,236213,393813,230493,214226,235533,229866,203360,326960,256346,247506,219920,225533,205733,206400,222640,239773,235800,200053,218093,280013,250760,212893,244999,236813,276603,230133,283454,224253,226863,226640,229826,258666,239586,237733,233400,266066,211320,325573,202213,238746,270746,215000,222653,199853,240040,231533,256000,238053,243986,197160,260600,233866,179160,197666,205840,217706,198973,219000,241066,337640,208199,173680,219600,248493,233186,224640,219493,243053,258920,231040,245400,207506,204173,297426,296880,253933,287906,201706,224146,188960,305080,193653,227840,189333,255626,218093,218573,242733,227853,214946,238920,177466,214960,258893,245466,276786,281880,303053,213066,242293,150533,243880,225560,261880,274440,226293,212439,186826,209666,192213,202720,229360,274386,190000,286186,241840,223066,276160,219320,271160,202066,241306,199120,224253,233973,240280,197173,281320,273973,207613,189800,246333,201590,226973,236600,229813,214706,234133,238173,180266,257293,274333,230613,244613,207586,202133,276773,211186,255333,196893,220853,223680,260466,252653,256946,214106,282160,288360,207186,261053,215266,215306,231866,207506,185586,258653,228906,219106,186173,167493,265333,172373,259333,249760,213173,273333,262533,151640,311106,222453,193653,210066,229040,208493,203506,262466,275986,251240,268120,219413,232533,448573,246466,179120,223080,151973,223111,209800,212360,234026,247946,198567,150533,237053,311866,199853,237173,247066,221933,247413,214386,212280,209533,271600,152333,205613,255706,250666,253400,208106,252973,253706,253573,193893,202066,172866,276160,246600,166373,161920,333680,212400,216600,266840,215173,173040,273133,165120,238800,324906,292373,256426,242586,252040,203506,444333,182826,241293,238360,267413,219533,178613,254920,211080,212040,211520,223533,261026,269373,255413,204200,232946,238266,236080,192000,187733,194213,225373,293066,280026,199946,295933,227960,287480,240493,263920,235173,235693,261320,241133,206520,237760,275106,334666,280680,231400,179640,229413,253813,184400,232000,252120,249146,246053,216146,209800,238626,190013,196053,299333,148186,237506,189693,220226,267080,245520,240746,224400,157432,207920,321293,287906,245680,327880,221933,212106,338853,234360,221840,243013,190453,176453,250666,208106,210680,204093,202133,262240,188493,218400,236693,203440,177826,203493,284733,222826,313346,320893,244266,215160,270306,216317,205200,241960,190973,204733,302840,171226,244626,222440,267866,170480,259720,212360,207476,310573,240760,250453,314720,179946,249533,206413,223853,217826,242133,205160,242373,203346,207000,219920,213520,220053,206000,233466,222653,204040,250106,284186,175093,289000,278573,210506,234173,240426,273826,289133,237200,261640,195853,204640,236266,238506,192360,216333,178013,216026,284373,211000,221240,241933,216520,237120,242200,208066,256213,251440,188866,208306,276920,238000,226506,207200,268613,231173,267520,294573,338853,269613,177573,220426,227533,206333,127920,212106,248066,191000,223253,193386,297520,251440,212773,196520,196640,192573,222400,218400,312986,206480,249026,357706,202586,270306,255360,231573,221253,201213,299746,239986,198440,196413,249066,205733,252279,210973,215866,289746,248626,304840,252653,250453,249533,220626,193213,226706,221920,224693,195586,204200,256613,207120,203346,258760,281560,202066,241920,254533,321093,326186,231146,222066,241933,199186,211493,245173,241853,220734,263373,294573,206066,199693,210853,202613,235493,234653,215200,217036,216893,188000,196533,213986,208426,232466,192446,184573,201546,257560,320348,248133,274213,222920,251573,203093,307640,218106,163246,276560,220800,182306,234560,201946,263773,207653,217866,168213,213293,220640,157438,250600,268053,227320,242013,292706,231373,203960,269493,216200,212106,267000,192440,214240,237480,206460,220520,201586,172053,232506,199026,243053,180480,216933,237800,263173,226533,289359,207546,221253,233560,181826,208853,207613,210306,224093,271946,205200,187133,176613,208946,215746,189693,253906,288133,268320,227741,210680,211160,228346,216480,236440,293026,212306,212506,226000,288670,222773,196133,228093,201493,262146,227893,222091,234453,195105,201040,284866,243533,219973,195986,187626,219986,195466,219426,194840,281106,252306,188453,217666,229573,210266,210960,184573,232213,228453,215624,202266,199480,215693,195240,206776,263773,190786,243960,237946,274600,206080,278719,230746,242973,283733,248586,296146,222586,211253,197935,204760,230560,215226,197440,224333,241666,213337,299613,195373,238693,263173,225881,220706,235735,233666,237293,195613,186851,260253,200013,165908,222186,208133,239600,235986,223053,229413,227773,253306,303813,189109,239613,229303,192200,285240,282400,243920,213413,210720,320546,218840,200466,218013,240796,253746,202960,246587,230192,222773,240306,197577,285120,215226,193400,250626,227786,227280,226226,286480,199680,242680,219333,219546,215253,198800,224653,279026,222500,205640,313786,221075,329320,182333,199480,219493,211920,234693,185586,230253,233478,199906,248133,225146,219026,216160,210626,350120,212360,218190,204956,231173,209440,166866,192866,156773,203200,206413,237266,251266,223266,278719,227973,234093,232800,202533,212862,221493,171333,245040,231840,219720,197131,247906,201053,207333,229466,228026,256613,206666,195480,250080,227333,211880,244884,232946,199986,286253,214333,205933,234360,283706,210853,195973,255631,239215,200186,222213,240133,227080,222306,221946,181573,220946,247026,245186,289080,251626,205346,277386,219733,257720,214013,190185,263053,186813,247426,233478,235613,248413,283400,232146,166933,220779,244360,227906,201000,229506,279506,255053,258342,176117,177685,239894,247853,240400,221272,192693,210840,161123,227986,250188,206120,231986,230733,277687,223800,188013,214912,238746,157152,186826,193058,208316,177506,157293,219720,272394,292586,238120,240346,233786,247906,213708,231211,196664,234506,204285,259102,174853,226986,150400,212560,228878,238826,234040,174120,252106,214205,206373,223546,215720,247933,338413,200946,220682,214147,200106,209466,271426,221360,213666,353893,204360,484146,178560,266600,231240,241160,216013,250706,227880,238000,225066,235662,214080,232120,252866,227026,240706,326280,213826,208960,232720,215672,299960,199938,231013,172723,224840,216120,269560,223386,187920,203520,209423,209160,165440,247266,177685,189840,170625,227000,259934,211933,231906,184280,239573,193295,189399,266840,260240,212960,213733,204160,257386,194561,224506,216013,245866,206166,189720,183750,193058,193733,201626,208133,232893,251986,231211,214840,217800,238426,264946,224226,224293,228000,313684,219840,236133,243386,255093,199386,285596,198880,231000,175426,255631,193920,169866,228133,263890,227360,203466,202496,245466,219200,226600,235382,209866,188371,198306,267866,227833,217346,257200,245493,185200,226580,237626,189906,204280,323480,235493,213213,300840,244226,218227,185640,192670,217306,269946,222213,269666,281560,229525,205680,176561,252226,252534,227266,192560,214746,231826,242253,260173,211975,176658,247266,208330,200080,200106,190185,219043,212640,177560,231906,228360,177184,138842,202333,224573,219560,167065,166138,159693,230613,186146,220440,235653,229360,227073,219305,202213,192120,262693,215360,205745,270589,229080,207746,192190,185131,225226,203653,222093,238426,213506,257573,213427,238320,267066,217906,280757,196693,236133,213520,199314,195200,227480,223186,216320,221560,213053,241688,231000,199453,278987,193333,223973,284386,271640,205879,237792,206880,224258,227373,250285,213445,198293,176674,210580,238800,212424,218173,229813,200786,197266,211773,230333,255506,182666,206666,230453,173986,233720,244960,295502,246761,241874,224813,169773,219320,258266,200786,236001,196520,239853,251466,207272,208728,243490,195920,313546,189126,208373,196000,192846,217603,228361,213506,187957,195706,212106,197815,205946,222160,197933,240000,191600,226160,273802,223853,229080,219159,193253,214506,192190,235946,205593,217706,209425,199693,213427,183414,267066,244453,187973,237786,263786,195561,201493,195200,219146,216613,255889,225882,222813,214480,212946,203686,199453,220573,202149,205879,199133,234213,196613,185351,226738,228640,215413,198293,198774,225914,212424,233337,206493,210226,202661,251033,239280,210573,202221,198236,262521,194613,235826,232560,246240,160097,184516,263373,233712,221176,228200,201000,251088,216896,187146,214265,247160,263400,299960,243836,180933,204600,268866,234308,208120,231546,173600,233901,220306,203000,239000,189029,213946,291893,224030,190677,238586,182706,201240,177184,216408,245386,181812,198853,207629,204346,232549,177000,186112,211475,186026,200104,200186,212027,124055,211853,207680,268186,185946,209269,119133,343150,276333,220883,181614,174933,208186,194896,304041,199440,225520,197640,212000,223962,239626,226720,204173,220293,181672,214866,237733,144244,223413,242407,201256,193613,220454,217296,204502,298940,189466,245200,230226,210200,222040,201160,264011,188786,174600,269186,221506,222360,208733,181812,223503,225983,214254,220780,198973,218146,172800,268866,184560,239835,184732,202620,253390,135090,205920,183906,214846,232959,312820,189466,212500,177600,211440,200185,276147,222653,238614,179404,228373,417920,303076,172854,166605,188560,202804,157643,207629,193200,229670,175229,232186,204746,187521,197546,332300,170825,156600,184153,197993,215759,185863,201526,180822,203417,163216,245453,212120,121886,184720,223712,142273,194407,194680,176133,200853,231266,181263,221013,214289,196373,180493,190288,237240,217925,173153,186080,221653,173799,173720,196489,215064,190920,213993,200480,260000,186986,217288,190348,302146,181279,214466,226973,214253,217946,186231,131064,216631,197436,197946,235545,201707,210746,213400,221440,157066,194087,190799,178626,157560,202093,201660,157605,215733,217466,182160,169303,192470,176631,228759,193226,169353,189052,205803,152913,161746,312820,169813,202192,212500,179449,126446,131240,252906,200185,178480,113000,180522,149546,202333,189486,131213,256971,205426,114893,210367,166560,240050,288624,200106,301714,207038,195637,183527,190440,241293,187436,183290,214203,229184,189733,200889,196266,209438,186106,250533,183026,238200,213593,266086,229412,129264,163320,190537,193143,229773,177185,183000,157492,157202,190066,154447,177666,205653,199427,258800,174444,201787,225933,231266,206186,162582,136568,190946,181823,202204,240081,193837,188640,174960,181026,178426,200593,171029,215280],\"y0\":\" \",\"yaxis\":\"y\",\"type\":\"box\"}],                        {\"template\":{\"data\":{\"barpolar\":[{\"marker\":{\"line\":{\"color\":\"rgb(17,17,17)\",\"width\":0.5},\"pattern\":{\"fillmode\":\"overlay\",\"size\":10,\"solidity\":0.2}},\"type\":\"barpolar\"}],\"bar\":[{\"error_x\":{\"color\":\"#f2f5fa\"},\"error_y\":{\"color\":\"#f2f5fa\"},\"marker\":{\"line\":{\"color\":\"rgb(17,17,17)\",\"width\":0.5},\"pattern\":{\"fillmode\":\"overlay\",\"size\":10,\"solidity\":0.2}},\"type\":\"bar\"}],\"carpet\":[{\"aaxis\":{\"endlinecolor\":\"#A2B1C6\",\"gridcolor\":\"#506784\",\"linecolor\":\"#506784\",\"minorgridcolor\":\"#506784\",\"startlinecolor\":\"#A2B1C6\"},\"baxis\":{\"endlinecolor\":\"#A2B1C6\",\"gridcolor\":\"#506784\",\"linecolor\":\"#506784\",\"minorgridcolor\":\"#506784\",\"startlinecolor\":\"#A2B1C6\"},\"type\":\"carpet\"}],\"choropleth\":[{\"colorbar\":{\"outlinewidth\":0,\"ticks\":\"\"},\"type\":\"choropleth\"}],\"contourcarpet\":[{\"colorbar\":{\"outlinewidth\":0,\"ticks\":\"\"},\"type\":\"contourcarpet\"}],\"contour\":[{\"colorbar\":{\"outlinewidth\":0,\"ticks\":\"\"},\"colorscale\":[[0.0,\"#0d0887\"],[0.1111111111111111,\"#46039f\"],[0.2222222222222222,\"#7201a8\"],[0.3333333333333333,\"#9c179e\"],[0.4444444444444444,\"#bd3786\"],[0.5555555555555556,\"#d8576b\"],[0.6666666666666666,\"#ed7953\"],[0.7777777777777778,\"#fb9f3a\"],[0.8888888888888888,\"#fdca26\"],[1.0,\"#f0f921\"]],\"type\":\"contour\"}],\"heatmapgl\":[{\"colorbar\":{\"outlinewidth\":0,\"ticks\":\"\"},\"colorscale\":[[0.0,\"#0d0887\"],[0.1111111111111111,\"#46039f\"],[0.2222222222222222,\"#7201a8\"],[0.3333333333333333,\"#9c179e\"],[0.4444444444444444,\"#bd3786\"],[0.5555555555555556,\"#d8576b\"],[0.6666666666666666,\"#ed7953\"],[0.7777777777777778,\"#fb9f3a\"],[0.8888888888888888,\"#fdca26\"],[1.0,\"#f0f921\"]],\"type\":\"heatmapgl\"}],\"heatmap\":[{\"colorbar\":{\"outlinewidth\":0,\"ticks\":\"\"},\"colorscale\":[[0.0,\"#0d0887\"],[0.1111111111111111,\"#46039f\"],[0.2222222222222222,\"#7201a8\"],[0.3333333333333333,\"#9c179e\"],[0.4444444444444444,\"#bd3786\"],[0.5555555555555556,\"#d8576b\"],[0.6666666666666666,\"#ed7953\"],[0.7777777777777778,\"#fb9f3a\"],[0.8888888888888888,\"#fdca26\"],[1.0,\"#f0f921\"]],\"type\":\"heatmap\"}],\"histogram2dcontour\":[{\"colorbar\":{\"outlinewidth\":0,\"ticks\":\"\"},\"colorscale\":[[0.0,\"#0d0887\"],[0.1111111111111111,\"#46039f\"],[0.2222222222222222,\"#7201a8\"],[0.3333333333333333,\"#9c179e\"],[0.4444444444444444,\"#bd3786\"],[0.5555555555555556,\"#d8576b\"],[0.6666666666666666,\"#ed7953\"],[0.7777777777777778,\"#fb9f3a\"],[0.8888888888888888,\"#fdca26\"],[1.0,\"#f0f921\"]],\"type\":\"histogram2dcontour\"}],\"histogram2d\":[{\"colorbar\":{\"outlinewidth\":0,\"ticks\":\"\"},\"colorscale\":[[0.0,\"#0d0887\"],[0.1111111111111111,\"#46039f\"],[0.2222222222222222,\"#7201a8\"],[0.3333333333333333,\"#9c179e\"],[0.4444444444444444,\"#bd3786\"],[0.5555555555555556,\"#d8576b\"],[0.6666666666666666,\"#ed7953\"],[0.7777777777777778,\"#fb9f3a\"],[0.8888888888888888,\"#fdca26\"],[1.0,\"#f0f921\"]],\"type\":\"histogram2d\"}],\"histogram\":[{\"marker\":{\"pattern\":{\"fillmode\":\"overlay\",\"size\":10,\"solidity\":0.2}},\"type\":\"histogram\"}],\"mesh3d\":[{\"colorbar\":{\"outlinewidth\":0,\"ticks\":\"\"},\"type\":\"mesh3d\"}],\"parcoords\":[{\"line\":{\"colorbar\":{\"outlinewidth\":0,\"ticks\":\"\"}},\"type\":\"parcoords\"}],\"pie\":[{\"automargin\":true,\"type\":\"pie\"}],\"scatter3d\":[{\"line\":{\"colorbar\":{\"outlinewidth\":0,\"ticks\":\"\"}},\"marker\":{\"colorbar\":{\"outlinewidth\":0,\"ticks\":\"\"}},\"type\":\"scatter3d\"}],\"scattercarpet\":[{\"marker\":{\"colorbar\":{\"outlinewidth\":0,\"ticks\":\"\"}},\"type\":\"scattercarpet\"}],\"scattergeo\":[{\"marker\":{\"colorbar\":{\"outlinewidth\":0,\"ticks\":\"\"}},\"type\":\"scattergeo\"}],\"scattergl\":[{\"marker\":{\"line\":{\"color\":\"#283442\"}},\"type\":\"scattergl\"}],\"scattermapbox\":[{\"marker\":{\"colorbar\":{\"outlinewidth\":0,\"ticks\":\"\"}},\"type\":\"scattermapbox\"}],\"scatterpolargl\":[{\"marker\":{\"colorbar\":{\"outlinewidth\":0,\"ticks\":\"\"}},\"type\":\"scatterpolargl\"}],\"scatterpolar\":[{\"marker\":{\"colorbar\":{\"outlinewidth\":0,\"ticks\":\"\"}},\"type\":\"scatterpolar\"}],\"scatter\":[{\"marker\":{\"line\":{\"color\":\"#283442\"}},\"type\":\"scatter\"}],\"scatterternary\":[{\"marker\":{\"colorbar\":{\"outlinewidth\":0,\"ticks\":\"\"}},\"type\":\"scatterternary\"}],\"surface\":[{\"colorbar\":{\"outlinewidth\":0,\"ticks\":\"\"},\"colorscale\":[[0.0,\"#0d0887\"],[0.1111111111111111,\"#46039f\"],[0.2222222222222222,\"#7201a8\"],[0.3333333333333333,\"#9c179e\"],[0.4444444444444444,\"#bd3786\"],[0.5555555555555556,\"#d8576b\"],[0.6666666666666666,\"#ed7953\"],[0.7777777777777778,\"#fb9f3a\"],[0.8888888888888888,\"#fdca26\"],[1.0,\"#f0f921\"]],\"type\":\"surface\"}],\"table\":[{\"cells\":{\"fill\":{\"color\":\"#506784\"},\"line\":{\"color\":\"rgb(17,17,17)\"}},\"header\":{\"fill\":{\"color\":\"#2a3f5f\"},\"line\":{\"color\":\"rgb(17,17,17)\"}},\"type\":\"table\"}]},\"layout\":{\"annotationdefaults\":{\"arrowcolor\":\"#f2f5fa\",\"arrowhead\":0,\"arrowwidth\":1},\"autotypenumbers\":\"strict\",\"coloraxis\":{\"colorbar\":{\"outlinewidth\":0,\"ticks\":\"\"}},\"colorscale\":{\"diverging\":[[0,\"#8e0152\"],[0.1,\"#c51b7d\"],[0.2,\"#de77ae\"],[0.3,\"#f1b6da\"],[0.4,\"#fde0ef\"],[0.5,\"#f7f7f7\"],[0.6,\"#e6f5d0\"],[0.7,\"#b8e186\"],[0.8,\"#7fbc41\"],[0.9,\"#4d9221\"],[1,\"#276419\"]],\"sequential\":[[0.0,\"#0d0887\"],[0.1111111111111111,\"#46039f\"],[0.2222222222222222,\"#7201a8\"],[0.3333333333333333,\"#9c179e\"],[0.4444444444444444,\"#bd3786\"],[0.5555555555555556,\"#d8576b\"],[0.6666666666666666,\"#ed7953\"],[0.7777777777777778,\"#fb9f3a\"],[0.8888888888888888,\"#fdca26\"],[1.0,\"#f0f921\"]],\"sequentialminus\":[[0.0,\"#0d0887\"],[0.1111111111111111,\"#46039f\"],[0.2222222222222222,\"#7201a8\"],[0.3333333333333333,\"#9c179e\"],[0.4444444444444444,\"#bd3786\"],[0.5555555555555556,\"#d8576b\"],[0.6666666666666666,\"#ed7953\"],[0.7777777777777778,\"#fb9f3a\"],[0.8888888888888888,\"#fdca26\"],[1.0,\"#f0f921\"]]},\"colorway\":[\"#636efa\",\"#EF553B\",\"#00cc96\",\"#ab63fa\",\"#FFA15A\",\"#19d3f3\",\"#FF6692\",\"#B6E880\",\"#FF97FF\",\"#FECB52\"],\"font\":{\"color\":\"#f2f5fa\"},\"geo\":{\"bgcolor\":\"rgb(17,17,17)\",\"lakecolor\":\"rgb(17,17,17)\",\"landcolor\":\"rgb(17,17,17)\",\"showlakes\":true,\"showland\":true,\"subunitcolor\":\"#506784\"},\"hoverlabel\":{\"align\":\"left\"},\"hovermode\":\"closest\",\"mapbox\":{\"style\":\"dark\"},\"paper_bgcolor\":\"rgb(17,17,17)\",\"plot_bgcolor\":\"rgb(17,17,17)\",\"polar\":{\"angularaxis\":{\"gridcolor\":\"#506784\",\"linecolor\":\"#506784\",\"ticks\":\"\"},\"bgcolor\":\"rgb(17,17,17)\",\"radialaxis\":{\"gridcolor\":\"#506784\",\"linecolor\":\"#506784\",\"ticks\":\"\"}},\"scene\":{\"xaxis\":{\"backgroundcolor\":\"rgb(17,17,17)\",\"gridcolor\":\"#506784\",\"gridwidth\":2,\"linecolor\":\"#506784\",\"showbackground\":true,\"ticks\":\"\",\"zerolinecolor\":\"#C8D4E3\"},\"yaxis\":{\"backgroundcolor\":\"rgb(17,17,17)\",\"gridcolor\":\"#506784\",\"gridwidth\":2,\"linecolor\":\"#506784\",\"showbackground\":true,\"ticks\":\"\",\"zerolinecolor\":\"#C8D4E3\"},\"zaxis\":{\"backgroundcolor\":\"rgb(17,17,17)\",\"gridcolor\":\"#506784\",\"gridwidth\":2,\"linecolor\":\"#506784\",\"showbackground\":true,\"ticks\":\"\",\"zerolinecolor\":\"#C8D4E3\"}},\"shapedefaults\":{\"line\":{\"color\":\"#f2f5fa\"}},\"sliderdefaults\":{\"bgcolor\":\"#C8D4E3\",\"bordercolor\":\"rgb(17,17,17)\",\"borderwidth\":1,\"tickwidth\":0},\"ternary\":{\"aaxis\":{\"gridcolor\":\"#506784\",\"linecolor\":\"#506784\",\"ticks\":\"\"},\"baxis\":{\"gridcolor\":\"#506784\",\"linecolor\":\"#506784\",\"ticks\":\"\"},\"bgcolor\":\"rgb(17,17,17)\",\"caxis\":{\"gridcolor\":\"#506784\",\"linecolor\":\"#506784\",\"ticks\":\"\"}},\"title\":{\"x\":0.05},\"updatemenudefaults\":{\"bgcolor\":\"#506784\",\"borderwidth\":0},\"xaxis\":{\"automargin\":true,\"gridcolor\":\"#283442\",\"linecolor\":\"#506784\",\"ticks\":\"\",\"title\":{\"standoff\":15},\"zerolinecolor\":\"#283442\",\"zerolinewidth\":2},\"yaxis\":{\"automargin\":true,\"gridcolor\":\"#283442\",\"linecolor\":\"#506784\",\"ticks\":\"\",\"title\":{\"standoff\":15},\"zerolinecolor\":\"#283442\",\"zerolinewidth\":2}}},\"xaxis\":{\"anchor\":\"y\",\"domain\":[0.0,1.0],\"title\":{\"text\":\"variable\"}},\"yaxis\":{\"anchor\":\"x\",\"domain\":[0.0,1.0],\"title\":{\"text\":\"value\"}},\"legend\":{\"tracegroupgap\":0},\"title\":{\"text\":\"quartiles of the duration column\"},\"boxmode\":\"group\"},                        {\"responsive\": true}                    ).then(function(){\n",
       "                            \n",
       "var gd = document.getElementById('62875ae6-7535-47c8-9c32-92628b8b3d56');\n",
       "var x = new MutationObserver(function (mutations, observer) {{\n",
       "        var display = window.getComputedStyle(gd).display;\n",
       "        if (!display || display === 'none') {{\n",
       "            console.log([gd, 'removed!']);\n",
       "            Plotly.purge(gd);\n",
       "            observer.disconnect();\n",
       "        }}\n",
       "}});\n",
       "\n",
       "// Listen for the removal of the full notebook cells\n",
       "var notebookContainer = gd.closest('#notebook-container');\n",
       "if (notebookContainer) {{\n",
       "    x.observe(notebookContainer, {childList: true});\n",
       "}}\n",
       "\n",
       "// Listen for the clearing of the current output cell\n",
       "var outputEl = gd.closest('.output');\n",
       "if (outputEl) {{\n",
       "    x.observe(outputEl, {childList: true});\n",
       "}}\n",
       "\n",
       "                        })                };                });            </script>        </div>"
      ]
     },
     "metadata": {},
     "output_type": "display_data"
    }
   ],
   "source": [
    "fig = px.box(df['duration_ms'],\n",
    "             title='quartiles of the duration column',\n",
    "             template='plotly_dark'\n",
    "            )\n",
    "fig.show()"
   ]
  },
  {
   "cell_type": "markdown",
   "id": "7ff908d8",
   "metadata": {
    "papermill": {
     "duration": 0.007485,
     "end_time": "2024-02-01T16:39:40.694361",
     "exception": false,
     "start_time": "2024-02-01T16:39:40.686876",
     "status": "completed"
    },
    "tags": []
   },
   "source": [
    "### As we see there are outliers"
   ]
  },
  {
   "cell_type": "code",
   "execution_count": 11,
   "id": "9edf79d3",
   "metadata": {
    "execution": {
     "iopub.execute_input": "2024-02-01T16:39:40.712123Z",
     "iopub.status.busy": "2024-02-01T16:39:40.711736Z",
     "iopub.status.idle": "2024-02-01T16:39:40.858534Z",
     "shell.execute_reply": "2024-02-01T16:39:40.857389Z"
    },
    "papermill": {
     "duration": 0.15893,
     "end_time": "2024-02-01T16:39:40.860742",
     "exception": false,
     "start_time": "2024-02-01T16:39:40.701812",
     "status": "completed"
    },
    "tags": []
   },
   "outputs": [],
   "source": [
    "# Removing outliers\n",
    "q1 = df['duration_ms'].quantile(0.25)\n",
    "q3 = df['duration_ms'].quantile(0.75)\n",
    "iqr = q3 - q1\n",
    "top_range = q3 + iqr * 1.5\n",
    "bottom_range = q1 - iqr * 1.5\n",
    "for i in df.index:\n",
    "    if df.loc[i, 'duration_ms'] > top_range:\n",
    "        df.loc[i, 'duration_ms'] = top_range\n",
    "    if df.loc[i, 'duration_ms'] < bottom_range:\n",
    "        df.loc[i, 'duration_ms'] = bottom_range"
   ]
  },
  {
   "cell_type": "code",
   "execution_count": 12,
   "id": "f3e00b20",
   "metadata": {
    "execution": {
     "iopub.execute_input": "2024-02-01T16:39:40.878455Z",
     "iopub.status.busy": "2024-02-01T16:39:40.878112Z",
     "iopub.status.idle": "2024-02-01T16:39:40.932740Z",
     "shell.execute_reply": "2024-02-01T16:39:40.931783Z"
    },
    "papermill": {
     "duration": 0.066372,
     "end_time": "2024-02-01T16:39:40.935194",
     "exception": false,
     "start_time": "2024-02-01T16:39:40.868822",
     "status": "completed"
    },
    "tags": []
   },
   "outputs": [
    {
     "data": {
      "text/html": [
       "<div>                            <div id=\"17531692-cc5c-4450-960e-26393f0538b5\" class=\"plotly-graph-div\" style=\"height:525px; width:100%;\"></div>            <script type=\"text/javascript\">                require([\"plotly\"], function(Plotly) {                    window.PLOTLYENV=window.PLOTLYENV || {};                                    if (document.getElementById(\"17531692-cc5c-4450-960e-26393f0538b5\")) {                    Plotly.newPlot(                        \"17531692-cc5c-4450-960e-26393f0538b5\",                        [{\"alignmentgroup\":\"True\",\"hovertemplate\":\"variable=%{x}\\u003cbr\\u003evalue=%{y}\\u003cextra\\u003e\\u003c\\u002fextra\\u003e\",\"legendgroup\":\"\",\"marker\":{\"color\":\"#636efa\"},\"name\":\"\",\"notched\":false,\"offsetgroup\":\"\",\"orientation\":\"v\",\"showlegend\":false,\"x\":[\"duration_ms\",\"duration_ms\",\"duration_ms\",\"duration_ms\",\"duration_ms\",\"duration_ms\",\"duration_ms\",\"duration_ms\",\"duration_ms\",\"duration_ms\",\"duration_ms\",\"duration_ms\",\"duration_ms\",\"duration_ms\",\"duration_ms\",\"duration_ms\",\"duration_ms\",\"duration_ms\",\"duration_ms\",\"duration_ms\",\"duration_ms\",\"duration_ms\",\"duration_ms\",\"duration_ms\",\"duration_ms\",\"duration_ms\",\"duration_ms\",\"duration_ms\",\"duration_ms\",\"duration_ms\",\"duration_ms\",\"duration_ms\",\"duration_ms\",\"duration_ms\",\"duration_ms\",\"duration_ms\",\"duration_ms\",\"duration_ms\",\"duration_ms\",\"duration_ms\",\"duration_ms\",\"duration_ms\",\"duration_ms\",\"duration_ms\",\"duration_ms\",\"duration_ms\",\"duration_ms\",\"duration_ms\",\"duration_ms\",\"duration_ms\",\"duration_ms\",\"duration_ms\",\"duration_ms\",\"duration_ms\",\"duration_ms\",\"duration_ms\",\"duration_ms\",\"duration_ms\",\"duration_ms\",\"duration_ms\",\"duration_ms\",\"duration_ms\",\"duration_ms\",\"duration_ms\",\"duration_ms\",\"duration_ms\",\"duration_ms\",\"duration_ms\",\"duration_ms\",\"duration_ms\",\"duration_ms\",\"duration_ms\",\"duration_ms\",\"duration_ms\",\"duration_ms\",\"duration_ms\",\"duration_ms\",\"duration_ms\",\"duration_ms\",\"duration_ms\",\"duration_ms\",\"duration_ms\",\"duration_ms\",\"duration_ms\",\"duration_ms\",\"duration_ms\",\"duration_ms\",\"duration_ms\",\"duration_ms\",\"duration_ms\",\"duration_ms\",\"duration_ms\",\"duration_ms\",\"duration_ms\",\"duration_ms\",\"duration_ms\",\"duration_ms\",\"duration_ms\",\"duration_ms\",\"duration_ms\",\"duration_ms\",\"duration_ms\",\"duration_ms\",\"duration_ms\",\"duration_ms\",\"duration_ms\",\"duration_ms\",\"duration_ms\",\"duration_ms\",\"duration_ms\",\"duration_ms\",\"duration_ms\",\"duration_ms\",\"duration_ms\",\"duration_ms\",\"duration_ms\",\"duration_ms\",\"duration_ms\",\"duration_ms\",\"duration_ms\",\"duration_ms\",\"duration_ms\",\"duration_ms\",\"duration_ms\",\"duration_ms\",\"duration_ms\",\"duration_ms\",\"duration_ms\",\"duration_ms\",\"duration_ms\",\"duration_ms\",\"duration_ms\",\"duration_ms\",\"duration_ms\",\"duration_ms\",\"duration_ms\",\"duration_ms\",\"duration_ms\",\"duration_ms\",\"duration_ms\",\"duration_ms\",\"duration_ms\",\"duration_ms\",\"duration_ms\",\"duration_ms\",\"duration_ms\",\"duration_ms\",\"duration_ms\",\"duration_ms\",\"duration_ms\",\"duration_ms\",\"duration_ms\",\"duration_ms\",\"duration_ms\",\"duration_ms\",\"duration_ms\",\"duration_ms\",\"duration_ms\",\"duration_ms\",\"duration_ms\",\"duration_ms\",\"duration_ms\",\"duration_ms\",\"duration_ms\",\"duration_ms\",\"duration_ms\",\"duration_ms\",\"duration_ms\",\"duration_ms\",\"duration_ms\",\"duration_ms\",\"duration_ms\",\"duration_ms\",\"duration_ms\",\"duration_ms\",\"duration_ms\",\"duration_ms\",\"duration_ms\",\"duration_ms\",\"duration_ms\",\"duration_ms\",\"duration_ms\",\"duration_ms\",\"duration_ms\",\"duration_ms\",\"duration_ms\",\"duration_ms\",\"duration_ms\",\"duration_ms\",\"duration_ms\",\"duration_ms\",\"duration_ms\",\"duration_ms\",\"duration_ms\",\"duration_ms\",\"duration_ms\",\"duration_ms\",\"duration_ms\",\"duration_ms\",\"duration_ms\",\"duration_ms\",\"duration_ms\",\"duration_ms\",\"duration_ms\",\"duration_ms\",\"duration_ms\",\"duration_ms\",\"duration_ms\",\"duration_ms\",\"duration_ms\",\"duration_ms\",\"duration_ms\",\"duration_ms\",\"duration_ms\",\"duration_ms\",\"duration_ms\",\"duration_ms\",\"duration_ms\",\"duration_ms\",\"duration_ms\",\"duration_ms\",\"duration_ms\",\"duration_ms\",\"duration_ms\",\"duration_ms\",\"duration_ms\",\"duration_ms\",\"duration_ms\",\"duration_ms\",\"duration_ms\",\"duration_ms\",\"duration_ms\",\"duration_ms\",\"duration_ms\",\"duration_ms\",\"duration_ms\",\"duration_ms\",\"duration_ms\",\"duration_ms\",\"duration_ms\",\"duration_ms\",\"duration_ms\",\"duration_ms\",\"duration_ms\",\"duration_ms\",\"duration_ms\",\"duration_ms\",\"duration_ms\",\"duration_ms\",\"duration_ms\",\"duration_ms\",\"duration_ms\",\"duration_ms\",\"duration_ms\",\"duration_ms\",\"duration_ms\",\"duration_ms\",\"duration_ms\",\"duration_ms\",\"duration_ms\",\"duration_ms\",\"duration_ms\",\"duration_ms\",\"duration_ms\",\"duration_ms\",\"duration_ms\",\"duration_ms\",\"duration_ms\",\"duration_ms\",\"duration_ms\",\"duration_ms\",\"duration_ms\",\"duration_ms\",\"duration_ms\",\"duration_ms\",\"duration_ms\",\"duration_ms\",\"duration_ms\",\"duration_ms\",\"duration_ms\",\"duration_ms\",\"duration_ms\",\"duration_ms\",\"duration_ms\",\"duration_ms\",\"duration_ms\",\"duration_ms\",\"duration_ms\",\"duration_ms\",\"duration_ms\",\"duration_ms\",\"duration_ms\",\"duration_ms\",\"duration_ms\",\"duration_ms\",\"duration_ms\",\"duration_ms\",\"duration_ms\",\"duration_ms\",\"duration_ms\",\"duration_ms\",\"duration_ms\",\"duration_ms\",\"duration_ms\",\"duration_ms\",\"duration_ms\",\"duration_ms\",\"duration_ms\",\"duration_ms\",\"duration_ms\",\"duration_ms\",\"duration_ms\",\"duration_ms\",\"duration_ms\",\"duration_ms\",\"duration_ms\",\"duration_ms\",\"duration_ms\",\"duration_ms\",\"duration_ms\",\"duration_ms\",\"duration_ms\",\"duration_ms\",\"duration_ms\",\"duration_ms\",\"duration_ms\",\"duration_ms\",\"duration_ms\",\"duration_ms\",\"duration_ms\",\"duration_ms\",\"duration_ms\",\"duration_ms\",\"duration_ms\",\"duration_ms\",\"duration_ms\",\"duration_ms\",\"duration_ms\",\"duration_ms\",\"duration_ms\",\"duration_ms\",\"duration_ms\",\"duration_ms\",\"duration_ms\",\"duration_ms\",\"duration_ms\",\"duration_ms\",\"duration_ms\",\"duration_ms\",\"duration_ms\",\"duration_ms\",\"duration_ms\",\"duration_ms\",\"duration_ms\",\"duration_ms\",\"duration_ms\",\"duration_ms\",\"duration_ms\",\"duration_ms\",\"duration_ms\",\"duration_ms\",\"duration_ms\",\"duration_ms\",\"duration_ms\",\"duration_ms\",\"duration_ms\",\"duration_ms\",\"duration_ms\",\"duration_ms\",\"duration_ms\",\"duration_ms\",\"duration_ms\",\"duration_ms\",\"duration_ms\",\"duration_ms\",\"duration_ms\",\"duration_ms\",\"duration_ms\",\"duration_ms\",\"duration_ms\",\"duration_ms\",\"duration_ms\",\"duration_ms\",\"duration_ms\",\"duration_ms\",\"duration_ms\",\"duration_ms\",\"duration_ms\",\"duration_ms\",\"duration_ms\",\"duration_ms\",\"duration_ms\",\"duration_ms\",\"duration_ms\",\"duration_ms\",\"duration_ms\",\"duration_ms\",\"duration_ms\",\"duration_ms\",\"duration_ms\",\"duration_ms\",\"duration_ms\",\"duration_ms\",\"duration_ms\",\"duration_ms\",\"duration_ms\",\"duration_ms\",\"duration_ms\",\"duration_ms\",\"duration_ms\",\"duration_ms\",\"duration_ms\",\"duration_ms\",\"duration_ms\",\"duration_ms\",\"duration_ms\",\"duration_ms\",\"duration_ms\",\"duration_ms\",\"duration_ms\",\"duration_ms\",\"duration_ms\",\"duration_ms\",\"duration_ms\",\"duration_ms\",\"duration_ms\",\"duration_ms\",\"duration_ms\",\"duration_ms\",\"duration_ms\",\"duration_ms\",\"duration_ms\",\"duration_ms\",\"duration_ms\",\"duration_ms\",\"duration_ms\",\"duration_ms\",\"duration_ms\",\"duration_ms\",\"duration_ms\",\"duration_ms\",\"duration_ms\",\"duration_ms\",\"duration_ms\",\"duration_ms\",\"duration_ms\",\"duration_ms\",\"duration_ms\",\"duration_ms\",\"duration_ms\",\"duration_ms\",\"duration_ms\",\"duration_ms\",\"duration_ms\",\"duration_ms\",\"duration_ms\",\"duration_ms\",\"duration_ms\",\"duration_ms\",\"duration_ms\",\"duration_ms\",\"duration_ms\",\"duration_ms\",\"duration_ms\",\"duration_ms\",\"duration_ms\",\"duration_ms\",\"duration_ms\",\"duration_ms\",\"duration_ms\",\"duration_ms\",\"duration_ms\",\"duration_ms\",\"duration_ms\",\"duration_ms\",\"duration_ms\",\"duration_ms\",\"duration_ms\",\"duration_ms\",\"duration_ms\",\"duration_ms\",\"duration_ms\",\"duration_ms\",\"duration_ms\",\"duration_ms\",\"duration_ms\",\"duration_ms\",\"duration_ms\",\"duration_ms\",\"duration_ms\",\"duration_ms\",\"duration_ms\",\"duration_ms\",\"duration_ms\",\"duration_ms\",\"duration_ms\",\"duration_ms\",\"duration_ms\",\"duration_ms\",\"duration_ms\",\"duration_ms\",\"duration_ms\",\"duration_ms\",\"duration_ms\",\"duration_ms\",\"duration_ms\",\"duration_ms\",\"duration_ms\",\"duration_ms\",\"duration_ms\",\"duration_ms\",\"duration_ms\",\"duration_ms\",\"duration_ms\",\"duration_ms\",\"duration_ms\",\"duration_ms\",\"duration_ms\",\"duration_ms\",\"duration_ms\",\"duration_ms\",\"duration_ms\",\"duration_ms\",\"duration_ms\",\"duration_ms\",\"duration_ms\",\"duration_ms\",\"duration_ms\",\"duration_ms\",\"duration_ms\",\"duration_ms\",\"duration_ms\",\"duration_ms\",\"duration_ms\",\"duration_ms\",\"duration_ms\",\"duration_ms\",\"duration_ms\",\"duration_ms\",\"duration_ms\",\"duration_ms\",\"duration_ms\",\"duration_ms\",\"duration_ms\",\"duration_ms\",\"duration_ms\",\"duration_ms\",\"duration_ms\",\"duration_ms\",\"duration_ms\",\"duration_ms\",\"duration_ms\",\"duration_ms\",\"duration_ms\",\"duration_ms\",\"duration_ms\",\"duration_ms\",\"duration_ms\",\"duration_ms\",\"duration_ms\",\"duration_ms\",\"duration_ms\",\"duration_ms\",\"duration_ms\",\"duration_ms\",\"duration_ms\",\"duration_ms\",\"duration_ms\",\"duration_ms\",\"duration_ms\",\"duration_ms\",\"duration_ms\",\"duration_ms\",\"duration_ms\",\"duration_ms\",\"duration_ms\",\"duration_ms\",\"duration_ms\",\"duration_ms\",\"duration_ms\",\"duration_ms\",\"duration_ms\",\"duration_ms\",\"duration_ms\",\"duration_ms\",\"duration_ms\",\"duration_ms\",\"duration_ms\",\"duration_ms\",\"duration_ms\",\"duration_ms\",\"duration_ms\",\"duration_ms\",\"duration_ms\",\"duration_ms\",\"duration_ms\",\"duration_ms\",\"duration_ms\",\"duration_ms\",\"duration_ms\",\"duration_ms\",\"duration_ms\",\"duration_ms\",\"duration_ms\",\"duration_ms\",\"duration_ms\",\"duration_ms\",\"duration_ms\",\"duration_ms\",\"duration_ms\",\"duration_ms\",\"duration_ms\",\"duration_ms\",\"duration_ms\",\"duration_ms\",\"duration_ms\",\"duration_ms\",\"duration_ms\",\"duration_ms\",\"duration_ms\",\"duration_ms\",\"duration_ms\",\"duration_ms\",\"duration_ms\",\"duration_ms\",\"duration_ms\",\"duration_ms\",\"duration_ms\",\"duration_ms\",\"duration_ms\",\"duration_ms\",\"duration_ms\",\"duration_ms\",\"duration_ms\",\"duration_ms\",\"duration_ms\",\"duration_ms\",\"duration_ms\",\"duration_ms\",\"duration_ms\",\"duration_ms\",\"duration_ms\",\"duration_ms\",\"duration_ms\",\"duration_ms\",\"duration_ms\",\"duration_ms\",\"duration_ms\",\"duration_ms\",\"duration_ms\",\"duration_ms\",\"duration_ms\",\"duration_ms\",\"duration_ms\",\"duration_ms\",\"duration_ms\",\"duration_ms\",\"duration_ms\",\"duration_ms\",\"duration_ms\",\"duration_ms\",\"duration_ms\",\"duration_ms\",\"duration_ms\",\"duration_ms\",\"duration_ms\",\"duration_ms\",\"duration_ms\",\"duration_ms\",\"duration_ms\",\"duration_ms\",\"duration_ms\",\"duration_ms\",\"duration_ms\",\"duration_ms\",\"duration_ms\",\"duration_ms\",\"duration_ms\",\"duration_ms\",\"duration_ms\",\"duration_ms\",\"duration_ms\",\"duration_ms\",\"duration_ms\",\"duration_ms\",\"duration_ms\",\"duration_ms\",\"duration_ms\",\"duration_ms\",\"duration_ms\",\"duration_ms\",\"duration_ms\",\"duration_ms\",\"duration_ms\",\"duration_ms\",\"duration_ms\",\"duration_ms\",\"duration_ms\",\"duration_ms\",\"duration_ms\",\"duration_ms\",\"duration_ms\",\"duration_ms\",\"duration_ms\",\"duration_ms\",\"duration_ms\",\"duration_ms\",\"duration_ms\",\"duration_ms\",\"duration_ms\",\"duration_ms\",\"duration_ms\",\"duration_ms\",\"duration_ms\",\"duration_ms\",\"duration_ms\",\"duration_ms\",\"duration_ms\",\"duration_ms\",\"duration_ms\",\"duration_ms\",\"duration_ms\",\"duration_ms\",\"duration_ms\",\"duration_ms\",\"duration_ms\",\"duration_ms\",\"duration_ms\",\"duration_ms\",\"duration_ms\",\"duration_ms\",\"duration_ms\",\"duration_ms\",\"duration_ms\",\"duration_ms\",\"duration_ms\",\"duration_ms\",\"duration_ms\",\"duration_ms\",\"duration_ms\",\"duration_ms\",\"duration_ms\",\"duration_ms\",\"duration_ms\",\"duration_ms\",\"duration_ms\",\"duration_ms\",\"duration_ms\",\"duration_ms\",\"duration_ms\",\"duration_ms\",\"duration_ms\",\"duration_ms\",\"duration_ms\",\"duration_ms\",\"duration_ms\",\"duration_ms\",\"duration_ms\",\"duration_ms\",\"duration_ms\",\"duration_ms\",\"duration_ms\",\"duration_ms\",\"duration_ms\",\"duration_ms\",\"duration_ms\",\"duration_ms\",\"duration_ms\",\"duration_ms\",\"duration_ms\",\"duration_ms\",\"duration_ms\",\"duration_ms\",\"duration_ms\",\"duration_ms\",\"duration_ms\",\"duration_ms\",\"duration_ms\",\"duration_ms\",\"duration_ms\",\"duration_ms\",\"duration_ms\",\"duration_ms\",\"duration_ms\",\"duration_ms\",\"duration_ms\",\"duration_ms\",\"duration_ms\",\"duration_ms\",\"duration_ms\",\"duration_ms\",\"duration_ms\",\"duration_ms\",\"duration_ms\",\"duration_ms\",\"duration_ms\",\"duration_ms\",\"duration_ms\",\"duration_ms\",\"duration_ms\",\"duration_ms\",\"duration_ms\",\"duration_ms\",\"duration_ms\",\"duration_ms\",\"duration_ms\",\"duration_ms\",\"duration_ms\",\"duration_ms\",\"duration_ms\",\"duration_ms\",\"duration_ms\",\"duration_ms\",\"duration_ms\",\"duration_ms\",\"duration_ms\",\"duration_ms\",\"duration_ms\",\"duration_ms\",\"duration_ms\",\"duration_ms\",\"duration_ms\",\"duration_ms\",\"duration_ms\",\"duration_ms\",\"duration_ms\",\"duration_ms\",\"duration_ms\",\"duration_ms\",\"duration_ms\",\"duration_ms\",\"duration_ms\",\"duration_ms\",\"duration_ms\",\"duration_ms\",\"duration_ms\",\"duration_ms\",\"duration_ms\",\"duration_ms\",\"duration_ms\",\"duration_ms\",\"duration_ms\",\"duration_ms\",\"duration_ms\",\"duration_ms\",\"duration_ms\",\"duration_ms\",\"duration_ms\",\"duration_ms\",\"duration_ms\",\"duration_ms\",\"duration_ms\",\"duration_ms\",\"duration_ms\",\"duration_ms\",\"duration_ms\",\"duration_ms\",\"duration_ms\",\"duration_ms\",\"duration_ms\",\"duration_ms\",\"duration_ms\",\"duration_ms\",\"duration_ms\",\"duration_ms\",\"duration_ms\",\"duration_ms\",\"duration_ms\",\"duration_ms\",\"duration_ms\",\"duration_ms\",\"duration_ms\",\"duration_ms\",\"duration_ms\",\"duration_ms\",\"duration_ms\",\"duration_ms\",\"duration_ms\",\"duration_ms\",\"duration_ms\",\"duration_ms\",\"duration_ms\",\"duration_ms\",\"duration_ms\",\"duration_ms\",\"duration_ms\",\"duration_ms\",\"duration_ms\",\"duration_ms\",\"duration_ms\",\"duration_ms\",\"duration_ms\",\"duration_ms\",\"duration_ms\",\"duration_ms\",\"duration_ms\",\"duration_ms\",\"duration_ms\",\"duration_ms\",\"duration_ms\",\"duration_ms\",\"duration_ms\",\"duration_ms\",\"duration_ms\",\"duration_ms\",\"duration_ms\",\"duration_ms\",\"duration_ms\",\"duration_ms\",\"duration_ms\",\"duration_ms\",\"duration_ms\",\"duration_ms\",\"duration_ms\",\"duration_ms\",\"duration_ms\",\"duration_ms\",\"duration_ms\",\"duration_ms\",\"duration_ms\",\"duration_ms\",\"duration_ms\",\"duration_ms\",\"duration_ms\",\"duration_ms\",\"duration_ms\",\"duration_ms\",\"duration_ms\",\"duration_ms\",\"duration_ms\",\"duration_ms\",\"duration_ms\",\"duration_ms\",\"duration_ms\",\"duration_ms\",\"duration_ms\",\"duration_ms\",\"duration_ms\",\"duration_ms\",\"duration_ms\",\"duration_ms\",\"duration_ms\",\"duration_ms\",\"duration_ms\",\"duration_ms\",\"duration_ms\",\"duration_ms\",\"duration_ms\",\"duration_ms\",\"duration_ms\",\"duration_ms\",\"duration_ms\",\"duration_ms\",\"duration_ms\",\"duration_ms\",\"duration_ms\",\"duration_ms\",\"duration_ms\",\"duration_ms\",\"duration_ms\",\"duration_ms\",\"duration_ms\",\"duration_ms\",\"duration_ms\",\"duration_ms\",\"duration_ms\",\"duration_ms\",\"duration_ms\",\"duration_ms\",\"duration_ms\",\"duration_ms\",\"duration_ms\",\"duration_ms\",\"duration_ms\",\"duration_ms\",\"duration_ms\",\"duration_ms\",\"duration_ms\",\"duration_ms\",\"duration_ms\",\"duration_ms\",\"duration_ms\",\"duration_ms\",\"duration_ms\",\"duration_ms\",\"duration_ms\",\"duration_ms\",\"duration_ms\",\"duration_ms\",\"duration_ms\",\"duration_ms\",\"duration_ms\",\"duration_ms\",\"duration_ms\",\"duration_ms\",\"duration_ms\",\"duration_ms\",\"duration_ms\",\"duration_ms\",\"duration_ms\",\"duration_ms\",\"duration_ms\",\"duration_ms\",\"duration_ms\",\"duration_ms\",\"duration_ms\",\"duration_ms\",\"duration_ms\",\"duration_ms\",\"duration_ms\",\"duration_ms\",\"duration_ms\",\"duration_ms\",\"duration_ms\",\"duration_ms\",\"duration_ms\",\"duration_ms\",\"duration_ms\",\"duration_ms\",\"duration_ms\",\"duration_ms\",\"duration_ms\",\"duration_ms\",\"duration_ms\",\"duration_ms\",\"duration_ms\",\"duration_ms\",\"duration_ms\",\"duration_ms\",\"duration_ms\",\"duration_ms\",\"duration_ms\",\"duration_ms\",\"duration_ms\",\"duration_ms\",\"duration_ms\",\"duration_ms\",\"duration_ms\",\"duration_ms\",\"duration_ms\",\"duration_ms\",\"duration_ms\",\"duration_ms\",\"duration_ms\",\"duration_ms\",\"duration_ms\",\"duration_ms\",\"duration_ms\",\"duration_ms\",\"duration_ms\",\"duration_ms\",\"duration_ms\",\"duration_ms\",\"duration_ms\",\"duration_ms\",\"duration_ms\",\"duration_ms\",\"duration_ms\",\"duration_ms\",\"duration_ms\",\"duration_ms\",\"duration_ms\",\"duration_ms\",\"duration_ms\",\"duration_ms\",\"duration_ms\",\"duration_ms\",\"duration_ms\",\"duration_ms\",\"duration_ms\",\"duration_ms\",\"duration_ms\",\"duration_ms\",\"duration_ms\",\"duration_ms\",\"duration_ms\",\"duration_ms\",\"duration_ms\",\"duration_ms\",\"duration_ms\",\"duration_ms\",\"duration_ms\",\"duration_ms\",\"duration_ms\",\"duration_ms\",\"duration_ms\",\"duration_ms\",\"duration_ms\",\"duration_ms\",\"duration_ms\",\"duration_ms\",\"duration_ms\",\"duration_ms\",\"duration_ms\",\"duration_ms\",\"duration_ms\",\"duration_ms\",\"duration_ms\",\"duration_ms\",\"duration_ms\",\"duration_ms\",\"duration_ms\",\"duration_ms\",\"duration_ms\",\"duration_ms\",\"duration_ms\",\"duration_ms\",\"duration_ms\",\"duration_ms\",\"duration_ms\",\"duration_ms\",\"duration_ms\",\"duration_ms\",\"duration_ms\",\"duration_ms\",\"duration_ms\",\"duration_ms\",\"duration_ms\",\"duration_ms\",\"duration_ms\",\"duration_ms\",\"duration_ms\",\"duration_ms\",\"duration_ms\",\"duration_ms\",\"duration_ms\",\"duration_ms\",\"duration_ms\",\"duration_ms\",\"duration_ms\",\"duration_ms\",\"duration_ms\",\"duration_ms\",\"duration_ms\",\"duration_ms\",\"duration_ms\",\"duration_ms\",\"duration_ms\",\"duration_ms\",\"duration_ms\",\"duration_ms\",\"duration_ms\",\"duration_ms\",\"duration_ms\",\"duration_ms\",\"duration_ms\",\"duration_ms\",\"duration_ms\",\"duration_ms\",\"duration_ms\",\"duration_ms\",\"duration_ms\",\"duration_ms\",\"duration_ms\",\"duration_ms\",\"duration_ms\",\"duration_ms\",\"duration_ms\",\"duration_ms\",\"duration_ms\",\"duration_ms\",\"duration_ms\",\"duration_ms\",\"duration_ms\",\"duration_ms\",\"duration_ms\",\"duration_ms\",\"duration_ms\",\"duration_ms\",\"duration_ms\",\"duration_ms\",\"duration_ms\",\"duration_ms\",\"duration_ms\",\"duration_ms\",\"duration_ms\",\"duration_ms\",\"duration_ms\",\"duration_ms\",\"duration_ms\",\"duration_ms\",\"duration_ms\",\"duration_ms\",\"duration_ms\",\"duration_ms\",\"duration_ms\",\"duration_ms\",\"duration_ms\",\"duration_ms\",\"duration_ms\",\"duration_ms\",\"duration_ms\",\"duration_ms\",\"duration_ms\",\"duration_ms\",\"duration_ms\",\"duration_ms\",\"duration_ms\",\"duration_ms\",\"duration_ms\",\"duration_ms\",\"duration_ms\",\"duration_ms\",\"duration_ms\",\"duration_ms\",\"duration_ms\",\"duration_ms\",\"duration_ms\",\"duration_ms\",\"duration_ms\",\"duration_ms\",\"duration_ms\",\"duration_ms\",\"duration_ms\",\"duration_ms\",\"duration_ms\",\"duration_ms\",\"duration_ms\",\"duration_ms\",\"duration_ms\",\"duration_ms\",\"duration_ms\",\"duration_ms\",\"duration_ms\",\"duration_ms\",\"duration_ms\",\"duration_ms\",\"duration_ms\",\"duration_ms\",\"duration_ms\",\"duration_ms\",\"duration_ms\",\"duration_ms\",\"duration_ms\",\"duration_ms\",\"duration_ms\",\"duration_ms\",\"duration_ms\",\"duration_ms\",\"duration_ms\",\"duration_ms\",\"duration_ms\",\"duration_ms\",\"duration_ms\",\"duration_ms\",\"duration_ms\",\"duration_ms\",\"duration_ms\",\"duration_ms\",\"duration_ms\",\"duration_ms\",\"duration_ms\",\"duration_ms\",\"duration_ms\",\"duration_ms\",\"duration_ms\",\"duration_ms\",\"duration_ms\",\"duration_ms\",\"duration_ms\",\"duration_ms\",\"duration_ms\",\"duration_ms\",\"duration_ms\",\"duration_ms\",\"duration_ms\",\"duration_ms\",\"duration_ms\",\"duration_ms\",\"duration_ms\",\"duration_ms\",\"duration_ms\",\"duration_ms\",\"duration_ms\",\"duration_ms\",\"duration_ms\",\"duration_ms\",\"duration_ms\",\"duration_ms\",\"duration_ms\",\"duration_ms\",\"duration_ms\",\"duration_ms\",\"duration_ms\",\"duration_ms\",\"duration_ms\",\"duration_ms\",\"duration_ms\",\"duration_ms\",\"duration_ms\",\"duration_ms\",\"duration_ms\",\"duration_ms\",\"duration_ms\",\"duration_ms\",\"duration_ms\",\"duration_ms\",\"duration_ms\",\"duration_ms\",\"duration_ms\",\"duration_ms\",\"duration_ms\",\"duration_ms\",\"duration_ms\",\"duration_ms\",\"duration_ms\",\"duration_ms\",\"duration_ms\",\"duration_ms\",\"duration_ms\",\"duration_ms\",\"duration_ms\",\"duration_ms\",\"duration_ms\",\"duration_ms\",\"duration_ms\",\"duration_ms\",\"duration_ms\",\"duration_ms\",\"duration_ms\",\"duration_ms\",\"duration_ms\",\"duration_ms\",\"duration_ms\",\"duration_ms\",\"duration_ms\",\"duration_ms\",\"duration_ms\",\"duration_ms\",\"duration_ms\",\"duration_ms\",\"duration_ms\",\"duration_ms\",\"duration_ms\",\"duration_ms\",\"duration_ms\",\"duration_ms\",\"duration_ms\",\"duration_ms\",\"duration_ms\",\"duration_ms\",\"duration_ms\",\"duration_ms\",\"duration_ms\",\"duration_ms\",\"duration_ms\",\"duration_ms\",\"duration_ms\",\"duration_ms\",\"duration_ms\",\"duration_ms\",\"duration_ms\",\"duration_ms\",\"duration_ms\",\"duration_ms\",\"duration_ms\",\"duration_ms\",\"duration_ms\",\"duration_ms\",\"duration_ms\",\"duration_ms\",\"duration_ms\",\"duration_ms\",\"duration_ms\",\"duration_ms\",\"duration_ms\",\"duration_ms\",\"duration_ms\",\"duration_ms\",\"duration_ms\",\"duration_ms\",\"duration_ms\",\"duration_ms\",\"duration_ms\",\"duration_ms\",\"duration_ms\",\"duration_ms\",\"duration_ms\",\"duration_ms\",\"duration_ms\",\"duration_ms\",\"duration_ms\",\"duration_ms\",\"duration_ms\",\"duration_ms\",\"duration_ms\",\"duration_ms\",\"duration_ms\",\"duration_ms\",\"duration_ms\",\"duration_ms\",\"duration_ms\",\"duration_ms\",\"duration_ms\",\"duration_ms\",\"duration_ms\",\"duration_ms\",\"duration_ms\",\"duration_ms\",\"duration_ms\",\"duration_ms\",\"duration_ms\",\"duration_ms\",\"duration_ms\",\"duration_ms\",\"duration_ms\",\"duration_ms\",\"duration_ms\",\"duration_ms\",\"duration_ms\",\"duration_ms\",\"duration_ms\",\"duration_ms\",\"duration_ms\",\"duration_ms\",\"duration_ms\",\"duration_ms\",\"duration_ms\",\"duration_ms\",\"duration_ms\",\"duration_ms\",\"duration_ms\",\"duration_ms\",\"duration_ms\",\"duration_ms\",\"duration_ms\",\"duration_ms\",\"duration_ms\",\"duration_ms\",\"duration_ms\",\"duration_ms\",\"duration_ms\",\"duration_ms\",\"duration_ms\",\"duration_ms\",\"duration_ms\",\"duration_ms\",\"duration_ms\",\"duration_ms\",\"duration_ms\",\"duration_ms\",\"duration_ms\",\"duration_ms\",\"duration_ms\",\"duration_ms\",\"duration_ms\",\"duration_ms\",\"duration_ms\",\"duration_ms\",\"duration_ms\",\"duration_ms\",\"duration_ms\",\"duration_ms\",\"duration_ms\",\"duration_ms\",\"duration_ms\",\"duration_ms\",\"duration_ms\",\"duration_ms\",\"duration_ms\",\"duration_ms\",\"duration_ms\",\"duration_ms\",\"duration_ms\",\"duration_ms\",\"duration_ms\",\"duration_ms\",\"duration_ms\",\"duration_ms\",\"duration_ms\",\"duration_ms\",\"duration_ms\",\"duration_ms\",\"duration_ms\",\"duration_ms\",\"duration_ms\",\"duration_ms\",\"duration_ms\",\"duration_ms\",\"duration_ms\",\"duration_ms\",\"duration_ms\",\"duration_ms\",\"duration_ms\",\"duration_ms\",\"duration_ms\",\"duration_ms\",\"duration_ms\",\"duration_ms\",\"duration_ms\",\"duration_ms\",\"duration_ms\",\"duration_ms\",\"duration_ms\",\"duration_ms\",\"duration_ms\",\"duration_ms\",\"duration_ms\",\"duration_ms\",\"duration_ms\",\"duration_ms\",\"duration_ms\",\"duration_ms\",\"duration_ms\",\"duration_ms\",\"duration_ms\",\"duration_ms\",\"duration_ms\",\"duration_ms\",\"duration_ms\",\"duration_ms\",\"duration_ms\",\"duration_ms\",\"duration_ms\",\"duration_ms\",\"duration_ms\",\"duration_ms\",\"duration_ms\",\"duration_ms\",\"duration_ms\",\"duration_ms\",\"duration_ms\",\"duration_ms\",\"duration_ms\",\"duration_ms\",\"duration_ms\",\"duration_ms\",\"duration_ms\",\"duration_ms\",\"duration_ms\",\"duration_ms\",\"duration_ms\",\"duration_ms\",\"duration_ms\",\"duration_ms\",\"duration_ms\",\"duration_ms\",\"duration_ms\",\"duration_ms\",\"duration_ms\",\"duration_ms\",\"duration_ms\",\"duration_ms\",\"duration_ms\",\"duration_ms\",\"duration_ms\",\"duration_ms\",\"duration_ms\",\"duration_ms\",\"duration_ms\",\"duration_ms\",\"duration_ms\",\"duration_ms\",\"duration_ms\",\"duration_ms\",\"duration_ms\",\"duration_ms\",\"duration_ms\",\"duration_ms\",\"duration_ms\",\"duration_ms\",\"duration_ms\",\"duration_ms\",\"duration_ms\",\"duration_ms\",\"duration_ms\",\"duration_ms\",\"duration_ms\",\"duration_ms\",\"duration_ms\",\"duration_ms\",\"duration_ms\",\"duration_ms\",\"duration_ms\",\"duration_ms\",\"duration_ms\",\"duration_ms\",\"duration_ms\",\"duration_ms\",\"duration_ms\",\"duration_ms\",\"duration_ms\",\"duration_ms\",\"duration_ms\",\"duration_ms\",\"duration_ms\",\"duration_ms\",\"duration_ms\",\"duration_ms\",\"duration_ms\",\"duration_ms\",\"duration_ms\",\"duration_ms\",\"duration_ms\",\"duration_ms\",\"duration_ms\",\"duration_ms\",\"duration_ms\",\"duration_ms\",\"duration_ms\",\"duration_ms\",\"duration_ms\",\"duration_ms\",\"duration_ms\",\"duration_ms\",\"duration_ms\",\"duration_ms\",\"duration_ms\",\"duration_ms\",\"duration_ms\",\"duration_ms\",\"duration_ms\",\"duration_ms\",\"duration_ms\",\"duration_ms\",\"duration_ms\",\"duration_ms\",\"duration_ms\",\"duration_ms\",\"duration_ms\",\"duration_ms\",\"duration_ms\",\"duration_ms\",\"duration_ms\",\"duration_ms\",\"duration_ms\",\"duration_ms\",\"duration_ms\",\"duration_ms\",\"duration_ms\",\"duration_ms\",\"duration_ms\",\"duration_ms\",\"duration_ms\",\"duration_ms\",\"duration_ms\",\"duration_ms\",\"duration_ms\",\"duration_ms\",\"duration_ms\",\"duration_ms\",\"duration_ms\",\"duration_ms\",\"duration_ms\",\"duration_ms\",\"duration_ms\",\"duration_ms\",\"duration_ms\",\"duration_ms\",\"duration_ms\",\"duration_ms\",\"duration_ms\",\"duration_ms\",\"duration_ms\",\"duration_ms\",\"duration_ms\",\"duration_ms\",\"duration_ms\",\"duration_ms\",\"duration_ms\",\"duration_ms\",\"duration_ms\",\"duration_ms\",\"duration_ms\",\"duration_ms\",\"duration_ms\",\"duration_ms\",\"duration_ms\",\"duration_ms\",\"duration_ms\",\"duration_ms\",\"duration_ms\",\"duration_ms\",\"duration_ms\",\"duration_ms\",\"duration_ms\",\"duration_ms\",\"duration_ms\",\"duration_ms\",\"duration_ms\",\"duration_ms\",\"duration_ms\",\"duration_ms\",\"duration_ms\",\"duration_ms\",\"duration_ms\",\"duration_ms\",\"duration_ms\",\"duration_ms\",\"duration_ms\",\"duration_ms\",\"duration_ms\",\"duration_ms\",\"duration_ms\",\"duration_ms\",\"duration_ms\",\"duration_ms\",\"duration_ms\",\"duration_ms\",\"duration_ms\",\"duration_ms\",\"duration_ms\",\"duration_ms\",\"duration_ms\",\"duration_ms\",\"duration_ms\",\"duration_ms\",\"duration_ms\",\"duration_ms\",\"duration_ms\",\"duration_ms\",\"duration_ms\",\"duration_ms\",\"duration_ms\",\"duration_ms\",\"duration_ms\",\"duration_ms\",\"duration_ms\",\"duration_ms\",\"duration_ms\",\"duration_ms\",\"duration_ms\",\"duration_ms\",\"duration_ms\",\"duration_ms\",\"duration_ms\",\"duration_ms\",\"duration_ms\",\"duration_ms\",\"duration_ms\",\"duration_ms\",\"duration_ms\",\"duration_ms\",\"duration_ms\",\"duration_ms\",\"duration_ms\",\"duration_ms\",\"duration_ms\",\"duration_ms\",\"duration_ms\",\"duration_ms\",\"duration_ms\",\"duration_ms\",\"duration_ms\",\"duration_ms\",\"duration_ms\",\"duration_ms\",\"duration_ms\",\"duration_ms\",\"duration_ms\",\"duration_ms\",\"duration_ms\",\"duration_ms\",\"duration_ms\",\"duration_ms\",\"duration_ms\",\"duration_ms\",\"duration_ms\",\"duration_ms\",\"duration_ms\",\"duration_ms\",\"duration_ms\",\"duration_ms\",\"duration_ms\",\"duration_ms\",\"duration_ms\",\"duration_ms\",\"duration_ms\",\"duration_ms\",\"duration_ms\",\"duration_ms\",\"duration_ms\",\"duration_ms\",\"duration_ms\",\"duration_ms\",\"duration_ms\",\"duration_ms\",\"duration_ms\",\"duration_ms\",\"duration_ms\",\"duration_ms\",\"duration_ms\",\"duration_ms\",\"duration_ms\",\"duration_ms\",\"duration_ms\",\"duration_ms\",\"duration_ms\",\"duration_ms\",\"duration_ms\",\"duration_ms\",\"duration_ms\",\"duration_ms\",\"duration_ms\",\"duration_ms\",\"duration_ms\",\"duration_ms\",\"duration_ms\",\"duration_ms\",\"duration_ms\",\"duration_ms\",\"duration_ms\",\"duration_ms\",\"duration_ms\",\"duration_ms\",\"duration_ms\",\"duration_ms\",\"duration_ms\",\"duration_ms\",\"duration_ms\",\"duration_ms\",\"duration_ms\",\"duration_ms\",\"duration_ms\",\"duration_ms\",\"duration_ms\",\"duration_ms\",\"duration_ms\",\"duration_ms\",\"duration_ms\",\"duration_ms\",\"duration_ms\",\"duration_ms\",\"duration_ms\",\"duration_ms\",\"duration_ms\",\"duration_ms\",\"duration_ms\",\"duration_ms\",\"duration_ms\",\"duration_ms\",\"duration_ms\",\"duration_ms\",\"duration_ms\",\"duration_ms\",\"duration_ms\",\"duration_ms\",\"duration_ms\",\"duration_ms\",\"duration_ms\",\"duration_ms\",\"duration_ms\",\"duration_ms\",\"duration_ms\",\"duration_ms\",\"duration_ms\",\"duration_ms\",\"duration_ms\",\"duration_ms\",\"duration_ms\",\"duration_ms\",\"duration_ms\",\"duration_ms\",\"duration_ms\",\"duration_ms\",\"duration_ms\",\"duration_ms\",\"duration_ms\",\"duration_ms\",\"duration_ms\",\"duration_ms\",\"duration_ms\",\"duration_ms\",\"duration_ms\",\"duration_ms\",\"duration_ms\",\"duration_ms\",\"duration_ms\",\"duration_ms\",\"duration_ms\",\"duration_ms\",\"duration_ms\",\"duration_ms\",\"duration_ms\",\"duration_ms\",\"duration_ms\",\"duration_ms\",\"duration_ms\",\"duration_ms\",\"duration_ms\",\"duration_ms\",\"duration_ms\",\"duration_ms\",\"duration_ms\",\"duration_ms\",\"duration_ms\",\"duration_ms\",\"duration_ms\",\"duration_ms\",\"duration_ms\",\"duration_ms\",\"duration_ms\",\"duration_ms\",\"duration_ms\",\"duration_ms\",\"duration_ms\",\"duration_ms\",\"duration_ms\",\"duration_ms\",\"duration_ms\",\"duration_ms\",\"duration_ms\",\"duration_ms\",\"duration_ms\",\"duration_ms\",\"duration_ms\",\"duration_ms\",\"duration_ms\",\"duration_ms\",\"duration_ms\",\"duration_ms\",\"duration_ms\",\"duration_ms\",\"duration_ms\",\"duration_ms\",\"duration_ms\",\"duration_ms\",\"duration_ms\",\"duration_ms\",\"duration_ms\",\"duration_ms\",\"duration_ms\",\"duration_ms\",\"duration_ms\",\"duration_ms\",\"duration_ms\",\"duration_ms\",\"duration_ms\",\"duration_ms\",\"duration_ms\",\"duration_ms\",\"duration_ms\",\"duration_ms\",\"duration_ms\",\"duration_ms\",\"duration_ms\",\"duration_ms\",\"duration_ms\",\"duration_ms\",\"duration_ms\",\"duration_ms\",\"duration_ms\",\"duration_ms\",\"duration_ms\",\"duration_ms\",\"duration_ms\",\"duration_ms\",\"duration_ms\",\"duration_ms\",\"duration_ms\",\"duration_ms\",\"duration_ms\",\"duration_ms\",\"duration_ms\",\"duration_ms\",\"duration_ms\",\"duration_ms\",\"duration_ms\",\"duration_ms\",\"duration_ms\",\"duration_ms\",\"duration_ms\",\"duration_ms\",\"duration_ms\",\"duration_ms\",\"duration_ms\",\"duration_ms\",\"duration_ms\",\"duration_ms\",\"duration_ms\",\"duration_ms\",\"duration_ms\",\"duration_ms\",\"duration_ms\",\"duration_ms\",\"duration_ms\",\"duration_ms\",\"duration_ms\",\"duration_ms\",\"duration_ms\",\"duration_ms\",\"duration_ms\",\"duration_ms\",\"duration_ms\",\"duration_ms\",\"duration_ms\",\"duration_ms\",\"duration_ms\",\"duration_ms\",\"duration_ms\",\"duration_ms\",\"duration_ms\",\"duration_ms\",\"duration_ms\",\"duration_ms\",\"duration_ms\",\"duration_ms\",\"duration_ms\",\"duration_ms\",\"duration_ms\"],\"x0\":\" \",\"xaxis\":\"x\",\"y\":[211160.0,167066.0,250546.0,224493.0,200560.0,253733.0,284200.0,258560.0,271333.0,307153.0,238759.0,268863.0,306333.0,285960.0,294200.0,284000.0,245400.0,214883.0,285426.0,161506.0,216880.0,211893.0,240866.0,244466.0,314962.5,314962.5,225493.0,221160.0,314962.5,210786.0,268866.0,220106.0,225973.0,242560.0,243533.0,276266.0,207866.0,283066.0,229826.0,255600.0,219360.0,261933.0,175893.0,222293.0,215466.0,234960.0,201946.0,236906.0,198346.0,243666.0,265026.0,280626.0,244053.0,274226.0,227866.0,257360.0,198400.0,243733.0,215506.0,278666.0,219240.0,298960.0,199480.0,257200.0,273706.0,273533.0,255373.0,251040.0,235133.0,261973.0,243533.0,202800.0,214819.0,234826.0,228140.0,230200.0,241373.0,233933.0,226760.0,256973.0,236866.0,253626.0,281466.0,231760.0,268746.0,221133.0,191040.0,314962.5,314962.5,256133.0,219093.0,230093.0,274800.0,207506.0,296693.0,241666.0,203333.0,314962.5,206226.0,287000.0,227600.0,254026.0,314962.5,230640.0,264893.0,243160.0,196160.0,165853.0,259933.0,254640.0,250706.0,203600.0,197826.0,252986.0,265866.0,222435.0,213760.0,220973.0,253586.0,241000.0,264933.0,223546.0,194026.0,216733.0,314962.5,230133.0,246160.0,271626.0,223840.0,314962.5,270506.0,213346.0,229173.0,218360.0,213026.0,256240.0,211493.0,211120.0,252706.0,231213.0,314962.5,314962.5,266506.0,285386.0,314962.5,221226.0,295400.0,284666.0,193093.0,218626.0,213133.0,209266.0,223133.0,304506.0,210813.0,280973.0,207560.0,195506.0,232573.0,197760.0,233626.0,257200.0,276106.0,234400.0,207400.0,246720.0,201533.0,218546.0,222120.0,212973.0,207906.0,197360.0,295826.0,231666.0,162333.0,231166.0,314962.5,185013.0,257066.0,221133.0,217120.0,262133.0,304666.0,302826.0,302760.0,217493.0,300933.0,219093.0,291781.0,254400.0,228800.0,240626.0,196986.0,257426.0,262773.0,264706.0,263440.0,265533.0,292000.0,216360.0,289160.0,290320.0,244506.0,237493.0,208600.0,224066.0,302720.0,226440.0,314962.5,297786.0,285586.0,222546.0,276360.0,172240.0,244466.0,216880.0,213973.0,275026.0,204400.0,236426.0,200426.0,253200.0,200480.0,198600.0,234116.0,289373.0,230346.0,248933.0,207186.0,238600.0,259773.0,208449.0,239266.0,272293.0,222560.0,237800.0,207866.0,228240.0,227866.0,298853.0,223293.0,195866.0,314962.5,267093.0,237359.0,242586.0,287000.0,269000.0,254493.0,228000.0,267160.0,314962.5,238266.0,264653.0,233666.0,268800.0,201480.0,207040.0,265706.0,230013.0,283626.0,276373.0,206466.0,297840.0,262226.0,251280.0,192533.0,303333.0,161240.0,307879.0,263226.0,214306.0,314962.5,294600.0,245133.0,227386.0,204000.0,233600.0,231066.0,204706.0,216933.0,211506.0,206093.0,253600.0,170493.0,269400.0,269400.0,242000.0,238173.0,216760.0,296586.0,188693.0,268693.0,217680.0,257026.0,208626.0,303920.0,226680.0,295346.0,210693.0,193466.0,211666.0,314962.5,236133.0,225426.0,272533.0,187840.0,296186.0,214440.0,285570.0,314962.5,244666.0,238840.0,205560.0,249480.0,215480.0,162600.0,217586.0,235893.0,218173.0,287226.0,231480.0,314962.5,282773.0,239026.0,245240.0,223773.0,210066.0,248546.0,267266.0,231920.0,298600.0,244826.0,314962.5,255266.0,207466.0,222400.0,297960.0,285569.0,199040.0,184906.0,221426.0,293666.0,212413.0,164506.0,269973.0,237693.0,219400.0,236506.0,250746.0,314962.5,234800.0,209533.0,224440.0,304000.0,234893.0,220360.0,201920.0,245960.0,245293.0,299146.0,268373.0,243306.0,214600.0,208386.0,213760.0,253720.0,260333.0,294693.0,288333.0,199320.0,226053.0,218760.0,281240.0,307879.0,249293.0,263226.0,209120.0,181826.0,293960.0,232506.0,245773.0,254466.0,242773.0,240040.0,267933.0,314400.0,223973.0,214773.0,278693.0,228706.0,234000.0,295773.0,201373.0,257026.0,190173.0,202013.0,219826.0,223066.0,214733.0,250373.0,206200.0,198800.0,235213.0,232800.0,257426.0,192600.0,217733.0,215431.0,247426.0,212266.0,221226.0,186306.0,257920.0,236520.0,208600.0,185586.0,187280.0,235066.0,298773.0,190493.0,257333.0,242013.0,171360.0,223000.0,206106.0,267320.0,205973.0,265826.0,213893.0,232000.0,239026.0,235186.0,245173.0,216706.0,212413.0,233600.0,214893.0,252440.0,223133.0,182626.0,196906.0,242746.0,197186.0,263506.0,248680.0,237693.0,266066.0,273360.0,207066.0,249533.0,282306.0,192106.0,276800.0,216706.0,222146.0,200973.0,233360.0,213786.0,230306.0,193520.0,237026.0,247106.0,265026.0,225173.0,193733.0,262533.0,314962.5,229080.0,226053.0,202013.0,314962.5,176346.0,224933.0,266040.0,284160.0,221226.0,185133.0,290760.0,242413.0,240040.0,225106.0,301133.0,238733.0,223506.0,226013.0,252466.0,223440.0,277840.0,171546.0,254266.0,248200.0,234000.0,205360.0,191826.0,296880.0,189506.0,217440.0,214733.0,314962.5,201400.0,256733.0,207626.0,246960.0,209106.0,209493.0,261266.0,272080.0,233640.0,238493.0,314962.5,237706.0,168879.0,265480.0,213066.0,236213.0,314962.5,230493.0,214226.0,235533.0,229866.0,203360.0,314962.5,256346.0,247506.0,219920.0,225533.0,205733.0,206400.0,222640.0,239773.0,235800.0,200053.0,218093.0,280013.0,250760.0,212893.0,244999.0,236813.0,276603.0,230133.0,283454.0,224253.0,226863.0,226640.0,229826.0,258666.0,239586.0,237733.0,233400.0,266066.0,211320.0,314962.5,202213.0,238746.0,270746.0,215000.0,222653.0,199853.0,240040.0,231533.0,256000.0,238053.0,243986.0,197160.0,260600.0,233866.0,179160.0,197666.0,205840.0,217706.0,198973.0,219000.0,241066.0,314962.5,208199.0,173680.0,219600.0,248493.0,233186.0,224640.0,219493.0,243053.0,258920.0,231040.0,245400.0,207506.0,204173.0,297426.0,296880.0,253933.0,287906.0,201706.0,224146.0,188960.0,305080.0,193653.0,227840.0,189333.0,255626.0,218093.0,218573.0,242733.0,227853.0,214946.0,238920.0,177466.0,214960.0,258893.0,245466.0,276786.0,281880.0,303053.0,213066.0,242293.0,150533.0,243880.0,225560.0,261880.0,274440.0,226293.0,212439.0,186826.0,209666.0,192213.0,202720.0,229360.0,274386.0,190000.0,286186.0,241840.0,223066.0,276160.0,219320.0,271160.0,202066.0,241306.0,199120.0,224253.0,233973.0,240280.0,197173.0,281320.0,273973.0,207613.0,189800.0,246333.0,201590.0,226973.0,236600.0,229813.0,214706.0,234133.0,238173.0,180266.0,257293.0,274333.0,230613.0,244613.0,207586.0,202133.0,276773.0,211186.0,255333.0,196893.0,220853.0,223680.0,260466.0,252653.0,256946.0,214106.0,282160.0,288360.0,207186.0,261053.0,215266.0,215306.0,231866.0,207506.0,185586.0,258653.0,228906.0,219106.0,186173.0,167493.0,265333.0,172373.0,259333.0,249760.0,213173.0,273333.0,262533.0,151640.0,311106.0,222453.0,193653.0,210066.0,229040.0,208493.0,203506.0,262466.0,275986.0,251240.0,268120.0,219413.0,232533.0,314962.5,246466.0,179120.0,223080.0,151973.0,223111.0,209800.0,212360.0,234026.0,247946.0,198567.0,150533.0,237053.0,311866.0,199853.0,237173.0,247066.0,221933.0,247413.0,214386.0,212280.0,209533.0,271600.0,152333.0,205613.0,255706.0,250666.0,253400.0,208106.0,252973.0,253706.0,253573.0,193893.0,202066.0,172866.0,276160.0,246600.0,166373.0,161920.0,314962.5,212400.0,216600.0,266840.0,215173.0,173040.0,273133.0,165120.0,238800.0,314962.5,292373.0,256426.0,242586.0,252040.0,203506.0,314962.5,182826.0,241293.0,238360.0,267413.0,219533.0,178613.0,254920.0,211080.0,212040.0,211520.0,223533.0,261026.0,269373.0,255413.0,204200.0,232946.0,238266.0,236080.0,192000.0,187733.0,194213.0,225373.0,293066.0,280026.0,199946.0,295933.0,227960.0,287480.0,240493.0,263920.0,235173.0,235693.0,261320.0,241133.0,206520.0,237760.0,275106.0,314962.5,280680.0,231400.0,179640.0,229413.0,253813.0,184400.0,232000.0,252120.0,249146.0,246053.0,216146.0,209800.0,238626.0,190013.0,196053.0,299333.0,148186.0,237506.0,189693.0,220226.0,267080.0,245520.0,240746.0,224400.0,157432.0,207920.0,314962.5,287906.0,245680.0,314962.5,221933.0,212106.0,314962.5,234360.0,221840.0,243013.0,190453.0,176453.0,250666.0,208106.0,210680.0,204093.0,202133.0,262240.0,188493.0,218400.0,236693.0,203440.0,177826.0,203493.0,284733.0,222826.0,313346.0,314962.5,244266.0,215160.0,270306.0,216317.0,205200.0,241960.0,190973.0,204733.0,302840.0,171226.0,244626.0,222440.0,267866.0,170480.0,259720.0,212360.0,207476.0,310573.0,240760.0,250453.0,314720.0,179946.0,249533.0,206413.0,223853.0,217826.0,242133.0,205160.0,242373.0,203346.0,207000.0,219920.0,213520.0,220053.0,206000.0,233466.0,222653.0,204040.0,250106.0,284186.0,175093.0,289000.0,278573.0,210506.0,234173.0,240426.0,273826.0,289133.0,237200.0,261640.0,195853.0,204640.0,236266.0,238506.0,192360.0,216333.0,178013.0,216026.0,284373.0,211000.0,221240.0,241933.0,216520.0,237120.0,242200.0,208066.0,256213.0,251440.0,188866.0,208306.0,276920.0,238000.0,226506.0,207200.0,268613.0,231173.0,267520.0,294573.0,314962.5,269613.0,177573.0,220426.0,227533.0,206333.0,136750.5,212106.0,248066.0,191000.0,223253.0,193386.0,297520.0,251440.0,212773.0,196520.0,196640.0,192573.0,222400.0,218400.0,312986.0,206480.0,249026.0,314962.5,202586.0,270306.0,255360.0,231573.0,221253.0,201213.0,299746.0,239986.0,198440.0,196413.0,249066.0,205733.0,252279.0,210973.0,215866.0,289746.0,248626.0,304840.0,252653.0,250453.0,249533.0,220626.0,193213.0,226706.0,221920.0,224693.0,195586.0,204200.0,256613.0,207120.0,203346.0,258760.0,281560.0,202066.0,241920.0,254533.0,314962.5,314962.5,231146.0,222066.0,241933.0,199186.0,211493.0,245173.0,241853.0,220734.0,263373.0,294573.0,206066.0,199693.0,210853.0,202613.0,235493.0,234653.0,215200.0,217036.0,216893.0,188000.0,196533.0,213986.0,208426.0,232466.0,192446.0,184573.0,201546.0,257560.0,314962.5,248133.0,274213.0,222920.0,251573.0,203093.0,307640.0,218106.0,163246.0,276560.0,220800.0,182306.0,234560.0,201946.0,263773.0,207653.0,217866.0,168213.0,213293.0,220640.0,157438.0,250600.0,268053.0,227320.0,242013.0,292706.0,231373.0,203960.0,269493.0,216200.0,212106.0,267000.0,192440.0,214240.0,237480.0,206460.0,220520.0,201586.0,172053.0,232506.0,199026.0,243053.0,180480.0,216933.0,237800.0,263173.0,226533.0,289359.0,207546.0,221253.0,233560.0,181826.0,208853.0,207613.0,210306.0,224093.0,271946.0,205200.0,187133.0,176613.0,208946.0,215746.0,189693.0,253906.0,288133.0,268320.0,227741.0,210680.0,211160.0,228346.0,216480.0,236440.0,293026.0,212306.0,212506.0,226000.0,288670.0,222773.0,196133.0,228093.0,201493.0,262146.0,227893.0,222091.0,234453.0,195105.0,201040.0,284866.0,243533.0,219973.0,195986.0,187626.0,219986.0,195466.0,219426.0,194840.0,281106.0,252306.0,188453.0,217666.0,229573.0,210266.0,210960.0,184573.0,232213.0,228453.0,215624.0,202266.0,199480.0,215693.0,195240.0,206776.0,263773.0,190786.0,243960.0,237946.0,274600.0,206080.0,278719.0,230746.0,242973.0,283733.0,248586.0,296146.0,222586.0,211253.0,197935.0,204760.0,230560.0,215226.0,197440.0,224333.0,241666.0,213337.0,299613.0,195373.0,238693.0,263173.0,225881.0,220706.0,235735.0,233666.0,237293.0,195613.0,186851.0,260253.0,200013.0,165908.0,222186.0,208133.0,239600.0,235986.0,223053.0,229413.0,227773.0,253306.0,303813.0,189109.0,239613.0,229303.0,192200.0,285240.0,282400.0,243920.0,213413.0,210720.0,314962.5,218840.0,200466.0,218013.0,240796.0,253746.0,202960.0,246587.0,230192.0,222773.0,240306.0,197577.0,285120.0,215226.0,193400.0,250626.0,227786.0,227280.0,226226.0,286480.0,199680.0,242680.0,219333.0,219546.0,215253.0,198800.0,224653.0,279026.0,222500.0,205640.0,313786.0,221075.0,314962.5,182333.0,199480.0,219493.0,211920.0,234693.0,185586.0,230253.0,233478.0,199906.0,248133.0,225146.0,219026.0,216160.0,210626.0,314962.5,212360.0,218190.0,204956.0,231173.0,209440.0,166866.0,192866.0,156773.0,203200.0,206413.0,237266.0,251266.0,223266.0,278719.0,227973.0,234093.0,232800.0,202533.0,212862.0,221493.0,171333.0,245040.0,231840.0,219720.0,197131.0,247906.0,201053.0,207333.0,229466.0,228026.0,256613.0,206666.0,195480.0,250080.0,227333.0,211880.0,244884.0,232946.0,199986.0,286253.0,214333.0,205933.0,234360.0,283706.0,210853.0,195973.0,255631.0,239215.0,200186.0,222213.0,240133.0,227080.0,222306.0,221946.0,181573.0,220946.0,247026.0,245186.0,289080.0,251626.0,205346.0,277386.0,219733.0,257720.0,214013.0,190185.0,263053.0,186813.0,247426.0,233478.0,235613.0,248413.0,283400.0,232146.0,166933.0,220779.0,244360.0,227906.0,201000.0,229506.0,279506.0,255053.0,258342.0,176117.0,177685.0,239894.0,247853.0,240400.0,221272.0,192693.0,210840.0,161123.0,227986.0,250188.0,206120.0,231986.0,230733.0,277687.0,223800.0,188013.0,214912.0,238746.0,157152.0,186826.0,193058.0,208316.0,177506.0,157293.0,219720.0,272394.0,292586.0,238120.0,240346.0,233786.0,247906.0,213708.0,231211.0,196664.0,234506.0,204285.0,259102.0,174853.0,226986.0,150400.0,212560.0,228878.0,238826.0,234040.0,174120.0,252106.0,214205.0,206373.0,223546.0,215720.0,247933.0,314962.5,200946.0,220682.0,214147.0,200106.0,209466.0,271426.0,221360.0,213666.0,314962.5,204360.0,314962.5,178560.0,266600.0,231240.0,241160.0,216013.0,250706.0,227880.0,238000.0,225066.0,235662.0,214080.0,232120.0,252866.0,227026.0,240706.0,314962.5,213826.0,208960.0,232720.0,215672.0,299960.0,199938.0,231013.0,172723.0,224840.0,216120.0,269560.0,223386.0,187920.0,203520.0,209423.0,209160.0,165440.0,247266.0,177685.0,189840.0,170625.0,227000.0,259934.0,211933.0,231906.0,184280.0,239573.0,193295.0,189399.0,266840.0,260240.0,212960.0,213733.0,204160.0,257386.0,194561.0,224506.0,216013.0,245866.0,206166.0,189720.0,183750.0,193058.0,193733.0,201626.0,208133.0,232893.0,251986.0,231211.0,214840.0,217800.0,238426.0,264946.0,224226.0,224293.0,228000.0,313684.0,219840.0,236133.0,243386.0,255093.0,199386.0,285596.0,198880.0,231000.0,175426.0,255631.0,193920.0,169866.0,228133.0,263890.0,227360.0,203466.0,202496.0,245466.0,219200.0,226600.0,235382.0,209866.0,188371.0,198306.0,267866.0,227833.0,217346.0,257200.0,245493.0,185200.0,226580.0,237626.0,189906.0,204280.0,314962.5,235493.0,213213.0,300840.0,244226.0,218227.0,185640.0,192670.0,217306.0,269946.0,222213.0,269666.0,281560.0,229525.0,205680.0,176561.0,252226.0,252534.0,227266.0,192560.0,214746.0,231826.0,242253.0,260173.0,211975.0,176658.0,247266.0,208330.0,200080.0,200106.0,190185.0,219043.0,212640.0,177560.0,231906.0,228360.0,177184.0,138842.0,202333.0,224573.0,219560.0,167065.0,166138.0,159693.0,230613.0,186146.0,220440.0,235653.0,229360.0,227073.0,219305.0,202213.0,192120.0,262693.0,215360.0,205745.0,270589.0,229080.0,207746.0,192190.0,185131.0,225226.0,203653.0,222093.0,238426.0,213506.0,257573.0,213427.0,238320.0,267066.0,217906.0,280757.0,196693.0,236133.0,213520.0,199314.0,195200.0,227480.0,223186.0,216320.0,221560.0,213053.0,241688.0,231000.0,199453.0,278987.0,193333.0,223973.0,284386.0,271640.0,205879.0,237792.0,206880.0,224258.0,227373.0,250285.0,213445.0,198293.0,176674.0,210580.0,238800.0,212424.0,218173.0,229813.0,200786.0,197266.0,211773.0,230333.0,255506.0,182666.0,206666.0,230453.0,173986.0,233720.0,244960.0,295502.0,246761.0,241874.0,224813.0,169773.0,219320.0,258266.0,200786.0,236001.0,196520.0,239853.0,251466.0,207272.0,208728.0,243490.0,195920.0,313546.0,189126.0,208373.0,196000.0,192846.0,217603.0,228361.0,213506.0,187957.0,195706.0,212106.0,197815.0,205946.0,222160.0,197933.0,240000.0,191600.0,226160.0,273802.0,223853.0,229080.0,219159.0,193253.0,214506.0,192190.0,235946.0,205593.0,217706.0,209425.0,199693.0,213427.0,183414.0,267066.0,244453.0,187973.0,237786.0,263786.0,195561.0,201493.0,195200.0,219146.0,216613.0,255889.0,225882.0,222813.0,214480.0,212946.0,203686.0,199453.0,220573.0,202149.0,205879.0,199133.0,234213.0,196613.0,185351.0,226738.0,228640.0,215413.0,198293.0,198774.0,225914.0,212424.0,233337.0,206493.0,210226.0,202661.0,251033.0,239280.0,210573.0,202221.0,198236.0,262521.0,194613.0,235826.0,232560.0,246240.0,160097.0,184516.0,263373.0,233712.0,221176.0,228200.0,201000.0,251088.0,216896.0,187146.0,214265.0,247160.0,263400.0,299960.0,243836.0,180933.0,204600.0,268866.0,234308.0,208120.0,231546.0,173600.0,233901.0,220306.0,203000.0,239000.0,189029.0,213946.0,291893.0,224030.0,190677.0,238586.0,182706.0,201240.0,177184.0,216408.0,245386.0,181812.0,198853.0,207629.0,204346.0,232549.0,177000.0,186112.0,211475.0,186026.0,200104.0,200186.0,212027.0,136750.5,211853.0,207680.0,268186.0,185946.0,209269.0,136750.5,314962.5,276333.0,220883.0,181614.0,174933.0,208186.0,194896.0,304041.0,199440.0,225520.0,197640.0,212000.0,223962.0,239626.0,226720.0,204173.0,220293.0,181672.0,214866.0,237733.0,144244.0,223413.0,242407.0,201256.0,193613.0,220454.0,217296.0,204502.0,298940.0,189466.0,245200.0,230226.0,210200.0,222040.0,201160.0,264011.0,188786.0,174600.0,269186.0,221506.0,222360.0,208733.0,181812.0,223503.0,225983.0,214254.0,220780.0,198973.0,218146.0,172800.0,268866.0,184560.0,239835.0,184732.0,202620.0,253390.0,136750.5,205920.0,183906.0,214846.0,232959.0,312820.0,189466.0,212500.0,177600.0,211440.0,200185.0,276147.0,222653.0,238614.0,179404.0,228373.0,314962.5,303076.0,172854.0,166605.0,188560.0,202804.0,157643.0,207629.0,193200.0,229670.0,175229.0,232186.0,204746.0,187521.0,197546.0,314962.5,170825.0,156600.0,184153.0,197993.0,215759.0,185863.0,201526.0,180822.0,203417.0,163216.0,245453.0,212120.0,136750.5,184720.0,223712.0,142273.0,194407.0,194680.0,176133.0,200853.0,231266.0,181263.0,221013.0,214289.0,196373.0,180493.0,190288.0,237240.0,217925.0,173153.0,186080.0,221653.0,173799.0,173720.0,196489.0,215064.0,190920.0,213993.0,200480.0,260000.0,186986.0,217288.0,190348.0,302146.0,181279.0,214466.0,226973.0,214253.0,217946.0,186231.0,136750.5,216631.0,197436.0,197946.0,235545.0,201707.0,210746.0,213400.0,221440.0,157066.0,194087.0,190799.0,178626.0,157560.0,202093.0,201660.0,157605.0,215733.0,217466.0,182160.0,169303.0,192470.0,176631.0,228759.0,193226.0,169353.0,189052.0,205803.0,152913.0,161746.0,312820.0,169813.0,202192.0,212500.0,179449.0,136750.5,136750.5,252906.0,200185.0,178480.0,136750.5,180522.0,149546.0,202333.0,189486.0,136750.5,256971.0,205426.0,136750.5,210367.0,166560.0,240050.0,288624.0,200106.0,301714.0,207038.0,195637.0,183527.0,190440.0,241293.0,187436.0,183290.0,214203.0,229184.0,189733.0,200889.0,196266.0,209438.0,186106.0,250533.0,183026.0,238200.0,213593.0,266086.0,229412.0,136750.5,163320.0,190537.0,193143.0,229773.0,177185.0,183000.0,157492.0,157202.0,190066.0,154447.0,177666.0,205653.0,199427.0,258800.0,174444.0,201787.0,225933.0,231266.0,206186.0,162582.0,136750.5,190946.0,181823.0,202204.0,240081.0,193837.0,188640.0,174960.0,181026.0,178426.0,200593.0,171029.0,215280.0],\"y0\":\" \",\"yaxis\":\"y\",\"type\":\"box\"}],                        {\"template\":{\"data\":{\"barpolar\":[{\"marker\":{\"line\":{\"color\":\"rgb(17,17,17)\",\"width\":0.5},\"pattern\":{\"fillmode\":\"overlay\",\"size\":10,\"solidity\":0.2}},\"type\":\"barpolar\"}],\"bar\":[{\"error_x\":{\"color\":\"#f2f5fa\"},\"error_y\":{\"color\":\"#f2f5fa\"},\"marker\":{\"line\":{\"color\":\"rgb(17,17,17)\",\"width\":0.5},\"pattern\":{\"fillmode\":\"overlay\",\"size\":10,\"solidity\":0.2}},\"type\":\"bar\"}],\"carpet\":[{\"aaxis\":{\"endlinecolor\":\"#A2B1C6\",\"gridcolor\":\"#506784\",\"linecolor\":\"#506784\",\"minorgridcolor\":\"#506784\",\"startlinecolor\":\"#A2B1C6\"},\"baxis\":{\"endlinecolor\":\"#A2B1C6\",\"gridcolor\":\"#506784\",\"linecolor\":\"#506784\",\"minorgridcolor\":\"#506784\",\"startlinecolor\":\"#A2B1C6\"},\"type\":\"carpet\"}],\"choropleth\":[{\"colorbar\":{\"outlinewidth\":0,\"ticks\":\"\"},\"type\":\"choropleth\"}],\"contourcarpet\":[{\"colorbar\":{\"outlinewidth\":0,\"ticks\":\"\"},\"type\":\"contourcarpet\"}],\"contour\":[{\"colorbar\":{\"outlinewidth\":0,\"ticks\":\"\"},\"colorscale\":[[0.0,\"#0d0887\"],[0.1111111111111111,\"#46039f\"],[0.2222222222222222,\"#7201a8\"],[0.3333333333333333,\"#9c179e\"],[0.4444444444444444,\"#bd3786\"],[0.5555555555555556,\"#d8576b\"],[0.6666666666666666,\"#ed7953\"],[0.7777777777777778,\"#fb9f3a\"],[0.8888888888888888,\"#fdca26\"],[1.0,\"#f0f921\"]],\"type\":\"contour\"}],\"heatmapgl\":[{\"colorbar\":{\"outlinewidth\":0,\"ticks\":\"\"},\"colorscale\":[[0.0,\"#0d0887\"],[0.1111111111111111,\"#46039f\"],[0.2222222222222222,\"#7201a8\"],[0.3333333333333333,\"#9c179e\"],[0.4444444444444444,\"#bd3786\"],[0.5555555555555556,\"#d8576b\"],[0.6666666666666666,\"#ed7953\"],[0.7777777777777778,\"#fb9f3a\"],[0.8888888888888888,\"#fdca26\"],[1.0,\"#f0f921\"]],\"type\":\"heatmapgl\"}],\"heatmap\":[{\"colorbar\":{\"outlinewidth\":0,\"ticks\":\"\"},\"colorscale\":[[0.0,\"#0d0887\"],[0.1111111111111111,\"#46039f\"],[0.2222222222222222,\"#7201a8\"],[0.3333333333333333,\"#9c179e\"],[0.4444444444444444,\"#bd3786\"],[0.5555555555555556,\"#d8576b\"],[0.6666666666666666,\"#ed7953\"],[0.7777777777777778,\"#fb9f3a\"],[0.8888888888888888,\"#fdca26\"],[1.0,\"#f0f921\"]],\"type\":\"heatmap\"}],\"histogram2dcontour\":[{\"colorbar\":{\"outlinewidth\":0,\"ticks\":\"\"},\"colorscale\":[[0.0,\"#0d0887\"],[0.1111111111111111,\"#46039f\"],[0.2222222222222222,\"#7201a8\"],[0.3333333333333333,\"#9c179e\"],[0.4444444444444444,\"#bd3786\"],[0.5555555555555556,\"#d8576b\"],[0.6666666666666666,\"#ed7953\"],[0.7777777777777778,\"#fb9f3a\"],[0.8888888888888888,\"#fdca26\"],[1.0,\"#f0f921\"]],\"type\":\"histogram2dcontour\"}],\"histogram2d\":[{\"colorbar\":{\"outlinewidth\":0,\"ticks\":\"\"},\"colorscale\":[[0.0,\"#0d0887\"],[0.1111111111111111,\"#46039f\"],[0.2222222222222222,\"#7201a8\"],[0.3333333333333333,\"#9c179e\"],[0.4444444444444444,\"#bd3786\"],[0.5555555555555556,\"#d8576b\"],[0.6666666666666666,\"#ed7953\"],[0.7777777777777778,\"#fb9f3a\"],[0.8888888888888888,\"#fdca26\"],[1.0,\"#f0f921\"]],\"type\":\"histogram2d\"}],\"histogram\":[{\"marker\":{\"pattern\":{\"fillmode\":\"overlay\",\"size\":10,\"solidity\":0.2}},\"type\":\"histogram\"}],\"mesh3d\":[{\"colorbar\":{\"outlinewidth\":0,\"ticks\":\"\"},\"type\":\"mesh3d\"}],\"parcoords\":[{\"line\":{\"colorbar\":{\"outlinewidth\":0,\"ticks\":\"\"}},\"type\":\"parcoords\"}],\"pie\":[{\"automargin\":true,\"type\":\"pie\"}],\"scatter3d\":[{\"line\":{\"colorbar\":{\"outlinewidth\":0,\"ticks\":\"\"}},\"marker\":{\"colorbar\":{\"outlinewidth\":0,\"ticks\":\"\"}},\"type\":\"scatter3d\"}],\"scattercarpet\":[{\"marker\":{\"colorbar\":{\"outlinewidth\":0,\"ticks\":\"\"}},\"type\":\"scattercarpet\"}],\"scattergeo\":[{\"marker\":{\"colorbar\":{\"outlinewidth\":0,\"ticks\":\"\"}},\"type\":\"scattergeo\"}],\"scattergl\":[{\"marker\":{\"line\":{\"color\":\"#283442\"}},\"type\":\"scattergl\"}],\"scattermapbox\":[{\"marker\":{\"colorbar\":{\"outlinewidth\":0,\"ticks\":\"\"}},\"type\":\"scattermapbox\"}],\"scatterpolargl\":[{\"marker\":{\"colorbar\":{\"outlinewidth\":0,\"ticks\":\"\"}},\"type\":\"scatterpolargl\"}],\"scatterpolar\":[{\"marker\":{\"colorbar\":{\"outlinewidth\":0,\"ticks\":\"\"}},\"type\":\"scatterpolar\"}],\"scatter\":[{\"marker\":{\"line\":{\"color\":\"#283442\"}},\"type\":\"scatter\"}],\"scatterternary\":[{\"marker\":{\"colorbar\":{\"outlinewidth\":0,\"ticks\":\"\"}},\"type\":\"scatterternary\"}],\"surface\":[{\"colorbar\":{\"outlinewidth\":0,\"ticks\":\"\"},\"colorscale\":[[0.0,\"#0d0887\"],[0.1111111111111111,\"#46039f\"],[0.2222222222222222,\"#7201a8\"],[0.3333333333333333,\"#9c179e\"],[0.4444444444444444,\"#bd3786\"],[0.5555555555555556,\"#d8576b\"],[0.6666666666666666,\"#ed7953\"],[0.7777777777777778,\"#fb9f3a\"],[0.8888888888888888,\"#fdca26\"],[1.0,\"#f0f921\"]],\"type\":\"surface\"}],\"table\":[{\"cells\":{\"fill\":{\"color\":\"#506784\"},\"line\":{\"color\":\"rgb(17,17,17)\"}},\"header\":{\"fill\":{\"color\":\"#2a3f5f\"},\"line\":{\"color\":\"rgb(17,17,17)\"}},\"type\":\"table\"}]},\"layout\":{\"annotationdefaults\":{\"arrowcolor\":\"#f2f5fa\",\"arrowhead\":0,\"arrowwidth\":1},\"autotypenumbers\":\"strict\",\"coloraxis\":{\"colorbar\":{\"outlinewidth\":0,\"ticks\":\"\"}},\"colorscale\":{\"diverging\":[[0,\"#8e0152\"],[0.1,\"#c51b7d\"],[0.2,\"#de77ae\"],[0.3,\"#f1b6da\"],[0.4,\"#fde0ef\"],[0.5,\"#f7f7f7\"],[0.6,\"#e6f5d0\"],[0.7,\"#b8e186\"],[0.8,\"#7fbc41\"],[0.9,\"#4d9221\"],[1,\"#276419\"]],\"sequential\":[[0.0,\"#0d0887\"],[0.1111111111111111,\"#46039f\"],[0.2222222222222222,\"#7201a8\"],[0.3333333333333333,\"#9c179e\"],[0.4444444444444444,\"#bd3786\"],[0.5555555555555556,\"#d8576b\"],[0.6666666666666666,\"#ed7953\"],[0.7777777777777778,\"#fb9f3a\"],[0.8888888888888888,\"#fdca26\"],[1.0,\"#f0f921\"]],\"sequentialminus\":[[0.0,\"#0d0887\"],[0.1111111111111111,\"#46039f\"],[0.2222222222222222,\"#7201a8\"],[0.3333333333333333,\"#9c179e\"],[0.4444444444444444,\"#bd3786\"],[0.5555555555555556,\"#d8576b\"],[0.6666666666666666,\"#ed7953\"],[0.7777777777777778,\"#fb9f3a\"],[0.8888888888888888,\"#fdca26\"],[1.0,\"#f0f921\"]]},\"colorway\":[\"#636efa\",\"#EF553B\",\"#00cc96\",\"#ab63fa\",\"#FFA15A\",\"#19d3f3\",\"#FF6692\",\"#B6E880\",\"#FF97FF\",\"#FECB52\"],\"font\":{\"color\":\"#f2f5fa\"},\"geo\":{\"bgcolor\":\"rgb(17,17,17)\",\"lakecolor\":\"rgb(17,17,17)\",\"landcolor\":\"rgb(17,17,17)\",\"showlakes\":true,\"showland\":true,\"subunitcolor\":\"#506784\"},\"hoverlabel\":{\"align\":\"left\"},\"hovermode\":\"closest\",\"mapbox\":{\"style\":\"dark\"},\"paper_bgcolor\":\"rgb(17,17,17)\",\"plot_bgcolor\":\"rgb(17,17,17)\",\"polar\":{\"angularaxis\":{\"gridcolor\":\"#506784\",\"linecolor\":\"#506784\",\"ticks\":\"\"},\"bgcolor\":\"rgb(17,17,17)\",\"radialaxis\":{\"gridcolor\":\"#506784\",\"linecolor\":\"#506784\",\"ticks\":\"\"}},\"scene\":{\"xaxis\":{\"backgroundcolor\":\"rgb(17,17,17)\",\"gridcolor\":\"#506784\",\"gridwidth\":2,\"linecolor\":\"#506784\",\"showbackground\":true,\"ticks\":\"\",\"zerolinecolor\":\"#C8D4E3\"},\"yaxis\":{\"backgroundcolor\":\"rgb(17,17,17)\",\"gridcolor\":\"#506784\",\"gridwidth\":2,\"linecolor\":\"#506784\",\"showbackground\":true,\"ticks\":\"\",\"zerolinecolor\":\"#C8D4E3\"},\"zaxis\":{\"backgroundcolor\":\"rgb(17,17,17)\",\"gridcolor\":\"#506784\",\"gridwidth\":2,\"linecolor\":\"#506784\",\"showbackground\":true,\"ticks\":\"\",\"zerolinecolor\":\"#C8D4E3\"}},\"shapedefaults\":{\"line\":{\"color\":\"#f2f5fa\"}},\"sliderdefaults\":{\"bgcolor\":\"#C8D4E3\",\"bordercolor\":\"rgb(17,17,17)\",\"borderwidth\":1,\"tickwidth\":0},\"ternary\":{\"aaxis\":{\"gridcolor\":\"#506784\",\"linecolor\":\"#506784\",\"ticks\":\"\"},\"baxis\":{\"gridcolor\":\"#506784\",\"linecolor\":\"#506784\",\"ticks\":\"\"},\"bgcolor\":\"rgb(17,17,17)\",\"caxis\":{\"gridcolor\":\"#506784\",\"linecolor\":\"#506784\",\"ticks\":\"\"}},\"title\":{\"x\":0.05},\"updatemenudefaults\":{\"bgcolor\":\"#506784\",\"borderwidth\":0},\"xaxis\":{\"automargin\":true,\"gridcolor\":\"#283442\",\"linecolor\":\"#506784\",\"ticks\":\"\",\"title\":{\"standoff\":15},\"zerolinecolor\":\"#283442\",\"zerolinewidth\":2},\"yaxis\":{\"automargin\":true,\"gridcolor\":\"#283442\",\"linecolor\":\"#506784\",\"ticks\":\"\",\"title\":{\"standoff\":15},\"zerolinecolor\":\"#283442\",\"zerolinewidth\":2}}},\"xaxis\":{\"anchor\":\"y\",\"domain\":[0.0,1.0],\"title\":{\"text\":\"variable\"}},\"yaxis\":{\"anchor\":\"x\",\"domain\":[0.0,1.0],\"title\":{\"text\":\"value\"}},\"legend\":{\"tracegroupgap\":0},\"title\":{\"text\":\"Box after cleaning\"},\"boxmode\":\"group\"},                        {\"responsive\": true}                    ).then(function(){\n",
       "                            \n",
       "var gd = document.getElementById('17531692-cc5c-4450-960e-26393f0538b5');\n",
       "var x = new MutationObserver(function (mutations, observer) {{\n",
       "        var display = window.getComputedStyle(gd).display;\n",
       "        if (!display || display === 'none') {{\n",
       "            console.log([gd, 'removed!']);\n",
       "            Plotly.purge(gd);\n",
       "            observer.disconnect();\n",
       "        }}\n",
       "}});\n",
       "\n",
       "// Listen for the removal of the full notebook cells\n",
       "var notebookContainer = gd.closest('#notebook-container');\n",
       "if (notebookContainer) {{\n",
       "    x.observe(notebookContainer, {childList: true});\n",
       "}}\n",
       "\n",
       "// Listen for the clearing of the current output cell\n",
       "var outputEl = gd.closest('.output');\n",
       "if (outputEl) {{\n",
       "    x.observe(outputEl, {childList: true});\n",
       "}}\n",
       "\n",
       "                        })                };                });            </script>        </div>"
      ]
     },
     "metadata": {},
     "output_type": "display_data"
    }
   ],
   "source": [
    "fig = px.box(df['duration_ms'],\n",
    "             title='Box after cleaning',\n",
    "             template='plotly_dark'\n",
    "            )\n",
    "fig.show()"
   ]
  },
  {
   "cell_type": "code",
   "execution_count": 13,
   "id": "ddf695e4",
   "metadata": {
    "execution": {
     "iopub.execute_input": "2024-02-01T16:39:40.953808Z",
     "iopub.status.busy": "2024-02-01T16:39:40.953021Z",
     "iopub.status.idle": "2024-02-01T16:39:40.962294Z",
     "shell.execute_reply": "2024-02-01T16:39:40.961222Z"
    },
    "papermill": {
     "duration": 0.020995,
     "end_time": "2024-02-01T16:39:40.964236",
     "exception": false,
     "start_time": "2024-02-01T16:39:40.943241",
     "status": "completed"
    },
    "tags": []
   },
   "outputs": [
    {
     "data": {
      "text/plain": [
       "explicit\n",
       "False    1449\n",
       "True      551\n",
       "Name: count, dtype: int64"
      ]
     },
     "execution_count": 13,
     "metadata": {},
     "output_type": "execute_result"
    }
   ],
   "source": [
    "explicits = df['explicit'].value_counts()\n",
    "explicits"
   ]
  },
  {
   "cell_type": "markdown",
   "id": "85c45408",
   "metadata": {
    "papermill": {
     "duration": 0.007785,
     "end_time": "2024-02-01T16:39:40.980439",
     "exception": false,
     "start_time": "2024-02-01T16:39:40.972654",
     "status": "completed"
    },
    "tags": []
   },
   "source": [
    "### Most of the songs on Spotify are not offensive or unsuitable for children"
   ]
  },
  {
   "cell_type": "code",
   "execution_count": 14,
   "id": "69a6e2a4",
   "metadata": {
    "execution": {
     "iopub.execute_input": "2024-02-01T16:39:40.998365Z",
     "iopub.status.busy": "2024-02-01T16:39:40.997932Z",
     "iopub.status.idle": "2024-02-01T16:39:41.059522Z",
     "shell.execute_reply": "2024-02-01T16:39:41.058771Z"
    },
    "papermill": {
     "duration": 0.073081,
     "end_time": "2024-02-01T16:39:41.061557",
     "exception": false,
     "start_time": "2024-02-01T16:39:40.988476",
     "status": "completed"
    },
    "tags": []
   },
   "outputs": [
    {
     "data": {
      "text/html": [
       "<div>                            <div id=\"04b84bef-a2e9-4d02-ab24-34832c60bb11\" class=\"plotly-graph-div\" style=\"height:525px; width:100%;\"></div>            <script type=\"text/javascript\">                require([\"plotly\"], function(Plotly) {                    window.PLOTLYENV=window.PLOTLYENV || {};                                    if (document.getElementById(\"04b84bef-a2e9-4d02-ab24-34832c60bb11\")) {                    Plotly.newPlot(                        \"04b84bef-a2e9-4d02-ab24-34832c60bb11\",                        [{\"domain\":{\"x\":[0.0,1.0],\"y\":[0.0,1.0]},\"hovertemplate\":\"label=%{label}\\u003cbr\\u003evalue=%{value}\\u003cextra\\u003e\\u003c\\u002fextra\\u003e\",\"labels\":[false,true],\"legendgroup\":\"\",\"name\":\"\",\"showlegend\":true,\"values\":[1449,551],\"type\":\"pie\"}],                        {\"template\":{\"data\":{\"barpolar\":[{\"marker\":{\"line\":{\"color\":\"rgb(17,17,17)\",\"width\":0.5},\"pattern\":{\"fillmode\":\"overlay\",\"size\":10,\"solidity\":0.2}},\"type\":\"barpolar\"}],\"bar\":[{\"error_x\":{\"color\":\"#f2f5fa\"},\"error_y\":{\"color\":\"#f2f5fa\"},\"marker\":{\"line\":{\"color\":\"rgb(17,17,17)\",\"width\":0.5},\"pattern\":{\"fillmode\":\"overlay\",\"size\":10,\"solidity\":0.2}},\"type\":\"bar\"}],\"carpet\":[{\"aaxis\":{\"endlinecolor\":\"#A2B1C6\",\"gridcolor\":\"#506784\",\"linecolor\":\"#506784\",\"minorgridcolor\":\"#506784\",\"startlinecolor\":\"#A2B1C6\"},\"baxis\":{\"endlinecolor\":\"#A2B1C6\",\"gridcolor\":\"#506784\",\"linecolor\":\"#506784\",\"minorgridcolor\":\"#506784\",\"startlinecolor\":\"#A2B1C6\"},\"type\":\"carpet\"}],\"choropleth\":[{\"colorbar\":{\"outlinewidth\":0,\"ticks\":\"\"},\"type\":\"choropleth\"}],\"contourcarpet\":[{\"colorbar\":{\"outlinewidth\":0,\"ticks\":\"\"},\"type\":\"contourcarpet\"}],\"contour\":[{\"colorbar\":{\"outlinewidth\":0,\"ticks\":\"\"},\"colorscale\":[[0.0,\"#0d0887\"],[0.1111111111111111,\"#46039f\"],[0.2222222222222222,\"#7201a8\"],[0.3333333333333333,\"#9c179e\"],[0.4444444444444444,\"#bd3786\"],[0.5555555555555556,\"#d8576b\"],[0.6666666666666666,\"#ed7953\"],[0.7777777777777778,\"#fb9f3a\"],[0.8888888888888888,\"#fdca26\"],[1.0,\"#f0f921\"]],\"type\":\"contour\"}],\"heatmapgl\":[{\"colorbar\":{\"outlinewidth\":0,\"ticks\":\"\"},\"colorscale\":[[0.0,\"#0d0887\"],[0.1111111111111111,\"#46039f\"],[0.2222222222222222,\"#7201a8\"],[0.3333333333333333,\"#9c179e\"],[0.4444444444444444,\"#bd3786\"],[0.5555555555555556,\"#d8576b\"],[0.6666666666666666,\"#ed7953\"],[0.7777777777777778,\"#fb9f3a\"],[0.8888888888888888,\"#fdca26\"],[1.0,\"#f0f921\"]],\"type\":\"heatmapgl\"}],\"heatmap\":[{\"colorbar\":{\"outlinewidth\":0,\"ticks\":\"\"},\"colorscale\":[[0.0,\"#0d0887\"],[0.1111111111111111,\"#46039f\"],[0.2222222222222222,\"#7201a8\"],[0.3333333333333333,\"#9c179e\"],[0.4444444444444444,\"#bd3786\"],[0.5555555555555556,\"#d8576b\"],[0.6666666666666666,\"#ed7953\"],[0.7777777777777778,\"#fb9f3a\"],[0.8888888888888888,\"#fdca26\"],[1.0,\"#f0f921\"]],\"type\":\"heatmap\"}],\"histogram2dcontour\":[{\"colorbar\":{\"outlinewidth\":0,\"ticks\":\"\"},\"colorscale\":[[0.0,\"#0d0887\"],[0.1111111111111111,\"#46039f\"],[0.2222222222222222,\"#7201a8\"],[0.3333333333333333,\"#9c179e\"],[0.4444444444444444,\"#bd3786\"],[0.5555555555555556,\"#d8576b\"],[0.6666666666666666,\"#ed7953\"],[0.7777777777777778,\"#fb9f3a\"],[0.8888888888888888,\"#fdca26\"],[1.0,\"#f0f921\"]],\"type\":\"histogram2dcontour\"}],\"histogram2d\":[{\"colorbar\":{\"outlinewidth\":0,\"ticks\":\"\"},\"colorscale\":[[0.0,\"#0d0887\"],[0.1111111111111111,\"#46039f\"],[0.2222222222222222,\"#7201a8\"],[0.3333333333333333,\"#9c179e\"],[0.4444444444444444,\"#bd3786\"],[0.5555555555555556,\"#d8576b\"],[0.6666666666666666,\"#ed7953\"],[0.7777777777777778,\"#fb9f3a\"],[0.8888888888888888,\"#fdca26\"],[1.0,\"#f0f921\"]],\"type\":\"histogram2d\"}],\"histogram\":[{\"marker\":{\"pattern\":{\"fillmode\":\"overlay\",\"size\":10,\"solidity\":0.2}},\"type\":\"histogram\"}],\"mesh3d\":[{\"colorbar\":{\"outlinewidth\":0,\"ticks\":\"\"},\"type\":\"mesh3d\"}],\"parcoords\":[{\"line\":{\"colorbar\":{\"outlinewidth\":0,\"ticks\":\"\"}},\"type\":\"parcoords\"}],\"pie\":[{\"automargin\":true,\"type\":\"pie\"}],\"scatter3d\":[{\"line\":{\"colorbar\":{\"outlinewidth\":0,\"ticks\":\"\"}},\"marker\":{\"colorbar\":{\"outlinewidth\":0,\"ticks\":\"\"}},\"type\":\"scatter3d\"}],\"scattercarpet\":[{\"marker\":{\"colorbar\":{\"outlinewidth\":0,\"ticks\":\"\"}},\"type\":\"scattercarpet\"}],\"scattergeo\":[{\"marker\":{\"colorbar\":{\"outlinewidth\":0,\"ticks\":\"\"}},\"type\":\"scattergeo\"}],\"scattergl\":[{\"marker\":{\"line\":{\"color\":\"#283442\"}},\"type\":\"scattergl\"}],\"scattermapbox\":[{\"marker\":{\"colorbar\":{\"outlinewidth\":0,\"ticks\":\"\"}},\"type\":\"scattermapbox\"}],\"scatterpolargl\":[{\"marker\":{\"colorbar\":{\"outlinewidth\":0,\"ticks\":\"\"}},\"type\":\"scatterpolargl\"}],\"scatterpolar\":[{\"marker\":{\"colorbar\":{\"outlinewidth\":0,\"ticks\":\"\"}},\"type\":\"scatterpolar\"}],\"scatter\":[{\"marker\":{\"line\":{\"color\":\"#283442\"}},\"type\":\"scatter\"}],\"scatterternary\":[{\"marker\":{\"colorbar\":{\"outlinewidth\":0,\"ticks\":\"\"}},\"type\":\"scatterternary\"}],\"surface\":[{\"colorbar\":{\"outlinewidth\":0,\"ticks\":\"\"},\"colorscale\":[[0.0,\"#0d0887\"],[0.1111111111111111,\"#46039f\"],[0.2222222222222222,\"#7201a8\"],[0.3333333333333333,\"#9c179e\"],[0.4444444444444444,\"#bd3786\"],[0.5555555555555556,\"#d8576b\"],[0.6666666666666666,\"#ed7953\"],[0.7777777777777778,\"#fb9f3a\"],[0.8888888888888888,\"#fdca26\"],[1.0,\"#f0f921\"]],\"type\":\"surface\"}],\"table\":[{\"cells\":{\"fill\":{\"color\":\"#506784\"},\"line\":{\"color\":\"rgb(17,17,17)\"}},\"header\":{\"fill\":{\"color\":\"#2a3f5f\"},\"line\":{\"color\":\"rgb(17,17,17)\"}},\"type\":\"table\"}]},\"layout\":{\"annotationdefaults\":{\"arrowcolor\":\"#f2f5fa\",\"arrowhead\":0,\"arrowwidth\":1},\"autotypenumbers\":\"strict\",\"coloraxis\":{\"colorbar\":{\"outlinewidth\":0,\"ticks\":\"\"}},\"colorscale\":{\"diverging\":[[0,\"#8e0152\"],[0.1,\"#c51b7d\"],[0.2,\"#de77ae\"],[0.3,\"#f1b6da\"],[0.4,\"#fde0ef\"],[0.5,\"#f7f7f7\"],[0.6,\"#e6f5d0\"],[0.7,\"#b8e186\"],[0.8,\"#7fbc41\"],[0.9,\"#4d9221\"],[1,\"#276419\"]],\"sequential\":[[0.0,\"#0d0887\"],[0.1111111111111111,\"#46039f\"],[0.2222222222222222,\"#7201a8\"],[0.3333333333333333,\"#9c179e\"],[0.4444444444444444,\"#bd3786\"],[0.5555555555555556,\"#d8576b\"],[0.6666666666666666,\"#ed7953\"],[0.7777777777777778,\"#fb9f3a\"],[0.8888888888888888,\"#fdca26\"],[1.0,\"#f0f921\"]],\"sequentialminus\":[[0.0,\"#0d0887\"],[0.1111111111111111,\"#46039f\"],[0.2222222222222222,\"#7201a8\"],[0.3333333333333333,\"#9c179e\"],[0.4444444444444444,\"#bd3786\"],[0.5555555555555556,\"#d8576b\"],[0.6666666666666666,\"#ed7953\"],[0.7777777777777778,\"#fb9f3a\"],[0.8888888888888888,\"#fdca26\"],[1.0,\"#f0f921\"]]},\"colorway\":[\"#636efa\",\"#EF553B\",\"#00cc96\",\"#ab63fa\",\"#FFA15A\",\"#19d3f3\",\"#FF6692\",\"#B6E880\",\"#FF97FF\",\"#FECB52\"],\"font\":{\"color\":\"#f2f5fa\"},\"geo\":{\"bgcolor\":\"rgb(17,17,17)\",\"lakecolor\":\"rgb(17,17,17)\",\"landcolor\":\"rgb(17,17,17)\",\"showlakes\":true,\"showland\":true,\"subunitcolor\":\"#506784\"},\"hoverlabel\":{\"align\":\"left\"},\"hovermode\":\"closest\",\"mapbox\":{\"style\":\"dark\"},\"paper_bgcolor\":\"rgb(17,17,17)\",\"plot_bgcolor\":\"rgb(17,17,17)\",\"polar\":{\"angularaxis\":{\"gridcolor\":\"#506784\",\"linecolor\":\"#506784\",\"ticks\":\"\"},\"bgcolor\":\"rgb(17,17,17)\",\"radialaxis\":{\"gridcolor\":\"#506784\",\"linecolor\":\"#506784\",\"ticks\":\"\"}},\"scene\":{\"xaxis\":{\"backgroundcolor\":\"rgb(17,17,17)\",\"gridcolor\":\"#506784\",\"gridwidth\":2,\"linecolor\":\"#506784\",\"showbackground\":true,\"ticks\":\"\",\"zerolinecolor\":\"#C8D4E3\"},\"yaxis\":{\"backgroundcolor\":\"rgb(17,17,17)\",\"gridcolor\":\"#506784\",\"gridwidth\":2,\"linecolor\":\"#506784\",\"showbackground\":true,\"ticks\":\"\",\"zerolinecolor\":\"#C8D4E3\"},\"zaxis\":{\"backgroundcolor\":\"rgb(17,17,17)\",\"gridcolor\":\"#506784\",\"gridwidth\":2,\"linecolor\":\"#506784\",\"showbackground\":true,\"ticks\":\"\",\"zerolinecolor\":\"#C8D4E3\"}},\"shapedefaults\":{\"line\":{\"color\":\"#f2f5fa\"}},\"sliderdefaults\":{\"bgcolor\":\"#C8D4E3\",\"bordercolor\":\"rgb(17,17,17)\",\"borderwidth\":1,\"tickwidth\":0},\"ternary\":{\"aaxis\":{\"gridcolor\":\"#506784\",\"linecolor\":\"#506784\",\"ticks\":\"\"},\"baxis\":{\"gridcolor\":\"#506784\",\"linecolor\":\"#506784\",\"ticks\":\"\"},\"bgcolor\":\"rgb(17,17,17)\",\"caxis\":{\"gridcolor\":\"#506784\",\"linecolor\":\"#506784\",\"ticks\":\"\"}},\"title\":{\"x\":0.05},\"updatemenudefaults\":{\"bgcolor\":\"#506784\",\"borderwidth\":0},\"xaxis\":{\"automargin\":true,\"gridcolor\":\"#283442\",\"linecolor\":\"#506784\",\"ticks\":\"\",\"title\":{\"standoff\":15},\"zerolinecolor\":\"#283442\",\"zerolinewidth\":2},\"yaxis\":{\"automargin\":true,\"gridcolor\":\"#283442\",\"linecolor\":\"#506784\",\"ticks\":\"\",\"title\":{\"standoff\":15},\"zerolinecolor\":\"#283442\",\"zerolinewidth\":2}}},\"legend\":{\"tracegroupgap\":0},\"title\":{\"text\":\"suitable Vs unsuitable songs for children\"}},                        {\"responsive\": true}                    ).then(function(){\n",
       "                            \n",
       "var gd = document.getElementById('04b84bef-a2e9-4d02-ab24-34832c60bb11');\n",
       "var x = new MutationObserver(function (mutations, observer) {{\n",
       "        var display = window.getComputedStyle(gd).display;\n",
       "        if (!display || display === 'none') {{\n",
       "            console.log([gd, 'removed!']);\n",
       "            Plotly.purge(gd);\n",
       "            observer.disconnect();\n",
       "        }}\n",
       "}});\n",
       "\n",
       "// Listen for the removal of the full notebook cells\n",
       "var notebookContainer = gd.closest('#notebook-container');\n",
       "if (notebookContainer) {{\n",
       "    x.observe(notebookContainer, {childList: true});\n",
       "}}\n",
       "\n",
       "// Listen for the clearing of the current output cell\n",
       "var outputEl = gd.closest('.output');\n",
       "if (outputEl) {{\n",
       "    x.observe(outputEl, {childList: true});\n",
       "}}\n",
       "\n",
       "                        })                };                });            </script>        </div>"
      ]
     },
     "metadata": {},
     "output_type": "display_data"
    }
   ],
   "source": [
    "fig = px.pie(values=explicits,\n",
    "             names = explicits.index,\n",
    "            template='plotly_dark',\n",
    "            title = 'suitable Vs unsuitable songs for children',\n",
    "            )\n",
    "fig.show()"
   ]
  },
  {
   "cell_type": "code",
   "execution_count": 15,
   "id": "90cb0ab3",
   "metadata": {
    "execution": {
     "iopub.execute_input": "2024-02-01T16:39:41.081094Z",
     "iopub.status.busy": "2024-02-01T16:39:41.080289Z",
     "iopub.status.idle": "2024-02-01T16:39:41.086728Z",
     "shell.execute_reply": "2024-02-01T16:39:41.086185Z"
    },
    "papermill": {
     "duration": 0.017638,
     "end_time": "2024-02-01T16:39:41.088388",
     "exception": false,
     "start_time": "2024-02-01T16:39:41.070750",
     "status": "completed"
    },
    "tags": []
   },
   "outputs": [
    {
     "data": {
      "text/plain": [
       "year\n",
       "2012    115\n",
       "2017    111\n",
       "2001    108\n",
       "2018    107\n",
       "2010    107\n",
       "2014    104\n",
       "2005    104\n",
       "2011     99\n",
       "2016     99\n",
       "2015     99\n",
       "2003     97\n",
       "2008     97\n",
       "2004     96\n",
       "2006     95\n",
       "2007     94\n",
       "2002     90\n",
       "2019     89\n",
       "2013     89\n",
       "2009     84\n",
       "2000     74\n",
       "1999     38\n",
       "2020      3\n",
       "1998      1\n",
       "Name: count, dtype: int64"
      ]
     },
     "execution_count": 15,
     "metadata": {},
     "output_type": "execute_result"
    }
   ],
   "source": [
    "year = df['year'].value_counts()\n",
    "year"
   ]
  },
  {
   "cell_type": "code",
   "execution_count": 16,
   "id": "ad998704",
   "metadata": {
    "execution": {
     "iopub.execute_input": "2024-02-01T16:39:41.106989Z",
     "iopub.status.busy": "2024-02-01T16:39:41.106249Z",
     "iopub.status.idle": "2024-02-01T16:39:41.113042Z",
     "shell.execute_reply": "2024-02-01T16:39:41.112194Z"
    },
    "papermill": {
     "duration": 0.017683,
     "end_time": "2024-02-01T16:39:41.114660",
     "exception": false,
     "start_time": "2024-02-01T16:39:41.096977",
     "status": "completed"
    },
    "tags": []
   },
   "outputs": [
    {
     "data": {
      "text/plain": [
       "year\n",
       "1998      1\n",
       "2020      3\n",
       "1999     38\n",
       "2000     74\n",
       "2009     84\n",
       "2013     89\n",
       "2019     89\n",
       "2002     90\n",
       "2007     94\n",
       "2006     95\n",
       "2004     96\n",
       "2008     97\n",
       "2003     97\n",
       "2015     99\n",
       "2016     99\n",
       "2011     99\n",
       "2005    104\n",
       "2014    104\n",
       "2010    107\n",
       "2018    107\n",
       "2001    108\n",
       "2017    111\n",
       "2012    115\n",
       "Name: count, dtype: int64"
      ]
     },
     "execution_count": 16,
     "metadata": {},
     "output_type": "execute_result"
    }
   ],
   "source": [
    "sorted_years = df['year'].value_counts().sort_values()\n",
    "sorted_years"
   ]
  },
  {
   "cell_type": "code",
   "execution_count": 17,
   "id": "9d7d3bf3",
   "metadata": {
    "execution": {
     "iopub.execute_input": "2024-02-01T16:39:41.133761Z",
     "iopub.status.busy": "2024-02-01T16:39:41.133265Z",
     "iopub.status.idle": "2024-02-01T16:39:41.180743Z",
     "shell.execute_reply": "2024-02-01T16:39:41.179382Z"
    },
    "papermill": {
     "duration": 0.058896,
     "end_time": "2024-02-01T16:39:41.182538",
     "exception": false,
     "start_time": "2024-02-01T16:39:41.123642",
     "status": "completed"
    },
    "tags": []
   },
   "outputs": [
    {
     "data": {
      "text/html": [
       "<div>                            <div id=\"dafe6e41-80bd-48fb-bea6-d5c1f84544e5\" class=\"plotly-graph-div\" style=\"height:525px; width:100%;\"></div>            <script type=\"text/javascript\">                require([\"plotly\"], function(Plotly) {                    window.PLOTLYENV=window.PLOTLYENV || {};                                    if (document.getElementById(\"dafe6e41-80bd-48fb-bea6-d5c1f84544e5\")) {                    Plotly.newPlot(                        \"dafe6e41-80bd-48fb-bea6-d5c1f84544e5\",                        [{\"alignmentgroup\":\"True\",\"hovertemplate\":\"year=%{x}\\u003cbr\\u003eNumber of Songs=%{y}\\u003cextra\\u003e\\u003c\\u002fextra\\u003e\",\"legendgroup\":\"\",\"marker\":{\"color\":\"#1DB954\",\"pattern\":{\"shape\":\"\"}},\"name\":\"\",\"offsetgroup\":\"\",\"orientation\":\"v\",\"showlegend\":false,\"textposition\":\"auto\",\"texttemplate\":\"%{y}\",\"x\":[2012,2017,2001,2018,2010,2014,2005,2011,2016,2015,2003,2008,2004,2006,2007,2002,2019,2013,2009,2000,1999,2020,1998],\"xaxis\":\"x\",\"y\":[115,111,108,107,107,104,104,99,99,99,97,97,96,95,94,90,89,89,84,74,38,3,1],\"yaxis\":\"y\",\"type\":\"bar\"}],                        {\"template\":{\"data\":{\"barpolar\":[{\"marker\":{\"line\":{\"color\":\"rgb(17,17,17)\",\"width\":0.5},\"pattern\":{\"fillmode\":\"overlay\",\"size\":10,\"solidity\":0.2}},\"type\":\"barpolar\"}],\"bar\":[{\"error_x\":{\"color\":\"#f2f5fa\"},\"error_y\":{\"color\":\"#f2f5fa\"},\"marker\":{\"line\":{\"color\":\"rgb(17,17,17)\",\"width\":0.5},\"pattern\":{\"fillmode\":\"overlay\",\"size\":10,\"solidity\":0.2}},\"type\":\"bar\"}],\"carpet\":[{\"aaxis\":{\"endlinecolor\":\"#A2B1C6\",\"gridcolor\":\"#506784\",\"linecolor\":\"#506784\",\"minorgridcolor\":\"#506784\",\"startlinecolor\":\"#A2B1C6\"},\"baxis\":{\"endlinecolor\":\"#A2B1C6\",\"gridcolor\":\"#506784\",\"linecolor\":\"#506784\",\"minorgridcolor\":\"#506784\",\"startlinecolor\":\"#A2B1C6\"},\"type\":\"carpet\"}],\"choropleth\":[{\"colorbar\":{\"outlinewidth\":0,\"ticks\":\"\"},\"type\":\"choropleth\"}],\"contourcarpet\":[{\"colorbar\":{\"outlinewidth\":0,\"ticks\":\"\"},\"type\":\"contourcarpet\"}],\"contour\":[{\"colorbar\":{\"outlinewidth\":0,\"ticks\":\"\"},\"colorscale\":[[0.0,\"#0d0887\"],[0.1111111111111111,\"#46039f\"],[0.2222222222222222,\"#7201a8\"],[0.3333333333333333,\"#9c179e\"],[0.4444444444444444,\"#bd3786\"],[0.5555555555555556,\"#d8576b\"],[0.6666666666666666,\"#ed7953\"],[0.7777777777777778,\"#fb9f3a\"],[0.8888888888888888,\"#fdca26\"],[1.0,\"#f0f921\"]],\"type\":\"contour\"}],\"heatmapgl\":[{\"colorbar\":{\"outlinewidth\":0,\"ticks\":\"\"},\"colorscale\":[[0.0,\"#0d0887\"],[0.1111111111111111,\"#46039f\"],[0.2222222222222222,\"#7201a8\"],[0.3333333333333333,\"#9c179e\"],[0.4444444444444444,\"#bd3786\"],[0.5555555555555556,\"#d8576b\"],[0.6666666666666666,\"#ed7953\"],[0.7777777777777778,\"#fb9f3a\"],[0.8888888888888888,\"#fdca26\"],[1.0,\"#f0f921\"]],\"type\":\"heatmapgl\"}],\"heatmap\":[{\"colorbar\":{\"outlinewidth\":0,\"ticks\":\"\"},\"colorscale\":[[0.0,\"#0d0887\"],[0.1111111111111111,\"#46039f\"],[0.2222222222222222,\"#7201a8\"],[0.3333333333333333,\"#9c179e\"],[0.4444444444444444,\"#bd3786\"],[0.5555555555555556,\"#d8576b\"],[0.6666666666666666,\"#ed7953\"],[0.7777777777777778,\"#fb9f3a\"],[0.8888888888888888,\"#fdca26\"],[1.0,\"#f0f921\"]],\"type\":\"heatmap\"}],\"histogram2dcontour\":[{\"colorbar\":{\"outlinewidth\":0,\"ticks\":\"\"},\"colorscale\":[[0.0,\"#0d0887\"],[0.1111111111111111,\"#46039f\"],[0.2222222222222222,\"#7201a8\"],[0.3333333333333333,\"#9c179e\"],[0.4444444444444444,\"#bd3786\"],[0.5555555555555556,\"#d8576b\"],[0.6666666666666666,\"#ed7953\"],[0.7777777777777778,\"#fb9f3a\"],[0.8888888888888888,\"#fdca26\"],[1.0,\"#f0f921\"]],\"type\":\"histogram2dcontour\"}],\"histogram2d\":[{\"colorbar\":{\"outlinewidth\":0,\"ticks\":\"\"},\"colorscale\":[[0.0,\"#0d0887\"],[0.1111111111111111,\"#46039f\"],[0.2222222222222222,\"#7201a8\"],[0.3333333333333333,\"#9c179e\"],[0.4444444444444444,\"#bd3786\"],[0.5555555555555556,\"#d8576b\"],[0.6666666666666666,\"#ed7953\"],[0.7777777777777778,\"#fb9f3a\"],[0.8888888888888888,\"#fdca26\"],[1.0,\"#f0f921\"]],\"type\":\"histogram2d\"}],\"histogram\":[{\"marker\":{\"pattern\":{\"fillmode\":\"overlay\",\"size\":10,\"solidity\":0.2}},\"type\":\"histogram\"}],\"mesh3d\":[{\"colorbar\":{\"outlinewidth\":0,\"ticks\":\"\"},\"type\":\"mesh3d\"}],\"parcoords\":[{\"line\":{\"colorbar\":{\"outlinewidth\":0,\"ticks\":\"\"}},\"type\":\"parcoords\"}],\"pie\":[{\"automargin\":true,\"type\":\"pie\"}],\"scatter3d\":[{\"line\":{\"colorbar\":{\"outlinewidth\":0,\"ticks\":\"\"}},\"marker\":{\"colorbar\":{\"outlinewidth\":0,\"ticks\":\"\"}},\"type\":\"scatter3d\"}],\"scattercarpet\":[{\"marker\":{\"colorbar\":{\"outlinewidth\":0,\"ticks\":\"\"}},\"type\":\"scattercarpet\"}],\"scattergeo\":[{\"marker\":{\"colorbar\":{\"outlinewidth\":0,\"ticks\":\"\"}},\"type\":\"scattergeo\"}],\"scattergl\":[{\"marker\":{\"line\":{\"color\":\"#283442\"}},\"type\":\"scattergl\"}],\"scattermapbox\":[{\"marker\":{\"colorbar\":{\"outlinewidth\":0,\"ticks\":\"\"}},\"type\":\"scattermapbox\"}],\"scatterpolargl\":[{\"marker\":{\"colorbar\":{\"outlinewidth\":0,\"ticks\":\"\"}},\"type\":\"scatterpolargl\"}],\"scatterpolar\":[{\"marker\":{\"colorbar\":{\"outlinewidth\":0,\"ticks\":\"\"}},\"type\":\"scatterpolar\"}],\"scatter\":[{\"marker\":{\"line\":{\"color\":\"#283442\"}},\"type\":\"scatter\"}],\"scatterternary\":[{\"marker\":{\"colorbar\":{\"outlinewidth\":0,\"ticks\":\"\"}},\"type\":\"scatterternary\"}],\"surface\":[{\"colorbar\":{\"outlinewidth\":0,\"ticks\":\"\"},\"colorscale\":[[0.0,\"#0d0887\"],[0.1111111111111111,\"#46039f\"],[0.2222222222222222,\"#7201a8\"],[0.3333333333333333,\"#9c179e\"],[0.4444444444444444,\"#bd3786\"],[0.5555555555555556,\"#d8576b\"],[0.6666666666666666,\"#ed7953\"],[0.7777777777777778,\"#fb9f3a\"],[0.8888888888888888,\"#fdca26\"],[1.0,\"#f0f921\"]],\"type\":\"surface\"}],\"table\":[{\"cells\":{\"fill\":{\"color\":\"#506784\"},\"line\":{\"color\":\"rgb(17,17,17)\"}},\"header\":{\"fill\":{\"color\":\"#2a3f5f\"},\"line\":{\"color\":\"rgb(17,17,17)\"}},\"type\":\"table\"}]},\"layout\":{\"annotationdefaults\":{\"arrowcolor\":\"#f2f5fa\",\"arrowhead\":0,\"arrowwidth\":1},\"autotypenumbers\":\"strict\",\"coloraxis\":{\"colorbar\":{\"outlinewidth\":0,\"ticks\":\"\"}},\"colorscale\":{\"diverging\":[[0,\"#8e0152\"],[0.1,\"#c51b7d\"],[0.2,\"#de77ae\"],[0.3,\"#f1b6da\"],[0.4,\"#fde0ef\"],[0.5,\"#f7f7f7\"],[0.6,\"#e6f5d0\"],[0.7,\"#b8e186\"],[0.8,\"#7fbc41\"],[0.9,\"#4d9221\"],[1,\"#276419\"]],\"sequential\":[[0.0,\"#0d0887\"],[0.1111111111111111,\"#46039f\"],[0.2222222222222222,\"#7201a8\"],[0.3333333333333333,\"#9c179e\"],[0.4444444444444444,\"#bd3786\"],[0.5555555555555556,\"#d8576b\"],[0.6666666666666666,\"#ed7953\"],[0.7777777777777778,\"#fb9f3a\"],[0.8888888888888888,\"#fdca26\"],[1.0,\"#f0f921\"]],\"sequentialminus\":[[0.0,\"#0d0887\"],[0.1111111111111111,\"#46039f\"],[0.2222222222222222,\"#7201a8\"],[0.3333333333333333,\"#9c179e\"],[0.4444444444444444,\"#bd3786\"],[0.5555555555555556,\"#d8576b\"],[0.6666666666666666,\"#ed7953\"],[0.7777777777777778,\"#fb9f3a\"],[0.8888888888888888,\"#fdca26\"],[1.0,\"#f0f921\"]]},\"colorway\":[\"#636efa\",\"#EF553B\",\"#00cc96\",\"#ab63fa\",\"#FFA15A\",\"#19d3f3\",\"#FF6692\",\"#B6E880\",\"#FF97FF\",\"#FECB52\"],\"font\":{\"color\":\"#f2f5fa\"},\"geo\":{\"bgcolor\":\"rgb(17,17,17)\",\"lakecolor\":\"rgb(17,17,17)\",\"landcolor\":\"rgb(17,17,17)\",\"showlakes\":true,\"showland\":true,\"subunitcolor\":\"#506784\"},\"hoverlabel\":{\"align\":\"left\"},\"hovermode\":\"closest\",\"mapbox\":{\"style\":\"dark\"},\"paper_bgcolor\":\"rgb(17,17,17)\",\"plot_bgcolor\":\"rgb(17,17,17)\",\"polar\":{\"angularaxis\":{\"gridcolor\":\"#506784\",\"linecolor\":\"#506784\",\"ticks\":\"\"},\"bgcolor\":\"rgb(17,17,17)\",\"radialaxis\":{\"gridcolor\":\"#506784\",\"linecolor\":\"#506784\",\"ticks\":\"\"}},\"scene\":{\"xaxis\":{\"backgroundcolor\":\"rgb(17,17,17)\",\"gridcolor\":\"#506784\",\"gridwidth\":2,\"linecolor\":\"#506784\",\"showbackground\":true,\"ticks\":\"\",\"zerolinecolor\":\"#C8D4E3\"},\"yaxis\":{\"backgroundcolor\":\"rgb(17,17,17)\",\"gridcolor\":\"#506784\",\"gridwidth\":2,\"linecolor\":\"#506784\",\"showbackground\":true,\"ticks\":\"\",\"zerolinecolor\":\"#C8D4E3\"},\"zaxis\":{\"backgroundcolor\":\"rgb(17,17,17)\",\"gridcolor\":\"#506784\",\"gridwidth\":2,\"linecolor\":\"#506784\",\"showbackground\":true,\"ticks\":\"\",\"zerolinecolor\":\"#C8D4E3\"}},\"shapedefaults\":{\"line\":{\"color\":\"#f2f5fa\"}},\"sliderdefaults\":{\"bgcolor\":\"#C8D4E3\",\"bordercolor\":\"rgb(17,17,17)\",\"borderwidth\":1,\"tickwidth\":0},\"ternary\":{\"aaxis\":{\"gridcolor\":\"#506784\",\"linecolor\":\"#506784\",\"ticks\":\"\"},\"baxis\":{\"gridcolor\":\"#506784\",\"linecolor\":\"#506784\",\"ticks\":\"\"},\"bgcolor\":\"rgb(17,17,17)\",\"caxis\":{\"gridcolor\":\"#506784\",\"linecolor\":\"#506784\",\"ticks\":\"\"}},\"title\":{\"x\":0.05},\"updatemenudefaults\":{\"bgcolor\":\"#506784\",\"borderwidth\":0},\"xaxis\":{\"automargin\":true,\"gridcolor\":\"#283442\",\"linecolor\":\"#506784\",\"ticks\":\"\",\"title\":{\"standoff\":15},\"zerolinecolor\":\"#283442\",\"zerolinewidth\":2},\"yaxis\":{\"automargin\":true,\"gridcolor\":\"#283442\",\"linecolor\":\"#506784\",\"ticks\":\"\",\"title\":{\"standoff\":15},\"zerolinecolor\":\"#283442\",\"zerolinewidth\":2}}},\"xaxis\":{\"anchor\":\"y\",\"domain\":[0.0,1.0],\"title\":{\"text\":\"year\"}},\"yaxis\":{\"anchor\":\"x\",\"domain\":[0.0,1.0],\"title\":{\"text\":\"Number of Songs\"}},\"legend\":{\"tracegroupgap\":0},\"title\":{\"text\":\"Songs in every year on the platform\"},\"barmode\":\"relative\"},                        {\"responsive\": true}                    ).then(function(){\n",
       "                            \n",
       "var gd = document.getElementById('dafe6e41-80bd-48fb-bea6-d5c1f84544e5');\n",
       "var x = new MutationObserver(function (mutations, observer) {{\n",
       "        var display = window.getComputedStyle(gd).display;\n",
       "        if (!display || display === 'none') {{\n",
       "            console.log([gd, 'removed!']);\n",
       "            Plotly.purge(gd);\n",
       "            observer.disconnect();\n",
       "        }}\n",
       "}});\n",
       "\n",
       "// Listen for the removal of the full notebook cells\n",
       "var notebookContainer = gd.closest('#notebook-container');\n",
       "if (notebookContainer) {{\n",
       "    x.observe(notebookContainer, {childList: true});\n",
       "}}\n",
       "\n",
       "// Listen for the clearing of the current output cell\n",
       "var outputEl = gd.closest('.output');\n",
       "if (outputEl) {{\n",
       "    x.observe(outputEl, {childList: true});\n",
       "}}\n",
       "\n",
       "                        })                };                });            </script>        </div>"
      ]
     },
     "metadata": {},
     "output_type": "display_data"
    }
   ],
   "source": [
    "fig = px.bar(year,\n",
    "            template='plotly_dark',\n",
    "            title = 'Songs in every year on the platform',\n",
    "             color_discrete_sequence=['#1DB954'],\n",
    "             y=year.values,\n",
    "             text_auto=True,\n",
    "             x=year.index,\n",
    "             labels={'y':'Number of Songs'}\n",
    "            )\n",
    "fig.show()"
   ]
  },
  {
   "cell_type": "code",
   "execution_count": 18,
   "id": "379b5182",
   "metadata": {
    "execution": {
     "iopub.execute_input": "2024-02-01T16:39:41.201704Z",
     "iopub.status.busy": "2024-02-01T16:39:41.201351Z",
     "iopub.status.idle": "2024-02-01T16:39:41.208469Z",
     "shell.execute_reply": "2024-02-01T16:39:41.207806Z"
    },
    "papermill": {
     "duration": 0.018351,
     "end_time": "2024-02-01T16:39:41.209998",
     "exception": false,
     "start_time": "2024-02-01T16:39:41.191647",
     "status": "completed"
    },
    "tags": []
   },
   "outputs": [
    {
     "data": {
      "text/plain": [
       "popularity\n",
       "0     126\n",
       "69     76\n",
       "68     75\n",
       "73     69\n",
       "74     69\n",
       "67     66\n",
       "76     64\n",
       "64     63\n",
       "63     62\n",
       "72     62\n",
       "Name: count, dtype: int64"
      ]
     },
     "execution_count": 18,
     "metadata": {},
     "output_type": "execute_result"
    }
   ],
   "source": [
    "popularity = df['popularity'].value_counts().head(10)\n",
    "popularity"
   ]
  },
  {
   "cell_type": "code",
   "execution_count": 19,
   "id": "51fe8dab",
   "metadata": {
    "execution": {
     "iopub.execute_input": "2024-02-01T16:39:41.228932Z",
     "iopub.status.busy": "2024-02-01T16:39:41.228416Z",
     "iopub.status.idle": "2024-02-01T16:39:41.236305Z",
     "shell.execute_reply": "2024-02-01T16:39:41.235513Z"
    },
    "papermill": {
     "duration": 0.01954,
     "end_time": "2024-02-01T16:39:41.238208",
     "exception": false,
     "start_time": "2024-02-01T16:39:41.218668",
     "status": "completed"
    },
    "tags": []
   },
   "outputs": [
    {
     "data": {
      "text/plain": [
       "count    2000.000000\n",
       "mean       59.872500\n",
       "std        21.335577\n",
       "min         0.000000\n",
       "25%        56.000000\n",
       "50%        65.500000\n",
       "75%        73.000000\n",
       "max        89.000000\n",
       "Name: popularity, dtype: float64"
      ]
     },
     "execution_count": 19,
     "metadata": {},
     "output_type": "execute_result"
    }
   ],
   "source": [
    "df['popularity'].describe()"
   ]
  },
  {
   "cell_type": "markdown",
   "id": "2d0be456",
   "metadata": {
    "papermill": {
     "duration": 0.008843,
     "end_time": "2024-02-01T16:39:41.256289",
     "exception": false,
     "start_time": "2024-02-01T16:39:41.247446",
     "status": "completed"
    },
    "tags": []
   },
   "source": [
    "### Huge number of songs have 0 popluarity as the platform publish some songs not all people love and no one listened ot it as they are not famous"
   ]
  },
  {
   "cell_type": "code",
   "execution_count": 20,
   "id": "ef4810ef",
   "metadata": {
    "execution": {
     "iopub.execute_input": "2024-02-01T16:39:41.275281Z",
     "iopub.status.busy": "2024-02-01T16:39:41.274777Z",
     "iopub.status.idle": "2024-02-01T16:39:41.289390Z",
     "shell.execute_reply": "2024-02-01T16:39:41.288219Z"
    },
    "papermill": {
     "duration": 0.027009,
     "end_time": "2024-02-01T16:39:41.291895",
     "exception": false,
     "start_time": "2024-02-01T16:39:41.264886",
     "status": "completed"
    },
    "tags": []
   },
   "outputs": [
    {
     "data": {
      "text/html": [
       "<div>\n",
       "<style scoped>\n",
       "    .dataframe tbody tr th:only-of-type {\n",
       "        vertical-align: middle;\n",
       "    }\n",
       "\n",
       "    .dataframe tbody tr th {\n",
       "        vertical-align: top;\n",
       "    }\n",
       "\n",
       "    .dataframe thead th {\n",
       "        text-align: right;\n",
       "    }\n",
       "</style>\n",
       "<table border=\"1\" class=\"dataframe\">\n",
       "  <thead>\n",
       "    <tr style=\"text-align: right;\">\n",
       "      <th></th>\n",
       "      <th>artist</th>\n",
       "      <th>song</th>\n",
       "      <th>duration_ms</th>\n",
       "      <th>explicit</th>\n",
       "      <th>year</th>\n",
       "      <th>popularity</th>\n",
       "      <th>danceability</th>\n",
       "      <th>energy</th>\n",
       "      <th>key</th>\n",
       "      <th>loudness</th>\n",
       "      <th>mode</th>\n",
       "      <th>speechiness</th>\n",
       "      <th>acousticness</th>\n",
       "      <th>instrumentalness</th>\n",
       "      <th>liveness</th>\n",
       "      <th>valence</th>\n",
       "      <th>tempo</th>\n",
       "      <th>genre</th>\n",
       "    </tr>\n",
       "  </thead>\n",
       "  <tbody>\n",
       "    <tr>\n",
       "      <th>1322</th>\n",
       "      <td>The Neighbourhood</td>\n",
       "      <td>Sweater Weather</td>\n",
       "      <td>240400.0</td>\n",
       "      <td>False</td>\n",
       "      <td>2013</td>\n",
       "      <td>89</td>\n",
       "      <td>0.612</td>\n",
       "      <td>0.807</td>\n",
       "      <td>10</td>\n",
       "      <td>-2.81</td>\n",
       "      <td>1</td>\n",
       "      <td>0.0336</td>\n",
       "      <td>0.0495</td>\n",
       "      <td>0.0177</td>\n",
       "      <td>0.101</td>\n",
       "      <td>0.398</td>\n",
       "      <td>124.053</td>\n",
       "      <td>rock, pop</td>\n",
       "    </tr>\n",
       "  </tbody>\n",
       "</table>\n",
       "</div>"
      ],
      "text/plain": [
       "                 artist             song  duration_ms  explicit  year  \\\n",
       "1322  The Neighbourhood  Sweater Weather     240400.0     False  2013   \n",
       "\n",
       "      popularity  danceability  energy  key  loudness  mode  speechiness  \\\n",
       "1322          89         0.612   0.807   10     -2.81     1       0.0336   \n",
       "\n",
       "      acousticness  instrumentalness  liveness  valence    tempo      genre  \n",
       "1322        0.0495            0.0177     0.101    0.398  124.053  rock, pop  "
      ]
     },
     "execution_count": 20,
     "metadata": {},
     "output_type": "execute_result"
    }
   ],
   "source": [
    "df[df['popularity'] == 89]"
   ]
  },
  {
   "cell_type": "markdown",
   "id": "5f1b72f6",
   "metadata": {
    "papermill": {
     "duration": 0.008847,
     "end_time": "2024-02-01T16:39:41.310393",
     "exception": false,
     "start_time": "2024-02-01T16:39:41.301546",
     "status": "completed"
    },
    "tags": []
   },
   "source": [
    "### Most popular song"
   ]
  },
  {
   "cell_type": "code",
   "execution_count": 21,
   "id": "07f0adcc",
   "metadata": {
    "execution": {
     "iopub.execute_input": "2024-02-01T16:39:41.330923Z",
     "iopub.status.busy": "2024-02-01T16:39:41.330370Z",
     "iopub.status.idle": "2024-02-01T16:39:41.345998Z",
     "shell.execute_reply": "2024-02-01T16:39:41.344729Z"
    },
    "papermill": {
     "duration": 0.028363,
     "end_time": "2024-02-01T16:39:41.348137",
     "exception": false,
     "start_time": "2024-02-01T16:39:41.319774",
     "status": "completed"
    },
    "tags": []
   },
   "outputs": [
    {
     "data": {
      "text/html": [
       "<div>\n",
       "<style scoped>\n",
       "    .dataframe tbody tr th:only-of-type {\n",
       "        vertical-align: middle;\n",
       "    }\n",
       "\n",
       "    .dataframe tbody tr th {\n",
       "        vertical-align: top;\n",
       "    }\n",
       "\n",
       "    .dataframe thead th {\n",
       "        text-align: right;\n",
       "    }\n",
       "</style>\n",
       "<table border=\"1\" class=\"dataframe\">\n",
       "  <thead>\n",
       "    <tr style=\"text-align: right;\">\n",
       "      <th></th>\n",
       "      <th>popularity</th>\n",
       "    </tr>\n",
       "    <tr>\n",
       "      <th>artist</th>\n",
       "      <th></th>\n",
       "    </tr>\n",
       "  </thead>\n",
       "  <tbody>\n",
       "    <tr>\n",
       "      <th>*NSYNC</th>\n",
       "      <td>55.0</td>\n",
       "    </tr>\n",
       "    <tr>\n",
       "      <th>112</th>\n",
       "      <td>60.0</td>\n",
       "    </tr>\n",
       "    <tr>\n",
       "      <th>2 Chainz</th>\n",
       "      <td>70.0</td>\n",
       "    </tr>\n",
       "    <tr>\n",
       "      <th>21 Savage</th>\n",
       "      <td>76.0</td>\n",
       "    </tr>\n",
       "    <tr>\n",
       "      <th>2Pac</th>\n",
       "      <td>62.5</td>\n",
       "    </tr>\n",
       "    <tr>\n",
       "      <th>...</th>\n",
       "      <td>...</td>\n",
       "    </tr>\n",
       "    <tr>\n",
       "      <th>girl in red</th>\n",
       "      <td>82.0</td>\n",
       "    </tr>\n",
       "    <tr>\n",
       "      <th>iann dior</th>\n",
       "      <td>70.5</td>\n",
       "    </tr>\n",
       "    <tr>\n",
       "      <th>iio</th>\n",
       "      <td>54.0</td>\n",
       "    </tr>\n",
       "    <tr>\n",
       "      <th>t.A.T.u.</th>\n",
       "      <td>39.0</td>\n",
       "    </tr>\n",
       "    <tr>\n",
       "      <th>will.i.am</th>\n",
       "      <td>63.5</td>\n",
       "    </tr>\n",
       "  </tbody>\n",
       "</table>\n",
       "<p>835 rows × 1 columns</p>\n",
       "</div>"
      ],
      "text/plain": [
       "             popularity\n",
       "artist                 \n",
       "*NSYNC             55.0\n",
       "112                60.0\n",
       "2 Chainz           70.0\n",
       "21 Savage          76.0\n",
       "2Pac               62.5\n",
       "...                 ...\n",
       "girl in red        82.0\n",
       "iann dior          70.5\n",
       "iio                54.0\n",
       "t.A.T.u.           39.0\n",
       "will.i.am          63.5\n",
       "\n",
       "[835 rows x 1 columns]"
      ]
     },
     "execution_count": 21,
     "metadata": {},
     "output_type": "execute_result"
    }
   ],
   "source": [
    "df[['artist','popularity']].groupby('artist').mean()"
   ]
  },
  {
   "cell_type": "markdown",
   "id": "236e535c",
   "metadata": {
    "papermill": {
     "duration": 0.009025,
     "end_time": "2024-02-01T16:39:41.366672",
     "exception": false,
     "start_time": "2024-02-01T16:39:41.357647",
     "status": "completed"
    },
    "tags": []
   },
   "source": [
    "### Top 10 artists with average poplularity of their songs"
   ]
  },
  {
   "cell_type": "code",
   "execution_count": 22,
   "id": "73d6deaf",
   "metadata": {
    "execution": {
     "iopub.execute_input": "2024-02-01T16:39:41.386434Z",
     "iopub.status.busy": "2024-02-01T16:39:41.385916Z",
     "iopub.status.idle": "2024-02-01T16:39:42.016748Z",
     "shell.execute_reply": "2024-02-01T16:39:42.015640Z"
    },
    "papermill": {
     "duration": 0.642688,
     "end_time": "2024-02-01T16:39:42.018465",
     "exception": false,
     "start_time": "2024-02-01T16:39:41.375777",
     "status": "completed"
    },
    "tags": []
   },
   "outputs": [
    {
     "data": {
      "text/html": [
       "<div>                            <div id=\"48c38660-a6a3-44ee-aaf9-1e6df7998742\" class=\"plotly-graph-div\" style=\"height:525px; width:100%;\"></div>            <script type=\"text/javascript\">                require([\"plotly\"], function(Plotly) {                    window.PLOTLYENV=window.PLOTLYENV || {};                                    if (document.getElementById(\"48c38660-a6a3-44ee-aaf9-1e6df7998742\")) {                    Plotly.newPlot(                        \"48c38660-a6a3-44ee-aaf9-1e6df7998742\",                        [{\"alignmentgroup\":\"True\",\"bingroup\":\"x\",\"hovertemplate\":\"popularity=%{x}\\u003cbr\\u003ecount=%{y}\\u003cextra\\u003e\\u003c\\u002fextra\\u003e\",\"legendgroup\":\"\",\"marker\":{\"color\":\"rgb(229, 134, 6)\",\"pattern\":{\"shape\":\"\"}},\"name\":\"\",\"offsetgroup\":\"\",\"orientation\":\"v\",\"showlegend\":false,\"x\":[77,79,66,78,65,69,86,68,75,77,1,56,55,62,61,53,64,73,64,82,83,65,62,54,54,72,69,53,54,47,71,49,58,52,58,59,55,69,61,55,54,66,36,79,49,68,43,59,64,52,47,60,55,60,59,59,65,63,65,0,58,52,0,60,61,58,78,55,70,66,55,55,58,59,56,70,64,78,52,57,49,57,54,68,62,65,60,54,56,54,60,70,64,68,65,71,64,69,65,68,76,70,83,73,68,1,74,78,77,62,71,69,62,57,76,53,73,65,54,54,57,63,43,71,64,73,0,50,78,76,82,50,42,73,57,69,57,68,52,60,50,74,57,48,61,67,65,55,63,47,54,75,57,68,26,53,58,58,67,68,63,60,1,61,46,56,60,69,60,58,64,53,56,68,46,0,65,66,64,65,54,66,0,51,48,0,54,60,75,59,68,63,69,56,30,64,56,65,45,61,77,87,78,75,72,64,27,58,68,85,69,60,53,53,40,83,66,0,54,59,60,43,66,61,46,49,42,52,60,55,59,47,58,59,59,64,55,75,53,68,49,45,48,73,43,26,2,80,58,59,53,47,55,58,35,63,45,24,55,62,62,32,53,71,61,54,68,52,56,79,70,60,64,69,73,70,75,63,58,67,73,60,65,50,64,57,59,47,56,70,60,40,40,60,58,56,64,72,51,60,81,74,77,76,50,68,70,56,39,66,68,61,59,71,76,69,72,70,79,57,59,72,47,62,73,36,59,57,54,76,3,54,63,47,61,68,48,50,72,58,61,58,52,57,49,70,58,57,67,69,71,48,48,72,61,57,60,59,67,49,67,57,59,0,38,57,58,67,60,73,57,60,48,56,79,54,70,65,67,75,61,55,60,64,44,63,61,61,47,61,63,66,67,61,58,68,63,74,70,55,81,77,81,80,79,65,11,53,56,67,56,60,56,68,59,63,81,61,16,73,42,66,61,72,67,63,56,63,57,53,67,73,56,53,70,61,33,49,61,37,68,68,49,45,56,67,58,39,68,65,57,0,67,61,63,51,47,66,57,63,64,77,59,61,42,73,72,57,46,60,58,72,77,57,43,55,76,61,48,68,44,64,62,74,80,56,55,76,59,59,58,64,66,59,57,48,65,56,55,61,69,72,78,77,79,75,72,72,74,28,74,76,67,52,59,68,63,73,72,74,71,0,67,61,60,4,65,76,77,82,62,21,54,64,55,77,72,73,54,58,52,50,63,67,56,42,65,63,63,61,39,41,63,52,52,59,61,52,69,59,74,50,68,56,60,66,0,57,34,66,58,59,61,1,62,60,71,1,62,63,61,71,52,67,0,58,67,62,69,67,61,69,71,55,71,56,65,67,59,76,82,78,78,70,71,73,74,61,79,69,55,61,71,75,82,39,58,68,59,74,65,75,63,57,73,63,57,67,40,68,66,1,72,65,60,64,57,0,63,42,57,0,68,50,49,46,69,49,70,73,60,65,62,70,74,57,64,62,37,56,72,0,45,72,68,67,48,64,62,63,69,76,63,75,35,56,68,42,67,70,67,63,0,59,46,0,64,2,67,64,35,79,61,76,59,65,49,69,0,73,75,81,79,76,0,78,70,71,80,81,43,73,65,58,70,67,0,0,68,54,64,59,53,74,59,0,69,62,47,17,77,60,68,61,73,66,59,62,73,64,67,72,64,73,80,57,66,75,74,45,48,70,65,3,59,63,57,57,69,76,57,76,76,58,56,45,59,36,62,68,72,30,52,78,61,67,46,57,0,74,69,66,78,52,68,76,52,2,61,68,57,57,53,58,56,62,58,64,79,51,80,73,74,77,74,71,70,66,75,70,65,76,1,61,69,63,52,71,73,77,56,69,76,65,34,69,57,72,46,74,64,75,65,69,61,0,65,68,73,51,68,56,56,66,64,65,62,78,47,78,69,57,60,57,76,66,54,1,56,47,0,77,55,58,57,62,59,71,53,55,51,61,70,62,67,74,62,59,63,64,56,80,80,45,69,67,58,51,54,63,1,60,55,68,64,74,1,67,58,0,80,77,74,75,74,74,63,74,69,75,57,72,82,72,76,69,59,66,48,65,68,68,70,82,65,67,63,68,66,75,80,75,63,38,58,64,59,2,3,41,69,65,76,70,46,59,54,0,70,65,64,65,57,51,73,63,66,58,59,70,54,68,71,77,65,66,71,64,55,71,65,59,75,62,70,74,60,67,64,62,74,39,50,67,53,80,54,56,79,57,64,73,57,55,67,62,49,68,68,73,77,81,80,77,80,76,80,73,72,68,42,73,62,46,0,67,69,63,66,74,61,47,79,67,74,57,32,69,59,63,68,79,75,76,74,58,57,76,0,75,69,1,55,53,57,0,68,63,0,73,67,3,68,62,81,66,54,57,63,61,51,65,1,74,68,73,66,35,57,54,70,57,63,62,61,2,60,68,18,69,54,56,66,0,65,71,74,69,52,72,78,71,73,65,64,51,46,0,64,65,2,77,73,72,78,71,0,71,79,73,69,68,61,67,42,76,72,51,81,79,75,65,66,81,66,63,72,49,61,67,70,57,55,76,65,76,65,62,63,82,74,2,71,1,70,71,61,77,71,65,75,62,48,69,65,76,78,69,66,53,74,39,60,48,76,59,72,0,61,62,70,82,74,73,53,63,72,68,75,70,64,70,4,65,67,60,50,67,63,73,79,69,69,76,72,75,64,0,60,70,75,78,76,70,74,52,74,65,71,82,74,70,69,77,62,66,64,63,78,73,58,67,72,78,66,0,73,85,77,76,75,62,73,75,67,0,68,0,82,75,0,0,51,61,79,0,0,0,82,64,64,66,78,76,50,63,79,74,59,61,76,68,77,67,46,60,58,0,0,72,53,57,77,82,53,0,77,62,65,63,77,74,66,0,61,63,71,62,74,74,65,48,64,66,69,71,75,0,74,67,77,55,77,6,85,1,83,78,0,1,58,88,69,69,77,68,68,81,0,56,74,0,89,68,0,79,84,73,75,64,69,71,54,60,0,72,66,68,71,0,68,81,66,76,84,66,68,61,76,76,63,70,57,70,60,2,27,50,0,71,0,61,64,65,48,61,59,73,56,65,62,72,61,74,76,57,0,77,0,69,66,78,78,79,78,0,79,59,72,0,66,0,0,68,73,65,76,67,83,57,79,74,0,69,79,80,80,78,84,49,72,50,67,74,67,69,56,0,45,71,72,54,62,72,61,66,66,74,66,75,70,80,62,73,21,0,76,78,62,0,76,77,50,2,80,64,70,0,68,66,72,59,0,48,73,72,74,66,2,77,67,61,61,82,74,73,49,79,0,58,65,74,74,79,83,69,52,0,64,80,72,63,70,81,75,55,71,66,80,70,0,63,71,67,0,0,62,53,53,0,82,81,81,77,73,76,78,78,75,0,82,84,85,66,85,69,46,71,70,49,76,76,65,62,80,76,33,83,73,63,79,49,48,79,72,78,0,80,74,73,0,79,73,0,64,59,69,72,76,0,71,71,68,66,69,67,73,77,77,64,68,74,74,79,55,75,77,74,83,0,55,81,77,0,66,47,68,75,76,0,71,78,67,64,74,0,78,1,71,0,67,0,66,80,79,1,77,55,70,51,0,84,0,83,1,70,72,67,70,75,82,80,76,86,67,77,68,0,75,80,74,67,79,62,51,70,0,69,65,76,78,0,81,79,77,69,80,0,71,73,69,74,64,80,76,0,57,79,0,68,45,70,0,3,82,73,76,0,69,75,79,55,51,55,0,75,63,59,66,0,46,72,62,69,0,0,73,0,68,78,63,60,1,0,65,68,62,77,63,62,1,63,53,76,66,67,1,0,79,74,84,84,0,79,75,1,1,68,83,85,81,83,84,79,0,0,75,77,74,82,74,0,77,53,1,75,67,0,69,81,80,76,75,0,77,80,58,1,74,0,69,0,62,57,76,4,64,76,70,51,0,0,83,72,67,77,51,0,73,67,68,0,63,73,61,59,67,57,72,81,77,0,69,57,79,64,64,61,74,47,1,0,0,0,76,71,48,0,0,0,61,78,73,71,0,53,68,78,8,75,81,83,80,75,78,84,80,78,79,82,77,77,81,73,81,80,76,71,69,86,75,71,77,42,80,76,72,74,82,69,71,63,58,69,71,72,80,69,64,78,66,67,74,82,78,72,70,65,80,69,0,62,79,79,69,72,79,70,59,72,72,80,73,72,82,79,67,72,68,75,60,64,1,75,62,65,63,56,72,71,67,80,74,71,72,72,68,74,54,78,56,75,70,81,73,73,73,77,80,77,79,83,78,83,79,84,77,81,82,79,84,60,75,0,77,79,82,1,68,75,63,81,0,80,70,73,71,78,69,86,77,76,78,79,57,75,72,72,76,71,77,78,53,78,69,76,65,69,73,76,78,7,79,61,73,66,73,64,78,77,81,4,74,80,70,70,1,72,69,75,35,64,71,1,71,80,57,78,64,69,75,69,74,71,80,64,2,69,80,73,73,57,71,63,1,79,78,69,75,85],\"xaxis\":\"x\",\"yaxis\":\"y\",\"type\":\"histogram\"}],                        {\"barmode\":\"relative\",\"legend\":{\"tracegroupgap\":0},\"template\":{\"data\":{\"barpolar\":[{\"marker\":{\"line\":{\"color\":\"rgb(17,17,17)\",\"width\":0.5},\"pattern\":{\"fillmode\":\"overlay\",\"size\":10,\"solidity\":0.2}},\"type\":\"barpolar\"}],\"bar\":[{\"error_x\":{\"color\":\"#f2f5fa\"},\"error_y\":{\"color\":\"#f2f5fa\"},\"marker\":{\"line\":{\"color\":\"rgb(17,17,17)\",\"width\":0.5},\"pattern\":{\"fillmode\":\"overlay\",\"size\":10,\"solidity\":0.2}},\"type\":\"bar\"}],\"carpet\":[{\"aaxis\":{\"endlinecolor\":\"#A2B1C6\",\"gridcolor\":\"#506784\",\"linecolor\":\"#506784\",\"minorgridcolor\":\"#506784\",\"startlinecolor\":\"#A2B1C6\"},\"baxis\":{\"endlinecolor\":\"#A2B1C6\",\"gridcolor\":\"#506784\",\"linecolor\":\"#506784\",\"minorgridcolor\":\"#506784\",\"startlinecolor\":\"#A2B1C6\"},\"type\":\"carpet\"}],\"choropleth\":[{\"colorbar\":{\"outlinewidth\":0,\"ticks\":\"\"},\"type\":\"choropleth\"}],\"contourcarpet\":[{\"colorbar\":{\"outlinewidth\":0,\"ticks\":\"\"},\"type\":\"contourcarpet\"}],\"contour\":[{\"colorbar\":{\"outlinewidth\":0,\"ticks\":\"\"},\"colorscale\":[[0.0,\"#0d0887\"],[0.1111111111111111,\"#46039f\"],[0.2222222222222222,\"#7201a8\"],[0.3333333333333333,\"#9c179e\"],[0.4444444444444444,\"#bd3786\"],[0.5555555555555556,\"#d8576b\"],[0.6666666666666666,\"#ed7953\"],[0.7777777777777778,\"#fb9f3a\"],[0.8888888888888888,\"#fdca26\"],[1.0,\"#f0f921\"]],\"type\":\"contour\"}],\"heatmapgl\":[{\"colorbar\":{\"outlinewidth\":0,\"ticks\":\"\"},\"colorscale\":[[0.0,\"#0d0887\"],[0.1111111111111111,\"#46039f\"],[0.2222222222222222,\"#7201a8\"],[0.3333333333333333,\"#9c179e\"],[0.4444444444444444,\"#bd3786\"],[0.5555555555555556,\"#d8576b\"],[0.6666666666666666,\"#ed7953\"],[0.7777777777777778,\"#fb9f3a\"],[0.8888888888888888,\"#fdca26\"],[1.0,\"#f0f921\"]],\"type\":\"heatmapgl\"}],\"heatmap\":[{\"colorbar\":{\"outlinewidth\":0,\"ticks\":\"\"},\"colorscale\":[[0.0,\"#0d0887\"],[0.1111111111111111,\"#46039f\"],[0.2222222222222222,\"#7201a8\"],[0.3333333333333333,\"#9c179e\"],[0.4444444444444444,\"#bd3786\"],[0.5555555555555556,\"#d8576b\"],[0.6666666666666666,\"#ed7953\"],[0.7777777777777778,\"#fb9f3a\"],[0.8888888888888888,\"#fdca26\"],[1.0,\"#f0f921\"]],\"type\":\"heatmap\"}],\"histogram2dcontour\":[{\"colorbar\":{\"outlinewidth\":0,\"ticks\":\"\"},\"colorscale\":[[0.0,\"#0d0887\"],[0.1111111111111111,\"#46039f\"],[0.2222222222222222,\"#7201a8\"],[0.3333333333333333,\"#9c179e\"],[0.4444444444444444,\"#bd3786\"],[0.5555555555555556,\"#d8576b\"],[0.6666666666666666,\"#ed7953\"],[0.7777777777777778,\"#fb9f3a\"],[0.8888888888888888,\"#fdca26\"],[1.0,\"#f0f921\"]],\"type\":\"histogram2dcontour\"}],\"histogram2d\":[{\"colorbar\":{\"outlinewidth\":0,\"ticks\":\"\"},\"colorscale\":[[0.0,\"#0d0887\"],[0.1111111111111111,\"#46039f\"],[0.2222222222222222,\"#7201a8\"],[0.3333333333333333,\"#9c179e\"],[0.4444444444444444,\"#bd3786\"],[0.5555555555555556,\"#d8576b\"],[0.6666666666666666,\"#ed7953\"],[0.7777777777777778,\"#fb9f3a\"],[0.8888888888888888,\"#fdca26\"],[1.0,\"#f0f921\"]],\"type\":\"histogram2d\"}],\"histogram\":[{\"marker\":{\"pattern\":{\"fillmode\":\"overlay\",\"size\":10,\"solidity\":0.2}},\"type\":\"histogram\"}],\"mesh3d\":[{\"colorbar\":{\"outlinewidth\":0,\"ticks\":\"\"},\"type\":\"mesh3d\"}],\"parcoords\":[{\"line\":{\"colorbar\":{\"outlinewidth\":0,\"ticks\":\"\"}},\"type\":\"parcoords\"}],\"pie\":[{\"automargin\":true,\"type\":\"pie\"}],\"scatter3d\":[{\"line\":{\"colorbar\":{\"outlinewidth\":0,\"ticks\":\"\"}},\"marker\":{\"colorbar\":{\"outlinewidth\":0,\"ticks\":\"\"}},\"type\":\"scatter3d\"}],\"scattercarpet\":[{\"marker\":{\"colorbar\":{\"outlinewidth\":0,\"ticks\":\"\"}},\"type\":\"scattercarpet\"}],\"scattergeo\":[{\"marker\":{\"colorbar\":{\"outlinewidth\":0,\"ticks\":\"\"}},\"type\":\"scattergeo\"}],\"scattergl\":[{\"marker\":{\"line\":{\"color\":\"#283442\"}},\"type\":\"scattergl\"}],\"scattermapbox\":[{\"marker\":{\"colorbar\":{\"outlinewidth\":0,\"ticks\":\"\"}},\"type\":\"scattermapbox\"}],\"scatterpolargl\":[{\"marker\":{\"colorbar\":{\"outlinewidth\":0,\"ticks\":\"\"}},\"type\":\"scatterpolargl\"}],\"scatterpolar\":[{\"marker\":{\"colorbar\":{\"outlinewidth\":0,\"ticks\":\"\"}},\"type\":\"scatterpolar\"}],\"scatter\":[{\"marker\":{\"line\":{\"color\":\"#283442\"}},\"type\":\"scatter\"}],\"scatterternary\":[{\"marker\":{\"colorbar\":{\"outlinewidth\":0,\"ticks\":\"\"}},\"type\":\"scatterternary\"}],\"surface\":[{\"colorbar\":{\"outlinewidth\":0,\"ticks\":\"\"},\"colorscale\":[[0.0,\"#0d0887\"],[0.1111111111111111,\"#46039f\"],[0.2222222222222222,\"#7201a8\"],[0.3333333333333333,\"#9c179e\"],[0.4444444444444444,\"#bd3786\"],[0.5555555555555556,\"#d8576b\"],[0.6666666666666666,\"#ed7953\"],[0.7777777777777778,\"#fb9f3a\"],[0.8888888888888888,\"#fdca26\"],[1.0,\"#f0f921\"]],\"type\":\"surface\"}],\"table\":[{\"cells\":{\"fill\":{\"color\":\"#506784\"},\"line\":{\"color\":\"rgb(17,17,17)\"}},\"header\":{\"fill\":{\"color\":\"#2a3f5f\"},\"line\":{\"color\":\"rgb(17,17,17)\"}},\"type\":\"table\"}]},\"layout\":{\"annotationdefaults\":{\"arrowcolor\":\"#f2f5fa\",\"arrowhead\":0,\"arrowwidth\":1},\"autotypenumbers\":\"strict\",\"coloraxis\":{\"colorbar\":{\"outlinewidth\":0,\"ticks\":\"\"}},\"colorscale\":{\"diverging\":[[0,\"#8e0152\"],[0.1,\"#c51b7d\"],[0.2,\"#de77ae\"],[0.3,\"#f1b6da\"],[0.4,\"#fde0ef\"],[0.5,\"#f7f7f7\"],[0.6,\"#e6f5d0\"],[0.7,\"#b8e186\"],[0.8,\"#7fbc41\"],[0.9,\"#4d9221\"],[1,\"#276419\"]],\"sequential\":[[0.0,\"#0d0887\"],[0.1111111111111111,\"#46039f\"],[0.2222222222222222,\"#7201a8\"],[0.3333333333333333,\"#9c179e\"],[0.4444444444444444,\"#bd3786\"],[0.5555555555555556,\"#d8576b\"],[0.6666666666666666,\"#ed7953\"],[0.7777777777777778,\"#fb9f3a\"],[0.8888888888888888,\"#fdca26\"],[1.0,\"#f0f921\"]],\"sequentialminus\":[[0.0,\"#0d0887\"],[0.1111111111111111,\"#46039f\"],[0.2222222222222222,\"#7201a8\"],[0.3333333333333333,\"#9c179e\"],[0.4444444444444444,\"#bd3786\"],[0.5555555555555556,\"#d8576b\"],[0.6666666666666666,\"#ed7953\"],[0.7777777777777778,\"#fb9f3a\"],[0.8888888888888888,\"#fdca26\"],[1.0,\"#f0f921\"]]},\"colorway\":[\"#636efa\",\"#EF553B\",\"#00cc96\",\"#ab63fa\",\"#FFA15A\",\"#19d3f3\",\"#FF6692\",\"#B6E880\",\"#FF97FF\",\"#FECB52\"],\"font\":{\"color\":\"#f2f5fa\"},\"geo\":{\"bgcolor\":\"rgb(17,17,17)\",\"lakecolor\":\"rgb(17,17,17)\",\"landcolor\":\"rgb(17,17,17)\",\"showlakes\":true,\"showland\":true,\"subunitcolor\":\"#506784\"},\"hoverlabel\":{\"align\":\"left\"},\"hovermode\":\"closest\",\"mapbox\":{\"style\":\"dark\"},\"paper_bgcolor\":\"rgb(17,17,17)\",\"plot_bgcolor\":\"rgb(17,17,17)\",\"polar\":{\"angularaxis\":{\"gridcolor\":\"#506784\",\"linecolor\":\"#506784\",\"ticks\":\"\"},\"bgcolor\":\"rgb(17,17,17)\",\"radialaxis\":{\"gridcolor\":\"#506784\",\"linecolor\":\"#506784\",\"ticks\":\"\"}},\"scene\":{\"xaxis\":{\"backgroundcolor\":\"rgb(17,17,17)\",\"gridcolor\":\"#506784\",\"gridwidth\":2,\"linecolor\":\"#506784\",\"showbackground\":true,\"ticks\":\"\",\"zerolinecolor\":\"#C8D4E3\"},\"yaxis\":{\"backgroundcolor\":\"rgb(17,17,17)\",\"gridcolor\":\"#506784\",\"gridwidth\":2,\"linecolor\":\"#506784\",\"showbackground\":true,\"ticks\":\"\",\"zerolinecolor\":\"#C8D4E3\"},\"zaxis\":{\"backgroundcolor\":\"rgb(17,17,17)\",\"gridcolor\":\"#506784\",\"gridwidth\":2,\"linecolor\":\"#506784\",\"showbackground\":true,\"ticks\":\"\",\"zerolinecolor\":\"#C8D4E3\"}},\"shapedefaults\":{\"line\":{\"color\":\"#f2f5fa\"}},\"sliderdefaults\":{\"bgcolor\":\"#C8D4E3\",\"bordercolor\":\"rgb(17,17,17)\",\"borderwidth\":1,\"tickwidth\":0},\"ternary\":{\"aaxis\":{\"gridcolor\":\"#506784\",\"linecolor\":\"#506784\",\"ticks\":\"\"},\"baxis\":{\"gridcolor\":\"#506784\",\"linecolor\":\"#506784\",\"ticks\":\"\"},\"bgcolor\":\"rgb(17,17,17)\",\"caxis\":{\"gridcolor\":\"#506784\",\"linecolor\":\"#506784\",\"ticks\":\"\"}},\"title\":{\"x\":0.05},\"updatemenudefaults\":{\"bgcolor\":\"#506784\",\"borderwidth\":0},\"xaxis\":{\"automargin\":true,\"gridcolor\":\"#283442\",\"linecolor\":\"#506784\",\"ticks\":\"\",\"title\":{\"standoff\":15},\"zerolinecolor\":\"#283442\",\"zerolinewidth\":2},\"yaxis\":{\"automargin\":true,\"gridcolor\":\"#283442\",\"linecolor\":\"#506784\",\"ticks\":\"\",\"title\":{\"standoff\":15},\"zerolinecolor\":\"#283442\",\"zerolinewidth\":2}}},\"title\":{\"text\":\"popularity distribution in top hits\"},\"xaxis\":{\"anchor\":\"y\",\"domain\":[0.0,1.0],\"title\":{\"text\":\"popularity\"}},\"yaxis\":{\"anchor\":\"x\",\"domain\":[0.0,1.0],\"title\":{\"text\":\"count\"}}},                        {\"responsive\": true}                    ).then(function(){\n",
       "                            \n",
       "var gd = document.getElementById('48c38660-a6a3-44ee-aaf9-1e6df7998742');\n",
       "var x = new MutationObserver(function (mutations, observer) {{\n",
       "        var display = window.getComputedStyle(gd).display;\n",
       "        if (!display || display === 'none') {{\n",
       "            console.log([gd, 'removed!']);\n",
       "            Plotly.purge(gd);\n",
       "            observer.disconnect();\n",
       "        }}\n",
       "}});\n",
       "\n",
       "// Listen for the removal of the full notebook cells\n",
       "var notebookContainer = gd.closest('#notebook-container');\n",
       "if (notebookContainer) {{\n",
       "    x.observe(notebookContainer, {childList: true});\n",
       "}}\n",
       "\n",
       "// Listen for the clearing of the current output cell\n",
       "var outputEl = gd.closest('.output');\n",
       "if (outputEl) {{\n",
       "    x.observe(outputEl, {childList: true});\n",
       "}}\n",
       "\n",
       "                        })                };                });            </script>        </div>"
      ]
     },
     "metadata": {},
     "output_type": "display_data"
    },
    {
     "data": {
      "text/html": [
       "<div>                            <div id=\"de940312-75b3-46f9-a9dc-3cf6f0109cef\" class=\"plotly-graph-div\" style=\"height:525px; width:100%;\"></div>            <script type=\"text/javascript\">                require([\"plotly\"], function(Plotly) {                    window.PLOTLYENV=window.PLOTLYENV || {};                                    if (document.getElementById(\"de940312-75b3-46f9-a9dc-3cf6f0109cef\")) {                    Plotly.newPlot(                        \"de940312-75b3-46f9-a9dc-3cf6f0109cef\",                        [{\"alignmentgroup\":\"True\",\"bingroup\":\"x\",\"hovertemplate\":\"danceability=%{x}\\u003cbr\\u003ecount=%{y}\\u003cextra\\u003e\\u003c\\u002fextra\\u003e\",\"legendgroup\":\"\",\"marker\":{\"color\":\"rgb(93, 105, 177)\",\"pattern\":{\"shape\":\"\"}},\"name\":\"\",\"offsetgroup\":\"\",\"orientation\":\"v\",\"showlegend\":false,\"x\":[0.751,0.434,0.529,0.551,0.614,0.706,0.949,0.708,0.713,0.72,0.617,0.745,0.822,0.586,0.689,0.797,0.761,0.671,0.74,0.922,0.556,0.801,0.634,0.656,0.522,0.425,0.528,0.879,0.682,0.644,0.51,0.85,0.736,0.839,0.633,0.813,0.761,0.88,0.478,0.798,0.683,0.739,0.852,0.924,0.727,0.63,0.729,0.772,0.779,0.829,0.771,0.63,0.721,0.746,0.8,0.348,0.869,0.854,0.628,0.408,0.666,0.742,0.471,0.682,0.599,0.631,0.458,0.826,0.659,0.777,0.859,0.822,0.751,0.655,0.808,0.771,0.634,0.545,0.736,0.914,0.313,0.664,0.581,0.491,0.631,0.73,0.644,0.724,0.578,0.518,0.558,0.575,0.41,0.607,0.725,0.625,0.829,0.459,0.765,0.865,0.853,0.514,0.78,0.766,0.76,0.622,0.794,0.643,0.481,0.637,0.667,0.847,0.689,0.622,0.911,0.645,0.603,0.643,0.661,0.668,0.66,0.721,0.657,0.736,0.854,0.908,0.707,0.7,0.446,0.613,0.843,0.682,0.721,0.725,0.767,0.563,0.775,0.797,0.635,0.872,0.61,0.663,0.757,0.676,0.653,0.786,0.878,0.612,0.677,0.631,0.464,0.653,0.897,0.78,0.888,0.699,0.582,0.578,0.596,0.802,0.822,0.682,0.587,0.739,0.795,0.751,0.585,0.418,0.321,0.541,0.84,0.573,0.697,0.55,0.836,0.676,0.753,0.747,0.874,0.73,0.847,0.708,0.569,0.607,0.469,0.713,0.623,0.558,0.85,0.933,0.33,0.618,0.51,0.743,0.68,0.509,0.721,0.562,0.699,0.537,0.727,0.908,0.585,0.56,0.558,0.616,0.729,0.701,0.648,0.548,0.713,0.955,0.792,0.718,0.583,0.556,0.607,0.641,0.705,0.74,0.622,0.686,0.427,0.682,0.527,0.969,0.646,0.611,0.683,0.697,0.574,0.486,0.723,0.777,0.859,0.66,0.761,0.956,0.7,0.64,0.855,0.517,0.786,0.835,0.786,0.771,0.668,0.618,0.412,0.778,0.489,0.64,0.603,0.791,0.368,0.66,0.783,0.705,0.567,0.734,0.853,0.412,0.519,0.908,0.727,0.542,0.802,0.652,0.838,0.577,0.884,0.555,0.675,0.32,0.839,0.665,0.487,0.571,0.534,0.754,0.451,0.597,0.783,0.745,0.654,0.513,0.793,0.38,0.338,0.58,0.921,0.661,0.443,0.499,0.688,0.776,0.432,0.424,0.814,0.624,0.899,0.735,0.686,0.646,0.669,0.835,0.845,0.81,0.527,0.793,0.648,0.778,0.734,0.759,0.712,0.801,0.554,0.761,0.331,0.785,0.405,0.498,0.78,0.835,0.662,0.602,0.804,0.564,0.581,0.892,0.741,0.772,0.655,0.849,0.859,0.455,0.6,0.606,0.492,0.791,0.811,0.568,0.527,0.883,0.649,0.595,0.586,0.802,0.894,0.866,0.668,0.853,0.831,0.646,0.784,0.707,0.658,0.553,0.435,0.655,0.893,0.747,0.691,0.66,0.85,0.751,0.837,0.53,0.733,0.624,0.447,0.612,0.638,0.714,0.577,0.649,0.884,0.71,0.747,0.614,0.757,0.649,0.701,0.618,0.512,0.758,0.81,0.646,0.656,0.769,0.256,0.871,0.546,0.397,0.688,0.62,0.496,0.489,0.457,0.641,0.894,0.712,0.774,0.727,0.472,0.663,0.857,0.785,0.809,0.783,0.598,0.676,0.601,0.6,0.797,0.735,0.496,0.759,0.818,0.851,0.802,0.833,0.814,0.597,0.826,0.97,0.718,0.562,0.805,0.749,0.87,0.662,0.737,0.779,0.751,0.348,0.607,0.86,0.884,0.762,0.881,0.579,0.656,0.752,0.755,0.94,0.586,0.892,0.765,0.748,0.745,0.571,0.677,0.765,0.759,0.853,0.548,0.828,0.766,0.398,0.416,0.277,0.925,0.513,0.814,0.637,0.19,0.6,0.706,0.612,0.523,0.559,0.38,0.68,0.803,0.663,0.571,0.739,0.734,0.414,0.512,0.828,0.75,0.557,0.657,0.926,0.562,0.662,0.688,0.668,0.68,0.713,0.871,0.663,0.553,0.52,0.345,0.505,0.641,0.264,0.84,0.656,0.629,0.779,0.614,0.675,0.49,0.875,0.599,0.878,0.649,0.489,0.86,0.646,0.95,0.856,0.745,0.688,0.925,0.862,0.846,0.8,0.802,0.8,0.772,0.899,0.741,0.687,0.802,0.818,0.69,0.629,0.642,0.962,0.684,0.637,0.74,0.76,0.94,0.666,0.837,0.9,0.891,0.904,0.551,0.561,0.568,0.437,0.7,0.672,0.892,0.905,0.878,0.939,0.636,0.555,0.412,0.489,0.926,0.838,0.179,0.727,0.794,0.636,0.534,0.675,0.7,0.933,0.873,0.714,0.49,0.548,0.662,0.129,0.525,0.455,0.535,0.286,0.815,0.395,0.817,0.587,0.478,0.515,0.722,0.605,0.548,0.598,0.506,0.52,0.644,0.514,0.587,0.567,0.662,0.53,0.469,0.68,0.709,0.366,0.778,0.951,0.967,0.447,0.407,0.677,0.855,0.658,0.796,0.893,0.819,0.589,0.787,0.648,0.808,0.814,0.711,0.565,0.964,0.963,0.826,0.668,0.678,0.741,0.803,0.858,0.938,0.835,0.678,0.833,0.888,0.5,0.771,0.441,0.867,0.309,0.769,0.64,0.891,0.825,0.644,0.683,0.618,0.906,0.715,0.679,0.726,0.681,0.588,0.552,0.886,0.45,0.786,0.518,0.622,0.261,0.551,0.551,0.42,0.792,0.348,0.561,0.7,0.688,0.632,0.693,0.535,0.344,0.64,0.705,0.537,0.556,0.707,0.452,0.474,0.525,0.511,0.684,0.548,0.566,0.432,0.862,0.272,0.489,0.656,0.731,0.748,0.706,0.447,0.559,0.467,0.64,0.7,0.217,0.616,0.469,0.474,0.536,0.688,0.391,0.638,0.583,0.788,0.708,0.698,0.656,0.687,0.756,0.731,0.872,0.762,0.627,0.767,0.94,0.975,0.63,0.537,0.827,0.701,0.617,0.764,0.584,0.865,0.736,0.744,0.709,0.735,0.822,0.596,0.847,0.623,0.918,0.729,0.619,0.644,0.606,0.621,0.607,0.611,0.309,0.42,0.771,0.811,0.529,0.463,0.787,0.584,0.56,0.81,0.45,0.794,0.412,0.463,0.675,0.88,0.906,0.775,0.704,0.616,0.459,0.859,0.459,0.403,0.808,0.697,0.753,0.716,0.477,0.803,0.435,0.517,0.451,0.723,0.433,0.444,0.451,0.626,0.772,0.685,0.545,0.675,0.686,0.762,0.801,0.72,0.519,0.67,0.451,0.727,0.457,0.697,0.673,0.344,0.764,0.733,0.423,0.357,0.684,0.427,0.405,0.918,0.699,0.697,0.644,0.653,0.668,0.662,0.632,0.949,0.715,0.767,0.707,0.493,0.712,0.829,0.639,0.639,0.753,0.706,0.835,0.756,0.83,0.724,0.605,0.888,0.654,0.837,0.671,0.788,0.736,0.769,0.375,0.709,0.674,0.775,0.692,0.645,0.729,0.644,0.632,0.878,0.671,0.486,0.84,0.756,0.752,0.726,0.55,0.667,0.727,0.512,0.356,0.673,0.774,0.534,0.76,0.687,0.447,0.529,0.654,0.715,0.451,0.852,0.694,0.595,0.723,0.876,0.573,0.383,0.733,0.755,0.648,0.57,0.285,0.618,0.68,0.699,0.492,0.177,0.923,0.766,0.486,0.542,0.439,0.793,0.57,0.458,0.438,0.566,0.33,0.575,0.707,0.622,0.667,0.572,0.672,0.614,0.584,0.731,0.648,0.743,0.851,0.508,0.813,0.72,0.617,0.849,0.791,0.894,0.64,0.545,0.798,0.79,0.88,0.822,0.717,0.825,0.742,0.694,0.621,0.867,0.865,0.762,0.491,0.529,0.677,0.762,0.493,0.607,0.632,0.696,0.375,0.924,0.624,0.893,0.48,0.546,0.617,0.657,0.661,0.675,0.739,0.758,0.516,0.614,0.581,0.451,0.894,0.791,0.657,0.756,0.74,0.67,0.44,0.457,0.605,0.76,0.557,0.789,0.615,0.719,0.713,0.839,0.871,0.594,0.485,0.674,0.525,0.597,0.691,0.673,0.629,0.602,0.536,0.57,0.68,0.545,0.426,0.44,0.672,0.516,0.705,0.616,0.23,0.661,0.542,0.431,0.209,0.652,0.613,0.731,0.268,0.588,0.687,0.46,0.713,0.524,0.526,0.517,0.338,0.635,0.749,0.696,0.791,0.755,0.546,0.751,0.789,0.791,0.729,0.817,0.435,0.615,0.769,0.622,0.567,0.531,0.451,0.799,0.607,0.597,0.804,0.855,0.623,0.563,0.708,0.605,0.816,0.395,0.733,0.692,0.663,0.706,0.616,0.72,0.76,0.656,0.498,0.63,0.768,0.824,0.901,0.31,0.693,0.438,0.845,0.652,0.648,0.515,0.781,0.703,0.657,0.47,0.682,0.728,0.846,0.736,0.625,0.785,0.752,0.544,0.762,0.84,0.66,0.624,0.531,0.692,0.599,0.514,0.724,0.615,0.325,0.61,0.72,0.639,0.855,0.59,0.376,0.689,0.826,0.504,0.625,0.442,0.55,0.637,0.733,0.688,0.719,0.458,0.633,0.512,0.484,0.581,0.529,0.482,0.589,0.443,0.687,0.606,0.549,0.73,0.722,0.751,0.638,0.704,0.595,0.726,0.675,0.73,0.767,0.753,0.813,0.672,0.551,0.578,0.659,0.666,0.786,0.671,0.858,0.684,0.62,0.696,0.646,0.799,0.648,0.7,0.926,0.843,0.707,0.668,0.663,0.31,0.76,0.446,0.507,0.693,0.54,0.671,0.449,0.649,0.603,0.594,0.364,0.413,0.767,0.664,0.722,0.736,0.744,0.735,0.66,0.687,0.705,0.507,0.531,0.684,0.392,0.692,0.415,0.578,0.656,0.45,0.415,0.682,0.753,0.587,0.72,0.636,0.779,0.608,0.733,0.636,0.636,0.678,0.523,0.634,0.676,0.794,0.591,0.537,0.668,0.554,0.683,0.666,0.563,0.481,0.583,0.593,0.686,0.56,0.425,0.545,0.7,0.349,0.621,0.606,0.644,0.597,0.421,0.735,0.783,0.378,0.718,0.67,0.736,0.346,0.704,0.719,0.789,0.716,0.716,0.637,0.747,0.535,0.492,0.728,0.716,0.66,0.563,0.524,0.707,0.727,0.711,0.616,0.762,0.585,0.726,0.584,0.706,0.564,0.787,0.678,0.747,0.487,0.821,0.578,0.847,0.743,0.376,0.676,0.582,0.71,0.929,0.707,0.797,0.697,0.612,0.449,0.594,0.913,0.71,0.421,0.612,0.69,0.717,0.604,0.758,0.622,0.646,0.674,0.715,0.715,0.571,0.603,0.588,0.831,0.37,0.61,0.687,0.605,0.863,0.608,0.726,0.18,0.558,0.56,0.596,0.63,0.682,0.765,0.503,0.42,0.658,0.716,0.531,0.616,0.602,0.562,0.766,0.514,0.738,0.389,0.373,0.658,0.651,0.629,0.738,0.576,0.696,0.674,0.861,0.448,0.532,0.726,0.781,0.794,0.772,0.733,0.801,0.754,0.445,0.563,0.691,0.673,0.797,0.669,0.641,0.593,0.76,0.495,0.63,0.612,0.485,0.652,0.504,0.691,0.602,0.781,0.722,0.546,0.457,0.665,0.693,0.578,0.572,0.739,0.711,0.558,0.691,0.509,0.505,0.489,0.622,0.548,0.544,0.579,0.665,0.853,0.674,0.703,0.559,0.452,0.695,0.69,0.825,0.681,0.561,0.832,0.573,0.555,0.807,0.577,0.794,0.474,0.67,0.512,0.554,0.576,0.725,0.676,0.715,0.704,0.679,0.652,0.726,0.523,0.53,0.659,0.832,0.551,0.574,0.874,0.457,0.613,0.667,0.602,0.439,0.773,0.575,0.656,0.681,0.483,0.661,0.509,0.645,0.621,0.795,0.612,0.457,0.647,0.647,0.826,0.912,0.279,0.418,0.773,0.399,0.422,0.861,0.807,0.645,0.743,0.733,0.609,0.407,0.76,0.737,0.614,0.742,0.814,0.646,0.67,0.544,0.886,0.697,0.76,0.856,0.964,0.414,0.818,0.581,0.663,0.794,0.603,0.743,0.729,0.699,0.441,0.789,0.69,0.545,0.686,0.829,0.566,0.838,0.559,0.687,0.711,0.736,0.841,0.719,0.69,0.525,0.885,0.806,0.472,0.718,0.545,0.706,0.636,0.677,0.588,0.72,0.503,0.66,0.659,0.536,0.653,0.616,0.753,0.494,0.49,0.647,0.672,0.818,0.521,0.645,0.65,0.545,0.799,0.596,0.421,0.6,0.5,0.733,0.719,0.83,0.484,0.589,0.744,0.68,0.581,0.702,0.707,0.787,0.688,0.627,0.716,0.685,0.856,0.781,0.689,0.845,0.723,0.659,0.262,0.646,0.596,0.586,0.76,0.585,0.588,0.699,0.527,0.407,0.703,0.891,0.654,0.657,0.636,0.738,0.654,0.67,0.393,0.886,0.776,0.734,0.884,0.59,0.656,0.746,0.8,0.579,0.778,0.553,0.48,0.721,0.506,0.781,0.658,0.73,0.713,0.559,0.594,0.583,0.672,0.712,0.688,0.819,0.823,0.556,0.746,0.736,0.747,0.536,0.583,0.418,0.891,0.757,0.383,0.618,0.472,0.705,0.336,0.526,0.509,0.64,0.64,0.6,0.748,0.566,0.588,0.379,0.261,0.599,0.589,0.824,0.704,0.853,0.783,0.746,0.854,0.616,0.432,0.699,0.765,0.676,0.513,0.561,0.644,0.373,0.68,0.654,0.628,0.777,0.647,0.667,0.775,0.736,0.681,0.792,0.609,0.748,0.471,0.576,0.841,0.592,0.552,0.725,0.491,0.654,0.666,0.764,0.603,0.756,0.367,0.672,0.502,0.732,0.722,0.671,0.532,0.916,0.788,0.617,0.51,0.557,0.532,0.501,0.468,0.674,0.649,0.631,0.664,0.895,0.671,0.648,0.631,0.687,0.672,0.818,0.636,0.645,0.688,0.677,0.756,0.728,0.734,0.716,0.583,0.632,0.903,0.623,0.444,0.546,0.638,0.79,0.332,0.526,0.774,0.683,0.369,0.6,0.678,0.803,0.713,0.588,0.376,0.611,0.683,0.852,0.696,0.654,0.742,0.608,0.713,0.688,0.632,0.765,0.647,0.605,0.459,0.443,0.73,0.668,0.598,0.492,0.766,0.689,0.657,0.464,0.581,0.525,0.695,0.775,0.773,0.664,0.544,0.794,0.825,0.742,0.66,0.681,0.72,0.768,0.6,0.783,0.617,0.599,0.705,0.841,0.614,0.833,0.589,0.697,0.681,0.534,0.797,0.726,0.884,0.645,0.259,0.548,0.876,0.794,0.576,0.763,0.804,0.732,0.672,0.886,0.696,0.838,0.791,0.618,0.722,0.779,0.814,0.906,0.708,0.774,0.905,0.698,0.602,0.745,0.936,0.766,0.688,0.497,0.636,0.839,0.872,0.926,0.91,0.584,0.739,0.744,0.613,0.548,0.92,0.857,0.572,0.538,0.763,0.929,0.564,0.486,0.671,0.63,0.662,0.718,0.562,0.807,0.893,0.865,0.401,0.703,0.731,0.617,0.869,0.809,0.744,0.735,0.319,0.822,0.67,0.673,0.499,0.623,0.588,0.773,0.653,0.78,0.561,0.655,0.741,0.818,0.781,0.64,0.754,0.585,0.88,0.589,0.694,0.511,0.753,0.626,0.816,0.921,0.699,0.729,0.791,0.884,0.834,0.704,0.842,0.546,0.735,0.351,0.907,0.737,0.912,0.931,0.461,0.903,0.904,0.594,0.74,0.791,0.653,0.66,0.722,0.663,0.645,0.876,0.698,0.667,0.845,0.602,0.713,0.862,0.6,0.566,0.724,0.747,0.586,0.792,0.52,0.596,0.752,0.541,0.662,0.669,0.722,0.926,0.963,0.687,0.631,0.754,0.845,0.68,0.922,0.748,0.687,0.553,0.856,0.817,0.745,0.835,0.791,0.755,0.777,0.56,0.733,0.703,0.628,0.671,0.477,0.783,0.552,0.697,0.704,0.737,0.417,0.675,0.899,0.637,0.813,0.836,0.747,0.71,0.755,0.752,0.575,0.851,0.708,0.585,0.8,0.75,0.878,0.701,0.759,0.778,0.755,0.658,0.752,0.88,0.572,0.601,0.501,0.585,0.682,0.894,0.861,0.737,0.652,0.738,0.919,0.677,0.716,0.834,0.631,0.641,0.842,0.791,0.899,0.745,0.863,0.351,0.674,0.907,0.889,0.829,0.786,0.581,0.63,0.767,0.831,0.703,0.817,0.772,0.685,0.837,0.796,0.786,0.74,0.792,0.95,0.726,0.812,0.719,0.794,0.531,0.807,0.885,0.747,0.682,0.824,0.4,0.61,0.682,0.826,0.837,0.795,0.442,0.906,0.876,0.903,0.905,0.645,0.887,0.795,0.505,0.802,0.554,0.736,0.815,0.669,0.872,0.807,0.59,0.61,0.746,0.68,0.746,0.599,0.677,0.579,0.659,0.477,0.836,0.599,0.744,0.58,0.842,0.552,0.847,0.741,0.695],\"xaxis\":\"x\",\"yaxis\":\"y\",\"type\":\"histogram\"}],                        {\"barmode\":\"relative\",\"legend\":{\"tracegroupgap\":0},\"template\":{\"data\":{\"barpolar\":[{\"marker\":{\"line\":{\"color\":\"rgb(17,17,17)\",\"width\":0.5},\"pattern\":{\"fillmode\":\"overlay\",\"size\":10,\"solidity\":0.2}},\"type\":\"barpolar\"}],\"bar\":[{\"error_x\":{\"color\":\"#f2f5fa\"},\"error_y\":{\"color\":\"#f2f5fa\"},\"marker\":{\"line\":{\"color\":\"rgb(17,17,17)\",\"width\":0.5},\"pattern\":{\"fillmode\":\"overlay\",\"size\":10,\"solidity\":0.2}},\"type\":\"bar\"}],\"carpet\":[{\"aaxis\":{\"endlinecolor\":\"#A2B1C6\",\"gridcolor\":\"#506784\",\"linecolor\":\"#506784\",\"minorgridcolor\":\"#506784\",\"startlinecolor\":\"#A2B1C6\"},\"baxis\":{\"endlinecolor\":\"#A2B1C6\",\"gridcolor\":\"#506784\",\"linecolor\":\"#506784\",\"minorgridcolor\":\"#506784\",\"startlinecolor\":\"#A2B1C6\"},\"type\":\"carpet\"}],\"choropleth\":[{\"colorbar\":{\"outlinewidth\":0,\"ticks\":\"\"},\"type\":\"choropleth\"}],\"contourcarpet\":[{\"colorbar\":{\"outlinewidth\":0,\"ticks\":\"\"},\"type\":\"contourcarpet\"}],\"contour\":[{\"colorbar\":{\"outlinewidth\":0,\"ticks\":\"\"},\"colorscale\":[[0.0,\"#0d0887\"],[0.1111111111111111,\"#46039f\"],[0.2222222222222222,\"#7201a8\"],[0.3333333333333333,\"#9c179e\"],[0.4444444444444444,\"#bd3786\"],[0.5555555555555556,\"#d8576b\"],[0.6666666666666666,\"#ed7953\"],[0.7777777777777778,\"#fb9f3a\"],[0.8888888888888888,\"#fdca26\"],[1.0,\"#f0f921\"]],\"type\":\"contour\"}],\"heatmapgl\":[{\"colorbar\":{\"outlinewidth\":0,\"ticks\":\"\"},\"colorscale\":[[0.0,\"#0d0887\"],[0.1111111111111111,\"#46039f\"],[0.2222222222222222,\"#7201a8\"],[0.3333333333333333,\"#9c179e\"],[0.4444444444444444,\"#bd3786\"],[0.5555555555555556,\"#d8576b\"],[0.6666666666666666,\"#ed7953\"],[0.7777777777777778,\"#fb9f3a\"],[0.8888888888888888,\"#fdca26\"],[1.0,\"#f0f921\"]],\"type\":\"heatmapgl\"}],\"heatmap\":[{\"colorbar\":{\"outlinewidth\":0,\"ticks\":\"\"},\"colorscale\":[[0.0,\"#0d0887\"],[0.1111111111111111,\"#46039f\"],[0.2222222222222222,\"#7201a8\"],[0.3333333333333333,\"#9c179e\"],[0.4444444444444444,\"#bd3786\"],[0.5555555555555556,\"#d8576b\"],[0.6666666666666666,\"#ed7953\"],[0.7777777777777778,\"#fb9f3a\"],[0.8888888888888888,\"#fdca26\"],[1.0,\"#f0f921\"]],\"type\":\"heatmap\"}],\"histogram2dcontour\":[{\"colorbar\":{\"outlinewidth\":0,\"ticks\":\"\"},\"colorscale\":[[0.0,\"#0d0887\"],[0.1111111111111111,\"#46039f\"],[0.2222222222222222,\"#7201a8\"],[0.3333333333333333,\"#9c179e\"],[0.4444444444444444,\"#bd3786\"],[0.5555555555555556,\"#d8576b\"],[0.6666666666666666,\"#ed7953\"],[0.7777777777777778,\"#fb9f3a\"],[0.8888888888888888,\"#fdca26\"],[1.0,\"#f0f921\"]],\"type\":\"histogram2dcontour\"}],\"histogram2d\":[{\"colorbar\":{\"outlinewidth\":0,\"ticks\":\"\"},\"colorscale\":[[0.0,\"#0d0887\"],[0.1111111111111111,\"#46039f\"],[0.2222222222222222,\"#7201a8\"],[0.3333333333333333,\"#9c179e\"],[0.4444444444444444,\"#bd3786\"],[0.5555555555555556,\"#d8576b\"],[0.6666666666666666,\"#ed7953\"],[0.7777777777777778,\"#fb9f3a\"],[0.8888888888888888,\"#fdca26\"],[1.0,\"#f0f921\"]],\"type\":\"histogram2d\"}],\"histogram\":[{\"marker\":{\"pattern\":{\"fillmode\":\"overlay\",\"size\":10,\"solidity\":0.2}},\"type\":\"histogram\"}],\"mesh3d\":[{\"colorbar\":{\"outlinewidth\":0,\"ticks\":\"\"},\"type\":\"mesh3d\"}],\"parcoords\":[{\"line\":{\"colorbar\":{\"outlinewidth\":0,\"ticks\":\"\"}},\"type\":\"parcoords\"}],\"pie\":[{\"automargin\":true,\"type\":\"pie\"}],\"scatter3d\":[{\"line\":{\"colorbar\":{\"outlinewidth\":0,\"ticks\":\"\"}},\"marker\":{\"colorbar\":{\"outlinewidth\":0,\"ticks\":\"\"}},\"type\":\"scatter3d\"}],\"scattercarpet\":[{\"marker\":{\"colorbar\":{\"outlinewidth\":0,\"ticks\":\"\"}},\"type\":\"scattercarpet\"}],\"scattergeo\":[{\"marker\":{\"colorbar\":{\"outlinewidth\":0,\"ticks\":\"\"}},\"type\":\"scattergeo\"}],\"scattergl\":[{\"marker\":{\"line\":{\"color\":\"#283442\"}},\"type\":\"scattergl\"}],\"scattermapbox\":[{\"marker\":{\"colorbar\":{\"outlinewidth\":0,\"ticks\":\"\"}},\"type\":\"scattermapbox\"}],\"scatterpolargl\":[{\"marker\":{\"colorbar\":{\"outlinewidth\":0,\"ticks\":\"\"}},\"type\":\"scatterpolargl\"}],\"scatterpolar\":[{\"marker\":{\"colorbar\":{\"outlinewidth\":0,\"ticks\":\"\"}},\"type\":\"scatterpolar\"}],\"scatter\":[{\"marker\":{\"line\":{\"color\":\"#283442\"}},\"type\":\"scatter\"}],\"scatterternary\":[{\"marker\":{\"colorbar\":{\"outlinewidth\":0,\"ticks\":\"\"}},\"type\":\"scatterternary\"}],\"surface\":[{\"colorbar\":{\"outlinewidth\":0,\"ticks\":\"\"},\"colorscale\":[[0.0,\"#0d0887\"],[0.1111111111111111,\"#46039f\"],[0.2222222222222222,\"#7201a8\"],[0.3333333333333333,\"#9c179e\"],[0.4444444444444444,\"#bd3786\"],[0.5555555555555556,\"#d8576b\"],[0.6666666666666666,\"#ed7953\"],[0.7777777777777778,\"#fb9f3a\"],[0.8888888888888888,\"#fdca26\"],[1.0,\"#f0f921\"]],\"type\":\"surface\"}],\"table\":[{\"cells\":{\"fill\":{\"color\":\"#506784\"},\"line\":{\"color\":\"rgb(17,17,17)\"}},\"header\":{\"fill\":{\"color\":\"#2a3f5f\"},\"line\":{\"color\":\"rgb(17,17,17)\"}},\"type\":\"table\"}]},\"layout\":{\"annotationdefaults\":{\"arrowcolor\":\"#f2f5fa\",\"arrowhead\":0,\"arrowwidth\":1},\"autotypenumbers\":\"strict\",\"coloraxis\":{\"colorbar\":{\"outlinewidth\":0,\"ticks\":\"\"}},\"colorscale\":{\"diverging\":[[0,\"#8e0152\"],[0.1,\"#c51b7d\"],[0.2,\"#de77ae\"],[0.3,\"#f1b6da\"],[0.4,\"#fde0ef\"],[0.5,\"#f7f7f7\"],[0.6,\"#e6f5d0\"],[0.7,\"#b8e186\"],[0.8,\"#7fbc41\"],[0.9,\"#4d9221\"],[1,\"#276419\"]],\"sequential\":[[0.0,\"#0d0887\"],[0.1111111111111111,\"#46039f\"],[0.2222222222222222,\"#7201a8\"],[0.3333333333333333,\"#9c179e\"],[0.4444444444444444,\"#bd3786\"],[0.5555555555555556,\"#d8576b\"],[0.6666666666666666,\"#ed7953\"],[0.7777777777777778,\"#fb9f3a\"],[0.8888888888888888,\"#fdca26\"],[1.0,\"#f0f921\"]],\"sequentialminus\":[[0.0,\"#0d0887\"],[0.1111111111111111,\"#46039f\"],[0.2222222222222222,\"#7201a8\"],[0.3333333333333333,\"#9c179e\"],[0.4444444444444444,\"#bd3786\"],[0.5555555555555556,\"#d8576b\"],[0.6666666666666666,\"#ed7953\"],[0.7777777777777778,\"#fb9f3a\"],[0.8888888888888888,\"#fdca26\"],[1.0,\"#f0f921\"]]},\"colorway\":[\"#636efa\",\"#EF553B\",\"#00cc96\",\"#ab63fa\",\"#FFA15A\",\"#19d3f3\",\"#FF6692\",\"#B6E880\",\"#FF97FF\",\"#FECB52\"],\"font\":{\"color\":\"#f2f5fa\"},\"geo\":{\"bgcolor\":\"rgb(17,17,17)\",\"lakecolor\":\"rgb(17,17,17)\",\"landcolor\":\"rgb(17,17,17)\",\"showlakes\":true,\"showland\":true,\"subunitcolor\":\"#506784\"},\"hoverlabel\":{\"align\":\"left\"},\"hovermode\":\"closest\",\"mapbox\":{\"style\":\"dark\"},\"paper_bgcolor\":\"rgb(17,17,17)\",\"plot_bgcolor\":\"rgb(17,17,17)\",\"polar\":{\"angularaxis\":{\"gridcolor\":\"#506784\",\"linecolor\":\"#506784\",\"ticks\":\"\"},\"bgcolor\":\"rgb(17,17,17)\",\"radialaxis\":{\"gridcolor\":\"#506784\",\"linecolor\":\"#506784\",\"ticks\":\"\"}},\"scene\":{\"xaxis\":{\"backgroundcolor\":\"rgb(17,17,17)\",\"gridcolor\":\"#506784\",\"gridwidth\":2,\"linecolor\":\"#506784\",\"showbackground\":true,\"ticks\":\"\",\"zerolinecolor\":\"#C8D4E3\"},\"yaxis\":{\"backgroundcolor\":\"rgb(17,17,17)\",\"gridcolor\":\"#506784\",\"gridwidth\":2,\"linecolor\":\"#506784\",\"showbackground\":true,\"ticks\":\"\",\"zerolinecolor\":\"#C8D4E3\"},\"zaxis\":{\"backgroundcolor\":\"rgb(17,17,17)\",\"gridcolor\":\"#506784\",\"gridwidth\":2,\"linecolor\":\"#506784\",\"showbackground\":true,\"ticks\":\"\",\"zerolinecolor\":\"#C8D4E3\"}},\"shapedefaults\":{\"line\":{\"color\":\"#f2f5fa\"}},\"sliderdefaults\":{\"bgcolor\":\"#C8D4E3\",\"bordercolor\":\"rgb(17,17,17)\",\"borderwidth\":1,\"tickwidth\":0},\"ternary\":{\"aaxis\":{\"gridcolor\":\"#506784\",\"linecolor\":\"#506784\",\"ticks\":\"\"},\"baxis\":{\"gridcolor\":\"#506784\",\"linecolor\":\"#506784\",\"ticks\":\"\"},\"bgcolor\":\"rgb(17,17,17)\",\"caxis\":{\"gridcolor\":\"#506784\",\"linecolor\":\"#506784\",\"ticks\":\"\"}},\"title\":{\"x\":0.05},\"updatemenudefaults\":{\"bgcolor\":\"#506784\",\"borderwidth\":0},\"xaxis\":{\"automargin\":true,\"gridcolor\":\"#283442\",\"linecolor\":\"#506784\",\"ticks\":\"\",\"title\":{\"standoff\":15},\"zerolinecolor\":\"#283442\",\"zerolinewidth\":2},\"yaxis\":{\"automargin\":true,\"gridcolor\":\"#283442\",\"linecolor\":\"#506784\",\"ticks\":\"\",\"title\":{\"standoff\":15},\"zerolinecolor\":\"#283442\",\"zerolinewidth\":2}}},\"title\":{\"text\":\"danceability distribution in top hits\"},\"xaxis\":{\"anchor\":\"y\",\"domain\":[0.0,1.0],\"title\":{\"text\":\"danceability\"}},\"yaxis\":{\"anchor\":\"x\",\"domain\":[0.0,1.0],\"title\":{\"text\":\"count\"}}},                        {\"responsive\": true}                    ).then(function(){\n",
       "                            \n",
       "var gd = document.getElementById('de940312-75b3-46f9-a9dc-3cf6f0109cef');\n",
       "var x = new MutationObserver(function (mutations, observer) {{\n",
       "        var display = window.getComputedStyle(gd).display;\n",
       "        if (!display || display === 'none') {{\n",
       "            console.log([gd, 'removed!']);\n",
       "            Plotly.purge(gd);\n",
       "            observer.disconnect();\n",
       "        }}\n",
       "}});\n",
       "\n",
       "// Listen for the removal of the full notebook cells\n",
       "var notebookContainer = gd.closest('#notebook-container');\n",
       "if (notebookContainer) {{\n",
       "    x.observe(notebookContainer, {childList: true});\n",
       "}}\n",
       "\n",
       "// Listen for the clearing of the current output cell\n",
       "var outputEl = gd.closest('.output');\n",
       "if (outputEl) {{\n",
       "    x.observe(outputEl, {childList: true});\n",
       "}}\n",
       "\n",
       "                        })                };                });            </script>        </div>"
      ]
     },
     "metadata": {},
     "output_type": "display_data"
    },
    {
     "data": {
      "text/html": [
       "<div>                            <div id=\"97a58f5d-4d3d-45be-a56f-1126c7fc1cdf\" class=\"plotly-graph-div\" style=\"height:525px; width:100%;\"></div>            <script type=\"text/javascript\">                require([\"plotly\"], function(Plotly) {                    window.PLOTLYENV=window.PLOTLYENV || {};                                    if (document.getElementById(\"97a58f5d-4d3d-45be-a56f-1126c7fc1cdf\")) {                    Plotly.newPlot(                        \"97a58f5d-4d3d-45be-a56f-1126c7fc1cdf\",                        [{\"alignmentgroup\":\"True\",\"bingroup\":\"x\",\"hovertemplate\":\"energy=%{x}\\u003cbr\\u003ecount=%{y}\\u003cextra\\u003e\\u003c\\u002fextra\\u003e\",\"legendgroup\":\"\",\"marker\":{\"color\":\"rgb(82, 188, 163)\",\"pattern\":{\"shape\":\"\"}},\"name\":\"\",\"offsetgroup\":\"\",\"orientation\":\"v\",\"showlegend\":false,\"x\":[0.834,0.897,0.496,0.913,0.928,0.888,0.661,0.772,0.678,0.808,0.728,0.958,0.922,0.659,0.685,0.622,0.716,0.88,0.876,0.909,0.864,0.876,0.677,0.88,0.803,0.852,0.965,0.681,0.743,0.72,0.931,0.674,0.802,0.641,0.922,0.491,0.662,0.814,0.736,0.48,0.866,0.947,0.75,0.74,0.445,0.625,0.632,0.688,0.834,0.652,0.796,0.95,0.836,0.443,0.922,0.532,0.887,0.543,0.834,0.849,0.968,0.732,0.514,0.744,0.47,0.734,0.795,0.656,0.812,0.601,0.622,0.847,0.901,0.791,0.982,0.685,0.886,0.865,0.666,0.607,0.831,0.396,0.607,0.593,0.664,0.602,0.874,0.416,0.894,0.83,0.481,0.786,0.539,0.82,0.487,0.85,0.915,0.83,0.791,0.664,0.606,0.911,0.768,0.563,0.801,0.608,0.832,0.849,0.638,0.929,0.773,0.843,0.894,0.669,0.551,0.903,0.933,0.981,0.855,0.772,0.71,0.737,0.965,0.811,0.673,0.557,0.869,0.787,0.764,0.697,0.806,0.917,0.79,0.583,0.759,0.86,0.729,0.75,0.854,0.868,0.82,0.694,0.706,0.601,0.837,0.842,0.724,0.579,0.52,0.821,0.922,0.964,0.466,0.634,0.8,0.618,0.707,0.581,0.661,0.341,0.672,0.744,0.679,0.679,0.919,0.568,0.702,0.249,0.511,0.899,0.835,0.665,0.925,0.804,0.762,0.715,0.934,0.706,0.768,0.602,0.877,0.587,0.385,0.637,0.316,0.829,0.896,0.481,0.7,0.561,0.905,0.844,0.48,0.894,0.644,0.774,0.723,0.594,0.403,0.858,0.552,0.669,0.776,0.825,0.719,0.597,0.731,0.677,0.759,0.847,0.471,0.839,0.797,0.69,0.643,0.864,0.923,0.72,0.717,0.845,0.876,0.698,0.843,0.894,0.933,0.701,0.638,0.654,0.722,0.793,0.691,0.904,0.84,0.751,0.625,0.536,0.662,0.745,0.72,0.889,0.681,0.919,0.853,0.707,0.614,0.665,0.806,0.938,0.77,0.761,0.757,0.59,0.774,0.863,0.426,0.707,0.726,0.872,0.58,0.848,0.811,0.667,0.874,0.758,0.515,0.589,0.903,0.41,0.764,0.749,0.677,0.496,0.607,0.88,0.706,0.695,0.9,0.953,0.543,0.767,0.97,0.97,0.649,0.807,0.515,0.82,0.568,0.725,0.685,0.748,0.668,0.746,0.769,0.72,0.538,0.844,0.936,0.588,0.852,0.85,0.713,0.824,0.735,0.77,0.873,0.687,0.768,0.714,0.834,0.698,0.759,0.879,0.668,0.678,0.772,0.645,0.978,0.899,0.943,0.933,0.589,0.83,0.604,0.68,0.748,0.34,0.836,0.6,0.747,0.714,0.469,0.724,0.488,0.498,0.658,0.858,0.736,0.699,0.896,0.733,0.657,0.867,0.808,0.887,0.713,0.489,0.705,0.863,0.404,0.749,0.824,0.752,0.695,0.813,0.459,0.538,0.826,0.775,0.92,0.433,0.74,0.398,0.541,0.698,0.862,0.84,0.885,0.768,0.521,0.654,0.636,0.735,0.54,0.862,0.749,0.718,0.677,0.797,0.904,0.568,0.78,0.536,0.669,0.552,0.525,0.957,0.791,0.6,0.615,0.646,0.788,0.597,0.538,0.903,0.538,0.93,0.819,0.649,0.406,0.445,0.791,0.862,0.838,0.974,0.671,0.746,0.801,0.799,0.965,0.916,0.868,0.948,0.621,0.796,0.502,0.466,0.863,0.825,0.579,0.849,0.672,0.515,0.899,0.837,0.647,0.72,0.786,0.865,0.754,0.938,0.712,0.748,0.697,0.655,0.731,0.907,0.874,0.866,0.697,0.885,0.774,0.849,0.513,0.722,0.381,0.633,0.705,0.628,0.666,0.845,0.858,0.968,0.682,0.821,0.891,0.911,0.785,0.792,0.851,0.284,0.819,0.663,0.741,0.826,0.387,0.834,0.265,0.641,0.665,0.735,0.795,0.733,0.988,0.847,0.924,0.465,0.739,0.999,0.846,0.936,0.525,0.653,0.458,0.533,0.734,0.888,0.219,0.507,0.404,0.905,0.844,0.734,0.597,0.95,0.756,0.768,0.0581,0.799,0.445,0.663,0.476,0.578,0.696,0.64,0.574,0.479,0.679,0.631,0.785,0.699,0.647,0.692,0.907,0.796,0.803,0.754,0.714,0.835,0.659,0.648,0.482,0.633,0.682,0.496,0.599,0.365,0.759,0.793,0.785,0.705,0.928,0.532,0.851,0.66,0.493,0.678,0.783,0.891,0.713,0.922,0.658,0.515,0.439,0.813,0.896,0.452,0.732,0.589,0.538,0.814,0.628,0.55,0.417,0.498,0.946,0.639,0.944,0.798,0.916,0.594,0.912,0.736,0.614,0.558,0.247,0.501,0.529,0.513,0.9,0.6,0.956,0.889,0.785,0.358,0.652,0.929,0.948,0.508,0.662,0.979,0.806,0.583,0.863,0.876,0.329,0.584,0.554,0.4,0.93,0.768,0.517,0.898,0.767,0.747,0.739,0.597,0.955,0.87,0.721,0.94,0.824,0.6,0.583,0.694,0.558,0.671,0.587,0.551,0.777,0.823,0.485,0.877,0.799,0.931,0.97,0.923,0.761,0.817,0.595,0.643,0.67,0.921,0.572,0.869,0.454,0.484,0.735,0.757,0.768,0.628,0.577,0.498,0.68,0.815,0.504,0.783,0.609,0.977,0.439,0.876,0.746,0.886,0.746,0.633,0.812,0.922,0.7,0.908,0.391,0.846,0.62,0.883,0.511,0.797,0.961,0.562,0.81,0.598,0.742,0.589,0.875,0.936,0.887,0.519,0.639,0.516,0.823,0.874,0.62,0.806,0.674,0.913,0.923,0.574,0.744,0.578,0.815,0.819,0.554,0.815,0.261,0.742,0.203,0.955,0.624,0.368,0.786,0.8,0.568,0.688,0.921,0.743,0.465,0.905,0.855,0.955,0.71,0.612,0.734,0.808,0.656,0.829,0.844,0.641,0.844,0.291,0.723,0.77,0.807,0.872,0.754,0.954,0.881,0.743,0.711,0.782,0.937,0.931,0.724,0.717,0.751,0.681,0.45,0.74,0.697,0.891,0.826,0.905,0.62,0.861,0.93,0.857,0.658,0.709,0.939,0.591,0.6,0.599,0.95,0.783,0.974,0.68,0.757,0.967,0.857,0.808,0.699,0.959,0.538,0.921,0.777,0.876,0.836,0.394,0.438,0.584,0.731,0.854,0.91,0.891,0.681,0.895,0.422,0.721,0.629,0.759,0.757,0.865,0.851,0.887,0.906,0.682,0.644,0.959,0.708,0.939,0.906,0.59,0.8,0.932,0.828,0.789,0.661,0.454,0.668,0.749,0.8,0.55,0.71,0.719,0.86,0.913,0.921,0.487,0.744,0.94,0.774,0.606,0.9,0.721,0.609,0.76,0.467,0.549,0.604,0.673,0.693,0.518,0.79,0.8,0.881,0.813,0.849,0.911,0.428,0.976,0.628,0.931,0.841,0.669,0.829,0.857,0.695,0.874,0.823,0.77,0.954,0.685,0.549,0.74,0.638,0.862,0.745,0.695,0.641,0.911,0.984,0.658,0.939,0.972,0.746,0.701,0.765,0.571,0.612,0.921,0.881,0.917,0.747,0.729,0.864,0.966,0.766,0.653,0.87,0.524,0.668,0.848,0.934,0.884,0.665,0.931,0.927,0.661,0.844,0.322,0.716,0.712,0.703,0.9,0.901,0.801,0.717,0.462,0.955,0.687,0.699,0.859,0.425,0.795,0.692,0.617,0.905,0.808,0.859,0.664,0.445,0.906,0.766,0.58,0.684,0.724,0.882,0.954,0.822,0.82,0.47,0.7,0.563,0.516,0.766,0.806,0.72,0.627,0.672,0.741,0.599,0.733,0.678,0.957,0.953,0.629,0.647,0.443,0.739,0.587,0.743,0.468,0.825,0.923,0.857,0.69,0.692,0.956,0.948,0.523,0.702,0.808,0.783,0.924,0.921,0.862,0.853,0.977,0.666,0.486,0.712,0.778,0.695,0.584,0.862,0.741,0.712,0.874,0.792,0.824,0.873,0.93,0.713,0.941,0.612,0.945,0.866,0.517,0.906,0.902,0.524,0.783,0.55,0.711,0.861,0.746,0.804,0.701,0.874,0.911,0.882,0.742,0.684,0.853,0.614,0.969,0.905,0.89,0.717,0.687,0.918,0.584,0.976,0.62,0.764,0.783,0.596,0.492,0.847,0.905,0.894,0.872,0.698,0.634,0.644,0.742,0.877,0.771,0.796,0.826,0.878,0.882,0.492,0.803,0.841,0.925,0.921,0.59,0.837,0.916,0.783,0.716,0.754,0.675,0.939,0.837,0.913,0.922,0.942,0.707,0.574,0.948,0.783,0.934,0.517,0.976,0.954,0.793,0.75,0.771,0.795,0.813,0.876,0.673,0.736,0.861,0.751,0.869,0.607,0.595,0.931,0.59,0.91,0.82,0.836,0.805,0.746,0.891,0.672,0.601,0.605,0.942,0.837,0.745,0.81,0.695,0.904,0.889,0.859,0.438,0.929,0.699,0.498,0.836,0.781,0.748,0.482,0.867,0.723,0.752,0.786,0.624,0.83,0.87,0.711,0.848,0.836,0.538,0.862,0.668,0.698,0.841,0.615,0.612,0.814,0.613,0.83,0.753,0.69,0.664,0.853,0.798,0.905,0.673,0.662,0.368,0.717,0.67,0.829,0.893,0.683,0.865,0.497,0.932,0.77,0.761,0.736,0.832,0.558,0.912,0.931,0.602,0.777,0.682,0.729,0.732,0.907,0.893,0.857,0.628,0.876,0.709,0.939,0.678,0.834,0.869,0.546,0.795,0.783,0.89,0.598,0.808,0.881,0.861,0.857,0.843,0.926,0.595,0.9,0.729,0.705,0.856,0.808,0.585,0.815,0.67,0.946,0.752,0.807,0.677,0.845,0.851,0.817,0.672,0.766,0.797,0.939,0.882,0.665,0.803,0.607,0.839,0.786,0.775,0.926,0.752,0.846,0.934,0.927,0.88,0.828,0.861,0.901,0.963,0.614,0.71,0.566,0.831,0.739,0.805,0.69,0.695,0.711,0.889,0.611,0.718,0.321,0.734,0.87,0.671,0.849,0.768,0.639,0.783,0.936,0.732,0.649,0.709,0.348,0.82,0.497,0.661,0.115,0.407,0.766,0.58,0.638,0.776,0.855,0.824,0.552,0.793,0.847,0.858,0.821,0.972,0.732,0.937,0.796,0.857,0.858,0.485,0.689,0.496,0.972,0.861,0.937,0.7,0.862,0.863,0.972,0.698,0.889,0.89,0.71,0.666,0.918,0.716,0.729,0.676,0.946,0.769,0.752,0.695,0.935,0.894,0.901,0.339,0.924,0.867,0.529,0.748,0.585,0.841,0.603,0.882,0.873,0.84,0.897,0.55,0.787,0.557,0.469,0.784,0.628,0.791,0.655,0.873,0.831,0.694,0.667,0.823,0.863,0.792,0.8,0.527,0.86,0.787,0.636,0.781,0.872,0.952,0.44,0.795,0.837,0.727,0.69,0.837,0.838,0.843,0.656,0.691,0.939,0.442,0.683,0.922,0.706,0.686,0.677,0.695,0.515,0.875,0.835,0.893,0.428,0.504,0.784,0.783,0.698,0.526,0.811,0.685,0.818,0.985,0.677,0.537,0.902,0.921,0.758,0.608,0.634,0.922,0.914,0.652,0.894,0.816,0.807,0.724,0.783,0.785,0.631,0.843,0.853,0.958,0.787,0.823,0.844,0.822,0.825,0.81,0.872,0.906,0.924,0.582,0.79,0.71,0.867,0.469,0.532,0.728,0.549,0.886,0.693,0.628,0.867,0.777,0.794,0.869,0.636,0.435,0.835,0.836,0.815,0.929,0.729,0.702,0.576,0.523,0.707,0.829,0.828,0.772,0.726,0.874,0.534,0.872,0.68,0.715,0.877,0.795,0.78,0.422,0.735,0.659,0.833,0.512,0.692,0.757,0.622,0.61,0.923,0.489,0.414,0.821,0.674,0.463,0.871,0.729,0.538,0.878,0.31,0.596,0.28,0.948,0.822,0.585,0.571,0.716,0.742,0.42,0.758,0.787,0.264,0.475,0.887,0.891,0.72,0.65,0.885,0.725,0.652,0.723,0.972,0.595,0.622,0.794,0.476,0.915,0.628,0.621,0.886,0.527,0.605,0.857,0.799,0.963,0.705,0.51,0.861,0.861,0.675,0.529,0.921,0.915,0.578,0.783,0.524,0.51,0.885,0.72,0.777,0.702,0.508,0.761,0.522,0.935,0.845,0.803,0.581,0.608,0.714,0.792,0.78,0.786,0.761,0.753,0.791,0.791,0.727,0.805,0.911,0.768,0.829,0.789,0.801,0.951,0.885,0.8,0.52,0.67,0.754,0.832,0.786,0.675,0.586,0.738,0.791,0.663,0.292,0.676,0.671,0.52,0.731,0.621,0.783,0.84,0.0549,0.629,0.771,0.848,0.841,0.703,0.67,0.709,0.609,0.445,0.481,0.567,0.809,0.381,0.606,0.823,0.73,0.613,0.703,0.564,0.521,0.883,0.835,0.725,0.736,0.486,0.655,0.827,0.815,0.868,0.832,0.476,0.858,0.427,0.574,0.637,0.765,0.578,0.627,0.877,0.677,0.736,0.566,0.664,0.682,0.802,0.805,0.728,0.741,0.703,0.526,0.848,0.749,0.785,0.593,0.564,0.702,0.768,0.563,0.658,0.873,0.761,0.705,0.486,0.732,0.724,0.628,0.884,0.43,0.717,0.714,0.769,0.664,0.862,0.671,0.635,0.74,0.676,0.741,0.664,0.791,0.799,0.302,0.869,0.658,0.733,0.634,0.558,0.467,0.754,0.766,0.789,0.781,0.688,0.356,0.615,0.768,0.877,0.57,0.858,0.942,0.76,0.593,0.896,0.823,0.716,0.825,0.719,0.594,0.625,0.378,0.524,0.431,0.766,0.639,0.8,0.689,0.534,0.693,0.76,0.83,0.705,0.725,0.674,0.915,0.589,0.786,0.396,0.331,0.916,0.869,0.804,0.43,0.567,0.692,0.803,0.868,0.519,0.627,0.71,0.716,0.927,0.714,0.681,0.314,0.738,0.953,0.761,0.593,0.913,0.836,0.713,0.702,0.604,0.589,0.563,0.847,0.908,0.732,0.575,0.62,0.734,0.819,0.529,0.924,0.705,0.635,0.862,0.753,0.943,0.618,0.412,0.633,0.585,0.462,0.702,0.822,0.7,0.91,0.553,0.517,0.623,0.819,0.798,0.802,0.541,0.702,0.356,0.932,0.77,0.587,0.558,0.758,0.725,0.496,0.275,0.5,0.791,0.739,0.771,0.531,0.433,0.672,0.598,0.747,0.576,0.552,0.653,0.652,0.882,0.786,0.372,0.763,0.517,0.81,0.61,0.635,0.448,0.712,0.728,0.318,0.434,0.731,0.716,0.314,0.583,0.844,0.769,0.347,0.741,0.437,0.701,0.669,0.632,0.782,0.598,0.886,0.75,0.655,0.427,0.817,0.771,0.582,0.443,0.744,0.787,0.813,0.625,0.618,0.626,0.884,0.882,0.707,0.593,0.523,0.709,0.822,0.489,0.517,0.81,0.391,0.666,0.444,0.54,0.792,0.836,0.764,0.65,0.675,0.8,0.778,0.804,0.72,0.723,0.745,0.713,0.672,0.804,0.858,0.609,0.8,0.887,0.745,0.687,0.872,0.868,0.794,0.558,0.485,0.463,0.739,0.451,0.739,0.502,0.838,0.637,0.676,0.909,0.749,0.819,0.658,0.575,0.674,0.666,0.667,0.803,0.548,0.533,0.449,0.52,0.428,0.731,0.77,0.566,0.657,0.88,0.726,0.537,0.713,0.625,0.862,0.559,0.73,0.611,0.801,0.822,0.677,0.296,0.633,0.636,0.412,0.387,0.593,0.675,0.518,0.749,0.613,0.745,0.718,0.775,0.744,0.577,0.705,0.519,0.633,0.741,0.709,0.658,0.831,0.583,0.688,0.366,0.804,0.834,0.624,0.895,0.761,0.854,0.764,0.787,0.714,0.308,0.738,0.703,0.346,0.785,0.649,0.805,0.561,0.578,0.581,0.749,0.792,0.586,0.632,0.816,0.346,0.626,0.473,0.769,0.779,0.68,0.892,0.832,0.797,0.834,0.61,0.84,0.76,0.683,0.859,0.408,0.824,0.751,0.586,0.713,0.701,0.544,0.641,0.789,0.599,0.505,0.571,0.541,0.648,0.909,0.585,0.56,0.619,0.425,0.548,0.317,0.522,0.671,0.488,0.751,0.385,0.794,0.405,0.782,0.559,0.511,0.603,0.86,0.557,0.861,0.622,0.744,0.823,0.73,0.803,0.559,0.801,0.587,0.811,0.642,0.471,0.296,0.881,0.53,0.496,0.539,0.658,0.662,0.63,0.709,0.502,0.594,0.539,0.639,0.692,0.636,0.586,0.808,0.498,0.743,0.59,0.554,0.496,0.704,0.793,0.581,0.887,0.762,0.57,0.653,0.588,0.795,0.624,0.656,0.773,0.364,0.783,0.585,0.382,0.662,0.839,0.389,0.862,0.765,0.496,0.428,0.645,0.498,0.81,0.518,0.895,0.814,0.803,0.642,0.725,0.7,0.578,0.787,0.733,0.714,0.904,0.625,0.682,0.621,0.887,0.79,0.653,0.734,0.702,0.678,0.52,0.762],\"xaxis\":\"x\",\"yaxis\":\"y\",\"type\":\"histogram\"}],                        {\"barmode\":\"relative\",\"legend\":{\"tracegroupgap\":0},\"template\":{\"data\":{\"barpolar\":[{\"marker\":{\"line\":{\"color\":\"rgb(17,17,17)\",\"width\":0.5},\"pattern\":{\"fillmode\":\"overlay\",\"size\":10,\"solidity\":0.2}},\"type\":\"barpolar\"}],\"bar\":[{\"error_x\":{\"color\":\"#f2f5fa\"},\"error_y\":{\"color\":\"#f2f5fa\"},\"marker\":{\"line\":{\"color\":\"rgb(17,17,17)\",\"width\":0.5},\"pattern\":{\"fillmode\":\"overlay\",\"size\":10,\"solidity\":0.2}},\"type\":\"bar\"}],\"carpet\":[{\"aaxis\":{\"endlinecolor\":\"#A2B1C6\",\"gridcolor\":\"#506784\",\"linecolor\":\"#506784\",\"minorgridcolor\":\"#506784\",\"startlinecolor\":\"#A2B1C6\"},\"baxis\":{\"endlinecolor\":\"#A2B1C6\",\"gridcolor\":\"#506784\",\"linecolor\":\"#506784\",\"minorgridcolor\":\"#506784\",\"startlinecolor\":\"#A2B1C6\"},\"type\":\"carpet\"}],\"choropleth\":[{\"colorbar\":{\"outlinewidth\":0,\"ticks\":\"\"},\"type\":\"choropleth\"}],\"contourcarpet\":[{\"colorbar\":{\"outlinewidth\":0,\"ticks\":\"\"},\"type\":\"contourcarpet\"}],\"contour\":[{\"colorbar\":{\"outlinewidth\":0,\"ticks\":\"\"},\"colorscale\":[[0.0,\"#0d0887\"],[0.1111111111111111,\"#46039f\"],[0.2222222222222222,\"#7201a8\"],[0.3333333333333333,\"#9c179e\"],[0.4444444444444444,\"#bd3786\"],[0.5555555555555556,\"#d8576b\"],[0.6666666666666666,\"#ed7953\"],[0.7777777777777778,\"#fb9f3a\"],[0.8888888888888888,\"#fdca26\"],[1.0,\"#f0f921\"]],\"type\":\"contour\"}],\"heatmapgl\":[{\"colorbar\":{\"outlinewidth\":0,\"ticks\":\"\"},\"colorscale\":[[0.0,\"#0d0887\"],[0.1111111111111111,\"#46039f\"],[0.2222222222222222,\"#7201a8\"],[0.3333333333333333,\"#9c179e\"],[0.4444444444444444,\"#bd3786\"],[0.5555555555555556,\"#d8576b\"],[0.6666666666666666,\"#ed7953\"],[0.7777777777777778,\"#fb9f3a\"],[0.8888888888888888,\"#fdca26\"],[1.0,\"#f0f921\"]],\"type\":\"heatmapgl\"}],\"heatmap\":[{\"colorbar\":{\"outlinewidth\":0,\"ticks\":\"\"},\"colorscale\":[[0.0,\"#0d0887\"],[0.1111111111111111,\"#46039f\"],[0.2222222222222222,\"#7201a8\"],[0.3333333333333333,\"#9c179e\"],[0.4444444444444444,\"#bd3786\"],[0.5555555555555556,\"#d8576b\"],[0.6666666666666666,\"#ed7953\"],[0.7777777777777778,\"#fb9f3a\"],[0.8888888888888888,\"#fdca26\"],[1.0,\"#f0f921\"]],\"type\":\"heatmap\"}],\"histogram2dcontour\":[{\"colorbar\":{\"outlinewidth\":0,\"ticks\":\"\"},\"colorscale\":[[0.0,\"#0d0887\"],[0.1111111111111111,\"#46039f\"],[0.2222222222222222,\"#7201a8\"],[0.3333333333333333,\"#9c179e\"],[0.4444444444444444,\"#bd3786\"],[0.5555555555555556,\"#d8576b\"],[0.6666666666666666,\"#ed7953\"],[0.7777777777777778,\"#fb9f3a\"],[0.8888888888888888,\"#fdca26\"],[1.0,\"#f0f921\"]],\"type\":\"histogram2dcontour\"}],\"histogram2d\":[{\"colorbar\":{\"outlinewidth\":0,\"ticks\":\"\"},\"colorscale\":[[0.0,\"#0d0887\"],[0.1111111111111111,\"#46039f\"],[0.2222222222222222,\"#7201a8\"],[0.3333333333333333,\"#9c179e\"],[0.4444444444444444,\"#bd3786\"],[0.5555555555555556,\"#d8576b\"],[0.6666666666666666,\"#ed7953\"],[0.7777777777777778,\"#fb9f3a\"],[0.8888888888888888,\"#fdca26\"],[1.0,\"#f0f921\"]],\"type\":\"histogram2d\"}],\"histogram\":[{\"marker\":{\"pattern\":{\"fillmode\":\"overlay\",\"size\":10,\"solidity\":0.2}},\"type\":\"histogram\"}],\"mesh3d\":[{\"colorbar\":{\"outlinewidth\":0,\"ticks\":\"\"},\"type\":\"mesh3d\"}],\"parcoords\":[{\"line\":{\"colorbar\":{\"outlinewidth\":0,\"ticks\":\"\"}},\"type\":\"parcoords\"}],\"pie\":[{\"automargin\":true,\"type\":\"pie\"}],\"scatter3d\":[{\"line\":{\"colorbar\":{\"outlinewidth\":0,\"ticks\":\"\"}},\"marker\":{\"colorbar\":{\"outlinewidth\":0,\"ticks\":\"\"}},\"type\":\"scatter3d\"}],\"scattercarpet\":[{\"marker\":{\"colorbar\":{\"outlinewidth\":0,\"ticks\":\"\"}},\"type\":\"scattercarpet\"}],\"scattergeo\":[{\"marker\":{\"colorbar\":{\"outlinewidth\":0,\"ticks\":\"\"}},\"type\":\"scattergeo\"}],\"scattergl\":[{\"marker\":{\"line\":{\"color\":\"#283442\"}},\"type\":\"scattergl\"}],\"scattermapbox\":[{\"marker\":{\"colorbar\":{\"outlinewidth\":0,\"ticks\":\"\"}},\"type\":\"scattermapbox\"}],\"scatterpolargl\":[{\"marker\":{\"colorbar\":{\"outlinewidth\":0,\"ticks\":\"\"}},\"type\":\"scatterpolargl\"}],\"scatterpolar\":[{\"marker\":{\"colorbar\":{\"outlinewidth\":0,\"ticks\":\"\"}},\"type\":\"scatterpolar\"}],\"scatter\":[{\"marker\":{\"line\":{\"color\":\"#283442\"}},\"type\":\"scatter\"}],\"scatterternary\":[{\"marker\":{\"colorbar\":{\"outlinewidth\":0,\"ticks\":\"\"}},\"type\":\"scatterternary\"}],\"surface\":[{\"colorbar\":{\"outlinewidth\":0,\"ticks\":\"\"},\"colorscale\":[[0.0,\"#0d0887\"],[0.1111111111111111,\"#46039f\"],[0.2222222222222222,\"#7201a8\"],[0.3333333333333333,\"#9c179e\"],[0.4444444444444444,\"#bd3786\"],[0.5555555555555556,\"#d8576b\"],[0.6666666666666666,\"#ed7953\"],[0.7777777777777778,\"#fb9f3a\"],[0.8888888888888888,\"#fdca26\"],[1.0,\"#f0f921\"]],\"type\":\"surface\"}],\"table\":[{\"cells\":{\"fill\":{\"color\":\"#506784\"},\"line\":{\"color\":\"rgb(17,17,17)\"}},\"header\":{\"fill\":{\"color\":\"#2a3f5f\"},\"line\":{\"color\":\"rgb(17,17,17)\"}},\"type\":\"table\"}]},\"layout\":{\"annotationdefaults\":{\"arrowcolor\":\"#f2f5fa\",\"arrowhead\":0,\"arrowwidth\":1},\"autotypenumbers\":\"strict\",\"coloraxis\":{\"colorbar\":{\"outlinewidth\":0,\"ticks\":\"\"}},\"colorscale\":{\"diverging\":[[0,\"#8e0152\"],[0.1,\"#c51b7d\"],[0.2,\"#de77ae\"],[0.3,\"#f1b6da\"],[0.4,\"#fde0ef\"],[0.5,\"#f7f7f7\"],[0.6,\"#e6f5d0\"],[0.7,\"#b8e186\"],[0.8,\"#7fbc41\"],[0.9,\"#4d9221\"],[1,\"#276419\"]],\"sequential\":[[0.0,\"#0d0887\"],[0.1111111111111111,\"#46039f\"],[0.2222222222222222,\"#7201a8\"],[0.3333333333333333,\"#9c179e\"],[0.4444444444444444,\"#bd3786\"],[0.5555555555555556,\"#d8576b\"],[0.6666666666666666,\"#ed7953\"],[0.7777777777777778,\"#fb9f3a\"],[0.8888888888888888,\"#fdca26\"],[1.0,\"#f0f921\"]],\"sequentialminus\":[[0.0,\"#0d0887\"],[0.1111111111111111,\"#46039f\"],[0.2222222222222222,\"#7201a8\"],[0.3333333333333333,\"#9c179e\"],[0.4444444444444444,\"#bd3786\"],[0.5555555555555556,\"#d8576b\"],[0.6666666666666666,\"#ed7953\"],[0.7777777777777778,\"#fb9f3a\"],[0.8888888888888888,\"#fdca26\"],[1.0,\"#f0f921\"]]},\"colorway\":[\"#636efa\",\"#EF553B\",\"#00cc96\",\"#ab63fa\",\"#FFA15A\",\"#19d3f3\",\"#FF6692\",\"#B6E880\",\"#FF97FF\",\"#FECB52\"],\"font\":{\"color\":\"#f2f5fa\"},\"geo\":{\"bgcolor\":\"rgb(17,17,17)\",\"lakecolor\":\"rgb(17,17,17)\",\"landcolor\":\"rgb(17,17,17)\",\"showlakes\":true,\"showland\":true,\"subunitcolor\":\"#506784\"},\"hoverlabel\":{\"align\":\"left\"},\"hovermode\":\"closest\",\"mapbox\":{\"style\":\"dark\"},\"paper_bgcolor\":\"rgb(17,17,17)\",\"plot_bgcolor\":\"rgb(17,17,17)\",\"polar\":{\"angularaxis\":{\"gridcolor\":\"#506784\",\"linecolor\":\"#506784\",\"ticks\":\"\"},\"bgcolor\":\"rgb(17,17,17)\",\"radialaxis\":{\"gridcolor\":\"#506784\",\"linecolor\":\"#506784\",\"ticks\":\"\"}},\"scene\":{\"xaxis\":{\"backgroundcolor\":\"rgb(17,17,17)\",\"gridcolor\":\"#506784\",\"gridwidth\":2,\"linecolor\":\"#506784\",\"showbackground\":true,\"ticks\":\"\",\"zerolinecolor\":\"#C8D4E3\"},\"yaxis\":{\"backgroundcolor\":\"rgb(17,17,17)\",\"gridcolor\":\"#506784\",\"gridwidth\":2,\"linecolor\":\"#506784\",\"showbackground\":true,\"ticks\":\"\",\"zerolinecolor\":\"#C8D4E3\"},\"zaxis\":{\"backgroundcolor\":\"rgb(17,17,17)\",\"gridcolor\":\"#506784\",\"gridwidth\":2,\"linecolor\":\"#506784\",\"showbackground\":true,\"ticks\":\"\",\"zerolinecolor\":\"#C8D4E3\"}},\"shapedefaults\":{\"line\":{\"color\":\"#f2f5fa\"}},\"sliderdefaults\":{\"bgcolor\":\"#C8D4E3\",\"bordercolor\":\"rgb(17,17,17)\",\"borderwidth\":1,\"tickwidth\":0},\"ternary\":{\"aaxis\":{\"gridcolor\":\"#506784\",\"linecolor\":\"#506784\",\"ticks\":\"\"},\"baxis\":{\"gridcolor\":\"#506784\",\"linecolor\":\"#506784\",\"ticks\":\"\"},\"bgcolor\":\"rgb(17,17,17)\",\"caxis\":{\"gridcolor\":\"#506784\",\"linecolor\":\"#506784\",\"ticks\":\"\"}},\"title\":{\"x\":0.05},\"updatemenudefaults\":{\"bgcolor\":\"#506784\",\"borderwidth\":0},\"xaxis\":{\"automargin\":true,\"gridcolor\":\"#283442\",\"linecolor\":\"#506784\",\"ticks\":\"\",\"title\":{\"standoff\":15},\"zerolinecolor\":\"#283442\",\"zerolinewidth\":2},\"yaxis\":{\"automargin\":true,\"gridcolor\":\"#283442\",\"linecolor\":\"#506784\",\"ticks\":\"\",\"title\":{\"standoff\":15},\"zerolinecolor\":\"#283442\",\"zerolinewidth\":2}}},\"title\":{\"text\":\"energy distribution in top hits\"},\"xaxis\":{\"anchor\":\"y\",\"domain\":[0.0,1.0],\"title\":{\"text\":\"energy\"}},\"yaxis\":{\"anchor\":\"x\",\"domain\":[0.0,1.0],\"title\":{\"text\":\"count\"}}},                        {\"responsive\": true}                    ).then(function(){\n",
       "                            \n",
       "var gd = document.getElementById('97a58f5d-4d3d-45be-a56f-1126c7fc1cdf');\n",
       "var x = new MutationObserver(function (mutations, observer) {{\n",
       "        var display = window.getComputedStyle(gd).display;\n",
       "        if (!display || display === 'none') {{\n",
       "            console.log([gd, 'removed!']);\n",
       "            Plotly.purge(gd);\n",
       "            observer.disconnect();\n",
       "        }}\n",
       "}});\n",
       "\n",
       "// Listen for the removal of the full notebook cells\n",
       "var notebookContainer = gd.closest('#notebook-container');\n",
       "if (notebookContainer) {{\n",
       "    x.observe(notebookContainer, {childList: true});\n",
       "}}\n",
       "\n",
       "// Listen for the clearing of the current output cell\n",
       "var outputEl = gd.closest('.output');\n",
       "if (outputEl) {{\n",
       "    x.observe(outputEl, {childList: true});\n",
       "}}\n",
       "\n",
       "                        })                };                });            </script>        </div>"
      ]
     },
     "metadata": {},
     "output_type": "display_data"
    },
    {
     "data": {
      "text/html": [
       "<div>                            <div id=\"629ff315-8f0d-4a94-9c1b-16ca71147634\" class=\"plotly-graph-div\" style=\"height:525px; width:100%;\"></div>            <script type=\"text/javascript\">                require([\"plotly\"], function(Plotly) {                    window.PLOTLYENV=window.PLOTLYENV || {};                                    if (document.getElementById(\"629ff315-8f0d-4a94-9c1b-16ca71147634\")) {                    Plotly.newPlot(                        \"629ff315-8f0d-4a94-9c1b-16ca71147634\",                        [{\"alignmentgroup\":\"True\",\"bingroup\":\"x\",\"hovertemplate\":\"speechiness=%{x}\\u003cbr\\u003ecount=%{y}\\u003cextra\\u003e\\u003c\\u002fextra\\u003e\",\"legendgroup\":\"\",\"marker\":{\"color\":\"rgb(153, 201, 69)\",\"pattern\":{\"shape\":\"\"}},\"name\":\"\",\"offsetgroup\":\"\",\"orientation\":\"v\",\"showlegend\":false,\"x\":[0.0437,0.0488,0.029,0.0466,0.0516,0.0654,0.0572,0.0322,0.102,0.0379,0.0292,0.0287,0.0989,0.0304,0.0478,0.29,0.056,0.0552,0.0369,0.27,0.0584,0.0446,0.0304,0.143,0.0327,0.046,0.0465,0.24,0.165,0.0419,0.347,0.0373,0.0663,0.0858,0.0454,0.077,0.0548,0.14,0.0367,0.0276,0.0329,0.0411,0.168,0.0774,0.291,0.0252,0.0279,0.0405,0.162,0.108,0.076,0.0806,0.206,0.0771,0.24,0.0331,0.0993,0.0844,0.0497,0.0333,0.046,0.0311,0.0315,0.0365,0.0376,0.036,0.0574,0.0617,0.0487,0.126,0.0445,0.0917,0.0328,0.0302,0.0311,0.0567,0.0434,0.0286,0.0337,0.32,0.0404,0.0298,0.028,0.0255,0.0242,0.206,0.0801,0.0841,0.0296,0.0386,0.026,0.0296,0.0302,0.0597,0.0368,0.0495,0.106,0.0364,0.0317,0.108,0.0713,0.41,0.238,0.0339,0.0534,0.036,0.0407,0.0526,0.0276,0.0447,0.0586,0.106,0.0672,0.329,0.0449,0.0441,0.171,0.0439,0.0377,0.0307,0.0409,0.0324,0.0556,0.081,0.185,0.107,0.0481,0.0327,0.033,0.133,0.269,0.0318,0.124,0.0427,0.117,0.0621,0.162,0.247,0.0612,0.12,0.0312,0.171,0.203,0.0297,0.124,0.0707,0.129,0.0553,0.334,0.0867,0.0638,0.0582,0.203,0.16,0.0946,0.0594,0.0319,0.0318,0.226,0.488,0.0329,0.0365,0.0927,0.0373,0.0835,0.0872,0.0325,0.0301,0.0306,0.0633,0.275,0.0239,0.216,0.0271,0.0598,0.0287,0.0736,0.0413,0.311,0.206,0.0493,0.151,0.0499,0.241,0.0265,0.0491,0.247,0.026,0.0478,0.122,0.0497,0.342,0.0452,0.0349,0.0258,0.0338,0.0631,0.0558,0.0614,0.0349,0.14,0.0738,0.0459,0.0379,0.0267,0.0415,0.0684,0.147,0.306,0.186,0.483,0.127,0.0901,0.265,0.355,0.0584,0.0948,0.0336,0.125,0.0338,0.0728,0.223,0.0364,0.0727,0.0382,0.156,0.0787,0.139,0.0358,0.323,0.035,0.0364,0.0608,0.133,0.13,0.29,0.0548,0.12,0.0261,0.322,0.0688,0.0925,0.0688,0.0598,0.0574,0.035,0.239,0.0456,0.18,0.0525,0.0926,0.32,0.0428,0.151,0.0277,0.208,0.106,0.125,0.223,0.0309,0.0646,0.229,0.034,0.174,0.0289,0.0284,0.046,0.158,0.0586,0.0279,0.283,0.028,0.162,0.0504,0.199,0.0532,0.0482,0.0548,0.0245,0.145,0.107,0.0502,0.0322,0.0884,0.0261,0.0299,0.0459,0.0365,0.0322,0.0323,0.235,0.042,0.0312,0.0286,0.0292,0.0297,0.0562,0.0278,0.401,0.0756,0.366,0.036,0.264,0.226,0.0494,0.184,0.188,0.243,0.0474,0.104,0.306,0.0371,0.0349,0.314,0.346,0.0356,0.131,0.183,0.0698,0.0309,0.0586,0.0421,0.0396,0.21,0.268,0.0375,0.089,0.0305,0.0283,0.141,0.0805,0.307,0.22,0.272,0.192,0.0391,0.0329,0.0337,0.117,0.029,0.362,0.0365,0.295,0.116,0.295,0.0271,0.0287,0.2,0.13,0.253,0.137,0.339,0.109,0.299,0.317,0.505,0.0346,0.043,0.201,0.0348,0.132,0.0743,0.0776,0.0302,0.138,0.349,0.182,0.0284,0.0457,0.183,0.0278,0.0282,0.0473,0.286,0.0279,0.0594,0.283,0.0582,0.0803,0.0276,0.319,0.132,0.107,0.0981,0.0401,0.0357,0.181,0.458,0.137,0.199,0.0403,0.0464,0.0523,0.0457,0.0292,0.0374,0.0444,0.0336,0.0291,0.0368,0.112,0.0378,0.114,0.0664,0.029,0.0321,0.0618,0.126,0.0427,0.415,0.0373,0.0628,0.0434,0.0275,0.0968,0.0857,0.0381,0.22,0.101,0.0828,0.0847,0.0462,0.0637,0.375,0.0491,0.149,0.0284,0.0922,0.0394,0.118,0.0432,0.268,0.254,0.318,0.0308,0.0497,0.0349,0.232,0.128,0.0395,0.0439,0.0303,0.253,0.104,0.0711,0.0467,0.0287,0.216,0.172,0.0536,0.237,0.162,0.0361,0.183,0.257,0.125,0.0704,0.179,0.0786,0.0337,0.0613,0.0377,0.315,0.132,0.0946,0.323,0.0356,0.0423,0.0453,0.0282,0.0386,0.171,0.0639,0.108,0.0391,0.0317,0.247,0.0803,0.409,0.0758,0.0401,0.0653,0.0803,0.0252,0.484,0.294,0.0312,0.118,0.0818,0.038,0.299,0.325,0.0464,0.0621,0.108,0.359,0.0374,0.0773,0.0368,0.187,0.0629,0.0922,0.348,0.159,0.466,0.0278,0.0309,0.099,0.0309,0.132,0.0452,0.41,0.0407,0.366,0.151,0.0416,0.0751,0.0911,0.231,0.251,0.129,0.0514,0.222,0.0506,0.246,0.105,0.12,0.166,0.207,0.177,0.061,0.0352,0.0431,0.061,0.0459,0.266,0.0427,0.0372,0.127,0.0429,0.126,0.372,0.428,0.121,0.109,0.0336,0.103,0.0331,0.045,0.27,0.216,0.372,0.361,0.161,0.332,0.263,0.0448,0.0316,0.0929,0.113,0.0791,0.0615,0.0467,0.0245,0.0322,0.22,0.0395,0.347,0.18,0.0876,0.0407,0.0382,0.186,0.0314,0.28,0.0494,0.0356,0.0336,0.199,0.0766,0.0623,0.0313,0.0387,0.0292,0.108,0.197,0.0587,0.0241,0.0675,0.359,0.0803,0.0577,0.0449,0.105,0.0322,0.0247,0.0432,0.0393,0.0281,0.0696,0.0707,0.0685,0.0789,0.382,0.0552,0.0361,0.0336,0.37,0.0397,0.122,0.0756,0.046,0.0993,0.181,0.0506,0.229,0.225,0.27,0.109,0.117,0.169,0.0439,0.0466,0.0816,0.0294,0.277,0.0434,0.23,0.137,0.141,0.0612,0.026,0.224,0.0276,0.241,0.0405,0.357,0.0555,0.428,0.211,0.341,0.071,0.352,0.19,0.062,0.0294,0.0998,0.0473,0.0334,0.342,0.307,0.0524,0.286,0.0309,0.154,0.0301,0.0344,0.27,0.0375,0.262,0.199,0.0613,0.218,0.0283,0.0259,0.0413,0.0431,0.0777,0.416,0.0309,0.0277,0.0437,0.0276,0.31,0.0341,0.12,0.144,0.238,0.0587,0.14,0.0512,0.222,0.0294,0.0363,0.0691,0.0688,0.0641,0.0399,0.0305,0.114,0.045,0.0379,0.358,0.0752,0.042,0.0432,0.029,0.272,0.0274,0.0892,0.0357,0.134,0.0334,0.0335,0.0544,0.0293,0.0709,0.0343,0.1,0.139,0.046,0.0425,0.0301,0.0475,0.0632,0.132,0.0523,0.202,0.145,0.153,0.0703,0.0781,0.0417,0.0786,0.197,0.0528,0.0349,0.241,0.039,0.0603,0.0324,0.0623,0.225,0.0395,0.0456,0.087,0.576,0.0995,0.0518,0.0405,0.191,0.224,0.23,0.0508,0.0632,0.0511,0.0378,0.102,0.0356,0.0538,0.0813,0.47,0.0381,0.133,0.248,0.316,0.134,0.183,0.0386,0.0623,0.0549,0.0805,0.0373,0.213,0.0425,0.0487,0.0329,0.0395,0.0357,0.0636,0.0735,0.029,0.222,0.0431,0.126,0.0512,0.0403,0.183,0.298,0.0399,0.0454,0.23,0.0687,0.0371,0.0269,0.0405,0.0652,0.262,0.0742,0.0323,0.43,0.0664,0.0459,0.0281,0.0553,0.0635,0.034,0.0504,0.0499,0.283,0.0791,0.0677,0.0715,0.0285,0.0278,0.145,0.0698,0.0313,0.0756,0.057,0.0301,0.0571,0.0576,0.0445,0.0831,0.354,0.0399,0.0652,0.0418,0.0643,0.0682,0.152,0.0622,0.0295,0.0538,0.0353,0.0414,0.05,0.0732,0.0786,0.216,0.255,0.0738,0.278,0.038,0.177,0.0508,0.225,0.0456,0.121,0.0451,0.0288,0.128,0.0797,0.0317,0.0696,0.0391,0.0638,0.189,0.326,0.0338,0.0825,0.349,0.05,0.0425,0.0323,0.0282,0.222,0.0602,0.202,0.0502,0.0719,0.0581,0.118,0.0331,0.0341,0.135,0.0732,0.0763,0.0341,0.0893,0.167,0.029,0.0291,0.0798,0.0709,0.0737,0.0332,0.0291,0.117,0.0289,0.0287,0.054,0.346,0.0332,0.0322,0.361,0.0438,0.0399,0.0374,0.325,0.051,0.119,0.0817,0.361,0.0459,0.0255,0.0506,0.131,0.049,0.0265,0.0787,0.0628,0.0486,0.0551,0.0311,0.227,0.052,0.0523,0.0741,0.0441,0.0735,0.136,0.0653,0.0311,0.0339,0.149,0.0625,0.111,0.0321,0.0663,0.0443,0.0438,0.392,0.0474,0.0439,0.0432,0.0362,0.0397,0.29,0.0363,0.255,0.0792,0.22,0.138,0.0447,0.0269,0.027,0.0321,0.061,0.0253,0.0912,0.112,0.186,0.0299,0.0377,0.19,0.0712,0.254,0.061,0.0317,0.0889,0.0538,0.363,0.342,0.0511,0.0323,0.234,0.0473,0.0779,0.0402,0.259,0.0329,0.0458,0.0815,0.0355,0.0477,0.0311,0.0321,0.0372,0.103,0.0455,0.0775,0.0601,0.029,0.0709,0.0448,0.296,0.141,0.0422,0.0366,0.0327,0.0289,0.0317,0.0404,0.054,0.33,0.0757,0.042,0.0339,0.0343,0.0355,0.16,0.0384,0.0333,0.243,0.0346,0.0509,0.0272,0.0413,0.0422,0.227,0.0363,0.0793,0.142,0.255,0.0859,0.0432,0.0569,0.0286,0.28,0.449,0.0816,0.108,0.112,0.0818,0.113,0.147,0.0322,0.0314,0.365,0.0445,0.264,0.0462,0.127,0.131,0.0712,0.0664,0.138,0.0333,0.11,0.109,0.0708,0.0327,0.0322,0.0391,0.0981,0.032,0.144,0.0474,0.0404,0.0464,0.111,0.296,0.0429,0.161,0.0393,0.0878,0.0401,0.0332,0.0424,0.0321,0.177,0.0804,0.137,0.141,0.0674,0.0729,0.0533,0.115,0.189,0.033,0.0333,0.116,0.378,0.0305,0.069,0.0343,0.044,0.113,0.0779,0.279,0.0573,0.141,0.0341,0.0644,0.0286,0.356,0.0563,0.0982,0.0389,0.173,0.146,0.0407,0.0693,0.295,0.0493,0.0361,0.0451,0.258,0.0439,0.0341,0.0318,0.0303,0.0437,0.0397,0.0343,0.0349,0.0277,0.343,0.0298,0.0475,0.156,0.049,0.0542,0.0884,0.0468,0.116,0.0496,0.042,0.0392,0.03,0.0721,0.0543,0.041,0.179,0.0414,0.0395,0.161,0.0469,0.0675,0.175,0.0414,0.0976,0.0322,0.0523,0.114,0.0599,0.0581,0.316,0.0535,0.049,0.0464,0.0391,0.0489,0.0393,0.0665,0.1,0.0652,0.0268,0.0415,0.0249,0.452,0.304,0.318,0.184,0.0461,0.0639,0.0407,0.0418,0.0383,0.0262,0.146,0.0445,0.0474,0.0717,0.1,0.193,0.069,0.161,0.0548,0.0434,0.0472,0.24,0.0479,0.0806,0.161,0.209,0.118,0.0399,0.0285,0.0292,0.106,0.182,0.0352,0.192,0.052,0.245,0.0699,0.115,0.0304,0.0605,0.028,0.029,0.246,0.0373,0.0385,0.041,0.0307,0.119,0.0439,0.0396,0.0324,0.0838,0.0316,0.0367,0.0277,0.0418,0.0334,0.0267,0.0383,0.0408,0.075,0.0693,0.0499,0.0672,0.0282,0.0591,0.0916,0.311,0.0314,0.196,0.0965,0.0453,0.0445,0.0655,0.0609,0.404,0.0337,0.406,0.0431,0.316,0.286,0.046,0.0973,0.0565,0.0534,0.0431,0.0343,0.0688,0.0461,0.0485,0.0355,0.075,0.271,0.0547,0.0482,0.258,0.0414,0.0933,0.0692,0.041,0.0296,0.371,0.031,0.0696,0.0338,0.0445,0.0268,0.102,0.226,0.0595,0.0564,0.0509,0.0506,0.0519,0.103,0.034,0.0363,0.108,0.03,0.0414,0.137,0.1,0.0479,0.0387,0.188,0.0805,0.206,0.0353,0.0545,0.0358,0.0554,0.0737,0.0439,0.0963,0.14,0.0873,0.0249,0.0367,0.032,0.167,0.0347,0.0543,0.0513,0.0429,0.0344,0.051,0.0475,0.356,0.0367,0.0833,0.0593,0.034,0.0393,0.0487,0.265,0.127,0.0486,0.076,0.122,0.0489,0.0627,0.0523,0.0431,0.293,0.038,0.0696,0.0859,0.0645,0.0316,0.04,0.402,0.0533,0.158,0.0584,0.0327,0.0786,0.0363,0.232,0.0441,0.15,0.0336,0.0521,0.0309,0.104,0.0368,0.0593,0.0715,0.0912,0.0517,0.311,0.0501,0.0439,0.322,0.0558,0.333,0.0284,0.064,0.0939,0.0374,0.0321,0.071,0.0363,0.0323,0.05,0.0909,0.0514,0.275,0.03,0.0453,0.0432,0.0483,0.0483,0.0457,0.0568,0.049,0.1,0.081,0.109,0.0387,0.0748,0.0563,0.161,0.0253,0.0427,0.0454,0.0418,0.035,0.0396,0.0831,0.0509,0.0581,0.0407,0.0465,0.029,0.0753,0.0342,0.056,0.057,0.03,0.0503,0.0431,0.032,0.0334,0.217,0.044,0.0368,0.0961,0.0527,0.0269,0.289,0.101,0.0376,0.0572,0.113,0.0283,0.219,0.0434,0.0354,0.183,0.0512,0.064,0.0697,0.0898,0.0414,0.0381,0.0499,0.0322,0.0487,0.0503,0.0387,0.124,0.0315,0.0642,0.188,0.232,0.0295,0.088,0.107,0.0492,0.19,0.0406,0.0841,0.131,0.25,0.0258,0.0997,0.179,0.0808,0.156,0.0981,0.0385,0.42,0.0325,0.0428,0.0312,0.0487,0.0436,0.248,0.0929,0.0345,0.0343,0.0369,0.0818,0.0483,0.0432,0.0455,0.0502,0.0338,0.049,0.0589,0.0339,0.0492,0.0378,0.0659,0.0334,0.105,0.0436,0.091,0.035,0.154,0.0402,0.124,0.167,0.153,0.0786,0.0347,0.0377,0.0377,0.0296,0.132,0.0396,0.165,0.0353,0.0472,0.0634,0.0294,0.0463,0.0279,0.0377,0.0411,0.0496,0.0477,0.0323,0.0432,0.0336,0.0376,0.0379,0.0468,0.0337,0.0414,0.0397,0.041,0.0783,0.0549,0.179,0.236,0.194,0.0748,0.0824,0.0295,0.0815,0.0956,0.0625,0.0304,0.0484,0.0394,0.151,0.0386,0.054,0.0515,0.0329,0.219,0.0433,0.188,0.046,0.159,0.106,0.0734,0.0581,0.0731,0.0293,0.0406,0.0729,0.145,0.0317,0.141,0.0882,0.0528,0.0379,0.0666,0.0393,0.0527,0.0311,0.0741,0.13,0.0583,0.0469,0.0621,0.0536,0.0369,0.032,0.0388,0.0677,0.0337,0.0304,0.047,0.0499,0.134,0.0443,0.0265,0.128,0.0338,0.126,0.0346,0.0457,0.0964,0.0551,0.0404,0.0302,0.318,0.0334,0.0425,0.102,0.0905,0.0678,0.226,0.0284,0.0652,0.0531,0.0464,0.0402,0.163,0.0339,0.0789,0.203,0.0613,0.0428,0.202,0.0503,0.0676,0.141,0.0377,0.0567,0.0522,0.195,0.0496,0.0587,0.0659,0.052,0.0889,0.0631,0.045,0.0323,0.0619,0.0762,0.0349,0.0464,0.0357,0.282,0.0536,0.438,0.0338,0.0342,0.449,0.0688,0.215,0.0425,0.0946,0.0377,0.045,0.0751,0.0278,0.0393,0.0959,0.0488,0.049,0.317,0.0286,0.0726,0.0397,0.172,0.049,0.0419,0.0828,0.171,0.213,0.0908,0.0409,0.0476,0.111,0.0349,0.0332,0.111,0.358,0.244,0.247,0.0343,0.0876,0.0304,0.0426,0.0427,0.0393,0.0499,0.0385,0.232,0.134,0.0346,0.103,0.0457,0.029,0.0587,0.107,0.341,0.0583,0.036,0.0383,0.0898,0.0905,0.0517,0.0397,0.249,0.344,0.171,0.0432,0.123,0.0496,0.104,0.0436,0.0515,0.187,0.0366,0.082,0.0487,0.0432,0.0561,0.114,0.148,0.195,0.0824,0.0446,0.0785,0.0624,0.0653,0.266,0.0804,0.3,0.0695,0.053,0.274,0.336,0.0322,0.185,0.0345,0.0535,0.0889,0.0286,0.0991,0.104,0.0802,0.117,0.17,0.0432,0.0523,0.0312,0.0479,0.0696,0.0317,0.0232,0.0385,0.0484,0.0478,0.431,0.0868,0.113,0.0581,0.0288,0.275,0.123,0.35,0.0339,0.0386,0.0914,0.138,0.0649,0.0296,0.0539,0.04,0.231,0.0311,0.145,0.109,0.244,0.286,0.0526,0.0363,0.108,0.0561,0.0903,0.0592,0.0432,0.236,0.0863,0.302,0.0526,0.0597,0.123,0.0537,0.294,0.36,0.0568,0.242,0.244,0.344,0.0576,0.0418,0.0507,0.136,0.0591,0.263,0.0583,0.233,0.0358,0.0691,0.109,0.31,0.0524,0.0688,0.0363,0.0428,0.043,0.112,0.275,0.0571,0.217,0.314,0.0291,0.0522,0.0431,0.0545,0.0396,0.0387,0.0585,0.272,0.148,0.0362,0.0429,0.0582,0.0758,0.058,0.118,0.0304,0.139,0.0818,0.0612,0.134,0.0797,0.0764,0.0706,0.109,0.0712,0.206,0.0868,0.149,0.2,0.0449,0.0504,0.129,0.0804,0.0594,0.0315,0.11,0.12,0.222,0.0409,0.228,0.151,0.093,0.0333,0.184,0.0437,0.123,0.412,0.0356,0.214,0.183,0.056,0.145,0.0464,0.213,0.172,0.0363,0.0531,0.299,0.143,0.0597,0.0378,0.0714,0.0558,0.15,0.0654,0.201,0.028,0.0448,0.045,0.113,0.0589,0.0853,0.463,0.038,0.0331,0.121,0.029,0.247,0.103,0.53,0.0333,0.0385,0.0752,0.0778,0.04,0.27,0.516,0.0452,0.0362,0.074,0.269,0.331,0.125,0.25,0.186,0.0972,0.321,0.0417,0.0689,0.0596,0.0885,0.144,0.051,0.342,0.117,0.0996,0.104,0.105,0.0296,0.343,0.0747,0.0449,0.0943,0.0925,0.0722,0.224,0.253,0.0439,0.0505,0.0449,0.0707,0.0924,0.105,0.102,0.375,0.029,0.334,0.0575,0.0363,0.0705,0.0874,0.0308,0.0671,0.0319,0.0897,0.127,0.42,0.176,0.0593,0.0318,0.237,0.0997,0.0295,0.0495,0.222,0.155,0.0355,0.228,0.0413,0.258,0.287,0.478,0.0333,0.147,0.127,0.0905,0.208,0.0661,0.303,0.0395,0.336,0.046,0.0752,0.0621,0.467,0.0457,0.086,0.147,0.0882,0.0456,0.0851,0.29,0.0917,0.297,0.0476,0.0842,0.101,0.0361,0.216,0.081,0.339,0.0924,0.461,0.309,0.0435,0.0524,0.276,0.0432,0.0964,0.269,0.426,0.208,0.332,0.0965,0.0669,0.0722,0.221,0.0715,0.0685,0.0906,0.0897,0.0575,0.155,0.126,0.122,0.15,0.341,0.04,0.12,0.203,0.0287,0.0618,0.045,0.0925,0.0894,0.0984,0.0562,0.0745,0.0588,0.157,0.109,0.0656,0.0395],\"xaxis\":\"x\",\"yaxis\":\"y\",\"type\":\"histogram\"}],                        {\"barmode\":\"relative\",\"legend\":{\"tracegroupgap\":0},\"template\":{\"data\":{\"barpolar\":[{\"marker\":{\"line\":{\"color\":\"rgb(17,17,17)\",\"width\":0.5},\"pattern\":{\"fillmode\":\"overlay\",\"size\":10,\"solidity\":0.2}},\"type\":\"barpolar\"}],\"bar\":[{\"error_x\":{\"color\":\"#f2f5fa\"},\"error_y\":{\"color\":\"#f2f5fa\"},\"marker\":{\"line\":{\"color\":\"rgb(17,17,17)\",\"width\":0.5},\"pattern\":{\"fillmode\":\"overlay\",\"size\":10,\"solidity\":0.2}},\"type\":\"bar\"}],\"carpet\":[{\"aaxis\":{\"endlinecolor\":\"#A2B1C6\",\"gridcolor\":\"#506784\",\"linecolor\":\"#506784\",\"minorgridcolor\":\"#506784\",\"startlinecolor\":\"#A2B1C6\"},\"baxis\":{\"endlinecolor\":\"#A2B1C6\",\"gridcolor\":\"#506784\",\"linecolor\":\"#506784\",\"minorgridcolor\":\"#506784\",\"startlinecolor\":\"#A2B1C6\"},\"type\":\"carpet\"}],\"choropleth\":[{\"colorbar\":{\"outlinewidth\":0,\"ticks\":\"\"},\"type\":\"choropleth\"}],\"contourcarpet\":[{\"colorbar\":{\"outlinewidth\":0,\"ticks\":\"\"},\"type\":\"contourcarpet\"}],\"contour\":[{\"colorbar\":{\"outlinewidth\":0,\"ticks\":\"\"},\"colorscale\":[[0.0,\"#0d0887\"],[0.1111111111111111,\"#46039f\"],[0.2222222222222222,\"#7201a8\"],[0.3333333333333333,\"#9c179e\"],[0.4444444444444444,\"#bd3786\"],[0.5555555555555556,\"#d8576b\"],[0.6666666666666666,\"#ed7953\"],[0.7777777777777778,\"#fb9f3a\"],[0.8888888888888888,\"#fdca26\"],[1.0,\"#f0f921\"]],\"type\":\"contour\"}],\"heatmapgl\":[{\"colorbar\":{\"outlinewidth\":0,\"ticks\":\"\"},\"colorscale\":[[0.0,\"#0d0887\"],[0.1111111111111111,\"#46039f\"],[0.2222222222222222,\"#7201a8\"],[0.3333333333333333,\"#9c179e\"],[0.4444444444444444,\"#bd3786\"],[0.5555555555555556,\"#d8576b\"],[0.6666666666666666,\"#ed7953\"],[0.7777777777777778,\"#fb9f3a\"],[0.8888888888888888,\"#fdca26\"],[1.0,\"#f0f921\"]],\"type\":\"heatmapgl\"}],\"heatmap\":[{\"colorbar\":{\"outlinewidth\":0,\"ticks\":\"\"},\"colorscale\":[[0.0,\"#0d0887\"],[0.1111111111111111,\"#46039f\"],[0.2222222222222222,\"#7201a8\"],[0.3333333333333333,\"#9c179e\"],[0.4444444444444444,\"#bd3786\"],[0.5555555555555556,\"#d8576b\"],[0.6666666666666666,\"#ed7953\"],[0.7777777777777778,\"#fb9f3a\"],[0.8888888888888888,\"#fdca26\"],[1.0,\"#f0f921\"]],\"type\":\"heatmap\"}],\"histogram2dcontour\":[{\"colorbar\":{\"outlinewidth\":0,\"ticks\":\"\"},\"colorscale\":[[0.0,\"#0d0887\"],[0.1111111111111111,\"#46039f\"],[0.2222222222222222,\"#7201a8\"],[0.3333333333333333,\"#9c179e\"],[0.4444444444444444,\"#bd3786\"],[0.5555555555555556,\"#d8576b\"],[0.6666666666666666,\"#ed7953\"],[0.7777777777777778,\"#fb9f3a\"],[0.8888888888888888,\"#fdca26\"],[1.0,\"#f0f921\"]],\"type\":\"histogram2dcontour\"}],\"histogram2d\":[{\"colorbar\":{\"outlinewidth\":0,\"ticks\":\"\"},\"colorscale\":[[0.0,\"#0d0887\"],[0.1111111111111111,\"#46039f\"],[0.2222222222222222,\"#7201a8\"],[0.3333333333333333,\"#9c179e\"],[0.4444444444444444,\"#bd3786\"],[0.5555555555555556,\"#d8576b\"],[0.6666666666666666,\"#ed7953\"],[0.7777777777777778,\"#fb9f3a\"],[0.8888888888888888,\"#fdca26\"],[1.0,\"#f0f921\"]],\"type\":\"histogram2d\"}],\"histogram\":[{\"marker\":{\"pattern\":{\"fillmode\":\"overlay\",\"size\":10,\"solidity\":0.2}},\"type\":\"histogram\"}],\"mesh3d\":[{\"colorbar\":{\"outlinewidth\":0,\"ticks\":\"\"},\"type\":\"mesh3d\"}],\"parcoords\":[{\"line\":{\"colorbar\":{\"outlinewidth\":0,\"ticks\":\"\"}},\"type\":\"parcoords\"}],\"pie\":[{\"automargin\":true,\"type\":\"pie\"}],\"scatter3d\":[{\"line\":{\"colorbar\":{\"outlinewidth\":0,\"ticks\":\"\"}},\"marker\":{\"colorbar\":{\"outlinewidth\":0,\"ticks\":\"\"}},\"type\":\"scatter3d\"}],\"scattercarpet\":[{\"marker\":{\"colorbar\":{\"outlinewidth\":0,\"ticks\":\"\"}},\"type\":\"scattercarpet\"}],\"scattergeo\":[{\"marker\":{\"colorbar\":{\"outlinewidth\":0,\"ticks\":\"\"}},\"type\":\"scattergeo\"}],\"scattergl\":[{\"marker\":{\"line\":{\"color\":\"#283442\"}},\"type\":\"scattergl\"}],\"scattermapbox\":[{\"marker\":{\"colorbar\":{\"outlinewidth\":0,\"ticks\":\"\"}},\"type\":\"scattermapbox\"}],\"scatterpolargl\":[{\"marker\":{\"colorbar\":{\"outlinewidth\":0,\"ticks\":\"\"}},\"type\":\"scatterpolargl\"}],\"scatterpolar\":[{\"marker\":{\"colorbar\":{\"outlinewidth\":0,\"ticks\":\"\"}},\"type\":\"scatterpolar\"}],\"scatter\":[{\"marker\":{\"line\":{\"color\":\"#283442\"}},\"type\":\"scatter\"}],\"scatterternary\":[{\"marker\":{\"colorbar\":{\"outlinewidth\":0,\"ticks\":\"\"}},\"type\":\"scatterternary\"}],\"surface\":[{\"colorbar\":{\"outlinewidth\":0,\"ticks\":\"\"},\"colorscale\":[[0.0,\"#0d0887\"],[0.1111111111111111,\"#46039f\"],[0.2222222222222222,\"#7201a8\"],[0.3333333333333333,\"#9c179e\"],[0.4444444444444444,\"#bd3786\"],[0.5555555555555556,\"#d8576b\"],[0.6666666666666666,\"#ed7953\"],[0.7777777777777778,\"#fb9f3a\"],[0.8888888888888888,\"#fdca26\"],[1.0,\"#f0f921\"]],\"type\":\"surface\"}],\"table\":[{\"cells\":{\"fill\":{\"color\":\"#506784\"},\"line\":{\"color\":\"rgb(17,17,17)\"}},\"header\":{\"fill\":{\"color\":\"#2a3f5f\"},\"line\":{\"color\":\"rgb(17,17,17)\"}},\"type\":\"table\"}]},\"layout\":{\"annotationdefaults\":{\"arrowcolor\":\"#f2f5fa\",\"arrowhead\":0,\"arrowwidth\":1},\"autotypenumbers\":\"strict\",\"coloraxis\":{\"colorbar\":{\"outlinewidth\":0,\"ticks\":\"\"}},\"colorscale\":{\"diverging\":[[0,\"#8e0152\"],[0.1,\"#c51b7d\"],[0.2,\"#de77ae\"],[0.3,\"#f1b6da\"],[0.4,\"#fde0ef\"],[0.5,\"#f7f7f7\"],[0.6,\"#e6f5d0\"],[0.7,\"#b8e186\"],[0.8,\"#7fbc41\"],[0.9,\"#4d9221\"],[1,\"#276419\"]],\"sequential\":[[0.0,\"#0d0887\"],[0.1111111111111111,\"#46039f\"],[0.2222222222222222,\"#7201a8\"],[0.3333333333333333,\"#9c179e\"],[0.4444444444444444,\"#bd3786\"],[0.5555555555555556,\"#d8576b\"],[0.6666666666666666,\"#ed7953\"],[0.7777777777777778,\"#fb9f3a\"],[0.8888888888888888,\"#fdca26\"],[1.0,\"#f0f921\"]],\"sequentialminus\":[[0.0,\"#0d0887\"],[0.1111111111111111,\"#46039f\"],[0.2222222222222222,\"#7201a8\"],[0.3333333333333333,\"#9c179e\"],[0.4444444444444444,\"#bd3786\"],[0.5555555555555556,\"#d8576b\"],[0.6666666666666666,\"#ed7953\"],[0.7777777777777778,\"#fb9f3a\"],[0.8888888888888888,\"#fdca26\"],[1.0,\"#f0f921\"]]},\"colorway\":[\"#636efa\",\"#EF553B\",\"#00cc96\",\"#ab63fa\",\"#FFA15A\",\"#19d3f3\",\"#FF6692\",\"#B6E880\",\"#FF97FF\",\"#FECB52\"],\"font\":{\"color\":\"#f2f5fa\"},\"geo\":{\"bgcolor\":\"rgb(17,17,17)\",\"lakecolor\":\"rgb(17,17,17)\",\"landcolor\":\"rgb(17,17,17)\",\"showlakes\":true,\"showland\":true,\"subunitcolor\":\"#506784\"},\"hoverlabel\":{\"align\":\"left\"},\"hovermode\":\"closest\",\"mapbox\":{\"style\":\"dark\"},\"paper_bgcolor\":\"rgb(17,17,17)\",\"plot_bgcolor\":\"rgb(17,17,17)\",\"polar\":{\"angularaxis\":{\"gridcolor\":\"#506784\",\"linecolor\":\"#506784\",\"ticks\":\"\"},\"bgcolor\":\"rgb(17,17,17)\",\"radialaxis\":{\"gridcolor\":\"#506784\",\"linecolor\":\"#506784\",\"ticks\":\"\"}},\"scene\":{\"xaxis\":{\"backgroundcolor\":\"rgb(17,17,17)\",\"gridcolor\":\"#506784\",\"gridwidth\":2,\"linecolor\":\"#506784\",\"showbackground\":true,\"ticks\":\"\",\"zerolinecolor\":\"#C8D4E3\"},\"yaxis\":{\"backgroundcolor\":\"rgb(17,17,17)\",\"gridcolor\":\"#506784\",\"gridwidth\":2,\"linecolor\":\"#506784\",\"showbackground\":true,\"ticks\":\"\",\"zerolinecolor\":\"#C8D4E3\"},\"zaxis\":{\"backgroundcolor\":\"rgb(17,17,17)\",\"gridcolor\":\"#506784\",\"gridwidth\":2,\"linecolor\":\"#506784\",\"showbackground\":true,\"ticks\":\"\",\"zerolinecolor\":\"#C8D4E3\"}},\"shapedefaults\":{\"line\":{\"color\":\"#f2f5fa\"}},\"sliderdefaults\":{\"bgcolor\":\"#C8D4E3\",\"bordercolor\":\"rgb(17,17,17)\",\"borderwidth\":1,\"tickwidth\":0},\"ternary\":{\"aaxis\":{\"gridcolor\":\"#506784\",\"linecolor\":\"#506784\",\"ticks\":\"\"},\"baxis\":{\"gridcolor\":\"#506784\",\"linecolor\":\"#506784\",\"ticks\":\"\"},\"bgcolor\":\"rgb(17,17,17)\",\"caxis\":{\"gridcolor\":\"#506784\",\"linecolor\":\"#506784\",\"ticks\":\"\"}},\"title\":{\"x\":0.05},\"updatemenudefaults\":{\"bgcolor\":\"#506784\",\"borderwidth\":0},\"xaxis\":{\"automargin\":true,\"gridcolor\":\"#283442\",\"linecolor\":\"#506784\",\"ticks\":\"\",\"title\":{\"standoff\":15},\"zerolinecolor\":\"#283442\",\"zerolinewidth\":2},\"yaxis\":{\"automargin\":true,\"gridcolor\":\"#283442\",\"linecolor\":\"#506784\",\"ticks\":\"\",\"title\":{\"standoff\":15},\"zerolinecolor\":\"#283442\",\"zerolinewidth\":2}}},\"title\":{\"text\":\"speechiness distribution in top hits\"},\"xaxis\":{\"anchor\":\"y\",\"domain\":[0.0,1.0],\"title\":{\"text\":\"speechiness\"}},\"yaxis\":{\"anchor\":\"x\",\"domain\":[0.0,1.0],\"title\":{\"text\":\"count\"}}},                        {\"responsive\": true}                    ).then(function(){\n",
       "                            \n",
       "var gd = document.getElementById('629ff315-8f0d-4a94-9c1b-16ca71147634');\n",
       "var x = new MutationObserver(function (mutations, observer) {{\n",
       "        var display = window.getComputedStyle(gd).display;\n",
       "        if (!display || display === 'none') {{\n",
       "            console.log([gd, 'removed!']);\n",
       "            Plotly.purge(gd);\n",
       "            observer.disconnect();\n",
       "        }}\n",
       "}});\n",
       "\n",
       "// Listen for the removal of the full notebook cells\n",
       "var notebookContainer = gd.closest('#notebook-container');\n",
       "if (notebookContainer) {{\n",
       "    x.observe(notebookContainer, {childList: true});\n",
       "}}\n",
       "\n",
       "// Listen for the clearing of the current output cell\n",
       "var outputEl = gd.closest('.output');\n",
       "if (outputEl) {{\n",
       "    x.observe(outputEl, {childList: true});\n",
       "}}\n",
       "\n",
       "                        })                };                });            </script>        </div>"
      ]
     },
     "metadata": {},
     "output_type": "display_data"
    },
    {
     "data": {
      "text/html": [
       "<div>                            <div id=\"65aa4e30-4e64-40aa-8f85-cc5145f9e230\" class=\"plotly-graph-div\" style=\"height:525px; width:100%;\"></div>            <script type=\"text/javascript\">                require([\"plotly\"], function(Plotly) {                    window.PLOTLYENV=window.PLOTLYENV || {};                                    if (document.getElementById(\"65aa4e30-4e64-40aa-8f85-cc5145f9e230\")) {                    Plotly.newPlot(                        \"65aa4e30-4e64-40aa-8f85-cc5145f9e230\",                        [{\"alignmentgroup\":\"True\",\"bingroup\":\"x\",\"hovertemplate\":\"loudness=%{x}\\u003cbr\\u003ecount=%{y}\\u003cextra\\u003e\\u003c\\u002fextra\\u003e\",\"legendgroup\":\"\",\"marker\":{\"color\":\"rgb(204, 97, 176)\",\"pattern\":{\"shape\":\"\"}},\"name\":\"\",\"offsetgroup\":\"\",\"orientation\":\"v\",\"showlegend\":false,\"x\":[-5.444,-4.918,-9.007,-4.063,-4.806,-6.959,-4.244,-4.264,-3.525,-5.627,-7.932,-9.664,-5.798,-7.92,-5.153,-5.642,-5.8,-6.149,-6.87,-2.429,-5.87,-3.94,-7.278,-5.425,-5.825,-5.607,-7.984,-8.951,-10.644,-9.635,-3.302,-7.981,-8.527,-5.669,-4.842,-9.923,-7.645,-6.307,-7.124,-5.564,-5.436,-1.916,-5.153,-1.299,-11.241,-5.088,-8.75,-4.715,-2.773,-8.693,-3.081,-4.012,-3.972,-7.693,-5.125,-5.882,-4.505,-6.166,-6.341,-5.631,-3.196,-6.046,-5.599,-6.981,-8.356,-7.48,-3.265,-8.529,-7.499,-5.931,-8.196,-6.729,-5.802,-8.923,-6.588,-4.639,-5.424,-5.708,-4.929,-5.658,-3.894,-9.131,-8.458,-5.975,-9.197,-3.782,-4.666,-8.964,-5.42,-6.814,-9.487,-4.353,-8.412,-7.754,-5.959,-3.904,-3.205,-6.254,-5.707,-6.822,-4.596,-2.027,-4.325,-7.516,-3.769,-5.085,-4.862,-5.428,-5.862,-6.03,-4.983,-3.579,-6.342,-8.419,-3.75,-10.587,-3.358,-6.644,-8.403,-5.4,-4.541,-2.734,-2.771,-4.17,-3.132,-4.243,-4.525,-5.176,-5.042,-8.618,-5.946,-5.459,-4.125,-9.942,-6.516,-7.533,-4.229,-9.369,-5.02,-3.036,-10.029,-8.627,-6.665,-4.905,-6.818,-5.115,-5.373,-6.417,-6.255,-7.853,-8.399,-4.261,-9.053,-5.941,-3.944,-7.338,-4.487,-6.867,-6.239,-8.56,-6.133,-6.981,-6.26,-5.079,-3.07,-5.431,-5.734,-13.744,-7.77,-6.261,-4.386,-5.081,-4.209,-5.218,-5.044,-6.854,-3.011,-4.653,-4.086,-3.782,-5.424,-7.93,-9.919,-11.072,-8.106,-4.171,-4.719,-9.487,-6.49,-5.961,-5.047,-4.051,-6.567,-6.886,-4.507,-4.054,-7.08,-4.578,-8.564,-4.903,-8.074,-2.827,-5.898,-3.862,-5.113,-5.328,-4.822,-6.591,-4.315,-3.237,-7.392,-3.399,-5.166,-4.382,-7.486,-5.87,-6.777,-5.209,-4.944,-3.802,-7.779,-2.942,-4.54,-1.73,-6.277,-7.503,-5.803,-4.823,-4.039,-4.699,-5.103,-6.642,-3.523,-5.692,-4.234,-8.786,-7.645,-4.753,-6.061,-3.073,-4.955,-3.451,-8.274,-5.074,-6.554,-3.954,-3.9,-3.442,-6.057,-5.529,-4.062,-7.442,-6.066,-6.118,-8.049,-5.758,-8.718,-3.557,-5.757,-5.285,-4.927,-6.997,-5.122,-4.753,-6.553,-6.813,-3.267,-8.323,-5.076,-7.215,-5.603,-6.136,-3.538,-6.035,-6.104,-5.763,-4.417,-5.601,-6.857,-5.586,-4.938,-5.972,-4.127,-5.191,-12.185,-5.428,-4.958,-6.094,-5.178,-5.433,-8.73,-5.153,-5.529,-9.101,-7.608,-5.305,-4.537,-5.455,-6.176,-4.754,-2.752,-4.143,-4.616,-6.596,-4.315,-3.18,-5.448,-3.966,-5.767,-3.626,-4.315,-4.951,-3.935,-5.148,-3.024,-6.93,-3.554,-3.09,-3.188,-4.629,-7.51,-5.157,-8.019,-6.02,-3.041,-9.867,-6.635,-6.814,-6.682,-6.055,-7.627,-5.799,-9.17,-7.872,-4.481,-5.659,-6.228,-3.103,-5.819,-5.123,-6.197,-5.861,-4.749,-4.92,-6.488,-6.66,-4.904,-3.552,-5.913,-3.977,-4.164,-8.831,-6.491,-3.846,-9.74,-5.264,-6.031,-10.284,-1.357,-7.577,-4.936,-12.932,-5.873,-4.722,-3.587,-4.855,-3.914,-5.611,-3.657,-6.582,-5.08,-5.074,-6.849,-5.531,-7.215,-4.984,-5.603,-3.006,-2.623,-5.477,-5.038,-8.804,-5.265,-6.863,-6.823,-2.281,-5.909,-6.569,-6.359,-6.653,-5.263,-4.932,-7.886,-4.577,-7.608,-3.685,-5.656,-5.11,-7.462,-8.674,-4.699,-4.612,-3.914,-2.261,-4.649,-3.567,-6.499,-2.208,-3.947,-3.344,-4.552,-2.557,-5.576,-4.481,-3.925,-8.65,-4.153,-4.289,-4.475,-3.383,-4.971,-5.0,-5.958,-6.518,-6.306,-3.347,-5.76,-6.476,-6.825,-4.423,-6.313,-3.041,-3.716,-7.147,-4.419,-3.66,-5.409,-6.345,-6.022,-5.096,-6.068,-5.218,-8.691,-4.207,-6.696,-3.56,-4.904,-3.832,-5.384,-4.612,-2.221,-3.092,-6.879,-5.926,-2.983,-6.722,-5.087,-5.435,-4.831,-12.852,-3.974,-8.821,-5.827,-3.651,-9.867,-4.686,-9.206,-4.237,-5.348,-5.074,-2.92,-5.659,-2.042,-6.636,-6.466,-9.711,-6.11,-5.077,-6.102,-2.407,-6.823,-6.245,-9.092,-6.817,-4.832,-5.337,-13.2,-8.238,-9.481,-5.395,-1.729,-4.894,-4.932,-4.21,-4.583,-3.489,-17.217,-4.286,-8.674,-8.264,-7.918,-8.97,-5.572,-8.415,-7.961,-9.87,-3.68,-3.475,-4.013,-5.897,-7.695,-6.672,-3.321,-6.152,-4.195,-2.728,-3.681,-4.162,-4.763,-7.401,-6.721,-4.875,-5.924,-7.135,-5.996,-5.461,-5.096,-4.254,-4.781,-6.679,-2.76,-7.88,-3.638,-5.096,-7.728,-3.798,-5.367,-5.852,-5.308,-4.458,-8.013,-6.626,-7.994,-7.105,-3.152,-7.324,-4.896,-4.834,-5.952,-3.768,-3.832,-7.558,-6.799,-10.94,-4.683,-5.16,-2.896,-4.49,-2.221,-5.695,-3.881,-6.203,-5.352,-7.076,-15.636,-6.183,-6.816,-13.203,-4.325,-8.365,-4.556,-4.682,-5.299,-6.596,-7.042,-3.295,-4.19,-5.966,-8.244,-3.241,-4.606,-5.284,-4.914,-3.756,-11.617,-7.043,-6.408,-10.054,-3.499,-3.489,-10.02,-6.765,-5.713,-6.019,-5.354,-5.652,-4.253,-4.461,-3.52,-5.119,-5.892,-4.675,-5.562,-4.637,-13.609,-4.905,-4.589,-6.62,-4.81,-3.708,-6.45,-6.229,-4.68,-3.15,-6.098,-4.525,-3.04,-4.338,-6.887,-5.785,-5.559,-3.727,-7.033,-6.534,-4.802,-7.448,-6.382,-5.029,-8.502,-7.041,-7.702,-6.087,-5.881,-4.088,-7.737,-4.154,-5.894,-5.369,-7.994,-6.556,-4.941,-5.045,-5.476,-5.316,-5.758,-4.67,-5.881,-3.918,-8.607,-4.912,-5.854,-4.094,-6.66,-5.153,-3.198,-3.667,-4.365,-6.79,-5.665,-6.869,-4.758,-5.409,-3.887,-4.285,-5.938,-6.446,-5.338,-3.161,-5.931,-3.607,-5.134,-2.36,-3.409,-8.336,-5.386,-4.563,-3.14,-3.309,-6.408,-4.481,-12.591,-4.722,-9.706,-2.771,-4.623,-10.38,-7.788,-6.333,-4.975,-6.496,-4.554,-4.08,-6.815,-4.103,-3.495,-4.253,-4.606,-5.847,-4.569,-6.209,-5.886,-4.603,-3.131,-4.296,-4.789,-10.572,-4.751,-3.502,-6.492,-6.328,-3.425,-4.804,-3.988,-5.166,-3.904,-5.44,-4.543,-4.474,-5.751,-7.858,-3.74,-5.084,-9.387,-2.18,-5.063,-3.688,-4.902,-4.032,-6.133,-6.632,-5.285,-5.032,-3.386,-4.633,-3.486,-7.228,-6.349,-6.886,-3.509,-4.154,-4.706,-5.881,-6.447,-3.647,-3.063,-5.454,-6.065,-2.433,-5.784,-3.476,-3.696,-6.008,-2.776,-8.539,-7.562,-7.72,-5.446,-5.477,-3.004,-5.057,-6.247,-3.126,-13.964,-5.165,-5.757,-4.829,-5.438,-4.462,-2.429,-4.07,-3.677,-5.295,-6.863,-4.04,-5.926,-2.82,-4.334,-6.957,-6.564,-2.189,-5.799,-4.713,-6.075,-6.035,-7.928,-3.318,-6.731,-8.137,-6.142,-3.921,-5.181,-4.981,-3.049,-6.734,-3.51,-4.012,-4.226,-7.268,-3.674,-6.97,-5.64,-3.173,-7.536,-5.415,-6.017,-5.714,-4.298,-6.126,-5.957,-5.144,-3.988,-4.515,-6.139,-3.866,-9.469,-5.503,-7.578,-4.922,-3.956,-5.582,-3.973,-4.194,-5.226,-4.949,-6.351,-6.091,-3.512,-5.762,-8.793,-2.18,-5.054,-3.363,-6.437,-8.636,-6.718,-5.098,-7.051,-3.386,-3.486,-2.423,-4.281,-5.035,-4.23,-7.421,-4.371,-4.321,-3.892,-3.159,-7.059,-2.99,-4.146,-4.13,-5.018,-5.158,-3.078,-7.67,-4.061,-6.175,-4.808,-5.466,-7.736,-3.871,-4.497,-4.847,-4.678,-9.702,-6.884,-5.976,-5.65,-4.758,-3.152,-7.24,-4.914,-6.166,-3.836,-6.162,-5.564,-4.274,-6.211,-3.61,-4.672,-7.115,-5.653,-6.881,-3.774,-4.718,-8.391,-4.8,-5.036,-7.875,-6.007,-3.887,-5.59,-3.462,-6.015,-4.456,-6.09,-4.251,-4.046,-8.869,-6.375,-4.62,-5.908,-5.018,-6.852,-3.97,-8.164,-5.215,-5.611,-2.336,-5.172,-6.857,-5.983,-6.359,-4.541,-7.296,-5.995,-5.557,-5.986,-3.124,-5.892,-7.448,-3.973,-1.538,-3.527,-5.603,-5.87,-3.365,-4.41,-1.802,-3.755,-3.363,-1.203,-3.34,-5.089,-5.754,-3.104,-8.871,-4.493,-5.09,-4.614,-5.873,-3.781,-2.571,-4.907,-3.912,-4.711,-4.577,-3.742,-3.919,-4.371,-4.442,-3.684,-7.355,-2.278,-5.406,-7.67,-4.893,-7.423,-5.507,-6.982,-4.99,-2.513,-5.594,-3.716,-5.749,-2.771,-5.643,-6.614,-2.528,-5.426,-0.276,-4.046,-5.222,-4.914,-6.162,-1.925,-5.293,-3.17,-4.865,-6.223,-5.971,-5.035,-5.767,-6.948,-5.653,-2.673,-2.996,-4.667,-3.472,-5.348,-4.939,-4.78,-4.424,-4.501,-4.075,-3.108,-4.006,-8.05,-5.412,-5.379,-5.034,-3.755,-9.206,-2.718,-3.932,-3.724,-4.241,-3.729,-5.292,-6.079,-8.126,-5.077,-1.966,-6.365,-5.455,-6.693,-0.74,-3.896,-4.217,-6.963,-2.458,-1.19,-6.63,-4.496,-6.99,-6.086,-7.798,-3.859,-6.572,-5.109,-3.398,-6.323,-3.911,-4.168,-6.366,-4.188,-4.721,-2.919,-4.63,-5.903,-5.005,-3.599,-3.261,-4.706,-5.283,-7.371,-2.881,-2.552,-5.81,-4.874,-4.493,-4.024,-4.166,-5.237,-4.981,-5.89,-6.416,-6.977,-3.173,-3.616,-4.15,-7.116,-4.285,-6.782,-6.161,-2.959,-3.631,-6.077,-3.614,-5.507,-5.611,-4.455,-5.85,-3.292,-4.892,-4.262,-4.348,-5.022,-3.891,-5.346,-6.005,-4.02,-4.003,-3.214,-6.163,-5.814,-4.582,-4.157,-6.403,-6.797,-7.784,-4.433,-4.663,-5.576,-2.948,-5.521,-4.663,-6.611,-4.11,-5.114,-4.459,-4.168,-5.039,-7.273,-3.428,-4.152,-4.733,-5.194,-5.02,-3.862,-5.636,-5.069,-2.628,-3.78,-8.685,-3.078,-5.737,-3.206,-3.87,-4.524,-5.252,-6.55,-3.293,-3.896,-3.982,-7.783,-3.148,-3.951,-4.225,-2.944,-3.672,-1.131,-6.366,-3.541,-5.399,-5.747,-3.966,-4.861,-6.761,-3.796,-3.882,-4.521,-5.429,-3.499,-6.128,-6.115,-3.873,-4.9,-5.589,-4.485,-6.096,-4.372,-3.201,-7.598,-3.284,-8.127,-1.921,-2.959,-6.366,-3.689,-5.522,-4.712,-2.914,-2.915,-4.689,-5.108,-4.339,-7.094,-2.125,-3.727,-5.849,-7.16,-3.945,-5.068,-5.473,-7.804,-8.327,-5.124,-3.839,-6.427,-4.736,-8.251,-4.523,-5.004,-4.788,-5.131,-6.477,-5.826,-4.977,-5.835,-6.883,-4.062,-5.006,-6.142,-4.865,-6.611,-6.093,-9.217,-7.445,-4.485,-6.548,-5.576,-5.208,-3.035,-4.231,-6.864,-2.266,-6.34,-5.542,-3.435,-2.302,-6.209,-5.746,-3.446,-2.634,-3.686,-7.745,-2.671,-9.381,-1.569,-4.225,-2.871,-4.805,-5.18,-3.689,-4.45,-4.165,-5.941,-4.444,-4.92,-4.475,-4.63,-2.457,-6.815,-6.366,-3.85,-5.761,-4.813,-4.782,-4.55,-6.298,-2.686,-10.881,-2.842,-5.242,-8.838,-5.014,-6.761,-5.792,-4.892,-2.932,-4.343,-3.145,-4.696,-6.019,-3.674,-4.568,-6.798,-7.471,-7.079,-6.63,-6.425,-3.382,-3.443,-4.278,-8.438,-6.245,-2.632,-4.023,-6.235,-6.896,-5.324,-2.494,-6.591,-5.448,-4.269,-4.364,-7.186,-6.17,-3.113,-5.456,-6.221,-2.063,-4.289,-2.569,-7.298,-5.197,-4.282,-8.558,-5.099,-3.94,-6.849,-5.52,-6.628,-3.218,-10.358,-3.141,-6.826,-2.963,-9.504,-7.707,-3.686,-5.697,-4.165,-6.985,-8.966,-6.849,-7.222,-2.69,-4.399,-8.532,-4.586,-1.702,-3.632,-6.096,-6.476,-4.457,-5.351,-7.321,-4.814,-6.535,-2.81,-4.633,-4.829,-4.802,-6.478,-4.831,-3.68,-3.617,-4.1,-4.76,-6.164,-5.441,-6.107,-5.791,-4.059,-2.671,-4.341,-7.444,-3.782,-3.015,-3.121,-6.798,-7.596,-5.358,-8.262,-4.175,-6.87,-7.079,-4.292,-5.031,-5.151,-5.066,-6.028,-9.582,-5.705,-3.939,-8.035,-3.942,-4.813,-6.594,-6.299,-7.829,-4.534,-7.2,-4.672,-4.821,-4.625,-3.715,-6.901,-3.835,-4.751,-6.383,-2.986,-4.653,-3.464,-6.262,-4.758,-7.828,-5.217,-6.664,-5.28,-5.177,-5.794,-7.054,-3.763,-6.286,-7.436,-5.7,-5.473,-6.542,-3.084,-6.561,-7.335,-3.208,-10.164,-3.799,-8.648,-3.364,-4.662,-6.123,-4.871,-4.141,-6.46,-6.444,-4.993,-2.88,-7.064,-7.195,-3.726,-2.505,-3.753,-3.539,-5.469,-5.346,-7.321,-5.51,-3.927,-7.51,-7.573,-6.104,-6.253,-3.405,-5.949,-6.886,-5.356,-5.225,-6.223,-4.078,-4.1,-4.087,-4.972,-7.314,-3.565,-5.234,-6.003,-7.548,-3.32,-3.263,-7.436,-4.261,-7.251,-9.334,-4.528,-4.135,-5.031,-5.324,-7.299,-5.449,-5.963,-3.752,-4.676,-4.052,-8.813,-7.008,-4.389,-3.519,-4.867,-3.417,-7.752,-7.038,-5.595,-4.689,-5.456,-5.352,-2.28,-5.948,-4.783,-4.874,-3.215,-4.237,-4.121,-5.384,-7.747,-4.451,-4.144,-5.595,-5.488,-6.474,-6.735,-3.109,-4.998,-5.802,-8.554,-5.655,-6.279,-8.714,-6.694,-6.902,-7.077,-3.823,-20.514,-4.292,-6.275,-4.696,-5.217,-4.884,-5.779,-3.578,-7.223,-6.061,-7.503,-8.118,-3.081,-5.922,-6.646,-4.123,-4.091,-5.593,-5.412,-7.063,-9.461,-3.226,-5.298,-5.346,-5.709,-7.803,-7.388,-4.036,-5.098,-4.373,-4.164,-6.253,-2.868,-10.028,-9.882,-5.677,-3.865,-5.798,-6.627,-3.782,-4.023,-3.863,-6.959,-7.417,-4.94,-5.797,-4.119,-4.981,-2.86,-5.672,-5.046,-4.125,-6.251,-3.991,-4.01,-6.527,-4.792,-8.522,-5.095,-6.075,-3.803,-5.449,-5.137,-11.067,-5.728,-3.724,-7.863,-5.488,-8.644,-5.738,-4.389,-5.526,-5.68,-6.003,-5.709,-7.565,-4.083,-6.447,-3.103,-5.303,-5.595,-4.031,-8.19,-3.697,-5.288,-5.474,-7.374,-7.448,-9.474,-6.684,-4.697,-4.874,-4.038,-6.607,-5.556,-7.534,-4.868,-2.215,-6.994,-6.536,-4.208,-3.669,-5.036,-4.467,-5.231,-5.21,-5.402,-3.839,-7.028,-5.609,-9.828,-5.599,-6.129,-4.943,-6.052,-4.931,-6.444,-6.238,-6.487,-3.669,-5.715,-5.279,-3.054,-6.518,-3.456,-5.008,-4.378,-9.348,-7.789,-4.014,-5.094,-3.406,-7.757,-4.188,-5.825,-3.599,-4.23,-5.88,-5.085,-7.042,-5.371,-2.787,-6.645,-5.267,-8.091,-5.883,-3.739,-4.582,-4.01,-3.06,-3.004,-5.355,-4.792,-5.32,-5.093,-8.053,-3.713,-3.254,-5.728,-6.478,-8.094,-5.948,-4.078,-10.511,-3.887,-4.684,-5.653,-6.003,-5.446,-3.6,-6.304,-9.343,-6.443,-5.861,-10.027,-4.271,-3.974,-5.331,-1.231,-7.286,-8.379,-5.273,-5.307,-5.092,-7.055,-8.128,-5.92,-5.556,-3.515,-3.645,-6.983,-5.436,-4.888,-6.127,-9.309,-13.4,-7.558,-5.194,-4.081,-4.503,-6.829,-10.598,-6.109,-7.274,-4.061,-6.429,-7.45,-7.839,-3.183,-2.862,-4.757,-8.237,-4.068,-4.323,-4.749,-6.124,-6.769,-6.312,-6.156,-3.37,-12.695,-8.795,-6.343,-6.288,-9.319,-8.672,-5.482,-5.043,-8.227,-4.989,-6.589,-4.862,-6.054,-6.163,-4.825,-6.865,-2.512,-6.366,-5.021,-10.028,-3.862,-3.791,-7.323,-9.681,-5.52,-4.305,-3.023,-6.779,-4.424,-4.432,-4.076,-3.078,-4.097,-6.35,-6.71,-6.471,-3.304,-7.724,-6.759,-5.274,-9.144,-5.314,-8.126,-7.786,-4.256,-2.396,-6.509,-5.827,-5.661,-4.035,-5.208,-5.194,-5.181,-5.792,-7.733,-3.949,-3.094,-4.183,-4.844,-4.699,-5.404,-3.892,-3.105,-3.744,-3.641,-4.661,-5.126,-7.046,-5.595,-11.377,-5.35,-8.374,-5.74,-7.38,-4.031,-4.518,-8.618,-3.079,-4.323,-5.946,-6.428,-5.628,-4.882,-5.309,-5.445,-4.282,-4.997,-6.596,-9.211,-6.136,-8.28,-6.343,-5.335,-7.23,-3.061,-2.384,-3.998,-5.723,-5.507,-5.266,-3.24,-7.442,-3.714,-6.112,-4.167,-4.483,-4.979,-10.109,-5.145,-4.546,-8.074,-9.127,-4.954,-3.445,-5.32,-5.298,-4.88,-3.695,-5.232,-4.926,-5.52,-7.518,-5.008,-6.531,-4.946,-4.099,-4.547,-5.934,-4.75,-6.26,-8.339,-12.808,-4.614,-2.867,-5.946,-3.112,-3.093,-5.114,-4.399,-4.618,-5.68,-10.068,-6.073,-6.337,-9.309,-4.65,-5.892,-4.249,-5.253,-5.804,-7.495,-5.916,-2.749,-6.319,-3.692,-5.402,-7.709,-5.833,-9.86,-5.658,-4.449,-7.648,-3.641,-7.202,-3.953,-3.928,-5.628,-3.416,-4.706,-2.881,-4.877,-7.941,-7.36,-3.539,-7.866,-4.333,-4.428,-5.975,-4.502,-3.874,-5.042,-7.621,-7.906,-6.825,-5.626,-6.474,-7.343,-8.094,-5.56,-10.965,-6.049,-10.732,-4.368,-12.21,-7.05,-4.258,-6.362,-5.844,-5.679,-4.101,-5.545,-4.768,-5.788,-2.652,-5.714,-4.141,-7.384,-6.806,-5.313,-3.714,-2.974,-11.132,-4.167,-5.075,-6.294,-6.257,-9.545,-10.109,-2.853,-6.112,-6.365,-7.359,-2.61,-5.239,-6.211,-4.47,-4.045,-6.146,-6.349,-7.119,-5.122,-7.643,-6.946,-3.702,-6.684,-2.806,-6.508,-5.29,-5.969,-4.724,-4.521,-5.801,-4.311,-5.513,-6.711,-6.062,-6.4,-3.731,-4.773,-4.67,-4.218,-11.713,-4.271,-10.332,-12.89,-6.482,-9.447,-14.505,-4.757,-5.207,-5.883,-5.604,-6.181,-8.866,-6.354,-6.594,-3.787,-4.568,-4.156,-3.87,-5.131,-4.669,-5.804,-6.373,-7.058,-5.637,-2.729,-2.253,-4.931,-4.684,-3.967,-4.617,-3.818,-5.065,-5.707,-8.635,-7.513,-3.497],\"xaxis\":\"x\",\"yaxis\":\"y\",\"type\":\"histogram\"}],                        {\"barmode\":\"relative\",\"legend\":{\"tracegroupgap\":0},\"template\":{\"data\":{\"barpolar\":[{\"marker\":{\"line\":{\"color\":\"rgb(17,17,17)\",\"width\":0.5},\"pattern\":{\"fillmode\":\"overlay\",\"size\":10,\"solidity\":0.2}},\"type\":\"barpolar\"}],\"bar\":[{\"error_x\":{\"color\":\"#f2f5fa\"},\"error_y\":{\"color\":\"#f2f5fa\"},\"marker\":{\"line\":{\"color\":\"rgb(17,17,17)\",\"width\":0.5},\"pattern\":{\"fillmode\":\"overlay\",\"size\":10,\"solidity\":0.2}},\"type\":\"bar\"}],\"carpet\":[{\"aaxis\":{\"endlinecolor\":\"#A2B1C6\",\"gridcolor\":\"#506784\",\"linecolor\":\"#506784\",\"minorgridcolor\":\"#506784\",\"startlinecolor\":\"#A2B1C6\"},\"baxis\":{\"endlinecolor\":\"#A2B1C6\",\"gridcolor\":\"#506784\",\"linecolor\":\"#506784\",\"minorgridcolor\":\"#506784\",\"startlinecolor\":\"#A2B1C6\"},\"type\":\"carpet\"}],\"choropleth\":[{\"colorbar\":{\"outlinewidth\":0,\"ticks\":\"\"},\"type\":\"choropleth\"}],\"contourcarpet\":[{\"colorbar\":{\"outlinewidth\":0,\"ticks\":\"\"},\"type\":\"contourcarpet\"}],\"contour\":[{\"colorbar\":{\"outlinewidth\":0,\"ticks\":\"\"},\"colorscale\":[[0.0,\"#0d0887\"],[0.1111111111111111,\"#46039f\"],[0.2222222222222222,\"#7201a8\"],[0.3333333333333333,\"#9c179e\"],[0.4444444444444444,\"#bd3786\"],[0.5555555555555556,\"#d8576b\"],[0.6666666666666666,\"#ed7953\"],[0.7777777777777778,\"#fb9f3a\"],[0.8888888888888888,\"#fdca26\"],[1.0,\"#f0f921\"]],\"type\":\"contour\"}],\"heatmapgl\":[{\"colorbar\":{\"outlinewidth\":0,\"ticks\":\"\"},\"colorscale\":[[0.0,\"#0d0887\"],[0.1111111111111111,\"#46039f\"],[0.2222222222222222,\"#7201a8\"],[0.3333333333333333,\"#9c179e\"],[0.4444444444444444,\"#bd3786\"],[0.5555555555555556,\"#d8576b\"],[0.6666666666666666,\"#ed7953\"],[0.7777777777777778,\"#fb9f3a\"],[0.8888888888888888,\"#fdca26\"],[1.0,\"#f0f921\"]],\"type\":\"heatmapgl\"}],\"heatmap\":[{\"colorbar\":{\"outlinewidth\":0,\"ticks\":\"\"},\"colorscale\":[[0.0,\"#0d0887\"],[0.1111111111111111,\"#46039f\"],[0.2222222222222222,\"#7201a8\"],[0.3333333333333333,\"#9c179e\"],[0.4444444444444444,\"#bd3786\"],[0.5555555555555556,\"#d8576b\"],[0.6666666666666666,\"#ed7953\"],[0.7777777777777778,\"#fb9f3a\"],[0.8888888888888888,\"#fdca26\"],[1.0,\"#f0f921\"]],\"type\":\"heatmap\"}],\"histogram2dcontour\":[{\"colorbar\":{\"outlinewidth\":0,\"ticks\":\"\"},\"colorscale\":[[0.0,\"#0d0887\"],[0.1111111111111111,\"#46039f\"],[0.2222222222222222,\"#7201a8\"],[0.3333333333333333,\"#9c179e\"],[0.4444444444444444,\"#bd3786\"],[0.5555555555555556,\"#d8576b\"],[0.6666666666666666,\"#ed7953\"],[0.7777777777777778,\"#fb9f3a\"],[0.8888888888888888,\"#fdca26\"],[1.0,\"#f0f921\"]],\"type\":\"histogram2dcontour\"}],\"histogram2d\":[{\"colorbar\":{\"outlinewidth\":0,\"ticks\":\"\"},\"colorscale\":[[0.0,\"#0d0887\"],[0.1111111111111111,\"#46039f\"],[0.2222222222222222,\"#7201a8\"],[0.3333333333333333,\"#9c179e\"],[0.4444444444444444,\"#bd3786\"],[0.5555555555555556,\"#d8576b\"],[0.6666666666666666,\"#ed7953\"],[0.7777777777777778,\"#fb9f3a\"],[0.8888888888888888,\"#fdca26\"],[1.0,\"#f0f921\"]],\"type\":\"histogram2d\"}],\"histogram\":[{\"marker\":{\"pattern\":{\"fillmode\":\"overlay\",\"size\":10,\"solidity\":0.2}},\"type\":\"histogram\"}],\"mesh3d\":[{\"colorbar\":{\"outlinewidth\":0,\"ticks\":\"\"},\"type\":\"mesh3d\"}],\"parcoords\":[{\"line\":{\"colorbar\":{\"outlinewidth\":0,\"ticks\":\"\"}},\"type\":\"parcoords\"}],\"pie\":[{\"automargin\":true,\"type\":\"pie\"}],\"scatter3d\":[{\"line\":{\"colorbar\":{\"outlinewidth\":0,\"ticks\":\"\"}},\"marker\":{\"colorbar\":{\"outlinewidth\":0,\"ticks\":\"\"}},\"type\":\"scatter3d\"}],\"scattercarpet\":[{\"marker\":{\"colorbar\":{\"outlinewidth\":0,\"ticks\":\"\"}},\"type\":\"scattercarpet\"}],\"scattergeo\":[{\"marker\":{\"colorbar\":{\"outlinewidth\":0,\"ticks\":\"\"}},\"type\":\"scattergeo\"}],\"scattergl\":[{\"marker\":{\"line\":{\"color\":\"#283442\"}},\"type\":\"scattergl\"}],\"scattermapbox\":[{\"marker\":{\"colorbar\":{\"outlinewidth\":0,\"ticks\":\"\"}},\"type\":\"scattermapbox\"}],\"scatterpolargl\":[{\"marker\":{\"colorbar\":{\"outlinewidth\":0,\"ticks\":\"\"}},\"type\":\"scatterpolargl\"}],\"scatterpolar\":[{\"marker\":{\"colorbar\":{\"outlinewidth\":0,\"ticks\":\"\"}},\"type\":\"scatterpolar\"}],\"scatter\":[{\"marker\":{\"line\":{\"color\":\"#283442\"}},\"type\":\"scatter\"}],\"scatterternary\":[{\"marker\":{\"colorbar\":{\"outlinewidth\":0,\"ticks\":\"\"}},\"type\":\"scatterternary\"}],\"surface\":[{\"colorbar\":{\"outlinewidth\":0,\"ticks\":\"\"},\"colorscale\":[[0.0,\"#0d0887\"],[0.1111111111111111,\"#46039f\"],[0.2222222222222222,\"#7201a8\"],[0.3333333333333333,\"#9c179e\"],[0.4444444444444444,\"#bd3786\"],[0.5555555555555556,\"#d8576b\"],[0.6666666666666666,\"#ed7953\"],[0.7777777777777778,\"#fb9f3a\"],[0.8888888888888888,\"#fdca26\"],[1.0,\"#f0f921\"]],\"type\":\"surface\"}],\"table\":[{\"cells\":{\"fill\":{\"color\":\"#506784\"},\"line\":{\"color\":\"rgb(17,17,17)\"}},\"header\":{\"fill\":{\"color\":\"#2a3f5f\"},\"line\":{\"color\":\"rgb(17,17,17)\"}},\"type\":\"table\"}]},\"layout\":{\"annotationdefaults\":{\"arrowcolor\":\"#f2f5fa\",\"arrowhead\":0,\"arrowwidth\":1},\"autotypenumbers\":\"strict\",\"coloraxis\":{\"colorbar\":{\"outlinewidth\":0,\"ticks\":\"\"}},\"colorscale\":{\"diverging\":[[0,\"#8e0152\"],[0.1,\"#c51b7d\"],[0.2,\"#de77ae\"],[0.3,\"#f1b6da\"],[0.4,\"#fde0ef\"],[0.5,\"#f7f7f7\"],[0.6,\"#e6f5d0\"],[0.7,\"#b8e186\"],[0.8,\"#7fbc41\"],[0.9,\"#4d9221\"],[1,\"#276419\"]],\"sequential\":[[0.0,\"#0d0887\"],[0.1111111111111111,\"#46039f\"],[0.2222222222222222,\"#7201a8\"],[0.3333333333333333,\"#9c179e\"],[0.4444444444444444,\"#bd3786\"],[0.5555555555555556,\"#d8576b\"],[0.6666666666666666,\"#ed7953\"],[0.7777777777777778,\"#fb9f3a\"],[0.8888888888888888,\"#fdca26\"],[1.0,\"#f0f921\"]],\"sequentialminus\":[[0.0,\"#0d0887\"],[0.1111111111111111,\"#46039f\"],[0.2222222222222222,\"#7201a8\"],[0.3333333333333333,\"#9c179e\"],[0.4444444444444444,\"#bd3786\"],[0.5555555555555556,\"#d8576b\"],[0.6666666666666666,\"#ed7953\"],[0.7777777777777778,\"#fb9f3a\"],[0.8888888888888888,\"#fdca26\"],[1.0,\"#f0f921\"]]},\"colorway\":[\"#636efa\",\"#EF553B\",\"#00cc96\",\"#ab63fa\",\"#FFA15A\",\"#19d3f3\",\"#FF6692\",\"#B6E880\",\"#FF97FF\",\"#FECB52\"],\"font\":{\"color\":\"#f2f5fa\"},\"geo\":{\"bgcolor\":\"rgb(17,17,17)\",\"lakecolor\":\"rgb(17,17,17)\",\"landcolor\":\"rgb(17,17,17)\",\"showlakes\":true,\"showland\":true,\"subunitcolor\":\"#506784\"},\"hoverlabel\":{\"align\":\"left\"},\"hovermode\":\"closest\",\"mapbox\":{\"style\":\"dark\"},\"paper_bgcolor\":\"rgb(17,17,17)\",\"plot_bgcolor\":\"rgb(17,17,17)\",\"polar\":{\"angularaxis\":{\"gridcolor\":\"#506784\",\"linecolor\":\"#506784\",\"ticks\":\"\"},\"bgcolor\":\"rgb(17,17,17)\",\"radialaxis\":{\"gridcolor\":\"#506784\",\"linecolor\":\"#506784\",\"ticks\":\"\"}},\"scene\":{\"xaxis\":{\"backgroundcolor\":\"rgb(17,17,17)\",\"gridcolor\":\"#506784\",\"gridwidth\":2,\"linecolor\":\"#506784\",\"showbackground\":true,\"ticks\":\"\",\"zerolinecolor\":\"#C8D4E3\"},\"yaxis\":{\"backgroundcolor\":\"rgb(17,17,17)\",\"gridcolor\":\"#506784\",\"gridwidth\":2,\"linecolor\":\"#506784\",\"showbackground\":true,\"ticks\":\"\",\"zerolinecolor\":\"#C8D4E3\"},\"zaxis\":{\"backgroundcolor\":\"rgb(17,17,17)\",\"gridcolor\":\"#506784\",\"gridwidth\":2,\"linecolor\":\"#506784\",\"showbackground\":true,\"ticks\":\"\",\"zerolinecolor\":\"#C8D4E3\"}},\"shapedefaults\":{\"line\":{\"color\":\"#f2f5fa\"}},\"sliderdefaults\":{\"bgcolor\":\"#C8D4E3\",\"bordercolor\":\"rgb(17,17,17)\",\"borderwidth\":1,\"tickwidth\":0},\"ternary\":{\"aaxis\":{\"gridcolor\":\"#506784\",\"linecolor\":\"#506784\",\"ticks\":\"\"},\"baxis\":{\"gridcolor\":\"#506784\",\"linecolor\":\"#506784\",\"ticks\":\"\"},\"bgcolor\":\"rgb(17,17,17)\",\"caxis\":{\"gridcolor\":\"#506784\",\"linecolor\":\"#506784\",\"ticks\":\"\"}},\"title\":{\"x\":0.05},\"updatemenudefaults\":{\"bgcolor\":\"#506784\",\"borderwidth\":0},\"xaxis\":{\"automargin\":true,\"gridcolor\":\"#283442\",\"linecolor\":\"#506784\",\"ticks\":\"\",\"title\":{\"standoff\":15},\"zerolinecolor\":\"#283442\",\"zerolinewidth\":2},\"yaxis\":{\"automargin\":true,\"gridcolor\":\"#283442\",\"linecolor\":\"#506784\",\"ticks\":\"\",\"title\":{\"standoff\":15},\"zerolinecolor\":\"#283442\",\"zerolinewidth\":2}}},\"title\":{\"text\":\"loudness distribution in top hits\"},\"xaxis\":{\"anchor\":\"y\",\"domain\":[0.0,1.0],\"title\":{\"text\":\"loudness\"}},\"yaxis\":{\"anchor\":\"x\",\"domain\":[0.0,1.0],\"title\":{\"text\":\"count\"}}},                        {\"responsive\": true}                    ).then(function(){\n",
       "                            \n",
       "var gd = document.getElementById('65aa4e30-4e64-40aa-8f85-cc5145f9e230');\n",
       "var x = new MutationObserver(function (mutations, observer) {{\n",
       "        var display = window.getComputedStyle(gd).display;\n",
       "        if (!display || display === 'none') {{\n",
       "            console.log([gd, 'removed!']);\n",
       "            Plotly.purge(gd);\n",
       "            observer.disconnect();\n",
       "        }}\n",
       "}});\n",
       "\n",
       "// Listen for the removal of the full notebook cells\n",
       "var notebookContainer = gd.closest('#notebook-container');\n",
       "if (notebookContainer) {{\n",
       "    x.observe(notebookContainer, {childList: true});\n",
       "}}\n",
       "\n",
       "// Listen for the clearing of the current output cell\n",
       "var outputEl = gd.closest('.output');\n",
       "if (outputEl) {{\n",
       "    x.observe(outputEl, {childList: true});\n",
       "}}\n",
       "\n",
       "                        })                };                });            </script>        </div>"
      ]
     },
     "metadata": {},
     "output_type": "display_data"
    },
    {
     "data": {
      "text/html": [
       "<div>                            <div id=\"b3b6c251-c88b-491e-be12-ba03547850a3\" class=\"plotly-graph-div\" style=\"height:525px; width:100%;\"></div>            <script type=\"text/javascript\">                require([\"plotly\"], function(Plotly) {                    window.PLOTLYENV=window.PLOTLYENV || {};                                    if (document.getElementById(\"b3b6c251-c88b-491e-be12-ba03547850a3\")) {                    Plotly.newPlot(                        \"b3b6c251-c88b-491e-be12-ba03547850a3\",                        [{\"alignmentgroup\":\"True\",\"bingroup\":\"x\",\"hovertemplate\":\"acousticness=%{x}\\u003cbr\\u003ecount=%{y}\\u003cextra\\u003e\\u003c\\u002fextra\\u003e\",\"legendgroup\":\"\",\"marker\":{\"color\":\"rgb(36, 121, 108)\",\"pattern\":{\"shape\":\"\"}},\"name\":\"\",\"offsetgroup\":\"\",\"orientation\":\"v\",\"showlegend\":false,\"x\":[0.3,0.0103,0.173,0.0263,0.0408,0.119,0.0302,0.0267,0.273,0.00793,0.0328,0.0813,0.0291,0.011,0.0921,0.0807,0.396,0.00181,0.0173,0.0281,0.00958,0.144,0.0117,0.0421,0.00117,0.0175,0.141,0.017,0.35,0.00145,0.0738,0.309,0.00149,0.0324,0.116,0.241,0.292,0.168,0.02,0.247,0.0395,0.00916,0.434,0.0827,0.339,0.231,0.191,0.0548,0.0343,0.067,0.0993,0.000915,0.112,0.282,0.301,0.592,0.0605,0.0402,0.403,0.0136,0.123,0.0424,0.584,0.376,0.38,0.348,0.00316,0.0101,0.23,0.0406,0.0661,0.0854,0.0504,0.1,0.0585,0.00543,0.154,0.00664,0.0593,0.0626,0.000127,0.52,0.189,0.098,0.0498,0.362,0.0459,0.365,0.0103,0.0404,0.315,0.252,0.00425,0.0541,0.26,0.346,0.226,0.0000515,0.262,0.00689,0.0561,0.0559,0.0371,0.0263,0.0144,0.138,0.237,0.0371,0.153,0.063,0.201,0.415,0.133,0.0266,0.132,0.00188,0.00591,0.0271,0.0722,0.123,0.0106,0.121,0.0285,0.00132,0.038,0.242,0.104,0.00666,0.00135,0.0194,0.143,0.15,0.183,0.3,0.0513,0.00834,0.0303,0.533,0.00579,0.153,0.000211,0.0253,0.0267,0.103,0.534,0.00305,0.168,0.285,0.00277,0.00876,0.124,0.00316,0.187,0.0199,0.0901,0.0502,0.0822,0.0658,0.31,0.169,0.0285,0.376,0.0839,0.000424,0.37,0.136,0.538,0.841,0.513,0.0178,0.00281,0.108,0.0614,0.0148,0.0826,0.00284,0.0174,0.0844,0.0554,0.362,0.124,0.273,0.342,0.0191,0.504,0.00769,0.035,0.315,0.0616,0.0275,0.000233,0.0178,0.503,0.0755,0.084,0.00189,0.102,0.318,0.421,0.000966,0.227,0.00286,0.0572,0.323,0.0367,0.691,0.232,0.0737,0.0142,0.0622,0.421,0.0934,0.062,0.106,0.171,0.00958,0.0193,0.0688,0.00369,0.00287,0.00107,0.263,0.00216,0.0381,0.00112,0.14,0.0556,0.372,0.0243,0.0844,0.0826,0.000748,0.0619,0.245,0.0296,0.233,0.292,0.206,0.285,0.107,0.0881,0.0996,0.0499,0.0219,0.00616,0.0135,0.232,0.0179,0.462,0.141,0.00981,0.252,0.0288,0.317,0.255,0.397,0.0903,0.0602,0.0084,0.00312,0.0439,0.195,0.0524,0.0687,0.241,0.246,0.0011,0.333,0.0862,0.599,0.0778,0.333,0.0302,0.000101,0.208,0.347,0.0000679,0.0011,0.579,0.0216,0.0264,0.000385,0.0209,0.0887,0.429,0.00192,0.0478,0.00571,0.00052,0.00935,0.0949,0.109,0.00138,0.00466,0.504,0.0277,0.00691,0.0553,0.0958,0.00234,0.255,0.615,0.00921,0.00249,0.00204,0.101,0.00733,0.0637,0.0411,0.163,0.0142,0.399,0.0526,0.23,0.0521,0.0457,0.111,0.0135,0.00721,0.0303,0.252,0.00461,0.022,0.1,0.688,0.618,0.32,0.183,0.0365,0.201,0.00601,0.0149,0.0825,0.116,0.0326,0.000616,0.325,0.343,0.000172,0.00189,0.0391,0.00344,0.176,0.0111,0.000787,0.497,0.0485,0.0199,0.453,0.15,0.0017,0.178,0.194,0.349,0.0847,0.362,0.00189,0.212,0.235,0.444,0.299,0.211,0.508,0.0000192,0.0733,0.367,0.103,0.00385,0.107,0.577,0.254,0.00202,0.506,0.0305,0.599,0.00676,0.0778,0.408,0.046,0.00797,0.0811,0.492,0.271,0.176,0.327,0.039,0.0893,0.231,0.0769,0.0566,0.0298,0.126,0.233,0.00575,0.504,0.00043,0.0479,0.000603,0.08,0.145,0.0183,0.0525,0.0249,0.103,0.0129,0.0697,0.332,0.117,0.177,0.11,0.00908,0.0509,0.0374,0.000109,0.0154,0.239,0.0046,0.0923,0.023,0.497,0.0775,0.347,0.00727,0.00427,0.0277,0.0369,0.0114,0.0000206,0.0884,0.0127,0.0202,0.688,0.0756,0.0319,0.0838,0.000516,0.00331,0.104,0.0509,0.0371,0.00986,0.108,0.156,0.0108,0.291,0.0581,0.0485,0.169,0.102,0.00083,0.28,0.0649,0.0405,0.0918,0.0298,0.0436,0.00277,0.182,0.00402,0.966,0.000138,0.000409,0.0653,0.106,0.0248,0.614,0.863,0.0498,0.0128,0.00202,0.00462,0.314,0.0000264,0.0217,0.237,0.555,0.00865,0.13,0.101,0.00136,0.327,0.214,0.226,0.0492,0.149,0.261,0.856,0.257,0.377,0.00232,0.23,0.548,0.126,0.00127,0.0923,0.0193,0.976,0.0572,0.145,0.59,0.0264,0.235,0.0195,0.000155,0.0253,0.633,0.00394,0.00542,0.448,0.0345,0.0039,0.0322,0.279,0.409,0.145,0.0294,0.0141,0.0583,0.206,0.0455,0.0246,0.0901,0.111,0.000298,0.0277,0.0508,0.0218,0.0603,0.14,0.00836,0.00937,0.331,0.0248,0.0485,0.000839,0.209,0.0297,0.0229,0.0319,0.0381,0.000213,0.00341,0.0351,0.0311,0.033,0.409,0.179,0.231,0.000204,0.258,0.169,0.0628,0.0444,0.0444,0.115,0.0594,0.0724,0.00115,0.35,0.176,0.0014,0.0743,0.0964,0.462,0.516,0.0541,0.0422,0.00112,0.0107,0.0465,0.00466,0.00165,0.16,0.631,0.278,0.0875,0.00225,0.372,0.0915,0.0243,0.027,0.248,0.0181,0.000932,0.088,0.286,0.283,0.459,0.129,0.0193,0.0065,0.00488,0.225,0.31,0.00206,0.00275,0.000343,0.266,0.0322,0.000769,0.284,0.106,0.0584,0.0293,0.0541,0.004,0.0505,0.0043,0.0261,0.0714,0.0176,0.00121,0.189,0.00937,0.0569,0.0154,0.067,0.152,0.0248,0.0507,0.00798,0.0492,0.00374,0.096,0.352,0.0241,0.00952,0.00647,0.0195,0.0949,0.0986,0.527,0.277,0.000731,0.0358,0.142,0.216,0.00461,0.0351,0.00928,0.0071,0.000738,0.0553,0.000182,0.175,0.000241,0.0717,0.0232,0.839,0.0114,0.082,0.00193,0.0825,0.000681,0.00523,0.423,0.0155,0.15,0.142,0.0259,0.0341,0.00185,0.0805,0.064,0.00143,0.297,0.0113,0.0841,0.016,0.0132,0.0088,0.0193,0.0195,0.246,0.0208,0.0132,0.0491,0.262,0.283,0.0737,0.953,0.00376,0.784,0.0000382,0.0065,0.00544,0.328,0.00584,0.295,0.216,0.0000548,0.269,0.544,0.000289,0.00379,0.000343,0.0548,0.119,0.00462,0.0759,0.188,0.00864,0.25,0.205,0.00253,0.872,0.122,0.191,0.181,0.0476,0.00022,0.0015,0.00133,0.317,0.168,0.0828,0.00102,0.0153,0.267,0.00564,0.00554,0.495,0.0359,0.515,0.0106,0.00144,0.00101,0.123,0.0122,0.278,0.0141,0.166,0.0506,0.00541,0.157,0.0756,0.277,0.33,0.00141,0.142,0.0000815,0.277,0.298,0.114,0.0506,0.0143,0.0000652,0.000722,0.528,0.0467,0.0982,0.102,0.000418,0.0611,0.0147,0.0576,0.189,0.0185,0.0459,0.00511,0.34,0.00725,0.134,0.197,0.409,0.0523,0.0258,0.00877,0.00485,0.000747,0.00272,0.205,0.00308,0.000917,0.0419,0.00673,0.00128,0.0917,0.0847,0.000665,0.0242,0.0125,0.15,0.225,0.0652,0.271,0.00184,0.0108,0.0104,0.191,0.0368,0.0304,0.00143,0.25,0.0772,0.00166,0.0376,0.17,0.116,0.329,0.0928,0.00223,0.248,0.0209,0.0292,0.48,0.134,0.107,0.00437,0.0271,0.00133,0.0863,0.000337,0.689,0.056,0.0213,0.0381,0.00994,0.0000795,0.0336,0.003,0.262,0.073,0.000563,0.00499,0.00342,0.0933,0.00165,0.0352,0.515,0.0902,0.071,0.0225,0.0387,0.0327,0.0149,0.164,0.0506,0.157,0.121,0.0476,0.0607,0.0239,0.16,0.0659,0.0182,0.203,0.00428,0.337,0.171,0.000821,0.000262,0.0724,0.0912,0.000334,0.0542,0.0253,0.033,0.00153,0.151,0.0996,0.00076,0.0109,0.00188,0.0137,0.014,0.0468,0.0572,0.00116,0.0085,0.0451,0.154,0.00967,0.428,0.00221,0.0161,0.358,0.0659,0.654,0.0394,0.0825,0.0954,0.00172,0.00305,0.266,0.00836,0.64,0.0191,0.431,0.0614,0.299,0.0448,0.0912,0.0296,0.207,0.0368,0.291,0.512,0.191,0.00179,0.0873,0.118,0.272,0.0771,0.009,0.131,0.00301,0.147,0.00569,0.0431,0.000941,0.00474,0.0515,0.462,0.0264,0.0192,0.0142,0.0465,0.0895,0.00645,0.13,0.285,0.113,0.0295,0.258,0.295,0.0167,0.000235,0.000683,0.281,0.00314,0.071,0.107,0.00615,0.0206,0.046,0.000969,0.459,0.0108,0.00293,0.0165,0.013,0.0185,0.0864,0.0653,0.0105,0.171,0.0355,0.0163,0.0476,0.0659,0.123,0.0115,0.428,0.249,0.0185,0.0542,0.0171,0.174,0.0444,0.0447,0.0402,0.0192,0.257,0.0116,0.0000867,0.000441,0.0874,0.00481,0.0631,0.0782,0.00184,0.000202,0.000354,0.00967,0.0161,0.0571,0.0383,0.00177,0.123,0.0717,0.0703,0.654,0.568,0.419,0.00172,0.0951,0.217,0.00112,0.0178,0.665,0.0518,0.00952,0.164,0.00107,0.0897,0.0012,0.0014,0.0275,0.0187,0.0134,0.241,0.00314,0.0994,0.0991,0.00144,0.00379,0.129,0.00446,0.0000414,0.0798,0.00676,0.178,0.000939,0.00713,0.541,0.114,0.255,0.0346,0.0327,0.179,0.00023,0.529,0.000397,0.113,0.209,0.00153,0.0662,0.0173,0.0132,0.0324,0.0338,0.173,0.0283,0.0543,0.00544,0.0613,0.511,0.0287,0.179,0.00521,0.0712,0.0121,0.0281,0.0055,0.0205,0.00481,0.021,0.0868,0.198,0.000315,0.0108,0.0436,0.00564,0.0401,0.2,0.00237,0.13,0.00248,0.0843,0.014,0.0266,0.202,0.11,0.172,0.0421,0.23,0.385,0.0378,0.00453,0.0444,0.0109,0.00374,0.301,0.049,0.0242,0.000176,0.0435,0.352,0.00681,0.135,0.0209,0.128,0.000665,0.417,0.102,0.386,0.0162,0.000431,0.297,0.0275,0.74,0.0298,0.117,0.00034,0.0273,0.0198,0.0743,0.348,0.0127,0.138,0.0117,0.0206,0.141,0.148,0.0434,0.0218,0.00377,0.105,0.0113,0.00334,0.0597,0.0048,0.00166,0.00548,0.186,0.055,0.0192,0.191,0.0761,0.0646,0.0181,0.00379,0.0319,0.0346,0.0294,0.0369,0.000915,0.14,0.1,0.0191,0.0491,0.0184,0.00544,0.000102,0.0182,0.0228,0.109,0.02,0.0509,0.00125,0.00408,0.0869,0.0007,0.0536,0.0339,0.181,0.0319,0.00987,0.187,0.025,0.00646,0.0887,0.000369,0.0144,0.0796,0.0267,0.158,0.23,0.0658,0.00472,0.336,0.00523,0.078,0.0843,0.087,0.00327,0.269,0.119,0.0334,0.227,0.145,0.365,0.0294,0.32,0.0524,0.0771,0.352,0.3,0.0189,0.229,0.0165,0.893,0.00112,0.203,0.0422,0.00167,0.000323,0.446,0.0764,0.00847,0.00194,0.143,0.0048,0.726,0.332,0.348,0.000177,0.82,0.309,0.025,0.0114,0.02,0.000624,0.0124,0.00358,0.417,0.0488,0.00201,0.127,0.0558,0.0145,0.244,0.0208,0.00473,0.0841,0.0403,0.123,0.0884,0.0685,0.00656,0.1,0.00417,0.00498,0.00117,0.015,0.0143,0.049,0.0462,0.0588,0.00125,0.0409,0.000417,0.135,0.0538,0.187,0.00225,0.0145,0.0188,0.135,0.357,0.0022,0.00828,0.0373,0.000972,0.0158,0.115,0.617,0.0509,0.000238,0.0272,0.00777,0.0654,0.112,0.0142,0.0358,0.0679,0.0117,0.00454,0.0166,0.00144,0.0368,0.0525,0.0811,0.027,0.00948,0.0103,0.00234,0.186,0.000802,0.155,0.607,0.0991,0.009,0.209,0.00657,0.0239,0.00131,0.822,0.0297,0.00107,0.0159,0.00385,0.0629,0.134,0.0909,0.096,0.0548,0.046,0.000107,0.0749,0.0034,0.0026,0.128,0.248,0.23,0.0267,0.000673,0.337,0.0662,0.121,0.00412,0.106,0.0038,0.049,0.0619,0.0426,0.019,0.0241,0.0205,0.112,0.695,0.0545,0.173,0.039,0.00112,0.0125,0.0291,0.00137,0.0348,0.00453,0.124,0.0495,0.0736,0.000189,0.0738,0.0483,0.000688,0.0525,0.00726,0.0101,0.00144,0.00963,0.00616,0.000986,0.0157,0.0217,0.00952,0.0271,0.162,0.332,0.19,0.025,0.00454,0.186,0.00264,0.104,0.0469,0.0239,0.00144,0.107,0.31,0.0111,0.41,0.0203,0.452,0.00176,0.0525,0.00304,0.197,0.00357,0.307,0.0143,0.0331,0.0831,0.0192,0.00627,0.00487,0.255,0.00262,0.0594,0.00351,0.0059,0.0755,0.0227,0.136,0.0366,0.407,0.0466,0.0839,0.0391,0.234,0.0412,0.0206,0.00882,0.322,0.0098,0.132,0.00411,0.181,0.00242,0.128,0.015,0.00215,0.385,0.294,0.945,0.103,0.932,0.0191,0.219,0.00314,0.0239,0.0904,0.000185,0.588,0.0422,0.0197,0.922,0.00865,0.0573,0.0932,0.192,0.0703,0.00521,0.0141,0.0348,0.0179,0.00125,0.15,0.000132,0.0885,0.328,0.129,0.00215,0.0802,0.0219,0.392,0.0668,0.0287,0.00107,0.0295,0.0654,0.0505,0.0215,0.00518,0.175,0.0317,0.000526,0.0135,0.167,0.00489,0.649,0.00821,0.0958,0.0862,0.31,0.0064,0.0355,0.0966,0.0168,0.167,0.0193,0.00129,0.427,0.0113,0.00937,0.0467,0.0309,0.26,0.00377,0.0531,0.00245,0.0384,0.0159,0.0192,0.154,0.00433,0.000739,0.053,0.403,0.000569,0.00218,0.0647,0.859,0.304,0.0373,0.00106,0.019,0.00617,0.162,0.109,0.0117,0.225,0.746,0.0697,0.0372,0.000792,0.431,0.00969,0.0553,0.0457,0.559,0.0506,0.434,0.0915,0.204,0.563,0.251,0.0132,0.00801,0.474,0.369,0.59,0.00346,0.385,0.247,0.213,0.24,0.00441,0.103,0.0671,0.0678,0.0288,0.0166,0.0141,0.186,0.0158,0.0294,0.000704,0.0185,0.0392,0.0126,0.328,0.00359,0.0312,0.466,0.0462,0.063,0.612,0.343,0.0375,0.00563,0.31,0.672,0.0709,0.0696,0.0921,0.00711,0.0509,0.141,0.109,0.00767,0.0665,0.00188,0.0012,0.0223,0.0266,0.0215,0.234,0.0399,0.164,0.0244,0.0966,0.0128,0.244,0.00312,0.213,0.00258,0.00795,0.817,0.00256,0.00937,0.113,0.166,0.0144,0.304,0.271,0.0115,0.154,0.00419,0.634,0.00245,0.0804,0.769,0.0525,0.0242,0.0362,0.393,0.0462,0.729,0.0152,0.0242,0.053,0.041,0.264,0.223,0.0384,0.0118,0.00621,0.484,0.00407,0.175,0.0797,0.093,0.0352,0.0598,0.189,0.0506,0.256,0.165,0.00776,0.835,0.414,0.329,0.028,0.0156,0.0561,0.0915,0.0752,0.211,0.0797,0.0123,0.0371,0.174,0.0184,0.0022,0.082,0.255,0.0841,0.337,0.0282,0.157,0.37,0.537,0.0584,0.00451,0.0124,0.011,0.109,0.0281,0.343,0.0863,0.199,0.0353,0.157,0.11,0.0408,0.0241,0.102,0.0223,0.093,0.00609,0.00835,0.0215,0.0612,0.0812,0.621,0.355,0.0858,0.00312,0.0225,0.00347,0.0162,0.106,0.0862,0.00205,0.0807,0.159,0.0144,0.152,0.00423,0.161,0.615,0.151,0.103,0.192,0.104,0.0783,0.0199,0.0553,0.0559,0.364,0.253,0.372,0.0736,0.0435,0.0118,0.0114,0.223,0.00383,0.0431,0.453,0.441,0.147,0.0102,0.0253,0.687,0.719,0.023,0.141,0.0235,0.0731,0.107,0.014,0.00175,0.0239,0.63,0.67,0.0489,0.581,0.0466,0.209,0.64,0.406,0.186,0.00683,0.343,0.0498,0.163,0.0102,0.0847,0.896,0.0102,0.0534,0.118,0.2,0.0262,0.0651,0.0293,0.015,0.0323,0.102,0.0178,0.163,0.142,0.00778,0.0714,0.0837,0.00264,0.0362,0.0312,0.075,0.0117,0.0114,0.469,0.0234,0.0524,0.03,0.000243,0.0204,0.0969,0.111,0.127,0.393,0.00522,0.239,0.204,0.0642,0.0576,0.00402,0.501,0.469,0.0611,0.022,0.0895,0.091,0.0435,0.0527,0.219,0.307,0.381,0.00638,0.0041,0.00261,0.0672,0.265,0.0853,0.0329,0.215,0.00163,0.281,0.0814,0.00381,0.0642,0.242,0.167,0.15,0.0323,0.184,0.246,0.256,0.00459,0.0631,0.0285,0.0312,0.0605,0.137,0.588,0.158,0.0037,0.428,0.0215,0.106,0.118,0.134,0.0575,0.034,0.229,0.119,0.0332,0.124,0.149,0.0534,0.176,0.349,0.171,0.205,0.099,0.556,0.04,0.194,0.037,0.0236,0.00513,0.217,0.157,0.0145,0.0762,0.934,0.0876,0.0441,0.0165,0.088,0.17,0.542,0.0305,0.0338,0.258,0.354,0.00413,0.0553,0.0234,0.109,0.000813,0.202,0.0605,0.0425,0.0233,0.0233,0.0168,0.811,0.159,0.113,0.124,0.374,0.0153,0.165,0.256,0.0169,0.0476,0.0167,0.312,0.883,0.328,0.0659,0.0355,0.327,0.0817,0.315,0.211,0.331,0.00104,0.142,0.191,0.697,0.193,0.00263,0.00552,0.0589,0.279,0.314,0.0543,0.555,0.0376,0.00149,0.0364,0.0387,0.225,0.174,0.0733,0.0372,0.0185,0.802,0.000239,0.0604,0.279,0.181,0.178,0.0403,0.25,0.0161,0.147,0.535,0.0558,0.568,0.0956,0.0891,0.264,0.546,0.0533,0.328,0.0392,0.592,0.533,0.0933,0.297,0.177,0.371,0.00987,0.751,0.269,0.174,0.0251,0.0521,0.11,0.74,0.318,0.228,0.0404,0.132,0.00513,0.675,0.404,0.157,0.407,0.000677,0.0204,0.251,0.934,0.296,0.0578,0.259,0.136,0.0856,0.0153,0.0131,0.323,0.101,0.342,0.0141,0.15,0.328,0.0395,0.0247,0.0846,0.0169,0.107,0.00534,0.0421,0.271,0.0691,0.0125,0.0107,0.016,0.219,0.0642,0.13,0.692,0.119,0.6,0.0737,0.323,0.149,0.361,0.0984,0.18,0.0608,0.0939,0.74,0.0923,0.00915,0.108,0.489,0.272,0.23,0.077,0.223,0.128,0.00485,0.602,0.0771,0.367,0.136,0.331,0.214,0.176,0.162,0.193,0.0644,0.153,0.389,0.0192,0.0547,0.447,0.0427,0.117,0.0669,0.45,0.192],\"xaxis\":\"x\",\"yaxis\":\"y\",\"type\":\"histogram\"}],                        {\"barmode\":\"relative\",\"legend\":{\"tracegroupgap\":0},\"template\":{\"data\":{\"barpolar\":[{\"marker\":{\"line\":{\"color\":\"rgb(17,17,17)\",\"width\":0.5},\"pattern\":{\"fillmode\":\"overlay\",\"size\":10,\"solidity\":0.2}},\"type\":\"barpolar\"}],\"bar\":[{\"error_x\":{\"color\":\"#f2f5fa\"},\"error_y\":{\"color\":\"#f2f5fa\"},\"marker\":{\"line\":{\"color\":\"rgb(17,17,17)\",\"width\":0.5},\"pattern\":{\"fillmode\":\"overlay\",\"size\":10,\"solidity\":0.2}},\"type\":\"bar\"}],\"carpet\":[{\"aaxis\":{\"endlinecolor\":\"#A2B1C6\",\"gridcolor\":\"#506784\",\"linecolor\":\"#506784\",\"minorgridcolor\":\"#506784\",\"startlinecolor\":\"#A2B1C6\"},\"baxis\":{\"endlinecolor\":\"#A2B1C6\",\"gridcolor\":\"#506784\",\"linecolor\":\"#506784\",\"minorgridcolor\":\"#506784\",\"startlinecolor\":\"#A2B1C6\"},\"type\":\"carpet\"}],\"choropleth\":[{\"colorbar\":{\"outlinewidth\":0,\"ticks\":\"\"},\"type\":\"choropleth\"}],\"contourcarpet\":[{\"colorbar\":{\"outlinewidth\":0,\"ticks\":\"\"},\"type\":\"contourcarpet\"}],\"contour\":[{\"colorbar\":{\"outlinewidth\":0,\"ticks\":\"\"},\"colorscale\":[[0.0,\"#0d0887\"],[0.1111111111111111,\"#46039f\"],[0.2222222222222222,\"#7201a8\"],[0.3333333333333333,\"#9c179e\"],[0.4444444444444444,\"#bd3786\"],[0.5555555555555556,\"#d8576b\"],[0.6666666666666666,\"#ed7953\"],[0.7777777777777778,\"#fb9f3a\"],[0.8888888888888888,\"#fdca26\"],[1.0,\"#f0f921\"]],\"type\":\"contour\"}],\"heatmapgl\":[{\"colorbar\":{\"outlinewidth\":0,\"ticks\":\"\"},\"colorscale\":[[0.0,\"#0d0887\"],[0.1111111111111111,\"#46039f\"],[0.2222222222222222,\"#7201a8\"],[0.3333333333333333,\"#9c179e\"],[0.4444444444444444,\"#bd3786\"],[0.5555555555555556,\"#d8576b\"],[0.6666666666666666,\"#ed7953\"],[0.7777777777777778,\"#fb9f3a\"],[0.8888888888888888,\"#fdca26\"],[1.0,\"#f0f921\"]],\"type\":\"heatmapgl\"}],\"heatmap\":[{\"colorbar\":{\"outlinewidth\":0,\"ticks\":\"\"},\"colorscale\":[[0.0,\"#0d0887\"],[0.1111111111111111,\"#46039f\"],[0.2222222222222222,\"#7201a8\"],[0.3333333333333333,\"#9c179e\"],[0.4444444444444444,\"#bd3786\"],[0.5555555555555556,\"#d8576b\"],[0.6666666666666666,\"#ed7953\"],[0.7777777777777778,\"#fb9f3a\"],[0.8888888888888888,\"#fdca26\"],[1.0,\"#f0f921\"]],\"type\":\"heatmap\"}],\"histogram2dcontour\":[{\"colorbar\":{\"outlinewidth\":0,\"ticks\":\"\"},\"colorscale\":[[0.0,\"#0d0887\"],[0.1111111111111111,\"#46039f\"],[0.2222222222222222,\"#7201a8\"],[0.3333333333333333,\"#9c179e\"],[0.4444444444444444,\"#bd3786\"],[0.5555555555555556,\"#d8576b\"],[0.6666666666666666,\"#ed7953\"],[0.7777777777777778,\"#fb9f3a\"],[0.8888888888888888,\"#fdca26\"],[1.0,\"#f0f921\"]],\"type\":\"histogram2dcontour\"}],\"histogram2d\":[{\"colorbar\":{\"outlinewidth\":0,\"ticks\":\"\"},\"colorscale\":[[0.0,\"#0d0887\"],[0.1111111111111111,\"#46039f\"],[0.2222222222222222,\"#7201a8\"],[0.3333333333333333,\"#9c179e\"],[0.4444444444444444,\"#bd3786\"],[0.5555555555555556,\"#d8576b\"],[0.6666666666666666,\"#ed7953\"],[0.7777777777777778,\"#fb9f3a\"],[0.8888888888888888,\"#fdca26\"],[1.0,\"#f0f921\"]],\"type\":\"histogram2d\"}],\"histogram\":[{\"marker\":{\"pattern\":{\"fillmode\":\"overlay\",\"size\":10,\"solidity\":0.2}},\"type\":\"histogram\"}],\"mesh3d\":[{\"colorbar\":{\"outlinewidth\":0,\"ticks\":\"\"},\"type\":\"mesh3d\"}],\"parcoords\":[{\"line\":{\"colorbar\":{\"outlinewidth\":0,\"ticks\":\"\"}},\"type\":\"parcoords\"}],\"pie\":[{\"automargin\":true,\"type\":\"pie\"}],\"scatter3d\":[{\"line\":{\"colorbar\":{\"outlinewidth\":0,\"ticks\":\"\"}},\"marker\":{\"colorbar\":{\"outlinewidth\":0,\"ticks\":\"\"}},\"type\":\"scatter3d\"}],\"scattercarpet\":[{\"marker\":{\"colorbar\":{\"outlinewidth\":0,\"ticks\":\"\"}},\"type\":\"scattercarpet\"}],\"scattergeo\":[{\"marker\":{\"colorbar\":{\"outlinewidth\":0,\"ticks\":\"\"}},\"type\":\"scattergeo\"}],\"scattergl\":[{\"marker\":{\"line\":{\"color\":\"#283442\"}},\"type\":\"scattergl\"}],\"scattermapbox\":[{\"marker\":{\"colorbar\":{\"outlinewidth\":0,\"ticks\":\"\"}},\"type\":\"scattermapbox\"}],\"scatterpolargl\":[{\"marker\":{\"colorbar\":{\"outlinewidth\":0,\"ticks\":\"\"}},\"type\":\"scatterpolargl\"}],\"scatterpolar\":[{\"marker\":{\"colorbar\":{\"outlinewidth\":0,\"ticks\":\"\"}},\"type\":\"scatterpolar\"}],\"scatter\":[{\"marker\":{\"line\":{\"color\":\"#283442\"}},\"type\":\"scatter\"}],\"scatterternary\":[{\"marker\":{\"colorbar\":{\"outlinewidth\":0,\"ticks\":\"\"}},\"type\":\"scatterternary\"}],\"surface\":[{\"colorbar\":{\"outlinewidth\":0,\"ticks\":\"\"},\"colorscale\":[[0.0,\"#0d0887\"],[0.1111111111111111,\"#46039f\"],[0.2222222222222222,\"#7201a8\"],[0.3333333333333333,\"#9c179e\"],[0.4444444444444444,\"#bd3786\"],[0.5555555555555556,\"#d8576b\"],[0.6666666666666666,\"#ed7953\"],[0.7777777777777778,\"#fb9f3a\"],[0.8888888888888888,\"#fdca26\"],[1.0,\"#f0f921\"]],\"type\":\"surface\"}],\"table\":[{\"cells\":{\"fill\":{\"color\":\"#506784\"},\"line\":{\"color\":\"rgb(17,17,17)\"}},\"header\":{\"fill\":{\"color\":\"#2a3f5f\"},\"line\":{\"color\":\"rgb(17,17,17)\"}},\"type\":\"table\"}]},\"layout\":{\"annotationdefaults\":{\"arrowcolor\":\"#f2f5fa\",\"arrowhead\":0,\"arrowwidth\":1},\"autotypenumbers\":\"strict\",\"coloraxis\":{\"colorbar\":{\"outlinewidth\":0,\"ticks\":\"\"}},\"colorscale\":{\"diverging\":[[0,\"#8e0152\"],[0.1,\"#c51b7d\"],[0.2,\"#de77ae\"],[0.3,\"#f1b6da\"],[0.4,\"#fde0ef\"],[0.5,\"#f7f7f7\"],[0.6,\"#e6f5d0\"],[0.7,\"#b8e186\"],[0.8,\"#7fbc41\"],[0.9,\"#4d9221\"],[1,\"#276419\"]],\"sequential\":[[0.0,\"#0d0887\"],[0.1111111111111111,\"#46039f\"],[0.2222222222222222,\"#7201a8\"],[0.3333333333333333,\"#9c179e\"],[0.4444444444444444,\"#bd3786\"],[0.5555555555555556,\"#d8576b\"],[0.6666666666666666,\"#ed7953\"],[0.7777777777777778,\"#fb9f3a\"],[0.8888888888888888,\"#fdca26\"],[1.0,\"#f0f921\"]],\"sequentialminus\":[[0.0,\"#0d0887\"],[0.1111111111111111,\"#46039f\"],[0.2222222222222222,\"#7201a8\"],[0.3333333333333333,\"#9c179e\"],[0.4444444444444444,\"#bd3786\"],[0.5555555555555556,\"#d8576b\"],[0.6666666666666666,\"#ed7953\"],[0.7777777777777778,\"#fb9f3a\"],[0.8888888888888888,\"#fdca26\"],[1.0,\"#f0f921\"]]},\"colorway\":[\"#636efa\",\"#EF553B\",\"#00cc96\",\"#ab63fa\",\"#FFA15A\",\"#19d3f3\",\"#FF6692\",\"#B6E880\",\"#FF97FF\",\"#FECB52\"],\"font\":{\"color\":\"#f2f5fa\"},\"geo\":{\"bgcolor\":\"rgb(17,17,17)\",\"lakecolor\":\"rgb(17,17,17)\",\"landcolor\":\"rgb(17,17,17)\",\"showlakes\":true,\"showland\":true,\"subunitcolor\":\"#506784\"},\"hoverlabel\":{\"align\":\"left\"},\"hovermode\":\"closest\",\"mapbox\":{\"style\":\"dark\"},\"paper_bgcolor\":\"rgb(17,17,17)\",\"plot_bgcolor\":\"rgb(17,17,17)\",\"polar\":{\"angularaxis\":{\"gridcolor\":\"#506784\",\"linecolor\":\"#506784\",\"ticks\":\"\"},\"bgcolor\":\"rgb(17,17,17)\",\"radialaxis\":{\"gridcolor\":\"#506784\",\"linecolor\":\"#506784\",\"ticks\":\"\"}},\"scene\":{\"xaxis\":{\"backgroundcolor\":\"rgb(17,17,17)\",\"gridcolor\":\"#506784\",\"gridwidth\":2,\"linecolor\":\"#506784\",\"showbackground\":true,\"ticks\":\"\",\"zerolinecolor\":\"#C8D4E3\"},\"yaxis\":{\"backgroundcolor\":\"rgb(17,17,17)\",\"gridcolor\":\"#506784\",\"gridwidth\":2,\"linecolor\":\"#506784\",\"showbackground\":true,\"ticks\":\"\",\"zerolinecolor\":\"#C8D4E3\"},\"zaxis\":{\"backgroundcolor\":\"rgb(17,17,17)\",\"gridcolor\":\"#506784\",\"gridwidth\":2,\"linecolor\":\"#506784\",\"showbackground\":true,\"ticks\":\"\",\"zerolinecolor\":\"#C8D4E3\"}},\"shapedefaults\":{\"line\":{\"color\":\"#f2f5fa\"}},\"sliderdefaults\":{\"bgcolor\":\"#C8D4E3\",\"bordercolor\":\"rgb(17,17,17)\",\"borderwidth\":1,\"tickwidth\":0},\"ternary\":{\"aaxis\":{\"gridcolor\":\"#506784\",\"linecolor\":\"#506784\",\"ticks\":\"\"},\"baxis\":{\"gridcolor\":\"#506784\",\"linecolor\":\"#506784\",\"ticks\":\"\"},\"bgcolor\":\"rgb(17,17,17)\",\"caxis\":{\"gridcolor\":\"#506784\",\"linecolor\":\"#506784\",\"ticks\":\"\"}},\"title\":{\"x\":0.05},\"updatemenudefaults\":{\"bgcolor\":\"#506784\",\"borderwidth\":0},\"xaxis\":{\"automargin\":true,\"gridcolor\":\"#283442\",\"linecolor\":\"#506784\",\"ticks\":\"\",\"title\":{\"standoff\":15},\"zerolinecolor\":\"#283442\",\"zerolinewidth\":2},\"yaxis\":{\"automargin\":true,\"gridcolor\":\"#283442\",\"linecolor\":\"#506784\",\"ticks\":\"\",\"title\":{\"standoff\":15},\"zerolinecolor\":\"#283442\",\"zerolinewidth\":2}}},\"title\":{\"text\":\"acousticness distribution in top hits\"},\"xaxis\":{\"anchor\":\"y\",\"domain\":[0.0,1.0],\"title\":{\"text\":\"acousticness\"}},\"yaxis\":{\"anchor\":\"x\",\"domain\":[0.0,1.0],\"title\":{\"text\":\"count\"}}},                        {\"responsive\": true}                    ).then(function(){\n",
       "                            \n",
       "var gd = document.getElementById('b3b6c251-c88b-491e-be12-ba03547850a3');\n",
       "var x = new MutationObserver(function (mutations, observer) {{\n",
       "        var display = window.getComputedStyle(gd).display;\n",
       "        if (!display || display === 'none') {{\n",
       "            console.log([gd, 'removed!']);\n",
       "            Plotly.purge(gd);\n",
       "            observer.disconnect();\n",
       "        }}\n",
       "}});\n",
       "\n",
       "// Listen for the removal of the full notebook cells\n",
       "var notebookContainer = gd.closest('#notebook-container');\n",
       "if (notebookContainer) {{\n",
       "    x.observe(notebookContainer, {childList: true});\n",
       "}}\n",
       "\n",
       "// Listen for the clearing of the current output cell\n",
       "var outputEl = gd.closest('.output');\n",
       "if (outputEl) {{\n",
       "    x.observe(outputEl, {childList: true});\n",
       "}}\n",
       "\n",
       "                        })                };                });            </script>        </div>"
      ]
     },
     "metadata": {},
     "output_type": "display_data"
    },
    {
     "data": {
      "text/html": [
       "<div>                            <div id=\"bd4b7677-cc66-44d3-b9c3-3b6fa0ee4a83\" class=\"plotly-graph-div\" style=\"height:525px; width:100%;\"></div>            <script type=\"text/javascript\">                require([\"plotly\"], function(Plotly) {                    window.PLOTLYENV=window.PLOTLYENV || {};                                    if (document.getElementById(\"bd4b7677-cc66-44d3-b9c3-3b6fa0ee4a83\")) {                    Plotly.newPlot(                        \"bd4b7677-cc66-44d3-b9c3-3b6fa0ee4a83\",                        [{\"alignmentgroup\":\"True\",\"bingroup\":\"x\",\"hovertemplate\":\"liveness=%{x}\\u003cbr\\u003ecount=%{y}\\u003cextra\\u003e\\u003c\\u002fextra\\u003e\",\"legendgroup\":\"\",\"marker\":{\"color\":\"rgb(218, 165, 27)\",\"pattern\":{\"shape\":\"\"}},\"name\":\"\",\"offsetgroup\":\"\",\"orientation\":\"v\",\"showlegend\":false,\"x\":[0.355,0.612,0.251,0.347,0.0845,0.07,0.0454,0.467,0.149,0.0634,0.36,0.533,0.252,0.106,0.119,0.0841,0.0771,0.285,0.0785,0.0856,0.209,0.104,0.126,0.294,0.31,0.0935,0.0797,0.0669,0.277,0.0839,0.5,0.0356,0.14,0.0602,0.071,0.0817,0.0956,0.0584,0.118,0.237,0.0483,0.326,0.265,0.163,0.18,0.0765,0.166,0.0725,0.0886,0.0812,0.0981,0.373,0.235,0.14,0.0352,0.106,0.148,0.0419,0.051,0.56,0.347,0.101,0.103,0.06,0.111,0.135,0.0756,0.0272,0.0951,0.0348,0.0394,0.0452,0.0395,0.334,0.35,0.0537,0.118,0.168,0.107,0.0515,0.24,0.268,0.0882,0.257,0.0696,0.169,0.0584,0.0969,0.216,0.375,0.09,0.159,0.117,0.269,0.431,0.174,0.246,0.206,0.0669,0.142,0.313,0.775,0.518,0.115,0.665,0.273,0.203,0.058,0.154,0.318,0.404,0.107,0.0681,0.152,0.0863,0.147,0.206,0.11,0.199,0.341,0.0736,0.165,0.0552,0.107,0.255,0.0709,0.0813,0.0724,0.099,0.332,0.0771,0.34,0.1,0.0665,0.31,0.39,0.0361,0.095,0.0623,0.843,0.138,0.0698,0.197,0.147,0.0784,0.473,0.133,0.0556,0.0532,0.293,0.0546,0.144,0.0757,0.29,0.229,0.0914,0.0467,0.0674,0.0847,0.0783,0.213,0.06,0.413,0.389,0.189,0.0288,0.216,0.112,0.127,0.286,0.152,0.095,0.095,0.105,0.102,0.0685,0.128,0.174,0.041,0.169,0.148,0.0718,0.0876,0.124,0.0919,0.139,0.0941,0.09,0.244,0.102,0.0712,0.0634,0.106,0.367,0.549,0.143,0.0651,0.311,0.126,0.0812,0.198,0.237,0.3,0.161,0.115,0.104,0.391,0.187,0.648,0.0816,0.0308,0.099,0.0896,0.271,0.0395,0.209,0.0924,0.193,0.0701,0.115,0.292,0.39,0.179,0.416,0.425,0.201,0.182,0.0926,0.35,0.0619,0.149,0.187,0.0945,0.1,0.0537,0.111,0.0956,0.0615,0.0845,0.339,0.0592,0.557,0.35,0.108,0.049,0.0903,0.18,0.167,0.0485,0.0441,0.234,0.665,0.0533,0.27,0.108,0.211,0.363,0.228,0.0342,0.313,0.0703,0.305,0.243,0.0783,0.124,0.188,0.173,0.064,0.0906,0.183,0.0732,0.0956,0.339,0.076,0.242,0.106,0.358,0.226,0.112,0.172,0.102,0.133,0.067,0.0283,0.174,0.504,0.0304,0.3,0.109,0.753,0.592,0.325,0.0677,0.122,0.111,0.135,0.14,0.298,0.0288,0.0621,0.0708,0.158,0.342,0.0715,0.137,0.132,0.0575,0.237,0.105,0.0745,0.648,0.15,0.0925,0.15,0.0368,0.0357,0.0731,0.0719,0.242,0.137,0.661,0.139,0.194,0.049,0.0841,0.234,0.213,0.38,0.193,0.0521,0.306,0.355,0.221,0.268,0.0651,0.226,0.137,0.0757,0.189,0.0859,0.0798,0.328,0.169,0.0367,0.318,0.119,0.15,0.141,0.0801,0.0614,0.0426,0.0553,0.309,0.0427,0.079,0.317,0.0492,0.0728,0.552,0.221,0.0881,0.113,0.0753,0.0517,0.0936,0.0916,0.0666,0.103,0.0692,0.104,0.11,0.328,0.157,0.0884,0.183,0.174,0.0732,0.16,0.203,0.0997,0.113,0.184,0.158,0.252,0.081,0.133,0.0838,0.0794,0.0706,0.406,0.707,0.0638,0.118,0.362,0.111,0.0686,0.177,0.101,0.117,0.108,0.0388,0.093,0.242,0.174,0.159,0.0929,0.0789,0.292,0.0577,0.0746,0.279,0.384,0.188,0.484,0.1,0.102,0.639,0.24,0.107,0.116,0.136,0.116,0.0979,0.839,0.298,0.326,0.0745,0.219,0.117,0.103,0.0576,0.0841,0.359,0.339,0.0556,0.161,0.26,0.584,0.094,0.0519,0.206,0.0909,0.0763,0.0753,0.0974,0.281,0.15,0.102,0.116,0.068,0.188,0.592,0.0351,0.217,0.141,0.287,0.329,0.281,0.256,0.116,0.147,0.136,0.044,0.0675,0.131,0.317,0.134,0.0982,0.338,0.328,0.358,0.284,0.368,0.0374,0.104,0.125,0.158,0.28,0.233,0.369,0.081,0.0404,0.137,0.205,0.139,0.348,0.0979,0.0465,0.0813,0.141,0.0305,0.0687,0.0638,0.0753,0.215,0.104,0.103,0.11,0.108,0.342,0.0865,0.118,0.0554,0.101,0.38,0.088,0.0383,0.127,0.151,0.755,0.0686,0.315,0.0648,0.107,0.0748,0.206,0.363,0.0795,0.279,0.0332,0.393,0.0315,0.109,0.0697,0.0839,0.097,0.628,0.582,0.123,0.613,0.547,0.238,0.084,0.076,0.157,0.156,0.123,0.298,0.325,0.0633,0.243,0.111,0.0932,0.0471,0.0899,0.106,0.401,0.0768,0.105,0.164,0.102,0.0644,0.0833,0.0475,0.0416,0.118,0.801,0.149,0.0234,0.0867,0.582,0.0348,0.0788,0.062,0.122,0.429,0.101,0.107,0.556,0.0646,0.242,0.197,0.0784,0.0886,0.339,0.226,0.376,0.27,0.0898,0.12,0.119,0.124,0.111,0.136,0.081,0.235,0.0708,0.151,0.0931,0.104,0.158,0.0746,0.112,0.04,0.113,0.105,0.548,0.109,0.355,0.188,0.405,0.0712,0.0519,0.167,0.34,0.413,0.105,0.197,0.121,0.0509,0.658,0.169,0.3,0.752,0.154,0.0862,0.041,0.247,0.0405,0.157,0.495,0.0877,0.118,0.0396,0.0655,0.123,0.0998,0.29,0.0322,0.282,0.131,0.123,0.682,0.414,0.307,0.118,0.166,0.371,0.0932,0.205,0.0743,0.0524,0.273,0.058,0.044,0.0697,0.262,0.355,0.227,0.309,0.1,0.293,0.12,0.107,0.0854,0.131,0.169,0.299,0.145,0.114,0.117,0.102,0.376,0.1,0.221,0.0604,0.146,0.129,0.0831,0.0701,0.265,0.346,0.342,0.189,0.209,0.108,0.0826,0.113,0.0708,0.12,0.0903,0.103,0.0805,0.334,0.278,0.193,0.34,0.0822,0.355,0.0855,0.176,0.101,0.606,0.222,0.318,0.548,0.0974,0.209,0.0756,0.149,0.146,0.0426,0.0723,0.0945,0.124,0.114,0.573,0.178,0.319,0.0543,0.146,0.292,0.0551,0.0909,0.0799,0.034,0.0917,0.0992,0.0867,0.408,0.164,0.289,0.308,0.0468,0.0842,0.034,0.197,0.0496,0.82,0.0626,0.138,0.0855,0.0693,0.507,0.233,0.328,0.495,0.199,0.0543,0.118,0.0871,0.682,0.103,0.61,0.184,0.0466,0.486,0.209,0.0951,0.311,0.202,0.297,0.25,0.214,0.0907,0.128,0.129,0.148,0.343,0.106,0.213,0.206,0.0861,0.205,0.0819,0.0263,0.16,0.271,0.0577,0.0327,0.113,0.175,0.352,0.028,0.0775,0.0774,0.137,0.101,0.092,0.127,0.364,0.142,0.256,0.226,0.0789,0.119,0.466,0.0737,0.107,0.228,0.0721,0.113,0.38,0.184,0.341,0.178,0.348,0.058,0.119,0.252,0.139,0.132,0.0941,0.134,0.097,0.194,0.145,0.354,0.0816,0.0648,0.0551,0.168,0.355,0.107,0.137,0.0856,0.386,0.234,0.0688,0.0535,0.0578,0.413,0.0889,0.112,0.291,0.0887,0.143,0.398,0.147,0.0468,0.0857,0.211,0.154,0.194,0.18,0.112,0.164,0.0693,0.233,0.0317,0.154,0.163,0.11,0.406,0.274,0.256,0.108,0.197,0.115,0.07,0.0982,0.192,0.0563,0.151,0.241,0.112,0.744,0.65,0.118,0.379,0.224,0.361,0.054,0.676,0.234,0.119,0.0667,0.167,0.112,0.151,0.363,0.339,0.0833,0.122,0.486,0.261,0.0912,0.0756,0.195,0.101,0.0384,0.109,0.136,0.439,0.133,0.0719,0.118,0.373,0.101,0.115,0.614,0.072,0.216,0.331,0.359,0.184,0.111,0.13,0.296,0.0772,0.509,0.121,0.0563,0.131,0.232,0.0772,0.0763,0.0713,0.317,0.0789,0.281,0.324,0.248,0.122,0.181,0.0523,0.237,0.826,0.0618,0.108,0.13,0.225,0.094,0.46,0.283,0.15,0.314,0.0983,0.0678,0.263,0.0842,0.211,0.129,0.253,0.342,0.107,0.406,0.128,0.0822,0.134,0.169,0.0679,0.0677,0.173,0.195,0.483,0.327,0.0759,0.189,0.0797,0.274,0.112,0.358,0.173,0.182,0.0534,0.112,0.151,0.0614,0.145,0.219,0.601,0.331,0.0589,0.549,0.092,0.068,0.117,0.317,0.082,0.139,0.122,0.117,0.133,0.0833,0.261,0.0415,0.188,0.16,0.362,0.115,0.36,0.218,0.176,0.107,0.136,0.188,0.0768,0.0886,0.0639,0.11,0.626,0.171,0.112,0.106,0.421,0.098,0.144,0.0873,0.136,0.0622,0.52,0.0842,0.065,0.289,0.251,0.036,0.069,0.163,0.0867,0.431,0.117,0.0773,0.233,0.0715,0.1,0.256,0.392,0.0757,0.0909,0.307,0.125,0.205,0.375,0.0788,0.277,0.207,0.602,0.362,0.16,0.0787,0.082,0.168,0.064,0.113,0.241,0.219,0.107,0.196,0.689,0.112,0.0923,0.649,0.143,0.0583,0.385,0.0605,0.0594,0.0403,0.36,0.216,0.0822,0.0491,0.36,0.111,0.0939,0.402,0.238,0.224,0.424,0.161,0.348,0.0873,0.0368,0.483,0.12,0.0797,0.125,0.122,0.833,0.145,0.124,0.358,0.144,0.264,0.102,0.107,0.578,0.0789,0.0889,0.324,0.0286,0.129,0.0921,0.211,0.191,0.0862,0.134,0.378,0.206,0.118,0.118,0.243,0.334,0.378,0.343,0.313,0.0966,0.275,0.347,0.0473,0.315,0.265,0.113,0.107,0.259,0.143,0.0458,0.0691,0.104,0.073,0.0826,0.156,0.348,0.0948,0.105,0.259,0.0845,0.298,0.0741,0.271,0.369,0.332,0.267,0.0757,0.116,0.111,0.0515,0.0765,0.191,0.0385,0.364,0.483,0.241,0.0404,0.0658,0.202,0.276,0.134,0.0833,0.671,0.112,0.306,0.318,0.631,0.144,0.267,0.108,0.117,0.105,0.108,0.187,0.283,0.0934,0.0759,0.176,0.191,0.3,0.0797,0.0843,0.14,0.223,0.228,0.145,0.149,0.24,0.331,0.601,0.391,0.664,0.157,0.0956,0.0917,0.272,0.116,0.0914,0.132,0.119,0.0955,0.155,0.146,0.104,0.0996,0.258,0.0851,0.36,0.121,0.109,0.0998,0.163,0.161,0.171,0.0894,0.029,0.12,0.104,0.275,0.108,0.111,0.11,0.108,0.108,0.0849,0.207,0.335,0.329,0.114,0.575,0.223,0.349,0.0844,0.317,0.498,0.29,0.145,0.344,0.0241,0.604,0.0922,0.173,0.224,0.191,0.091,0.215,0.179,0.125,0.0707,0.309,0.309,0.306,0.109,0.296,0.0744,0.251,0.44,0.0927,0.0966,0.0767,0.287,0.11,0.853,0.0664,0.172,0.187,0.204,0.0868,0.0895,0.167,0.0833,0.156,0.167,0.294,0.123,0.116,0.108,0.126,0.127,0.0418,0.0335,0.0721,0.0944,0.0694,0.115,0.361,0.652,0.113,0.35,0.174,0.097,0.2,0.121,0.107,0.262,0.0596,0.217,0.102,0.371,0.598,0.0926,0.131,0.0801,0.0895,0.287,0.0969,0.148,0.0283,0.205,0.144,0.112,0.111,0.392,0.0986,0.686,0.383,0.368,0.144,0.0888,0.285,0.082,0.473,0.132,0.0783,0.668,0.161,0.309,0.0457,0.101,0.131,0.0636,0.296,0.111,0.0944,0.0524,0.331,0.341,0.0748,0.0946,0.0862,0.0714,0.307,0.103,0.0616,0.101,0.0631,0.0889,0.239,0.104,0.0682,0.12,0.375,0.0809,0.108,0.311,0.315,0.176,0.13,0.26,0.153,0.537,0.247,0.316,0.269,0.586,0.0335,0.217,0.427,0.0964,0.0525,0.11,0.0944,0.119,0.105,0.416,0.237,0.147,0.0953,0.354,0.136,0.263,0.0567,0.209,0.111,0.602,0.156,0.162,0.089,0.119,0.354,0.108,0.0958,0.256,0.107,0.213,0.271,0.0789,0.698,0.0751,0.107,0.111,0.0753,0.0632,0.0946,0.324,0.146,0.37,0.426,0.0561,0.114,0.0733,0.124,0.255,0.0769,0.415,0.0477,0.104,0.076,0.117,0.164,0.088,0.0536,0.0908,0.165,0.207,0.0491,0.593,0.11,0.305,0.0685,0.132,0.122,0.124,0.379,0.109,0.0829,0.336,0.306,0.307,0.0675,0.328,0.111,0.0658,0.201,0.104,0.115,0.31,0.162,0.623,0.11,0.214,0.343,0.057,0.139,0.117,0.0562,0.1,0.181,0.55,0.285,0.177,0.0818,0.305,0.132,0.14,0.0829,0.334,0.0772,0.105,0.204,0.141,0.0823,0.188,0.0973,0.101,0.29,0.0759,0.635,0.0764,0.0399,0.0828,0.38,0.0851,0.333,0.118,0.157,0.0895,0.159,0.191,0.114,0.225,0.142,0.128,0.327,0.0741,0.334,0.115,0.0601,0.239,0.199,0.323,0.209,0.193,0.0947,0.146,0.119,0.188,0.208,0.12,0.0656,0.151,0.181,0.086,0.143,0.0718,0.0963,0.115,0.15,0.229,0.0962,0.109,0.452,0.0344,0.184,0.0649,0.0811,0.565,0.0972,0.125,0.322,0.325,0.0853,0.0913,0.135,0.123,0.817,0.249,0.306,0.174,0.0925,0.139,0.065,0.163,0.388,0.102,0.104,0.102,0.0906,0.131,0.0602,0.118,0.0837,0.124,0.233,0.0838,0.198,0.0698,0.106,0.0463,0.694,0.0856,0.257,0.189,0.0657,0.124,0.382,0.0869,0.124,0.214,0.0874,0.128,0.334,0.0851,0.113,0.354,0.0823,0.126,0.12,0.269,0.112,0.0504,0.0973,0.0869,0.625,0.0764,0.105,0.0575,0.229,0.0452,0.319,0.167,0.0741,0.147,0.116,0.118,0.0793,0.0863,0.103,0.118,0.325,0.0952,0.341,0.109,0.0486,0.0793,0.142,0.0789,0.0863,0.0963,0.341,0.294,0.28,0.299,0.256,0.117,0.299,0.096,0.317,0.119,0.104,0.111,0.0909,0.134,0.329,0.28,0.111,0.0854,0.366,0.0545,0.0775,0.27,0.0919,0.325,0.299,0.191,0.0943,0.0786,0.158,0.0905,0.0962,0.65,0.105,0.146,0.24,0.136,0.0812,0.0936,0.0933,0.138,0.737,0.0584,0.454,0.11,0.129,0.135,0.148,0.0843,0.189,0.0825,0.292,0.108,0.147,0.214,0.161,0.0828,0.113,0.128,0.353,0.176,0.179,0.154,0.135,0.269,0.104,0.0504,0.145,0.107,0.124,0.149,0.251,0.0599,0.229,0.0371,0.0356,0.257,0.134,0.147,0.0644,0.105,0.089,0.0841,0.0549,0.336,0.332,0.197,0.144,0.277,0.156,0.309,0.123,0.108,0.0963,0.0574,0.159,0.307,0.163,0.311,0.0561,0.12,0.101,0.304,0.0526,0.178,0.063,0.0616,0.135,0.0756,0.253,0.11,0.0902,0.415,0.1,0.0931,0.206,0.112,0.169,0.18,0.104,0.155,0.0983,0.164,0.106,0.1,0.149,0.0795,0.165,0.308,0.0424,0.1,0.421,0.087,0.104,0.0871,0.29,0.106,0.134,0.185,0.128,0.285,0.112,0.266,0.109,0.117,0.0906,0.187,0.0853,0.35,0.0829,0.143,0.14,0.255,0.0975,0.062,0.0848,0.107,0.15,0.165,0.123,0.117,0.126,0.241,0.122,0.0874,0.117,0.297,0.123,0.137,0.261,0.0516,0.194,0.197,0.225,0.104,0.0913,0.0563,0.33,0.114,0.346,0.147,0.0839,0.118,0.253,0.0456,0.234,0.199,0.391,0.0943,0.158,0.362,0.104,0.112,0.0911,0.0765,0.109,0.306,0.325,0.111,0.114,0.159,0.184,0.358,0.0972,0.0813,0.0679,0.0939,0.129,0.111,0.0683,0.106,0.153,0.127,0.0864,0.552,0.131,0.114,0.308,0.118,0.34,0.112,0.128,0.372,0.102,0.294,0.248,0.0814,0.101,0.124,0.0812,0.0642,0.742,0.111,0.095,0.106,0.35,0.104,0.136,0.307,0.0595,0.325,0.3,0.123,0.104,0.0537,0.129,0.143,0.12,0.128,0.108,0.0926,0.0761,0.094,0.237,0.118,0.191,0.409,0.155,0.204,0.0586,0.133,0.0501,0.17,0.124,0.0543,0.157,0.179,0.0984,0.198,0.231,0.108,0.203,0.0934,0.203,0.0383,0.135,0.105,0.0713,0.167,0.0813,0.0688,0.159,0.0881,0.396,0.0959,0.0628,0.636,0.116,0.137,0.0696,0.104,0.454,0.107,0.412,0.0865,0.137,0.0215,0.171,0.0725,0.0893,0.0836,0.137,0.0962,0.0824,0.106,0.451,0.109,0.104,0.0912,0.13,0.134,0.119,0.153,0.111,0.113,0.1,0.0828,0.0881,0.0685,0.115,0.0936,0.106,0.231,0.388,0.105,0.156,0.344,0.14,0.0924,0.0574,0.124,0.325,0.122,0.074,0.361,0.124,0.11,0.0937,0.0642,0.148,0.0672,0.0658,0.121,0.095,0.0793,0.101,0.252,0.103,0.0689,0.111,0.142,0.0745,0.122,0.123,0.099,0.0698,0.153,0.342,0.132,0.0822,0.319,0.183,0.11,0.106,0.0955,0.166,0.0952,0.101,0.0811,0.162,0.0832,0.129,0.149,0.159,0.243,0.353,0.143,0.271,0.437,0.14,0.113,0.127,0.102,0.106,0.192,0.0907,0.0645,0.0977,0.119,0.795,0.0523,0.104,0.297,0.214,0.136,0.105,0.154,0.11,0.135,0.0669,0.242,0.0717,0.064,0.582,0.0763,0.104,0.3,0.32,0.111,0.106,0.105,0.274,0.222,0.0863],\"xaxis\":\"x\",\"yaxis\":\"y\",\"type\":\"histogram\"}],                        {\"barmode\":\"relative\",\"legend\":{\"tracegroupgap\":0},\"template\":{\"data\":{\"barpolar\":[{\"marker\":{\"line\":{\"color\":\"rgb(17,17,17)\",\"width\":0.5},\"pattern\":{\"fillmode\":\"overlay\",\"size\":10,\"solidity\":0.2}},\"type\":\"barpolar\"}],\"bar\":[{\"error_x\":{\"color\":\"#f2f5fa\"},\"error_y\":{\"color\":\"#f2f5fa\"},\"marker\":{\"line\":{\"color\":\"rgb(17,17,17)\",\"width\":0.5},\"pattern\":{\"fillmode\":\"overlay\",\"size\":10,\"solidity\":0.2}},\"type\":\"bar\"}],\"carpet\":[{\"aaxis\":{\"endlinecolor\":\"#A2B1C6\",\"gridcolor\":\"#506784\",\"linecolor\":\"#506784\",\"minorgridcolor\":\"#506784\",\"startlinecolor\":\"#A2B1C6\"},\"baxis\":{\"endlinecolor\":\"#A2B1C6\",\"gridcolor\":\"#506784\",\"linecolor\":\"#506784\",\"minorgridcolor\":\"#506784\",\"startlinecolor\":\"#A2B1C6\"},\"type\":\"carpet\"}],\"choropleth\":[{\"colorbar\":{\"outlinewidth\":0,\"ticks\":\"\"},\"type\":\"choropleth\"}],\"contourcarpet\":[{\"colorbar\":{\"outlinewidth\":0,\"ticks\":\"\"},\"type\":\"contourcarpet\"}],\"contour\":[{\"colorbar\":{\"outlinewidth\":0,\"ticks\":\"\"},\"colorscale\":[[0.0,\"#0d0887\"],[0.1111111111111111,\"#46039f\"],[0.2222222222222222,\"#7201a8\"],[0.3333333333333333,\"#9c179e\"],[0.4444444444444444,\"#bd3786\"],[0.5555555555555556,\"#d8576b\"],[0.6666666666666666,\"#ed7953\"],[0.7777777777777778,\"#fb9f3a\"],[0.8888888888888888,\"#fdca26\"],[1.0,\"#f0f921\"]],\"type\":\"contour\"}],\"heatmapgl\":[{\"colorbar\":{\"outlinewidth\":0,\"ticks\":\"\"},\"colorscale\":[[0.0,\"#0d0887\"],[0.1111111111111111,\"#46039f\"],[0.2222222222222222,\"#7201a8\"],[0.3333333333333333,\"#9c179e\"],[0.4444444444444444,\"#bd3786\"],[0.5555555555555556,\"#d8576b\"],[0.6666666666666666,\"#ed7953\"],[0.7777777777777778,\"#fb9f3a\"],[0.8888888888888888,\"#fdca26\"],[1.0,\"#f0f921\"]],\"type\":\"heatmapgl\"}],\"heatmap\":[{\"colorbar\":{\"outlinewidth\":0,\"ticks\":\"\"},\"colorscale\":[[0.0,\"#0d0887\"],[0.1111111111111111,\"#46039f\"],[0.2222222222222222,\"#7201a8\"],[0.3333333333333333,\"#9c179e\"],[0.4444444444444444,\"#bd3786\"],[0.5555555555555556,\"#d8576b\"],[0.6666666666666666,\"#ed7953\"],[0.7777777777777778,\"#fb9f3a\"],[0.8888888888888888,\"#fdca26\"],[1.0,\"#f0f921\"]],\"type\":\"heatmap\"}],\"histogram2dcontour\":[{\"colorbar\":{\"outlinewidth\":0,\"ticks\":\"\"},\"colorscale\":[[0.0,\"#0d0887\"],[0.1111111111111111,\"#46039f\"],[0.2222222222222222,\"#7201a8\"],[0.3333333333333333,\"#9c179e\"],[0.4444444444444444,\"#bd3786\"],[0.5555555555555556,\"#d8576b\"],[0.6666666666666666,\"#ed7953\"],[0.7777777777777778,\"#fb9f3a\"],[0.8888888888888888,\"#fdca26\"],[1.0,\"#f0f921\"]],\"type\":\"histogram2dcontour\"}],\"histogram2d\":[{\"colorbar\":{\"outlinewidth\":0,\"ticks\":\"\"},\"colorscale\":[[0.0,\"#0d0887\"],[0.1111111111111111,\"#46039f\"],[0.2222222222222222,\"#7201a8\"],[0.3333333333333333,\"#9c179e\"],[0.4444444444444444,\"#bd3786\"],[0.5555555555555556,\"#d8576b\"],[0.6666666666666666,\"#ed7953\"],[0.7777777777777778,\"#fb9f3a\"],[0.8888888888888888,\"#fdca26\"],[1.0,\"#f0f921\"]],\"type\":\"histogram2d\"}],\"histogram\":[{\"marker\":{\"pattern\":{\"fillmode\":\"overlay\",\"size\":10,\"solidity\":0.2}},\"type\":\"histogram\"}],\"mesh3d\":[{\"colorbar\":{\"outlinewidth\":0,\"ticks\":\"\"},\"type\":\"mesh3d\"}],\"parcoords\":[{\"line\":{\"colorbar\":{\"outlinewidth\":0,\"ticks\":\"\"}},\"type\":\"parcoords\"}],\"pie\":[{\"automargin\":true,\"type\":\"pie\"}],\"scatter3d\":[{\"line\":{\"colorbar\":{\"outlinewidth\":0,\"ticks\":\"\"}},\"marker\":{\"colorbar\":{\"outlinewidth\":0,\"ticks\":\"\"}},\"type\":\"scatter3d\"}],\"scattercarpet\":[{\"marker\":{\"colorbar\":{\"outlinewidth\":0,\"ticks\":\"\"}},\"type\":\"scattercarpet\"}],\"scattergeo\":[{\"marker\":{\"colorbar\":{\"outlinewidth\":0,\"ticks\":\"\"}},\"type\":\"scattergeo\"}],\"scattergl\":[{\"marker\":{\"line\":{\"color\":\"#283442\"}},\"type\":\"scattergl\"}],\"scattermapbox\":[{\"marker\":{\"colorbar\":{\"outlinewidth\":0,\"ticks\":\"\"}},\"type\":\"scattermapbox\"}],\"scatterpolargl\":[{\"marker\":{\"colorbar\":{\"outlinewidth\":0,\"ticks\":\"\"}},\"type\":\"scatterpolargl\"}],\"scatterpolar\":[{\"marker\":{\"colorbar\":{\"outlinewidth\":0,\"ticks\":\"\"}},\"type\":\"scatterpolar\"}],\"scatter\":[{\"marker\":{\"line\":{\"color\":\"#283442\"}},\"type\":\"scatter\"}],\"scatterternary\":[{\"marker\":{\"colorbar\":{\"outlinewidth\":0,\"ticks\":\"\"}},\"type\":\"scatterternary\"}],\"surface\":[{\"colorbar\":{\"outlinewidth\":0,\"ticks\":\"\"},\"colorscale\":[[0.0,\"#0d0887\"],[0.1111111111111111,\"#46039f\"],[0.2222222222222222,\"#7201a8\"],[0.3333333333333333,\"#9c179e\"],[0.4444444444444444,\"#bd3786\"],[0.5555555555555556,\"#d8576b\"],[0.6666666666666666,\"#ed7953\"],[0.7777777777777778,\"#fb9f3a\"],[0.8888888888888888,\"#fdca26\"],[1.0,\"#f0f921\"]],\"type\":\"surface\"}],\"table\":[{\"cells\":{\"fill\":{\"color\":\"#506784\"},\"line\":{\"color\":\"rgb(17,17,17)\"}},\"header\":{\"fill\":{\"color\":\"#2a3f5f\"},\"line\":{\"color\":\"rgb(17,17,17)\"}},\"type\":\"table\"}]},\"layout\":{\"annotationdefaults\":{\"arrowcolor\":\"#f2f5fa\",\"arrowhead\":0,\"arrowwidth\":1},\"autotypenumbers\":\"strict\",\"coloraxis\":{\"colorbar\":{\"outlinewidth\":0,\"ticks\":\"\"}},\"colorscale\":{\"diverging\":[[0,\"#8e0152\"],[0.1,\"#c51b7d\"],[0.2,\"#de77ae\"],[0.3,\"#f1b6da\"],[0.4,\"#fde0ef\"],[0.5,\"#f7f7f7\"],[0.6,\"#e6f5d0\"],[0.7,\"#b8e186\"],[0.8,\"#7fbc41\"],[0.9,\"#4d9221\"],[1,\"#276419\"]],\"sequential\":[[0.0,\"#0d0887\"],[0.1111111111111111,\"#46039f\"],[0.2222222222222222,\"#7201a8\"],[0.3333333333333333,\"#9c179e\"],[0.4444444444444444,\"#bd3786\"],[0.5555555555555556,\"#d8576b\"],[0.6666666666666666,\"#ed7953\"],[0.7777777777777778,\"#fb9f3a\"],[0.8888888888888888,\"#fdca26\"],[1.0,\"#f0f921\"]],\"sequentialminus\":[[0.0,\"#0d0887\"],[0.1111111111111111,\"#46039f\"],[0.2222222222222222,\"#7201a8\"],[0.3333333333333333,\"#9c179e\"],[0.4444444444444444,\"#bd3786\"],[0.5555555555555556,\"#d8576b\"],[0.6666666666666666,\"#ed7953\"],[0.7777777777777778,\"#fb9f3a\"],[0.8888888888888888,\"#fdca26\"],[1.0,\"#f0f921\"]]},\"colorway\":[\"#636efa\",\"#EF553B\",\"#00cc96\",\"#ab63fa\",\"#FFA15A\",\"#19d3f3\",\"#FF6692\",\"#B6E880\",\"#FF97FF\",\"#FECB52\"],\"font\":{\"color\":\"#f2f5fa\"},\"geo\":{\"bgcolor\":\"rgb(17,17,17)\",\"lakecolor\":\"rgb(17,17,17)\",\"landcolor\":\"rgb(17,17,17)\",\"showlakes\":true,\"showland\":true,\"subunitcolor\":\"#506784\"},\"hoverlabel\":{\"align\":\"left\"},\"hovermode\":\"closest\",\"mapbox\":{\"style\":\"dark\"},\"paper_bgcolor\":\"rgb(17,17,17)\",\"plot_bgcolor\":\"rgb(17,17,17)\",\"polar\":{\"angularaxis\":{\"gridcolor\":\"#506784\",\"linecolor\":\"#506784\",\"ticks\":\"\"},\"bgcolor\":\"rgb(17,17,17)\",\"radialaxis\":{\"gridcolor\":\"#506784\",\"linecolor\":\"#506784\",\"ticks\":\"\"}},\"scene\":{\"xaxis\":{\"backgroundcolor\":\"rgb(17,17,17)\",\"gridcolor\":\"#506784\",\"gridwidth\":2,\"linecolor\":\"#506784\",\"showbackground\":true,\"ticks\":\"\",\"zerolinecolor\":\"#C8D4E3\"},\"yaxis\":{\"backgroundcolor\":\"rgb(17,17,17)\",\"gridcolor\":\"#506784\",\"gridwidth\":2,\"linecolor\":\"#506784\",\"showbackground\":true,\"ticks\":\"\",\"zerolinecolor\":\"#C8D4E3\"},\"zaxis\":{\"backgroundcolor\":\"rgb(17,17,17)\",\"gridcolor\":\"#506784\",\"gridwidth\":2,\"linecolor\":\"#506784\",\"showbackground\":true,\"ticks\":\"\",\"zerolinecolor\":\"#C8D4E3\"}},\"shapedefaults\":{\"line\":{\"color\":\"#f2f5fa\"}},\"sliderdefaults\":{\"bgcolor\":\"#C8D4E3\",\"bordercolor\":\"rgb(17,17,17)\",\"borderwidth\":1,\"tickwidth\":0},\"ternary\":{\"aaxis\":{\"gridcolor\":\"#506784\",\"linecolor\":\"#506784\",\"ticks\":\"\"},\"baxis\":{\"gridcolor\":\"#506784\",\"linecolor\":\"#506784\",\"ticks\":\"\"},\"bgcolor\":\"rgb(17,17,17)\",\"caxis\":{\"gridcolor\":\"#506784\",\"linecolor\":\"#506784\",\"ticks\":\"\"}},\"title\":{\"x\":0.05},\"updatemenudefaults\":{\"bgcolor\":\"#506784\",\"borderwidth\":0},\"xaxis\":{\"automargin\":true,\"gridcolor\":\"#283442\",\"linecolor\":\"#506784\",\"ticks\":\"\",\"title\":{\"standoff\":15},\"zerolinecolor\":\"#283442\",\"zerolinewidth\":2},\"yaxis\":{\"automargin\":true,\"gridcolor\":\"#283442\",\"linecolor\":\"#506784\",\"ticks\":\"\",\"title\":{\"standoff\":15},\"zerolinecolor\":\"#283442\",\"zerolinewidth\":2}}},\"title\":{\"text\":\"liveness distribution in top hits\"},\"xaxis\":{\"anchor\":\"y\",\"domain\":[0.0,1.0],\"title\":{\"text\":\"liveness\"}},\"yaxis\":{\"anchor\":\"x\",\"domain\":[0.0,1.0],\"title\":{\"text\":\"count\"}}},                        {\"responsive\": true}                    ).then(function(){\n",
       "                            \n",
       "var gd = document.getElementById('bd4b7677-cc66-44d3-b9c3-3b6fa0ee4a83');\n",
       "var x = new MutationObserver(function (mutations, observer) {{\n",
       "        var display = window.getComputedStyle(gd).display;\n",
       "        if (!display || display === 'none') {{\n",
       "            console.log([gd, 'removed!']);\n",
       "            Plotly.purge(gd);\n",
       "            observer.disconnect();\n",
       "        }}\n",
       "}});\n",
       "\n",
       "// Listen for the removal of the full notebook cells\n",
       "var notebookContainer = gd.closest('#notebook-container');\n",
       "if (notebookContainer) {{\n",
       "    x.observe(notebookContainer, {childList: true});\n",
       "}}\n",
       "\n",
       "// Listen for the clearing of the current output cell\n",
       "var outputEl = gd.closest('.output');\n",
       "if (outputEl) {{\n",
       "    x.observe(outputEl, {childList: true});\n",
       "}}\n",
       "\n",
       "                        })                };                });            </script>        </div>"
      ]
     },
     "metadata": {},
     "output_type": "display_data"
    },
    {
     "data": {
      "text/html": [
       "<div>                            <div id=\"9f0ad1e1-089c-46a9-9924-48d93a6d95d0\" class=\"plotly-graph-div\" style=\"height:525px; width:100%;\"></div>            <script type=\"text/javascript\">                require([\"plotly\"], function(Plotly) {                    window.PLOTLYENV=window.PLOTLYENV || {};                                    if (document.getElementById(\"9f0ad1e1-089c-46a9-9924-48d93a6d95d0\")) {                    Plotly.newPlot(                        \"9f0ad1e1-089c-46a9-9924-48d93a6d95d0\",                        [{\"alignmentgroup\":\"True\",\"bingroup\":\"x\",\"hovertemplate\":\"instrumentalness=%{x}\\u003cbr\\u003ecount=%{y}\\u003cextra\\u003e\\u003c\\u002fextra\\u003e\",\"legendgroup\":\"\",\"marker\":{\"color\":\"rgb(47, 138, 196)\",\"pattern\":{\"shape\":\"\"}},\"name\":\"\",\"offsetgroup\":\"\",\"orientation\":\"v\",\"showlegend\":false,\"x\":[0.0000177,0.0,0.0,0.0000135,0.00104,0.0000964,0.0,0.0,0.0,0.0293,0.0482,0.324,0.325,0.0,0.0,0.0,0.0,0.691,0.00152,0.0,0.0,0.0000138,0.00103,0.0,0.00167,0.306,0.985,0.0,0.000129,0.504,0.0,0.000645,0.0876,4.56e-6,0.000465,0.0000461,0.0000619,0.00672,0.0000958,0.0,0.00161,0.0000314,0.0,0.0,0.0,0.0,0.0,0.0000979,0.0,0.0,0.00278,6.51e-6,0.0,0.0,9.31e-6,0.0,0.0,0.0000573,0.0,0.0000251,0.0,0.00446,0.0,0.00951,0.0,0.0,0.000202,0.000113,0.0,0.00201,0.0,0.0,0.00308,0.000124,0.00689,0.00157,0.0,0.000011,0.0000382,0.0,0.000341,0.0,1.6e-6,0.0,0.00042,3.69e-6,2.24e-6,0.0,2.66e-6,3.85e-6,8.83e-6,0.0,0.00089,0.000068,0.0000109,0.000233,0.0000125,0.00014,0.000154,0.0,0.0,0.0,2.34e-6,0.683,0.0000149,5.38e-6,0.0000114,0.0,0.0,0.00796,0.0,0.000134,0.0000472,2.97e-6,0.0000412,0.799,0.0,0.0000893,0.0185,0.0,7.01e-6,0.0,0.0000884,0.000142,0.000227,0.0,0.000121,0.0000368,0.0,0.0,0.0,0.0676,0.0,0.000238,0.0,0.0106,0.00247,0.108,0.0083,0.0000226,0.146,0.0,0.0,0.0,0.0000712,3.54e-6,0.0116,0.0,0.0,0.000247,0.227,0.00512,1.35e-6,0.0000298,0.0000212,0.000925,0.0,0.0042,0.0,0.0,0.0,0.00951,0.000316,0.0187,0.00863,0.0,0.0,0.661,0.0,2.95e-6,1.11e-6,2.09e-6,0.0,0.0000433,0.0000548,0.0746,0.065,0.00355,0.0,3.69e-6,0.0,0.0,0.0,0.0,6.04e-6,0.00203,0.0,8.83e-6,1.8e-6,0.0,8.14e-6,0.000126,0.0,0.00283,0.0,0.000549,4.4e-6,0.0,0.0,0.0,0.000164,0.0,7.74e-6,0.0,0.0,0.0,1.57e-6,0.000162,0.0,0.0,0.0,0.000175,0.00325,0.0,0.0,0.0,1.1e-6,0.00286,0.461,6.23e-6,1.83e-6,0.0,0.0,0.0,0.0362,0.00161,0.0014,0.00432,0.000042,0.0,0.0000165,0.0984,0.0,0.0,0.0,0.00669,0.0000619,0.0,0.0,0.0,3.7e-6,1.81e-6,0.0872,0.0000219,0.0,0.0123,0.0,0.0,1.5e-6,0.0000461,0.0,0.0,0.051,1.13e-6,5.39e-6,0.0,2.53e-6,0.0,5.37e-6,0.0000116,0.000307,0.0,0.0,0.0,3.74e-6,0.0,0.0,0.0,0.000122,0.0115,0.0,0.0,8.97e-6,4.31e-6,0.0,0.0,0.0,0.000606,0.0,0.0,0.00355,0.205,0.00482,0.0000149,5.62e-6,2.83e-6,0.0000357,0.00015,0.000512,0.0,0.0,0.0,0.0,0.00303,0.0,0.000244,0.0,4.95e-6,1.32e-6,0.0,0.0,0.0,0.00066,0.0,0.0,0.0,5.04e-6,0.0,0.00599,0.145,0.0,0.792,0.0,0.0,4.35e-6,0.0,0.0,0.0,2.06e-6,0.0,0.0,0.0,0.0,0.0,8.43e-6,0.0,0.0,2.19e-6,1.69e-6,0.000234,0.447,0.0,1.16e-6,0.0000449,0.00181,0.000247,0.0,1.89e-6,2.78e-6,0.201,0.712,0.0000467,0.0,0.63,0.0,0.0,0.0,0.0,1.57e-6,0.0,3.05e-6,4.65e-6,0.0000124,0.0000937,0.0,0.0,0.00275,0.0,0.000353,0.0,0.0,1.42e-6,0.0,0.166,0.00144,0.0,0.0,0.0,0.0,0.0,0.0000925,0.00118,0.0,0.0,0.0115,4.26e-6,0.0,0.0,0.106,0.0,0.0,0.0,0.0,0.0,3.3e-6,0.0,0.0,0.0,0.000415,0.0,0.0,0.000113,0.0,1.6e-6,0.0,0.0,0.000215,0.713,0.0,0.0,0.0,0.0,0.025,0.000532,0.0,0.0,1.2e-6,0.0,0.0,0.0,0.0,8.19e-6,1.75e-6,0.000052,0.0,6.24e-6,0.0,0.00057,0.0,2.05e-6,0.0,0.00156,0.219,0.00115,1.52e-6,0.000389,0.000025,0.591,1.77e-6,1.96e-6,0.000331,8.43e-6,0.0,2.63e-6,0.0,0.0,0.0494,1.42e-6,0.0,0.0,0.0346,0.0,0.0000645,0.000536,5.13e-6,0.0000404,0.0,0.0,0.0,0.000225,0.0,3.07e-6,0.0,0.0,0.0,0.00571,0.048,0.0,0.000744,0.0000857,0.00108,0.00051,0.0,0.0,0.0,0.0,0.0,1.49e-6,0.0,0.00118,0.0,0.0,0.0000786,0.0,0.0167,0.00183,5.21e-6,0.00224,0.0,0.0,3.3e-6,3.25e-6,0.0000325,0.0,0.0,0.0,0.000296,0.0,0.0,0.0331,0.0,0.0,0.000113,0.00492,0.0,0.00034,0.000366,0.0,0.0,0.00443,0.0,0.0,0.0,0.00077,0.000032,0.0000176,0.0000154,2.54e-6,0.00336,3.37e-6,0.161,0.00608,0.693,0.0,0.0,0.0000149,0.0222,2.87e-6,0.0000788,0.0,0.0,0.0,0.0000139,0.0,0.0,0.0,0.0,0.0,0.0,0.00233,0.0,0.0,0.0146,0.0,0.0,0.0,0.000308,0.0869,0.00076,0.000191,0.122,0.0,0.0,0.00697,0.0,0.0,4.92e-6,0.0,0.0,0.0,0.0,0.0,0.0,0.00128,0.0000375,0.0,0.000493,2.81e-6,6.17e-6,0.0,0.000294,0.00311,0.0,0.0,0.00859,0.0,0.0,0.00248,0.000502,0.0,6.15e-6,0.00109,0.0,0.0,0.0,0.0,0.0,0.0,0.000409,0.0,9e-6,0.0,0.0,0.000166,0.0,0.0,0.0,0.0,0.00682,0.00034,1.37e-6,0.0345,0.0,0.0,0.0603,0.473,1.35e-6,0.0,0.000309,0.0000942,0.0,0.0,0.0,5.46e-6,1.51e-6,0.0000507,0.00714,0.000108,0.000358,0.0,0.0,0.013,0.0,0.0,0.0000613,0.154,0.0,0.0,5.14e-6,0.0000494,0.0,0.00517,0.0000659,0.0,0.0,1.8e-6,0.0,0.0,0.00866,1.6e-6,0.0,0.0,0.0000118,0.0,0.0,1.11e-6,0.0,0.0000168,0.0,0.000012,0.0000122,0.00188,0.0,8.34e-6,0.000134,0.69,0.0,0.0,0.0,0.0,0.0,0.0,0.0,0.0,0.0,7.54e-6,0.0,0.0,0.0,0.000128,0.0,0.0,0.0,0.0,0.0,0.000127,3.88e-6,0.0,0.0,0.00428,0.0,8.59e-6,0.0,0.0,1.22e-6,0.00916,0.0,0.00197,0.0,0.0,0.00342,0.00855,0.0,0.000178,0.0,0.0,0.0,0.0,3.26e-6,0.0,0.0566,0.0,0.0,0.00011,0.000863,1.35e-6,0.0,0.0,0.0,0.0,0.0,0.0,0.000678,0.0,0.000426,0.0,0.00102,0.0,0.751,0.00112,0.0665,0.000814,0.000139,0.0,0.000552,0.0,0.035,0.21,0.0,0.0,0.000237,0.0,1.28e-6,0.0,0.0,0.0,0.129,0.0,0.0,0.029,1.64e-6,0.0003,0.0,0.0,0.0,0.0,0.0,0.0,1.59e-6,1.11e-6,0.00155,0.0000118,0.0,0.0,0.0,0.257,0.0000605,0.000221,0.0,0.0,0.0,0.0,7.38e-6,0.0,0.0,0.0,0.0,0.0,0.0,0.0,0.000161,0.0,0.0000205,0.0,3.8e-6,0.0,0.00392,0.0000452,0.000358,0.0,9.26e-6,0.0,0.0,0.0,0.0,4.85e-6,8.52e-6,0.0,0.0,0.0,0.0102,0.0147,0.0,0.0,0.00664,0.0,0.000356,0.0,0.0,0.0,0.0,0.00298,0.0000113,0.0,0.0,0.0,0.0,0.0,0.0000175,0.0,0.0,0.0,0.0,8.85e-6,0.0,0.0,0.0,0.0,0.0,0.0,0.000139,0.0,0.00672,8.02e-6,0.00413,0.0,0.0,0.00696,0.0,0.0000692,0.0000346,0.0,0.0,0.812,0.0,0.0,0.000405,0.0,0.127,0.0,0.0,0.0,0.000052,0.00202,0.0,0.0000734,0.00701,0.0,0.0,0.0000774,0.0,2.7e-6,0.0000302,0.0,0.0,0.0,0.0,0.0,0.0,0.0,0.0,0.148,0.0,0.0,0.0,0.5,0.0,0.0000745,5.16e-6,0.000268,0.0,0.0049,0.00268,0.0,0.0,0.0,0.000482,0.0,0.0000239,0.0218,0.0373,0.0,0.0,5.61e-6,3.09e-6,0.0,0.0,0.0,0.0,0.000565,0.0,3.23e-6,0.0104,0.0,0.000356,0.000012,0.0,0.0,0.0,0.00129,0.0,0.0,0.0,0.0,0.0,0.000188,0.0,0.0000243,0.00042,0.0,0.0,1.64e-6,0.0,0.000616,0.0,0.0,0.000249,0.000381,2.43e-6,0.0,0.117,0.0000217,0.0,7.13e-6,0.0000426,0.0,0.0000212,0.0,0.0000186,0.0000728,0.00171,0.0162,0.0,0.0,9.35e-6,0.0,0.0,0.0,0.0,0.0,0.0000524,0.0,1.45e-6,0.0,0.0,0.0,0.0,0.925,0.0,4.82e-6,0.000427,0.0,0.0,0.0,0.0,0.0,0.0,0.0,0.0,0.0,0.0,0.0,0.0,0.0,0.0,1.01e-6,0.5,0.0172,0.0,0.0,0.00989,0.0,0.0,7.52e-6,0.0,0.0,0.0000647,0.149,0.105,0.0000713,0.0,0.0,0.064,0.00165,0.0,0.0,0.0,0.0,3.39e-6,0.0,0.0,0.0,0.0,8.18e-6,0.0000882,0.0104,0.0,0.0,0.000115,0.0,0.0,0.0,0.0,0.0000246,0.0,0.0,0.0,0.0,0.0000319,0.0,0.0,0.0,0.0000524,0.00203,0.0,4.34e-6,0.0,0.0000107,0.0,0.00126,0.441,0.0,0.0,0.197,0.0,0.000176,0.0308,0.0,0.0186,0.0,0.0,0.894,0.0,0.0015,0.0,5.32e-6,0.0,2.77e-6,8.46e-6,0.0049,0.0,0.0,0.0,0.0,0.0,0.0,0.0,0.0,0.0,0.0,0.000817,0.0812,0.0,0.0,0.0,0.0,0.0,0.0,0.0,0.0000114,0.0,0.0,0.0,0.0,0.0,0.0000943,0.0000111,0.0,1.23e-6,0.000425,0.0,0.0,0.0,0.0,0.0,0.0,0.0,0.0,1.43e-6,0.0,0.0,0.0,0.0,3.03e-6,6.81e-6,0.0,0.0,0.0,0.0,0.0,0.0000142,0.0,0.0,7.74e-6,0.0,0.0,0.0,2.34e-6,0.0,0.0,0.0,0.0000382,0.000186,0.0,0.0,0.0,5.26e-6,0.225,0.0,0.0,0.0,0.0,0.0,0.0,0.0,0.0,0.000283,0.0,0.000478,0.00016,0.0000566,0.00137,0.000034,0.0,0.00162,0.0,0.0,0.00118,0.0,0.0,0.0,0.0,3.8e-6,0.0,0.0186,3.58e-6,0.0,0.00327,0.0,0.0,6.71e-6,0.0,0.00792,0.0,0.0000189,1.4e-6,0.0,0.0,0.0,0.0000875,0.0000431,1.66e-6,0.0,0.0,0.0,5.51e-6,0.0,0.0,0.00167,0.000123,0.00138,0.000108,0.0,1.16e-6,0.0,0.0000171,0.000307,0.0,0.0,0.00431,0.0127,0.0,0.0,0.0,0.0,0.0,0.0,5.11e-6,0.0,0.493,4.06e-6,0.115,0.000353,3.85e-6,2.36e-6,0.0,0.0,0.0,0.0,0.0,0.0,0.0,0.0,0.0139,0.0,0.0,1.49e-6,0.0162,0.0,0.0,0.0,0.0103,0.0000157,0.0,0.0,0.0,0.0,5.23e-6,0.000215,0.000961,0.00138,2.28e-6,0.0000766,5.3e-6,0.0,0.000921,0.0,0.0,0.0204,0.0,0.0,0.0000322,0.0,0.0,0.0,7.82e-6,4.09e-6,0.0000269,0.0,0.000058,0.00058,0.0,0.0,0.000125,0.0,0.0,0.0,0.0,0.828,0.00286,0.0,0.0000191,0.0,0.0,4.07e-6,0.0001,0.00412,0.00012,0.0,0.0,0.0,0.0223,0.0000134,0.0000196,0.00703,2.79e-6,0.901,0.0,0.0000875,2.22e-6,0.000503,0.00771,0.0,0.0,0.0,0.00198,0.15,0.0,2.25e-6,0.0,0.0,0.0,0.0,0.0,0.0,0.0,0.0,1.91e-6,0.0,0.0,0.0562,0.000168,0.0,0.0,0.000133,0.00144,6.98e-6,0.0,3.87e-6,0.0391,0.0000106,0.0000945,0.015,0.0,0.0,0.0,0.000879,0.0,0.0,0.0000612,2.64e-6,0.0,0.000182,1.96e-6,0.0,0.0,0.0000122,0.000556,0.0,0.0,0.0,0.0000178,0.000108,0.0012,0.0,0.0,1.07e-6,0.0000896,0.0,6.86e-6,0.0,0.0000165,0.0,0.0,0.0,0.0000766,0.0,0.0,0.445,0.0,0.000596,0.00111,0.0177,0.0,0.0173,0.0,0.0000113,0.0000527,0.0,0.0,0.00021,0.0,0.000215,1.79e-6,0.0,6.53e-6,0.0,0.0000164,3.32e-6,0.0,0.0000667,0.00025,0.0,2.25e-6,0.000263,0.00959,0.0202,0.0000624,0.0,0.0,0.0,0.0,0.00182,0.0,0.0,0.609,0.00183,0.0,0.00553,0.000112,0.0,0.0,0.0,0.0,0.0,0.000225,8.73e-6,6.6e-6,0.0,0.000412,8.59e-6,0.0000384,0.0,0.0,0.0,0.0,0.0,0.0,0.0,0.00114,2.77e-6,0.0,0.0000724,0.0,0.0,0.000203,0.0,0.000643,0.000034,0.0,0.0,0.0,0.0,0.0013,0.0,0.0,0.0000612,0.0,0.0,0.0,0.0,0.0,7.38e-6,0.0,0.0,0.0000639,0.0,0.0000607,0.0,0.119,2.87e-6,3.88e-6,0.000386,0.0000659,0.0000115,2.46e-6,0.0,0.0,0.0186,0.0,0.72,6.16e-6,0.0,0.000914,0.0000115,0.0,7.43e-6,0.0,7.78e-6,0.00574,0.128,0.0,0.0,1.81e-6,0.043,0.0,1.58e-6,0.0000359,6.34e-6,8.77e-6,0.0,0.0,0.0569,0.0014,0.0000997,0.00696,0.0,0.0000435,0.0,0.0,1.37e-6,0.0,0.0,0.000868,0.000204,0.0,0.0,3.65e-6,0.0000464,0.0,0.00784,0.0128,0.00258,0.0,0.0000945,8.83e-6,0.000304,0.0,1.5e-6,0.0,0.0,0.0,0.0,0.0,0.0,1.22e-6,0.0,0.00264,0.0,0.00197,2.03e-6,0.0,0.0000148,0.0,0.0,0.0,8.21e-6,0.0000125,0.0,0.00104,0.0,8.66e-6,0.0,0.0,0.0013,0.0,0.000295,0.0,0.0,0.0,0.0000815,0.0,1.03e-6,0.00142,0.00123,0.0,0.0,0.0,0.0,0.000183,0.0,0.0,0.149,0.0,0.0,2.46e-6,0.0000192,3.78e-6,0.0,0.00534,0.0,0.00169,0.0901,0.0,0.0,0.00099,0.0000783,0.0000229,7.04e-6,0.000162,0.0000217,0.000833,0.00409,0.0,0.000197,0.0056,0.0,0.0,0.00193,1.94e-6,0.0,0.0,0.000148,0.0,0.000139,0.0127,0.0,0.0,0.0,0.0,0.0,0.0,0.0,0.0,0.0,0.00788,9.86e-6,0.0,0.00019,0.0000587,1.04e-6,0.0,0.0,0.0,1.31e-6,0.0597,0.0,0.0,0.00678,0.0,0.0,0.0,0.00258,0.0,2.57e-6,0.00719,0.0,0.0,0.0000317,0.0,0.809,0.0,0.0,0.0,4.21e-6,4.11e-6,0.0,0.0,0.0000194,8.11e-6,0.0,0.0016,0.0013,0.0,1.65e-6,0.0,0.0,0.0,1.03e-6,0.0,3.49e-6,0.0018,0.0,0.0,0.0,1.68e-6,0.0654,2.01e-6,0.0,0.0,6.92e-6,0.0,0.0,0.0000194,0.0,0.0,0.0000581,0.0,0.0,0.0000358,0.282,0.00762,0.00508,0.0000118,0.00261,0.0,0.0,1.61e-6,0.0,0.0,7.97e-6,6.71e-6,0.0000263,0.119,8.42e-6,0.0,0.0,0.0,0.0155,0.0,0.0,0.0000369,0.000157,0.0,0.0,0.0,0.0,0.0,0.000144,0.0,9.86e-6,1.81e-6,0.000119,1.75e-6,0.0,6.5e-6,0.000175,0.0000481,2.79e-6,0.0597,0.0,0.0972,0.0,0.0025,0.0,3.94e-6,2.16e-6,0.0,0.0,0.0,4.78e-6,0.0,0.0,0.0,0.0,0.0,0.00377,0.0,0.0,0.0,1.5e-6,0.0,0.0,0.0,0.0,0.000479,0.00132,0.0,5.91e-6,0.0,0.0,0.0,3.27e-6,0.0,0.0000795,4.44e-6,8.23e-6,0.000198,0.0000457,0.0000488,0.0,0.0,0.0,0.0,0.0,0.000038,0.21,0.0,0.0000144,0.0,0.000855,0.0,0.00239,0.0219,0.0,0.0,9.82e-6,0.0,0.0,0.0101,7e-6,0.0,1.32e-6,0.0000134,0.0,0.0,0.0,0.0,0.0,0.0,0.0,0.00099,0.0,0.0,0.0,0.0,0.000157,0.0,0.0000933,0.0000323,6.81e-6,0.0000312,0.0000831,0.0,0.0,5.25e-6,0.0,0.0000141,0.0,0.0000991,0.0,0.0,4.13e-6,0.0,0.0,0.0,0.0,0.0,0.0,0.0,0.0,0.0,0.0,0.0,0.0000111,0.0,0.0,0.0,0.0,0.0,0.0,0.0000329,0.0,0.0,0.0,0.0,0.0,0.132,0.0000259,1.03e-6,0.0,0.085,0.0,0.000013,0.0,0.000887,0.000611,0.0,0.00484,0.0,0.0,0.0,1.66e-6,0.0,0.0,0.0000212,0.0,0.0,0.0,0.0,0.0000829,0.0000701,0.0000505,0.0,0.000011,0.0,0.0,0.0,0.0,0.00404,3.11e-6,0.00986,0.0000219,0.0,0.0,0.0,4.82e-6,0.0,0.0000217,0.0,2.6e-6,0.0000666,0.0126,0.0,0.0,0.0000128,0.0,0.00106,0.00372,0.0000293,0.0,0.0,0.000157,0.0,0.0,0.0,0.000194,0.0,0.0,0.00006,0.0,0.0000186,0.0000129,0.181,0.0,0.0,1.78e-6,0.0,4.96e-6,0.0,0.0000944,0.0,0.0,0.0,0.0000147,0.0,0.0,0.0,3.8e-6,0.0,3.49e-6,0.0,0.0000586,0.0,0.0,0.0,0.0,0.0,0.0,0.00006,0.0,2.38e-6,0.0,0.0,0.0,0.127,0.0,0.0,0.0,0.0,0.0,0.0,0.0,0.0,0.0545,0.0,0.0,0.000637,0.0,0.0,0.00107,2.77e-6,0.0,2.55e-6,0.0,0.0,0.0,0.000097,0.0,0.0,0.0,0.13,0.0,0.0,0.0,0.000927,9.11e-6,0.0000643,0.0,1.36e-6,0.0,0.0,0.0,0.0,0.0,1.94e-6,0.0,0.00182,4.24e-6,0.00016,0.0,0.0,0.0,0.00402,4.82e-6,0.0,0.0,0.0,0.0,0.0,3.01e-6,2.23e-6,0.0,1.78e-6,0.0,0.0,0.0,0.0,0.0,0.0,0.000496,0.0,0.0,0.00125,0.0,0.000289,0.00282,0.0,0.0,0.0,0.0,0.0,0.0,0.0000162,0.000503,0.0,0.0,0.00116,0.000104,0.0,2.12e-6,0.0,0.0,0.0,0.0,0.391,0.0,0.0,0.0,0.162,0.0,0.000872,0.0,0.0,0.0,5.98e-6,0.0,0.0,0.0,1.96e-6,0.00853,0.0,0.0,0.000159,0.0,0.0,0.0,0.0,0.0,0.0,0.0,0.0000916,1.21e-6,0.000802,0.0,0.0,0.0000206,0.0,1.97e-6,0.00244],\"xaxis\":\"x\",\"yaxis\":\"y\",\"type\":\"histogram\"}],                        {\"barmode\":\"relative\",\"legend\":{\"tracegroupgap\":0},\"template\":{\"data\":{\"barpolar\":[{\"marker\":{\"line\":{\"color\":\"rgb(17,17,17)\",\"width\":0.5},\"pattern\":{\"fillmode\":\"overlay\",\"size\":10,\"solidity\":0.2}},\"type\":\"barpolar\"}],\"bar\":[{\"error_x\":{\"color\":\"#f2f5fa\"},\"error_y\":{\"color\":\"#f2f5fa\"},\"marker\":{\"line\":{\"color\":\"rgb(17,17,17)\",\"width\":0.5},\"pattern\":{\"fillmode\":\"overlay\",\"size\":10,\"solidity\":0.2}},\"type\":\"bar\"}],\"carpet\":[{\"aaxis\":{\"endlinecolor\":\"#A2B1C6\",\"gridcolor\":\"#506784\",\"linecolor\":\"#506784\",\"minorgridcolor\":\"#506784\",\"startlinecolor\":\"#A2B1C6\"},\"baxis\":{\"endlinecolor\":\"#A2B1C6\",\"gridcolor\":\"#506784\",\"linecolor\":\"#506784\",\"minorgridcolor\":\"#506784\",\"startlinecolor\":\"#A2B1C6\"},\"type\":\"carpet\"}],\"choropleth\":[{\"colorbar\":{\"outlinewidth\":0,\"ticks\":\"\"},\"type\":\"choropleth\"}],\"contourcarpet\":[{\"colorbar\":{\"outlinewidth\":0,\"ticks\":\"\"},\"type\":\"contourcarpet\"}],\"contour\":[{\"colorbar\":{\"outlinewidth\":0,\"ticks\":\"\"},\"colorscale\":[[0.0,\"#0d0887\"],[0.1111111111111111,\"#46039f\"],[0.2222222222222222,\"#7201a8\"],[0.3333333333333333,\"#9c179e\"],[0.4444444444444444,\"#bd3786\"],[0.5555555555555556,\"#d8576b\"],[0.6666666666666666,\"#ed7953\"],[0.7777777777777778,\"#fb9f3a\"],[0.8888888888888888,\"#fdca26\"],[1.0,\"#f0f921\"]],\"type\":\"contour\"}],\"heatmapgl\":[{\"colorbar\":{\"outlinewidth\":0,\"ticks\":\"\"},\"colorscale\":[[0.0,\"#0d0887\"],[0.1111111111111111,\"#46039f\"],[0.2222222222222222,\"#7201a8\"],[0.3333333333333333,\"#9c179e\"],[0.4444444444444444,\"#bd3786\"],[0.5555555555555556,\"#d8576b\"],[0.6666666666666666,\"#ed7953\"],[0.7777777777777778,\"#fb9f3a\"],[0.8888888888888888,\"#fdca26\"],[1.0,\"#f0f921\"]],\"type\":\"heatmapgl\"}],\"heatmap\":[{\"colorbar\":{\"outlinewidth\":0,\"ticks\":\"\"},\"colorscale\":[[0.0,\"#0d0887\"],[0.1111111111111111,\"#46039f\"],[0.2222222222222222,\"#7201a8\"],[0.3333333333333333,\"#9c179e\"],[0.4444444444444444,\"#bd3786\"],[0.5555555555555556,\"#d8576b\"],[0.6666666666666666,\"#ed7953\"],[0.7777777777777778,\"#fb9f3a\"],[0.8888888888888888,\"#fdca26\"],[1.0,\"#f0f921\"]],\"type\":\"heatmap\"}],\"histogram2dcontour\":[{\"colorbar\":{\"outlinewidth\":0,\"ticks\":\"\"},\"colorscale\":[[0.0,\"#0d0887\"],[0.1111111111111111,\"#46039f\"],[0.2222222222222222,\"#7201a8\"],[0.3333333333333333,\"#9c179e\"],[0.4444444444444444,\"#bd3786\"],[0.5555555555555556,\"#d8576b\"],[0.6666666666666666,\"#ed7953\"],[0.7777777777777778,\"#fb9f3a\"],[0.8888888888888888,\"#fdca26\"],[1.0,\"#f0f921\"]],\"type\":\"histogram2dcontour\"}],\"histogram2d\":[{\"colorbar\":{\"outlinewidth\":0,\"ticks\":\"\"},\"colorscale\":[[0.0,\"#0d0887\"],[0.1111111111111111,\"#46039f\"],[0.2222222222222222,\"#7201a8\"],[0.3333333333333333,\"#9c179e\"],[0.4444444444444444,\"#bd3786\"],[0.5555555555555556,\"#d8576b\"],[0.6666666666666666,\"#ed7953\"],[0.7777777777777778,\"#fb9f3a\"],[0.8888888888888888,\"#fdca26\"],[1.0,\"#f0f921\"]],\"type\":\"histogram2d\"}],\"histogram\":[{\"marker\":{\"pattern\":{\"fillmode\":\"overlay\",\"size\":10,\"solidity\":0.2}},\"type\":\"histogram\"}],\"mesh3d\":[{\"colorbar\":{\"outlinewidth\":0,\"ticks\":\"\"},\"type\":\"mesh3d\"}],\"parcoords\":[{\"line\":{\"colorbar\":{\"outlinewidth\":0,\"ticks\":\"\"}},\"type\":\"parcoords\"}],\"pie\":[{\"automargin\":true,\"type\":\"pie\"}],\"scatter3d\":[{\"line\":{\"colorbar\":{\"outlinewidth\":0,\"ticks\":\"\"}},\"marker\":{\"colorbar\":{\"outlinewidth\":0,\"ticks\":\"\"}},\"type\":\"scatter3d\"}],\"scattercarpet\":[{\"marker\":{\"colorbar\":{\"outlinewidth\":0,\"ticks\":\"\"}},\"type\":\"scattercarpet\"}],\"scattergeo\":[{\"marker\":{\"colorbar\":{\"outlinewidth\":0,\"ticks\":\"\"}},\"type\":\"scattergeo\"}],\"scattergl\":[{\"marker\":{\"line\":{\"color\":\"#283442\"}},\"type\":\"scattergl\"}],\"scattermapbox\":[{\"marker\":{\"colorbar\":{\"outlinewidth\":0,\"ticks\":\"\"}},\"type\":\"scattermapbox\"}],\"scatterpolargl\":[{\"marker\":{\"colorbar\":{\"outlinewidth\":0,\"ticks\":\"\"}},\"type\":\"scatterpolargl\"}],\"scatterpolar\":[{\"marker\":{\"colorbar\":{\"outlinewidth\":0,\"ticks\":\"\"}},\"type\":\"scatterpolar\"}],\"scatter\":[{\"marker\":{\"line\":{\"color\":\"#283442\"}},\"type\":\"scatter\"}],\"scatterternary\":[{\"marker\":{\"colorbar\":{\"outlinewidth\":0,\"ticks\":\"\"}},\"type\":\"scatterternary\"}],\"surface\":[{\"colorbar\":{\"outlinewidth\":0,\"ticks\":\"\"},\"colorscale\":[[0.0,\"#0d0887\"],[0.1111111111111111,\"#46039f\"],[0.2222222222222222,\"#7201a8\"],[0.3333333333333333,\"#9c179e\"],[0.4444444444444444,\"#bd3786\"],[0.5555555555555556,\"#d8576b\"],[0.6666666666666666,\"#ed7953\"],[0.7777777777777778,\"#fb9f3a\"],[0.8888888888888888,\"#fdca26\"],[1.0,\"#f0f921\"]],\"type\":\"surface\"}],\"table\":[{\"cells\":{\"fill\":{\"color\":\"#506784\"},\"line\":{\"color\":\"rgb(17,17,17)\"}},\"header\":{\"fill\":{\"color\":\"#2a3f5f\"},\"line\":{\"color\":\"rgb(17,17,17)\"}},\"type\":\"table\"}]},\"layout\":{\"annotationdefaults\":{\"arrowcolor\":\"#f2f5fa\",\"arrowhead\":0,\"arrowwidth\":1},\"autotypenumbers\":\"strict\",\"coloraxis\":{\"colorbar\":{\"outlinewidth\":0,\"ticks\":\"\"}},\"colorscale\":{\"diverging\":[[0,\"#8e0152\"],[0.1,\"#c51b7d\"],[0.2,\"#de77ae\"],[0.3,\"#f1b6da\"],[0.4,\"#fde0ef\"],[0.5,\"#f7f7f7\"],[0.6,\"#e6f5d0\"],[0.7,\"#b8e186\"],[0.8,\"#7fbc41\"],[0.9,\"#4d9221\"],[1,\"#276419\"]],\"sequential\":[[0.0,\"#0d0887\"],[0.1111111111111111,\"#46039f\"],[0.2222222222222222,\"#7201a8\"],[0.3333333333333333,\"#9c179e\"],[0.4444444444444444,\"#bd3786\"],[0.5555555555555556,\"#d8576b\"],[0.6666666666666666,\"#ed7953\"],[0.7777777777777778,\"#fb9f3a\"],[0.8888888888888888,\"#fdca26\"],[1.0,\"#f0f921\"]],\"sequentialminus\":[[0.0,\"#0d0887\"],[0.1111111111111111,\"#46039f\"],[0.2222222222222222,\"#7201a8\"],[0.3333333333333333,\"#9c179e\"],[0.4444444444444444,\"#bd3786\"],[0.5555555555555556,\"#d8576b\"],[0.6666666666666666,\"#ed7953\"],[0.7777777777777778,\"#fb9f3a\"],[0.8888888888888888,\"#fdca26\"],[1.0,\"#f0f921\"]]},\"colorway\":[\"#636efa\",\"#EF553B\",\"#00cc96\",\"#ab63fa\",\"#FFA15A\",\"#19d3f3\",\"#FF6692\",\"#B6E880\",\"#FF97FF\",\"#FECB52\"],\"font\":{\"color\":\"#f2f5fa\"},\"geo\":{\"bgcolor\":\"rgb(17,17,17)\",\"lakecolor\":\"rgb(17,17,17)\",\"landcolor\":\"rgb(17,17,17)\",\"showlakes\":true,\"showland\":true,\"subunitcolor\":\"#506784\"},\"hoverlabel\":{\"align\":\"left\"},\"hovermode\":\"closest\",\"mapbox\":{\"style\":\"dark\"},\"paper_bgcolor\":\"rgb(17,17,17)\",\"plot_bgcolor\":\"rgb(17,17,17)\",\"polar\":{\"angularaxis\":{\"gridcolor\":\"#506784\",\"linecolor\":\"#506784\",\"ticks\":\"\"},\"bgcolor\":\"rgb(17,17,17)\",\"radialaxis\":{\"gridcolor\":\"#506784\",\"linecolor\":\"#506784\",\"ticks\":\"\"}},\"scene\":{\"xaxis\":{\"backgroundcolor\":\"rgb(17,17,17)\",\"gridcolor\":\"#506784\",\"gridwidth\":2,\"linecolor\":\"#506784\",\"showbackground\":true,\"ticks\":\"\",\"zerolinecolor\":\"#C8D4E3\"},\"yaxis\":{\"backgroundcolor\":\"rgb(17,17,17)\",\"gridcolor\":\"#506784\",\"gridwidth\":2,\"linecolor\":\"#506784\",\"showbackground\":true,\"ticks\":\"\",\"zerolinecolor\":\"#C8D4E3\"},\"zaxis\":{\"backgroundcolor\":\"rgb(17,17,17)\",\"gridcolor\":\"#506784\",\"gridwidth\":2,\"linecolor\":\"#506784\",\"showbackground\":true,\"ticks\":\"\",\"zerolinecolor\":\"#C8D4E3\"}},\"shapedefaults\":{\"line\":{\"color\":\"#f2f5fa\"}},\"sliderdefaults\":{\"bgcolor\":\"#C8D4E3\",\"bordercolor\":\"rgb(17,17,17)\",\"borderwidth\":1,\"tickwidth\":0},\"ternary\":{\"aaxis\":{\"gridcolor\":\"#506784\",\"linecolor\":\"#506784\",\"ticks\":\"\"},\"baxis\":{\"gridcolor\":\"#506784\",\"linecolor\":\"#506784\",\"ticks\":\"\"},\"bgcolor\":\"rgb(17,17,17)\",\"caxis\":{\"gridcolor\":\"#506784\",\"linecolor\":\"#506784\",\"ticks\":\"\"}},\"title\":{\"x\":0.05},\"updatemenudefaults\":{\"bgcolor\":\"#506784\",\"borderwidth\":0},\"xaxis\":{\"automargin\":true,\"gridcolor\":\"#283442\",\"linecolor\":\"#506784\",\"ticks\":\"\",\"title\":{\"standoff\":15},\"zerolinecolor\":\"#283442\",\"zerolinewidth\":2},\"yaxis\":{\"automargin\":true,\"gridcolor\":\"#283442\",\"linecolor\":\"#506784\",\"ticks\":\"\",\"title\":{\"standoff\":15},\"zerolinecolor\":\"#283442\",\"zerolinewidth\":2}}},\"title\":{\"text\":\"instrumentalness distribution in top hits\"},\"xaxis\":{\"anchor\":\"y\",\"domain\":[0.0,1.0],\"title\":{\"text\":\"instrumentalness\"}},\"yaxis\":{\"anchor\":\"x\",\"domain\":[0.0,1.0],\"title\":{\"text\":\"count\"}}},                        {\"responsive\": true}                    ).then(function(){\n",
       "                            \n",
       "var gd = document.getElementById('9f0ad1e1-089c-46a9-9924-48d93a6d95d0');\n",
       "var x = new MutationObserver(function (mutations, observer) {{\n",
       "        var display = window.getComputedStyle(gd).display;\n",
       "        if (!display || display === 'none') {{\n",
       "            console.log([gd, 'removed!']);\n",
       "            Plotly.purge(gd);\n",
       "            observer.disconnect();\n",
       "        }}\n",
       "}});\n",
       "\n",
       "// Listen for the removal of the full notebook cells\n",
       "var notebookContainer = gd.closest('#notebook-container');\n",
       "if (notebookContainer) {{\n",
       "    x.observe(notebookContainer, {childList: true});\n",
       "}}\n",
       "\n",
       "// Listen for the clearing of the current output cell\n",
       "var outputEl = gd.closest('.output');\n",
       "if (outputEl) {{\n",
       "    x.observe(outputEl, {childList: true});\n",
       "}}\n",
       "\n",
       "                        })                };                });            </script>        </div>"
      ]
     },
     "metadata": {},
     "output_type": "display_data"
    },
    {
     "data": {
      "text/html": [
       "<div>                            <div id=\"14723781-7293-479c-a59b-8537529935c5\" class=\"plotly-graph-div\" style=\"height:525px; width:100%;\"></div>            <script type=\"text/javascript\">                require([\"plotly\"], function(Plotly) {                    window.PLOTLYENV=window.PLOTLYENV || {};                                    if (document.getElementById(\"14723781-7293-479c-a59b-8537529935c5\")) {                    Plotly.newPlot(                        \"14723781-7293-479c-a59b-8537529935c5\",                        [{\"alignmentgroup\":\"True\",\"bingroup\":\"x\",\"hovertemplate\":\"valence=%{x}\\u003cbr\\u003ecount=%{y}\\u003cextra\\u003e\\u003c\\u002fextra\\u003e\",\"legendgroup\":\"\",\"marker\":{\"color\":\"rgb(118, 78, 159)\",\"pattern\":{\"shape\":\"\"}},\"name\":\"\",\"offsetgroup\":\"\",\"orientation\":\"v\",\"showlegend\":false,\"x\":[0.894,0.684,0.278,0.544,0.879,0.714,0.76,0.861,0.734,0.869,0.808,0.96,0.568,0.147,0.398,0.731,0.649,0.782,0.825,0.309,0.4,0.932,0.558,0.758,0.0783,0.512,0.587,0.817,0.546,0.53,0.53,0.74,0.871,0.927,0.686,0.868,0.631,0.942,0.564,0.643,0.542,0.766,0.934,0.621,0.527,0.683,0.774,0.348,0.8,0.726,0.801,0.858,0.508,0.272,0.801,0.148,0.784,0.868,0.626,0.628,0.834,0.694,0.373,0.827,0.298,0.591,0.513,0.852,0.888,0.68,0.433,0.668,0.973,0.862,0.961,0.683,0.577,0.543,0.224,0.666,0.332,0.453,0.213,0.328,0.407,0.927,0.882,0.578,0.741,0.527,0.631,0.518,0.141,0.768,0.599,0.633,0.779,0.431,0.966,0.565,0.654,0.619,0.507,0.964,0.653,0.607,0.871,0.903,0.497,0.604,0.667,0.963,0.709,0.57,0.969,0.61,0.709,0.38,0.601,0.911,0.233,0.931,0.669,0.609,0.955,0.897,0.621,0.556,0.543,0.476,0.613,0.79,0.821,0.762,0.677,0.517,0.895,0.74,0.59,0.822,0.45,0.525,0.375,0.206,0.64,0.685,0.904,0.716,0.768,0.547,0.695,0.87,0.884,0.754,0.866,0.679,0.701,0.408,0.86,0.849,0.91,0.827,0.65,0.786,0.96,0.646,0.51,0.213,0.17,0.829,0.637,0.347,0.678,0.789,0.941,0.275,0.73,0.567,0.636,0.927,0.764,0.554,0.339,0.818,0.199,0.844,0.613,0.631,0.722,0.586,0.259,0.697,0.496,0.77,0.484,0.0824,0.761,0.423,0.5,0.502,0.607,0.662,0.427,0.268,0.371,0.362,0.839,0.367,0.518,0.1,0.779,0.825,0.491,0.774,0.7,0.4,0.868,0.418,0.554,0.749,0.537,0.748,0.304,0.845,0.493,0.905,0.74,0.609,0.854,0.56,0.195,0.118,0.827,0.191,0.71,0.775,0.631,0.912,0.654,0.436,0.908,0.387,0.309,0.919,0.742,0.844,0.721,0.875,0.418,0.923,0.567,0.519,0.48,0.742,0.208,0.761,0.784,0.746,0.46,0.863,0.9,0.533,0.572,0.87,0.695,0.336,0.96,0.495,0.924,0.255,0.584,0.27,0.56,0.257,0.839,0.707,0.484,0.601,0.418,0.828,0.198,0.717,0.665,0.858,0.677,0.52,0.806,0.202,0.221,0.584,0.892,0.502,0.17,0.652,0.27,0.868,0.499,0.193,0.717,0.615,0.777,0.726,0.0596,0.681,0.827,0.828,0.96,0.561,0.381,0.339,0.518,0.942,0.651,0.327,0.848,0.824,0.594,0.673,0.296,0.962,0.808,0.453,0.12,0.889,0.535,0.511,0.85,0.442,0.514,0.817,0.313,0.518,0.791,0.502,0.538,0.597,0.848,0.509,0.534,0.917,0.777,0.88,0.907,0.648,0.629,0.0902,0.459,0.873,0.759,0.891,0.185,0.935,0.722,0.895,0.618,0.439,0.795,0.51,0.45,0.199,0.963,0.428,0.319,0.511,0.908,0.801,0.694,0.374,0.525,0.564,0.376,0.783,0.352,0.887,0.255,0.477,0.584,0.849,0.846,0.516,0.59,0.513,0.446,0.586,0.294,0.966,0.948,0.811,0.592,0.433,0.429,0.635,0.58,0.556,0.27,0.609,0.317,0.77,0.208,0.383,0.583,0.809,0.924,0.965,0.0681,0.325,0.753,0.797,0.672,0.695,0.47,0.731,0.278,0.75,0.385,0.643,0.243,0.429,0.354,0.844,0.619,0.4,0.545,0.447,0.872,0.962,0.465,0.35,0.88,0.619,0.877,0.535,0.662,0.645,0.973,0.177,0.846,0.933,0.322,0.886,0.759,0.581,0.464,0.612,0.695,0.962,0.459,0.676,0.756,0.659,0.547,0.313,0.875,0.962,0.587,0.802,0.418,0.777,0.8,0.114,0.632,0.527,0.654,0.889,0.792,0.715,0.101,0.642,0.639,0.783,0.484,0.611,0.769,0.75,0.788,0.279,0.66,0.501,0.702,0.74,0.294,0.575,0.536,0.233,0.434,0.819,0.106,0.676,0.448,0.667,0.895,0.89,0.635,0.697,0.605,0.398,0.304,0.772,0.383,0.249,0.767,0.556,0.623,0.498,0.755,0.454,0.506,0.549,0.52,0.666,0.405,0.527,0.786,0.676,0.86,0.722,0.365,0.88,0.71,0.637,0.212,0.836,0.586,0.357,0.557,0.749,0.362,0.751,0.435,0.772,0.604,0.619,0.777,0.814,0.08,0.254,0.812,0.966,0.666,0.828,0.586,0.659,0.622,0.81,0.858,0.316,0.626,0.165,0.189,0.379,0.676,0.52,0.904,0.801,0.891,0.184,0.79,0.309,0.904,0.507,0.289,0.687,0.663,0.572,0.344,0.532,0.386,0.595,0.478,0.504,0.577,0.425,0.604,0.172,0.602,0.484,0.778,0.14,0.611,0.41,0.805,0.15,0.491,0.385,0.166,0.464,0.382,0.369,0.305,0.398,0.464,0.353,0.664,0.556,0.382,0.346,0.462,0.646,0.801,0.369,0.758,0.822,0.964,0.509,0.777,0.527,0.64,0.442,0.787,0.902,0.386,0.443,0.835,0.744,0.868,0.518,0.718,0.477,0.629,0.534,0.794,0.782,0.444,0.839,0.739,0.329,0.55,0.626,0.758,0.645,0.609,0.182,0.808,0.522,0.84,0.372,0.633,0.493,0.622,0.48,0.355,0.566,0.75,0.779,0.554,0.806,0.673,0.879,0.349,0.554,0.6,0.328,0.587,0.293,0.449,0.167,0.332,0.612,0.294,0.778,0.407,0.594,0.883,0.318,0.733,0.494,0.685,0.269,0.609,0.734,0.33,0.73,0.845,0.58,0.238,0.537,0.586,0.25,0.382,0.672,0.273,0.511,0.172,0.816,0.735,0.512,0.917,0.629,0.149,0.578,0.501,0.361,0.719,0.236,0.686,0.462,0.591,0.57,0.46,0.737,0.225,0.575,0.382,0.253,0.896,0.298,0.432,0.73,0.765,0.809,0.715,0.312,0.961,0.932,0.815,0.418,0.324,0.491,0.425,0.49,0.418,0.821,0.352,0.803,0.767,0.886,0.74,0.674,0.102,0.724,0.287,0.972,0.551,0.68,0.861,0.477,0.485,0.562,0.607,0.372,0.463,0.808,0.565,0.596,0.856,0.942,0.585,0.669,0.828,0.413,0.706,0.703,0.713,0.405,0.714,0.831,0.821,0.688,0.693,0.588,0.852,0.572,0.378,0.773,0.439,0.706,0.877,0.413,0.881,0.408,0.731,0.254,0.645,0.365,0.26,0.448,0.346,0.743,0.483,0.464,0.669,0.72,0.769,0.34,0.768,0.29,0.656,0.594,0.378,0.168,0.433,0.587,0.396,0.352,0.529,0.505,0.348,0.723,0.599,0.815,0.304,0.696,0.572,0.167,0.101,0.727,0.655,0.427,0.807,0.445,0.961,0.722,0.483,0.85,0.45,0.354,0.43,0.767,0.861,0.542,0.504,0.607,0.235,0.836,0.623,0.272,0.972,0.368,0.449,0.803,0.782,0.478,0.576,0.773,0.305,0.801,0.553,0.551,0.861,0.845,0.792,0.585,0.386,0.617,0.452,0.634,0.682,0.601,0.918,0.512,0.527,0.215,0.382,0.818,0.462,0.112,0.418,0.485,0.282,0.851,0.84,0.172,0.887,0.702,0.603,0.0406,0.755,0.346,0.42,0.937,0.959,0.807,0.321,0.0923,0.79,0.467,0.611,0.251,0.0942,0.588,0.691,0.417,0.374,0.487,0.964,0.487,0.447,0.684,0.547,0.11,0.926,0.659,0.762,0.807,0.472,0.438,0.329,0.549,0.452,0.0756,0.61,0.787,0.472,0.801,0.705,0.306,0.761,0.761,0.844,0.692,0.558,0.4,0.654,0.803,0.745,0.544,0.8,0.369,0.788,0.716,0.402,0.867,0.397,0.811,0.65,0.446,0.898,0.38,0.434,0.441,0.714,0.478,0.67,0.74,0.874,0.265,0.489,0.152,0.683,0.0949,0.498,0.727,0.795,0.391,0.407,0.747,0.589,0.968,0.514,0.879,0.452,0.629,0.636,0.475,0.54,0.875,0.112,0.442,0.696,0.711,0.948,0.47,0.888,0.716,0.628,0.568,0.682,0.179,0.435,0.762,0.362,0.905,0.411,0.205,0.321,0.467,0.855,0.272,0.412,0.627,0.376,0.656,0.58,0.262,0.522,0.374,0.605,0.294,0.47,0.37,0.691,0.416,0.645,0.445,0.182,0.664,0.59,0.424,0.455,0.4,0.424,0.641,0.714,0.714,0.714,0.375,0.816,0.611,0.425,0.74,0.599,0.778,0.45,0.506,0.773,0.751,0.272,0.295,0.586,0.568,0.412,0.237,0.668,0.36,0.812,0.494,0.263,0.436,0.567,0.636,0.217,0.654,0.195,0.473,0.828,0.361,0.534,0.0784,0.743,0.625,0.716,0.737,0.163,0.532,0.457,0.329,0.394,0.73,0.52,0.326,0.726,0.683,0.557,0.827,0.535,0.512,0.658,0.717,0.418,0.519,0.277,0.851,0.957,0.377,0.757,0.103,0.583,0.539,0.138,0.81,0.711,0.433,0.657,0.815,0.596,0.803,0.352,0.463,0.783,0.756,0.596,0.738,0.578,0.841,0.103,0.557,0.743,0.591,0.553,0.659,0.472,0.142,0.316,0.286,0.739,0.94,0.447,0.261,0.362,0.787,0.507,0.624,0.352,0.648,0.245,0.762,0.797,0.933,0.575,0.833,0.812,0.731,0.746,0.794,0.188,0.262,0.552,0.285,0.53,0.922,0.538,0.76,0.787,0.796,0.586,0.321,0.594,0.701,0.876,0.795,0.748,0.375,0.493,0.361,0.88,0.272,0.45,0.258,0.637,0.212,0.765,0.445,0.397,0.606,0.438,0.538,0.357,0.452,0.653,0.266,0.6,0.674,0.539,0.7,0.4,0.221,0.498,0.232,0.583,0.536,0.877,0.445,0.402,0.52,0.744,0.794,0.494,0.669,0.836,0.759,0.402,0.965,0.425,0.668,0.658,0.602,0.645,0.144,0.955,0.65,0.161,0.345,0.288,0.576,0.9,0.45,0.723,0.357,0.332,0.814,0.371,0.333,0.297,0.624,0.0886,0.452,0.362,0.272,0.128,0.161,0.6,0.66,0.735,0.622,0.648,0.443,0.0789,0.412,0.444,0.775,0.618,0.576,0.68,0.739,0.282,0.393,0.591,0.26,0.427,0.426,0.476,0.795,0.749,0.801,0.569,0.965,0.585,0.867,0.464,0.684,0.393,0.485,0.769,0.751,0.217,0.559,0.588,0.626,0.545,0.302,0.85,0.0694,0.86,0.273,0.919,0.716,0.486,0.574,0.212,0.643,0.497,0.875,0.629,0.438,0.849,0.331,0.301,0.781,0.679,0.179,0.552,0.879,0.531,0.613,0.358,0.271,0.339,0.323,0.508,0.864,0.836,0.674,0.437,0.888,0.39,0.286,0.682,0.571,0.343,0.78,0.721,0.521,0.237,0.936,0.646,0.392,0.286,0.206,0.684,0.39,0.575,0.689,0.238,0.189,0.248,0.569,0.299,0.538,0.476,0.573,0.337,0.881,0.236,0.643,0.867,0.662,0.862,0.501,0.253,0.722,0.254,0.131,0.559,0.8,0.542,0.402,0.496,0.847,0.0381,0.759,0.213,0.85,0.398,0.433,0.836,0.502,0.8,0.526,0.624,0.952,0.573,0.578,0.902,0.763,0.283,0.11,0.684,0.824,0.567,0.427,0.638,0.428,0.409,0.679,0.405,0.281,0.155,0.53,0.662,0.552,0.546,0.329,0.282,0.58,0.8,0.243,0.469,0.517,0.519,0.582,0.369,0.447,0.12,0.56,0.224,0.349,0.34,0.455,0.582,0.748,0.156,0.748,0.689,0.571,0.486,0.952,0.193,0.349,0.609,0.674,0.145,0.512,0.937,0.417,0.484,0.465,0.765,0.253,0.289,0.449,0.369,0.661,0.716,0.668,0.244,0.862,0.125,0.357,0.387,0.878,0.962,0.353,0.666,0.377,0.328,0.184,0.925,0.572,0.331,0.599,0.961,0.568,0.519,0.348,0.76,0.247,0.759,0.893,0.411,0.431,0.726,0.287,0.235,0.51,0.178,0.721,0.78,0.386,0.646,0.348,0.0815,0.788,0.477,0.18,0.72,0.391,0.779,0.121,0.182,0.66,0.416,0.551,0.0951,0.45,0.304,0.203,0.329,0.284,0.663,0.114,0.616,0.738,0.638,0.383,0.728,0.849,0.24,0.96,0.458,0.751,0.463,0.471,0.487,0.756,0.521,0.625,0.576,0.545,0.545,0.621,0.794,0.441,0.64,0.942,0.37,0.939,0.352,0.375,0.446,0.162,0.549,0.461,0.499,0.286,0.37,0.701,0.786,0.735,0.51,0.401,0.885,0.468,0.234,0.446,0.437,0.947,0.743,0.64,0.124,0.504,0.928,0.591,0.283,0.793,0.274,0.426,0.275,0.418,0.525,0.319,0.57,0.137,0.337,0.499,0.654,0.247,0.274,0.239,0.221,0.69,0.636,0.336,0.407,0.235,0.56,0.23,0.412,0.648,0.594,0.264,0.481,0.751,0.547,0.613,0.479,0.467,0.506,0.724,0.383,0.395,0.789,0.595,0.131,0.466,0.344,0.355,0.438,0.411,0.74,0.964,0.682,0.787,0.817,0.114,0.56,0.0968,0.276,0.604,0.552,0.398,0.174,0.603,0.24,0.583,0.294,0.528,0.55,0.475,0.785,0.217,0.537,0.437,0.487,0.359,0.0883,0.593,0.251,0.395,0.411,0.654,0.236,0.746,0.784,0.621,0.197,0.742,0.189,0.883,0.235,0.375,0.527,0.605,0.647,0.41,0.104,0.843,0.396,0.493,0.95,0.656,0.535,0.37,0.515,0.661,0.289,0.236,0.675,0.728,0.349,0.558,0.412,0.41,0.702,0.672,0.304,0.389,0.365,0.379,0.739,0.548,0.102,0.803,0.422,0.538,0.461,0.505,0.209,0.657,0.529,0.168,0.159,0.234,0.163,0.465,0.71,0.554,0.296,0.603,0.422,0.743,0.438,0.536,0.715,0.566,0.74,0.297,0.811,0.352,0.673,0.869,0.276,0.188,0.539,0.37,0.747,0.247,0.53,0.501,0.261,0.528,0.896,0.706,0.467,0.408,0.478,0.593,0.0594,0.429,0.327,0.213,0.674,0.656,0.23,0.401,0.709,0.501,0.343,0.247,0.523,0.189,0.374,0.298,0.581,0.248,0.877,0.729,0.725,0.18,0.71,0.755,0.543,0.69,0.273,0.276,0.245,0.356,0.8,0.621,0.554,0.397,0.931,0.463,0.846,0.476,0.742,0.418,0.298,0.418,0.446,0.168,0.62,0.43,0.112,0.281,0.191,0.506,0.166,0.145,0.52,0.733,0.376,0.534,0.0951,0.309,0.682,0.355,0.355,0.182,0.789,0.401,0.556,0.23,0.782,0.405,0.443,0.167,0.686,0.708,0.839,0.423,0.265,0.777,0.588,0.445,0.554,0.17,0.699,0.506,0.66,0.231,0.394,0.814,0.437,0.168,0.53,0.195,0.547,0.36,0.417,0.557,0.749,0.966,0.54,0.507,0.592,0.458,0.351,0.297,0.632,0.492,0.295,0.497,0.471,0.78,0.872,0.486,0.472,0.733,0.356,0.4,0.527,0.364,0.649,0.0862,0.449,0.525,0.716,0.678,0.295,0.651,0.397,0.585,0.219,0.273,0.383,0.272,0.595,0.632,0.175,0.515,0.357,0.129,0.333,0.191,0.163,0.218,0.437,0.534,0.65,0.711,0.354,0.261,0.592,0.342,0.446,0.22,0.617,0.615,0.188,0.12,0.395,0.565,0.423,0.376,0.175,0.442,0.188,0.694,0.473,0.82,0.216,0.635,0.686,0.454,0.376,0.158,0.552,0.422,0.62,0.268,0.584,0.852,0.0793,0.237,0.306,0.687,0.267,0.794,0.286,0.152,0.582,0.2,0.464,0.52,0.748,0.485,0.562,0.655,0.421,0.555,0.811,0.341,0.595,0.659,0.671,0.443,0.697,0.508,0.112,0.35,0.603,0.642,0.768,0.319,0.675,0.667,0.321,0.454,0.358,0.839,0.639,0.603,0.926,0.374,0.4,0.612,0.492,0.243,0.758,0.51,0.453,0.717,0.755,0.419,0.449,0.448,0.338,0.758,0.779,0.459,0.639,0.562,0.749,0.327,0.925,0.166,0.533,0.884,0.323,0.244,0.446,0.521,0.137,0.568,0.504,0.656,0.483,0.58,0.424,0.631,0.91,0.446,0.62,0.523,0.617,0.536,0.587,0.226,0.644,0.12,0.234,0.507,0.544,0.388,0.458,0.434,0.163,0.72,0.101,0.475,0.158,0.261,0.578,0.274,0.179,0.609,0.652,0.742,0.219,0.335,0.55,0.628,0.677,0.591,0.606,0.605,0.65,0.428,0.513,0.702,0.244,0.607,0.761,0.463,0.799,0.116,0.391,0.844,0.727,0.196,0.798,0.456,0.874,0.618,0.376,0.413,0.387,0.877,0.576,0.57,0.706,0.651,0.291,0.619,0.341,0.607,0.534,0.355,0.681,0.442,0.345,0.762,0.881,0.847,0.175,0.952,0.564,0.811,0.347,0.553],\"xaxis\":\"x\",\"yaxis\":\"y\",\"type\":\"histogram\"}],                        {\"barmode\":\"relative\",\"legend\":{\"tracegroupgap\":0},\"template\":{\"data\":{\"barpolar\":[{\"marker\":{\"line\":{\"color\":\"rgb(17,17,17)\",\"width\":0.5},\"pattern\":{\"fillmode\":\"overlay\",\"size\":10,\"solidity\":0.2}},\"type\":\"barpolar\"}],\"bar\":[{\"error_x\":{\"color\":\"#f2f5fa\"},\"error_y\":{\"color\":\"#f2f5fa\"},\"marker\":{\"line\":{\"color\":\"rgb(17,17,17)\",\"width\":0.5},\"pattern\":{\"fillmode\":\"overlay\",\"size\":10,\"solidity\":0.2}},\"type\":\"bar\"}],\"carpet\":[{\"aaxis\":{\"endlinecolor\":\"#A2B1C6\",\"gridcolor\":\"#506784\",\"linecolor\":\"#506784\",\"minorgridcolor\":\"#506784\",\"startlinecolor\":\"#A2B1C6\"},\"baxis\":{\"endlinecolor\":\"#A2B1C6\",\"gridcolor\":\"#506784\",\"linecolor\":\"#506784\",\"minorgridcolor\":\"#506784\",\"startlinecolor\":\"#A2B1C6\"},\"type\":\"carpet\"}],\"choropleth\":[{\"colorbar\":{\"outlinewidth\":0,\"ticks\":\"\"},\"type\":\"choropleth\"}],\"contourcarpet\":[{\"colorbar\":{\"outlinewidth\":0,\"ticks\":\"\"},\"type\":\"contourcarpet\"}],\"contour\":[{\"colorbar\":{\"outlinewidth\":0,\"ticks\":\"\"},\"colorscale\":[[0.0,\"#0d0887\"],[0.1111111111111111,\"#46039f\"],[0.2222222222222222,\"#7201a8\"],[0.3333333333333333,\"#9c179e\"],[0.4444444444444444,\"#bd3786\"],[0.5555555555555556,\"#d8576b\"],[0.6666666666666666,\"#ed7953\"],[0.7777777777777778,\"#fb9f3a\"],[0.8888888888888888,\"#fdca26\"],[1.0,\"#f0f921\"]],\"type\":\"contour\"}],\"heatmapgl\":[{\"colorbar\":{\"outlinewidth\":0,\"ticks\":\"\"},\"colorscale\":[[0.0,\"#0d0887\"],[0.1111111111111111,\"#46039f\"],[0.2222222222222222,\"#7201a8\"],[0.3333333333333333,\"#9c179e\"],[0.4444444444444444,\"#bd3786\"],[0.5555555555555556,\"#d8576b\"],[0.6666666666666666,\"#ed7953\"],[0.7777777777777778,\"#fb9f3a\"],[0.8888888888888888,\"#fdca26\"],[1.0,\"#f0f921\"]],\"type\":\"heatmapgl\"}],\"heatmap\":[{\"colorbar\":{\"outlinewidth\":0,\"ticks\":\"\"},\"colorscale\":[[0.0,\"#0d0887\"],[0.1111111111111111,\"#46039f\"],[0.2222222222222222,\"#7201a8\"],[0.3333333333333333,\"#9c179e\"],[0.4444444444444444,\"#bd3786\"],[0.5555555555555556,\"#d8576b\"],[0.6666666666666666,\"#ed7953\"],[0.7777777777777778,\"#fb9f3a\"],[0.8888888888888888,\"#fdca26\"],[1.0,\"#f0f921\"]],\"type\":\"heatmap\"}],\"histogram2dcontour\":[{\"colorbar\":{\"outlinewidth\":0,\"ticks\":\"\"},\"colorscale\":[[0.0,\"#0d0887\"],[0.1111111111111111,\"#46039f\"],[0.2222222222222222,\"#7201a8\"],[0.3333333333333333,\"#9c179e\"],[0.4444444444444444,\"#bd3786\"],[0.5555555555555556,\"#d8576b\"],[0.6666666666666666,\"#ed7953\"],[0.7777777777777778,\"#fb9f3a\"],[0.8888888888888888,\"#fdca26\"],[1.0,\"#f0f921\"]],\"type\":\"histogram2dcontour\"}],\"histogram2d\":[{\"colorbar\":{\"outlinewidth\":0,\"ticks\":\"\"},\"colorscale\":[[0.0,\"#0d0887\"],[0.1111111111111111,\"#46039f\"],[0.2222222222222222,\"#7201a8\"],[0.3333333333333333,\"#9c179e\"],[0.4444444444444444,\"#bd3786\"],[0.5555555555555556,\"#d8576b\"],[0.6666666666666666,\"#ed7953\"],[0.7777777777777778,\"#fb9f3a\"],[0.8888888888888888,\"#fdca26\"],[1.0,\"#f0f921\"]],\"type\":\"histogram2d\"}],\"histogram\":[{\"marker\":{\"pattern\":{\"fillmode\":\"overlay\",\"size\":10,\"solidity\":0.2}},\"type\":\"histogram\"}],\"mesh3d\":[{\"colorbar\":{\"outlinewidth\":0,\"ticks\":\"\"},\"type\":\"mesh3d\"}],\"parcoords\":[{\"line\":{\"colorbar\":{\"outlinewidth\":0,\"ticks\":\"\"}},\"type\":\"parcoords\"}],\"pie\":[{\"automargin\":true,\"type\":\"pie\"}],\"scatter3d\":[{\"line\":{\"colorbar\":{\"outlinewidth\":0,\"ticks\":\"\"}},\"marker\":{\"colorbar\":{\"outlinewidth\":0,\"ticks\":\"\"}},\"type\":\"scatter3d\"}],\"scattercarpet\":[{\"marker\":{\"colorbar\":{\"outlinewidth\":0,\"ticks\":\"\"}},\"type\":\"scattercarpet\"}],\"scattergeo\":[{\"marker\":{\"colorbar\":{\"outlinewidth\":0,\"ticks\":\"\"}},\"type\":\"scattergeo\"}],\"scattergl\":[{\"marker\":{\"line\":{\"color\":\"#283442\"}},\"type\":\"scattergl\"}],\"scattermapbox\":[{\"marker\":{\"colorbar\":{\"outlinewidth\":0,\"ticks\":\"\"}},\"type\":\"scattermapbox\"}],\"scatterpolargl\":[{\"marker\":{\"colorbar\":{\"outlinewidth\":0,\"ticks\":\"\"}},\"type\":\"scatterpolargl\"}],\"scatterpolar\":[{\"marker\":{\"colorbar\":{\"outlinewidth\":0,\"ticks\":\"\"}},\"type\":\"scatterpolar\"}],\"scatter\":[{\"marker\":{\"line\":{\"color\":\"#283442\"}},\"type\":\"scatter\"}],\"scatterternary\":[{\"marker\":{\"colorbar\":{\"outlinewidth\":0,\"ticks\":\"\"}},\"type\":\"scatterternary\"}],\"surface\":[{\"colorbar\":{\"outlinewidth\":0,\"ticks\":\"\"},\"colorscale\":[[0.0,\"#0d0887\"],[0.1111111111111111,\"#46039f\"],[0.2222222222222222,\"#7201a8\"],[0.3333333333333333,\"#9c179e\"],[0.4444444444444444,\"#bd3786\"],[0.5555555555555556,\"#d8576b\"],[0.6666666666666666,\"#ed7953\"],[0.7777777777777778,\"#fb9f3a\"],[0.8888888888888888,\"#fdca26\"],[1.0,\"#f0f921\"]],\"type\":\"surface\"}],\"table\":[{\"cells\":{\"fill\":{\"color\":\"#506784\"},\"line\":{\"color\":\"rgb(17,17,17)\"}},\"header\":{\"fill\":{\"color\":\"#2a3f5f\"},\"line\":{\"color\":\"rgb(17,17,17)\"}},\"type\":\"table\"}]},\"layout\":{\"annotationdefaults\":{\"arrowcolor\":\"#f2f5fa\",\"arrowhead\":0,\"arrowwidth\":1},\"autotypenumbers\":\"strict\",\"coloraxis\":{\"colorbar\":{\"outlinewidth\":0,\"ticks\":\"\"}},\"colorscale\":{\"diverging\":[[0,\"#8e0152\"],[0.1,\"#c51b7d\"],[0.2,\"#de77ae\"],[0.3,\"#f1b6da\"],[0.4,\"#fde0ef\"],[0.5,\"#f7f7f7\"],[0.6,\"#e6f5d0\"],[0.7,\"#b8e186\"],[0.8,\"#7fbc41\"],[0.9,\"#4d9221\"],[1,\"#276419\"]],\"sequential\":[[0.0,\"#0d0887\"],[0.1111111111111111,\"#46039f\"],[0.2222222222222222,\"#7201a8\"],[0.3333333333333333,\"#9c179e\"],[0.4444444444444444,\"#bd3786\"],[0.5555555555555556,\"#d8576b\"],[0.6666666666666666,\"#ed7953\"],[0.7777777777777778,\"#fb9f3a\"],[0.8888888888888888,\"#fdca26\"],[1.0,\"#f0f921\"]],\"sequentialminus\":[[0.0,\"#0d0887\"],[0.1111111111111111,\"#46039f\"],[0.2222222222222222,\"#7201a8\"],[0.3333333333333333,\"#9c179e\"],[0.4444444444444444,\"#bd3786\"],[0.5555555555555556,\"#d8576b\"],[0.6666666666666666,\"#ed7953\"],[0.7777777777777778,\"#fb9f3a\"],[0.8888888888888888,\"#fdca26\"],[1.0,\"#f0f921\"]]},\"colorway\":[\"#636efa\",\"#EF553B\",\"#00cc96\",\"#ab63fa\",\"#FFA15A\",\"#19d3f3\",\"#FF6692\",\"#B6E880\",\"#FF97FF\",\"#FECB52\"],\"font\":{\"color\":\"#f2f5fa\"},\"geo\":{\"bgcolor\":\"rgb(17,17,17)\",\"lakecolor\":\"rgb(17,17,17)\",\"landcolor\":\"rgb(17,17,17)\",\"showlakes\":true,\"showland\":true,\"subunitcolor\":\"#506784\"},\"hoverlabel\":{\"align\":\"left\"},\"hovermode\":\"closest\",\"mapbox\":{\"style\":\"dark\"},\"paper_bgcolor\":\"rgb(17,17,17)\",\"plot_bgcolor\":\"rgb(17,17,17)\",\"polar\":{\"angularaxis\":{\"gridcolor\":\"#506784\",\"linecolor\":\"#506784\",\"ticks\":\"\"},\"bgcolor\":\"rgb(17,17,17)\",\"radialaxis\":{\"gridcolor\":\"#506784\",\"linecolor\":\"#506784\",\"ticks\":\"\"}},\"scene\":{\"xaxis\":{\"backgroundcolor\":\"rgb(17,17,17)\",\"gridcolor\":\"#506784\",\"gridwidth\":2,\"linecolor\":\"#506784\",\"showbackground\":true,\"ticks\":\"\",\"zerolinecolor\":\"#C8D4E3\"},\"yaxis\":{\"backgroundcolor\":\"rgb(17,17,17)\",\"gridcolor\":\"#506784\",\"gridwidth\":2,\"linecolor\":\"#506784\",\"showbackground\":true,\"ticks\":\"\",\"zerolinecolor\":\"#C8D4E3\"},\"zaxis\":{\"backgroundcolor\":\"rgb(17,17,17)\",\"gridcolor\":\"#506784\",\"gridwidth\":2,\"linecolor\":\"#506784\",\"showbackground\":true,\"ticks\":\"\",\"zerolinecolor\":\"#C8D4E3\"}},\"shapedefaults\":{\"line\":{\"color\":\"#f2f5fa\"}},\"sliderdefaults\":{\"bgcolor\":\"#C8D4E3\",\"bordercolor\":\"rgb(17,17,17)\",\"borderwidth\":1,\"tickwidth\":0},\"ternary\":{\"aaxis\":{\"gridcolor\":\"#506784\",\"linecolor\":\"#506784\",\"ticks\":\"\"},\"baxis\":{\"gridcolor\":\"#506784\",\"linecolor\":\"#506784\",\"ticks\":\"\"},\"bgcolor\":\"rgb(17,17,17)\",\"caxis\":{\"gridcolor\":\"#506784\",\"linecolor\":\"#506784\",\"ticks\":\"\"}},\"title\":{\"x\":0.05},\"updatemenudefaults\":{\"bgcolor\":\"#506784\",\"borderwidth\":0},\"xaxis\":{\"automargin\":true,\"gridcolor\":\"#283442\",\"linecolor\":\"#506784\",\"ticks\":\"\",\"title\":{\"standoff\":15},\"zerolinecolor\":\"#283442\",\"zerolinewidth\":2},\"yaxis\":{\"automargin\":true,\"gridcolor\":\"#283442\",\"linecolor\":\"#506784\",\"ticks\":\"\",\"title\":{\"standoff\":15},\"zerolinecolor\":\"#283442\",\"zerolinewidth\":2}}},\"title\":{\"text\":\"valence distribution in top hits\"},\"xaxis\":{\"anchor\":\"y\",\"domain\":[0.0,1.0],\"title\":{\"text\":\"valence\"}},\"yaxis\":{\"anchor\":\"x\",\"domain\":[0.0,1.0],\"title\":{\"text\":\"count\"}}},                        {\"responsive\": true}                    ).then(function(){\n",
       "                            \n",
       "var gd = document.getElementById('14723781-7293-479c-a59b-8537529935c5');\n",
       "var x = new MutationObserver(function (mutations, observer) {{\n",
       "        var display = window.getComputedStyle(gd).display;\n",
       "        if (!display || display === 'none') {{\n",
       "            console.log([gd, 'removed!']);\n",
       "            Plotly.purge(gd);\n",
       "            observer.disconnect();\n",
       "        }}\n",
       "}});\n",
       "\n",
       "// Listen for the removal of the full notebook cells\n",
       "var notebookContainer = gd.closest('#notebook-container');\n",
       "if (notebookContainer) {{\n",
       "    x.observe(notebookContainer, {childList: true});\n",
       "}}\n",
       "\n",
       "// Listen for the clearing of the current output cell\n",
       "var outputEl = gd.closest('.output');\n",
       "if (outputEl) {{\n",
       "    x.observe(outputEl, {childList: true});\n",
       "}}\n",
       "\n",
       "                        })                };                });            </script>        </div>"
      ]
     },
     "metadata": {},
     "output_type": "display_data"
    },
    {
     "data": {
      "text/html": [
       "<div>                            <div id=\"874c4464-c817-40c7-8adb-517d355f49b3\" class=\"plotly-graph-div\" style=\"height:525px; width:100%;\"></div>            <script type=\"text/javascript\">                require([\"plotly\"], function(Plotly) {                    window.PLOTLYENV=window.PLOTLYENV || {};                                    if (document.getElementById(\"874c4464-c817-40c7-8adb-517d355f49b3\")) {                    Plotly.newPlot(                        \"874c4464-c817-40c7-8adb-517d355f49b3\",                        [{\"alignmentgroup\":\"True\",\"bingroup\":\"x\",\"hovertemplate\":\"tempo=%{x}\\u003cbr\\u003ecount=%{y}\\u003cextra\\u003e\\u003c\\u002fextra\\u003e\",\"legendgroup\":\"\",\"marker\":{\"color\":\"rgb(237, 100, 90)\",\"pattern\":{\"shape\":\"\"}},\"name\":\"\",\"offsetgroup\":\"\",\"orientation\":\"v\",\"showlegend\":false,\"x\":[95.053,148.726,136.859,119.992,172.656,121.549,104.504,103.035,138.009,126.041,139.066,129.962,163.826,111.989,160.067,93.02,119.41,136.953,127.002,95.295,105.143,122.979,135.012,85.565,135.205,101.968,136.065,99.974,127.962,132.017,201.936,115.005,119.854,97.004,84.11,99.008,120.043,138.083,144.705,108.241,121.996,88.009,72.016,133.974,81.125,167.998,109.981,98.0,100.46,99.581,99.316,143.866,126.279,119.311,98.631,129.297,129.221,103.032,97.865,84.192,135.099,97.922,117.338,132.493,127.177,124.036,123.229,129.963,83.014,97.911,134.007,107.908,124.017,118.981,124.999,88.997,93.04,99.009,89.824,98.054,152.034,102.053,102.03,144.142,100.618,97.954,165.09,151.181,165.98,95.468,144.673,96.102,138.852,126.988,136.086,94.661,118.903,155.827,95.026,162.831,94.759,161.109,80.063,126.007,109.919,89.661,107.657,162.152,79.064,136.482,89.976,110.027,123.971,93.839,92.887,135.977,96.306,140.01,123.943,118.011,97.988,97.996,93.013,103.502,95.0,90.032,99.825,102.043,172.094,122.746,94.948,137.029,103.141,79.984,89.989,97.867,104.719,177.87,100.851,105.005,127.993,167.953,96.976,119.94,97.914,97.577,121.906,86.31,203.862,118.007,129.078,126.928,100.01,125.25,106.957,99.965,78.375,83.293,129.491,166.01,117.033,132.493,180.184,127.487,134.079,128.002,139.909,82.803,128.98,106.676,103.376,105.006,96.951,79.166,133.592,129.006,113.525,94.019,106.095,97.954,131.044,83.46,99.738,137.03,77.967,126.853,95.158,144.673,101.875,139.976,163.142,84.411,182.862,95.9,116.097,116.529,88.933,62.876,113.922,124.599,168.189,112.238,77.987,94.931,112.027,165.508,138.202,99.271,85.996,171.447,199.764,108.955,123.993,93.401,195.685,105.143,184.819,92.988,97.036,126.607,142.017,93.118,147.387,95.992,144.043,121.392,86.994,105.922,95.012,89.767,91.969,143.048,94.332,177.894,102.072,159.963,120.043,107.075,106.986,99.931,99.699,91.868,126.99,93.955,103.887,115.142,95.022,91.455,101.955,107.288,168.004,83.133,124.994,97.035,106.52,89.279,148.062,93.63,157.596,117.31,114.964,68.942,96.072,148.015,89.488,133.838,128.93,75.09,133.592,130.97,101.868,79.01,177.928,146.349,96.673,90.119,149.937,137.965,78.996,83.014,122.444,114.999,103.997,93.967,106.191,99.952,100.005,130.581,102.192,109.781,131.059,144.188,147.973,96.103,119.998,125.972,157.469,144.636,184.682,98.525,90.051,100.202,171.355,99.165,88.029,94.059,100.0,112.968,179.92,130.017,85.996,98.077,99.971,89.64,84.722,110.01,135.095,95.027,94.612,125.011,83.373,89.342,101.043,95.508,82.331,109.598,120.046,78.955,146.301,100.972,123.904,84.038,91.025,92.98,98.989,163.118,158.108,83.701,184.981,105.987,199.958,163.944,87.025,124.814,101.129,120.315,98.014,81.008,102.009,92.074,163.961,104.946,132.817,92.729,164.062,121.732,134.465,139.993,188.899,130.127,101.025,117.901,127.683,123.005,130.036,99.057,95.313,148.095,112.913,73.898,105.678,126.326,143.772,92.849,130.97,79.993,101.868,94.998,118.877,107.849,97.917,78.935,83.066,81.975,169.951,111.121,153.067,192.082,175.943,90.079,80.718,125.999,182.12,151.551,119.998,106.22,100.215,158.009,151.95,81.931,105.018,95.051,143.04,79.526,82.952,102.847,96.009,104.923,130.103,95.321,99.848,136.027,94.547,105.991,106.997,99.973,110.018,94.857,89.987,120.014,96.525,97.007,119.011,126.342,102.017,107.17,99.916,124.047,128.429,111.014,121.057,82.331,104.917,163.971,97.007,185.406,130.015,100.15,101.965,117.021,112.968,100.021,86.891,169.131,73.108,121.003,98.014,92.063,87.002,123.925,89.983,154.07,106.279,162.519,98.579,131.012,120.939,134.199,115.012,109.599,140.083,104.561,93.04,76.91,93.961,87.312,79.012,163.153,89.993,126.326,144.106,145.115,186.113,176.051,116.972,127.932,83.089,139.982,145.894,170.229,169.951,68.507,83.61,143.994,91.03,98.523,127.831,86.412,75.007,128.658,172.302,172.872,125.999,116.02,94.487,79.178,174.117,174.001,81.931,167.078,139.987,94.514,93.034,99.019,125.173,81.998,167.046,120.003,140.046,104.838,125.02,96.946,138.045,83.093,117.0,98.018,104.003,84.858,97.018,98.012,100.969,95.953,123.95,128.29,92.029,100.01,97.084,107.045,99.998,138.559,130.889,90.098,127.988,126.016,84.03,84.039,100.011,120.264,112.955,118.014,95.027,84.995,77.499,125.461,171.79,77.984,186.048,133.631,136.518,97.043,92.063,100.813,77.49,113.053,125.085,171.609,123.091,94.163,110.007,90.038,182.99,85.098,80.569,100.113,82.168,139.861,143.555,102.017,102.516,82.017,160.028,90.048,89.885,75.048,127.673,89.782,103.183,68.637,151.518,158.842,110.086,139.92,92.004,145.916,99.991,125.802,79.918,96.938,146.994,79.178,169.799,123.067,100.38,89.036,130.999,96.0,143.853,119.075,112.019,130.198,100.024,125.04,117.0,175.868,71.815,137.046,111.97,138.335,132.722,128.009,96.998,132.971,143.052,153.649,114.328,127.919,95.824,210.851,128.593,107.005,74.007,120.0,87.165,126.069,99.99,99.992,103.7,82.038,127.51,106.328,84.003,79.798,119.952,164.007,82.996,175.788,90.951,142.019,77.499,120.066,105.253,100.04,75.272,84.021,128.04,129.016,146.559,131.925,144.069,98.56,76.035,93.41,80.0,132.918,114.452,70.543,73.464,78.756,149.965,157.147,169.152,103.055,166.104,116.714,95.506,94.02,83.001,185.888,129.37,103.383,136.002,96.184,108.023,92.791,129.005,123.696,154.514,179.999,79.918,169.961,89.567,127.91,109.581,129.352,124.082,145.171,104.833,100.011,90.933,79.753,132.013,122.035,108.102,96.95,124.191,143.853,78.969,86.768,140.004,100.304,104.036,174.028,113.324,113.082,105.828,103.971,76.0,119.961,114.759,116.948,129.026,128.016,130.018,118.988,110.621,140.144,124.938,127.995,132.035,103.992,91.977,79.702,99.989,140.141,149.28,141.04,132.964,128.014,80.029,127.894,120.119,121.006,140.043,144.972,106.031,95.802,80.021,86.491,132.078,175.788,165.182,119.952,130.993,140.127,111.647,127.99,82.499,163.983,109.97,145.959,160.022,130.159,141.955,104.987,90.02,129.055,131.105,92.988,144.072,154.837,121.243,181.04,122.728,94.955,123.279,114.999,139.986,120.872,113.996,199.935,172.977,139.913,144.09,172.984,105.412,93.416,118.035,83.998,120.226,92.956,122.229,172.976,130.009,125.139,123.007,147.905,123.802,80.001,81.995,142.034,160.895,124.484,126.766,116.027,92.515,149.934,164.054,127.901,104.655,92.854,128.008,129.996,82.082,90.04,118.016,171.812,86.009,90.007,117.002,129.023,130.018,124.921,127.999,117.533,148.075,147.99,90.482,113.029,132.032,122.668,120.163,137.982,139.0,125.99,102.757,137.616,127.019,118.449,120.051,140.141,115.007,159.841,126.027,151.486,119.974,138.975,144.954,140.043,106.031,87.0,111.996,131.977,141.933,116.59,111.572,115.033,110.019,126.115,86.917,117.932,138.018,173.992,148.113,120.01,126.019,119.603,113.053,172.247,127.962,124.072,78.502,122.961,107.993,82.48,127.981,90.063,131.942,140.012,135.968,139.61,145.042,78.946,111.91,142.365,150.034,150.053,94.977,92.474,182.571,123.021,102.028,138.015,153.398,82.962,129.911,162.084,82.82,161.905,168.005,76.093,172.155,108.984,77.506,114.03,94.812,120.005,80.045,163.953,184.009,89.828,127.96,118.999,79.983,130.011,124.986,118.984,126.003,114.98,105.024,134.992,140.002,130.0,87.999,138.018,118.992,129.954,127.045,86.443,121.949,127.973,130.048,121.983,114.906,173.585,146.024,60.019,127.029,117.971,113.172,86.844,119.001,159.841,114.003,126.127,107.011,80.051,150.154,100.363,65.997,159.873,129.967,122.988,149.998,169.561,91.066,114.912,119.918,120.02,130.012,136.202,111.572,130.015,140.029,73.881,104.02,132.612,119.603,177.008,172.049,144.036,121.491,135.021,122.973,126.975,119.964,89.956,123.016,117.029,130.99,145.999,176.052,150.01,128.019,115.998,111.91,150.053,117.985,193.437,150.005,78.005,148.021,140.022,137.077,160.139,134.002,153.398,162.161,78.139,96.021,144.953,129.94,159.779,155.165,129.964,100.011,86.444,130.989,144.982,138.585,151.994,109.021,86.989,119.001,119.951,120.028,129.983,119.975,125.906,125.014,125.036,128.0,124.913,129.944,127.965,130.003,171.917,115.68,176.985,127.041,122.01,92.035,125.997,114.635,98.998,173.906,128.013,139.896,127.979,124.638,125.061,73.987,119.963,91.031,127.966,121.223,131.497,91.881,145.867,116.98,129.965,122.014,124.996,182.032,91.1,185.934,74.008,126.091,129.007,126.026,129.998,102.978,65.997,155.788,138.021,65.043,85.013,125.03,75.974,143.96,120.003,150.1,110.009,95.498,93.033,84.789,89.917,100.025,90.034,100.631,93.01,144.036,100.093,126.056,147.007,117.011,125.846,95.975,76.052,134.036,120.057,149.967,96.033,89.338,139.048,140.329,148.005,103.993,120.011,176.667,86.776,180.114,92.923,107.884,141.893,147.99,92.011,81.986,117.015,130.739,82.439,104.948,128.044,130.014,124.071,110.444,128.024,126.976,127.938,130.0,127.975,120.013,130.02,128.027,125.083,126.979,94.05,129.884,122.019,129.024,117.009,164.02,151.684,130.002,89.99,127.041,125.953,160.041,127.998,110.621,130.021,131.959,140.036,139.85,131.497,187.961,105.013,131.951,153.071,121.956,139.631,126.03,107.995,155.826,79.119,149.33,146.155,96.005,126.885,119.95,140.889,127.985,110.955,104.029,130.0,126.879,142.113,81.001,168.001,100.025,127.898,149.976,100.963,140.042,190.151,101.019,115.057,123.907,126.991,162.994,127.941,127.884,127.975,151.894,175.015,127.037,125.358,94.988,90.268,174.915,143.067,105.955,91.993,135.047,106.254,160.014,91.964,205.57,127.952,142.881,99.978,112.96,117.98,99.099,122.019,74.541,144.905,130.739,153.992,111.202,139.028,127.985,120.021,184.086,120.015,120.05,124.954,75.881,127.96,127.963,140.022,92.997,110.026,128.108,103.976,128.954,129.973,125.055,74.132,127.98,139.993,175.017,130.021,132.067,128.001,127.992,106.008,110.006,143.994,126.04,128.011,91.972,140.008,130.028,125.008,91.048,119.012,126.092,126.017,110.015,169.533,96.055,125.946,125.953,98.986,127.937,127.974,155.974,120.052,139.631,129.925,123.061,128.016,84.786,129.042,140.05,96.979,126.062,126.986,77.019,127.839,103.998,116.043,95.078,139.691,72.022,126.027,95.073,128.008,83.993,133.962,128.074,129.054,127.075,124.99,75.223,126.025,126.05,127.945,98.082,120.008,122.028,121.985,85.014,126.015,130.034,136.991,150.071,127.967,116.044,201.8,159.814,116.024,179.911,93.763,124.91,123.008,121.845,114.962,150.017,97.954,84.878,120.0,136.245,124.08,143.994,94.992,116.047,130.033,116.019,127.99,124.988,122.769,171.999,130.072,135.956,127.999,124.906,146.078,128.015,100.315,126.03,128.012,124.053,128.045,117.952,173.968,92.004,128.003,110.049,127.008,79.979,192.205,119.978,126.035,130.089,126.052,95.084,125.916,151.99,100.05,127.946,89.938,162.131,77.019,85.03,174.983,119.74,128.062,95.967,103.998,128.008,87.016,137.825,124.989,96.0,119.038,124.047,127.923,119.995,127.934,129.003,114.038,133.973,86.307,83.235,125.01,124.021,179.984,136.802,127.985,145.082,93.043,123.973,127.435,118.491,115.995,128.006,119.964,104.038,100.163,129.885,76.899,116.017,102.961,80.003,99.991,136.01,143.808,99.993,118.021,120.001,82.92,164.986,103.987,75.089,82.324,111.893,101.985,72.795,148.0,160.019,131.934,153.972,94.981,189.868,84.094,144.033,117.089,119.93,124.96,134.052,124.915,163.99,110.003,124.959,196.093,100.315,120.003,127.966,101.013,119.976,170.216,96.975,126.094,119.906,81.946,123.002,98.052,129.994,128.024,100.014,129.992,122.014,167.879,127.962,111.959,119.968,119.987,175.001,127.955,99.961,174.084,124.938,119.993,90.99,122.993,87.016,129.956,98.098,119.999,99.059,120.022,114.948,100.094,114.016,95.049,98.992,90.949,125.014,150.028,120.837,121.939,94.933,102.071,121.985,103.008,91.999,77.217,124.989,83.066,128.011,160.025,166.996,160.078,120.001,119.988,125.876,112.028,124.96,124.97,120.97,127.961,130.075,121.07,145.879,97.448,130.027,104.99,101.654,140.03,120.042,104.975,152.037,141.967,142.016,121.989,133.912,81.897,86.01,93.047,114.988,78.998,80.025,125.02,98.007,119.844,189.857,128.035,85.979,114.101,95.997,113.003,85.012,127.961,125.983,196.093,119.955,125.01,170.16,145.889,123.063,122.003,123.002,96.975,176.042,108.034,121.03,169.977,99.987,81.663,99.933,107.985,125.004,127.999,117.971,140.06,167.939,124.022,126.008,102.99,98.024,138.113,131.05,119.977,130.064,91.977,98.02,95.95,94.006,139.982,98.031,80.529,148.075,119.999,136.024,131.988,145.992,78.521,134.966,120.012,107.005,190.05,98.992,107.949,186.394,90.052,118.413,100.034,116.879,88.928,128.077,128.945,94.933,120.892,81.418,108.061,77.521,97.972,113.927,142.079,90.838,149.882,118.004,83.066,139.432,154.943,96.991,163.993,84.264,130.003,113.945,120.063,123.976,99.945,125.026,111.987,99.933,108.002,139.091,90.013,186.054,103.967,100.418,95.01,157.98,144.833,99.002,89.972,99.961,91.974,90.027,99.945,113.03,101.003,122.803,111.995,110.169,120.036,169.021,90.024,143.961,126.01,159.803,120.028,121.996,90.246,102.42,92.134,110.127,133.99,179.642,101.983,99.988,123.962,101.969,121.918,110.898,159.145,141.99,113.939,98.02,119.986,139.956,74.989,94.006,134.052,146.928,100.017,104.013,91.03,145.992,90.037,134.96,107.853,82.695,107.331,111.995,121.969,186.249,90.052,119.002,118.991,191.863,113.049,99.886,105.017,133.053,124.909,120.493,104.981,124.977,142.079,112.291,123.996,117.986,92.943,100.001,95.109,162.958,96.991,114.991,130.037,113.901,116.838,120.041,191.944,128.06,92.6,84.044,95.04,181.994,158.777,75.255,160.108,104.988,129.988,126.014,76.026,159.738,117.996,95.977,102.04,177.833,91.873,101.965,104.992,167.88,100.047,103.019,95.05,97.512,130.049,119.959,150.062,87.908,99.905,139.992,105.997,170.142,97.985,75.016,123.07,180.042,104.237,124.007,145.926,141.153,140.987,144.946,155.096,134.945,108.034,98.064,175.957,162.991,119.949,125.985,124.982,79.997,150.018,123.013,100.041,135.048,106.083,75.087,111.002,119.889,128.07,91.011,171.853,139.928,129.014,134.021,127.079,149.953,137.972,104.016,114.965,160.015,144.937,141.967,121.996,168.073,144.992,116.01,125.022,170.661,121.028,97.979,123.146,133.993,122.95,95.029,160.517,101.018,139.023,104.592,121.03,139.994,147.932,106.028,111.98,104.99,117.973,194.169,73.003,105.0,123.98,99.979,93.984,130.093,92.987,99.99,81.502,148.127,102.977,112.956,106.97,106.996,99.968,77.169,159.801,100.007,87.908,125.905,83.903,107.01,95.079,136.048,128.009,121.993,146.034,123.994,97.994,155.008,100.0,95.881,150.06,100.584,115.284,145.914,105.005,154.983,125.978,134.17,96.507,137.996,179.968,75.023,94.014,82.034,157.036,125.985,89.996,137.133,94.981,96.924,149.908,98.062,145.031,173.948,103.019,99.977,129.959,124.987,128.005,68.976,94.968,141.971,120.274,121.958,113.0,147.997,64.934,198.075,125.022,119.957,106.046,93.95,93.982,109.974,145.038,140.022,90.09,100.015,126.684,112.009,181.982,203.911,91.03,95.948,114.966,94.023,89.391,95.989,122.029,106.93,113.021,79.882,95.001,135.702,96.133,105.115,127.921,157.92,118.384,150.002,129.923,110.009,97.028,100.028,142.929,133.123,91.97,105.049,124.959,143.955,93.372,126.058,140.06,136.041,135.128,116.967,140.048,89.96,100.966,136.041,117.948,95.799,114.066,109.891,121.908,202.015,120.08,98.043,93.989,150.073,131.98,140.022,124.08,151.957,155.008,198.065,144.982,95.881,96.057,105.038,179.974,140.969,115.284,98.994,135.998,86.003,99.96,170.037,93.023,80.512,171.993,100.541,153.848,97.062,168.112,159.966,145.972,97.981,105.027,98.016,150.024,130.003,169.999,109.979,133.002,123.941,137.776,122.015,138.058,133.992,188.115,98.027,190.097,176.169,130.089,126.899,123.984,92.01,97.565,104.025,75.445,133.986,120.046,119.991,102.958,94.01,175.813,100.001,79.635,125.011,151.891,124.975,98.985,91.987,107.356,146.163,176.044,145.038,95.005,102.211,94.956,82.014,88.042,110.567,101.993,170.918,125.002,150.231,137.958,169.994,97.984,102.998,120.042],\"xaxis\":\"x\",\"yaxis\":\"y\",\"type\":\"histogram\"}],                        {\"barmode\":\"relative\",\"legend\":{\"tracegroupgap\":0},\"template\":{\"data\":{\"barpolar\":[{\"marker\":{\"line\":{\"color\":\"rgb(17,17,17)\",\"width\":0.5},\"pattern\":{\"fillmode\":\"overlay\",\"size\":10,\"solidity\":0.2}},\"type\":\"barpolar\"}],\"bar\":[{\"error_x\":{\"color\":\"#f2f5fa\"},\"error_y\":{\"color\":\"#f2f5fa\"},\"marker\":{\"line\":{\"color\":\"rgb(17,17,17)\",\"width\":0.5},\"pattern\":{\"fillmode\":\"overlay\",\"size\":10,\"solidity\":0.2}},\"type\":\"bar\"}],\"carpet\":[{\"aaxis\":{\"endlinecolor\":\"#A2B1C6\",\"gridcolor\":\"#506784\",\"linecolor\":\"#506784\",\"minorgridcolor\":\"#506784\",\"startlinecolor\":\"#A2B1C6\"},\"baxis\":{\"endlinecolor\":\"#A2B1C6\",\"gridcolor\":\"#506784\",\"linecolor\":\"#506784\",\"minorgridcolor\":\"#506784\",\"startlinecolor\":\"#A2B1C6\"},\"type\":\"carpet\"}],\"choropleth\":[{\"colorbar\":{\"outlinewidth\":0,\"ticks\":\"\"},\"type\":\"choropleth\"}],\"contourcarpet\":[{\"colorbar\":{\"outlinewidth\":0,\"ticks\":\"\"},\"type\":\"contourcarpet\"}],\"contour\":[{\"colorbar\":{\"outlinewidth\":0,\"ticks\":\"\"},\"colorscale\":[[0.0,\"#0d0887\"],[0.1111111111111111,\"#46039f\"],[0.2222222222222222,\"#7201a8\"],[0.3333333333333333,\"#9c179e\"],[0.4444444444444444,\"#bd3786\"],[0.5555555555555556,\"#d8576b\"],[0.6666666666666666,\"#ed7953\"],[0.7777777777777778,\"#fb9f3a\"],[0.8888888888888888,\"#fdca26\"],[1.0,\"#f0f921\"]],\"type\":\"contour\"}],\"heatmapgl\":[{\"colorbar\":{\"outlinewidth\":0,\"ticks\":\"\"},\"colorscale\":[[0.0,\"#0d0887\"],[0.1111111111111111,\"#46039f\"],[0.2222222222222222,\"#7201a8\"],[0.3333333333333333,\"#9c179e\"],[0.4444444444444444,\"#bd3786\"],[0.5555555555555556,\"#d8576b\"],[0.6666666666666666,\"#ed7953\"],[0.7777777777777778,\"#fb9f3a\"],[0.8888888888888888,\"#fdca26\"],[1.0,\"#f0f921\"]],\"type\":\"heatmapgl\"}],\"heatmap\":[{\"colorbar\":{\"outlinewidth\":0,\"ticks\":\"\"},\"colorscale\":[[0.0,\"#0d0887\"],[0.1111111111111111,\"#46039f\"],[0.2222222222222222,\"#7201a8\"],[0.3333333333333333,\"#9c179e\"],[0.4444444444444444,\"#bd3786\"],[0.5555555555555556,\"#d8576b\"],[0.6666666666666666,\"#ed7953\"],[0.7777777777777778,\"#fb9f3a\"],[0.8888888888888888,\"#fdca26\"],[1.0,\"#f0f921\"]],\"type\":\"heatmap\"}],\"histogram2dcontour\":[{\"colorbar\":{\"outlinewidth\":0,\"ticks\":\"\"},\"colorscale\":[[0.0,\"#0d0887\"],[0.1111111111111111,\"#46039f\"],[0.2222222222222222,\"#7201a8\"],[0.3333333333333333,\"#9c179e\"],[0.4444444444444444,\"#bd3786\"],[0.5555555555555556,\"#d8576b\"],[0.6666666666666666,\"#ed7953\"],[0.7777777777777778,\"#fb9f3a\"],[0.8888888888888888,\"#fdca26\"],[1.0,\"#f0f921\"]],\"type\":\"histogram2dcontour\"}],\"histogram2d\":[{\"colorbar\":{\"outlinewidth\":0,\"ticks\":\"\"},\"colorscale\":[[0.0,\"#0d0887\"],[0.1111111111111111,\"#46039f\"],[0.2222222222222222,\"#7201a8\"],[0.3333333333333333,\"#9c179e\"],[0.4444444444444444,\"#bd3786\"],[0.5555555555555556,\"#d8576b\"],[0.6666666666666666,\"#ed7953\"],[0.7777777777777778,\"#fb9f3a\"],[0.8888888888888888,\"#fdca26\"],[1.0,\"#f0f921\"]],\"type\":\"histogram2d\"}],\"histogram\":[{\"marker\":{\"pattern\":{\"fillmode\":\"overlay\",\"size\":10,\"solidity\":0.2}},\"type\":\"histogram\"}],\"mesh3d\":[{\"colorbar\":{\"outlinewidth\":0,\"ticks\":\"\"},\"type\":\"mesh3d\"}],\"parcoords\":[{\"line\":{\"colorbar\":{\"outlinewidth\":0,\"ticks\":\"\"}},\"type\":\"parcoords\"}],\"pie\":[{\"automargin\":true,\"type\":\"pie\"}],\"scatter3d\":[{\"line\":{\"colorbar\":{\"outlinewidth\":0,\"ticks\":\"\"}},\"marker\":{\"colorbar\":{\"outlinewidth\":0,\"ticks\":\"\"}},\"type\":\"scatter3d\"}],\"scattercarpet\":[{\"marker\":{\"colorbar\":{\"outlinewidth\":0,\"ticks\":\"\"}},\"type\":\"scattercarpet\"}],\"scattergeo\":[{\"marker\":{\"colorbar\":{\"outlinewidth\":0,\"ticks\":\"\"}},\"type\":\"scattergeo\"}],\"scattergl\":[{\"marker\":{\"line\":{\"color\":\"#283442\"}},\"type\":\"scattergl\"}],\"scattermapbox\":[{\"marker\":{\"colorbar\":{\"outlinewidth\":0,\"ticks\":\"\"}},\"type\":\"scattermapbox\"}],\"scatterpolargl\":[{\"marker\":{\"colorbar\":{\"outlinewidth\":0,\"ticks\":\"\"}},\"type\":\"scatterpolargl\"}],\"scatterpolar\":[{\"marker\":{\"colorbar\":{\"outlinewidth\":0,\"ticks\":\"\"}},\"type\":\"scatterpolar\"}],\"scatter\":[{\"marker\":{\"line\":{\"color\":\"#283442\"}},\"type\":\"scatter\"}],\"scatterternary\":[{\"marker\":{\"colorbar\":{\"outlinewidth\":0,\"ticks\":\"\"}},\"type\":\"scatterternary\"}],\"surface\":[{\"colorbar\":{\"outlinewidth\":0,\"ticks\":\"\"},\"colorscale\":[[0.0,\"#0d0887\"],[0.1111111111111111,\"#46039f\"],[0.2222222222222222,\"#7201a8\"],[0.3333333333333333,\"#9c179e\"],[0.4444444444444444,\"#bd3786\"],[0.5555555555555556,\"#d8576b\"],[0.6666666666666666,\"#ed7953\"],[0.7777777777777778,\"#fb9f3a\"],[0.8888888888888888,\"#fdca26\"],[1.0,\"#f0f921\"]],\"type\":\"surface\"}],\"table\":[{\"cells\":{\"fill\":{\"color\":\"#506784\"},\"line\":{\"color\":\"rgb(17,17,17)\"}},\"header\":{\"fill\":{\"color\":\"#2a3f5f\"},\"line\":{\"color\":\"rgb(17,17,17)\"}},\"type\":\"table\"}]},\"layout\":{\"annotationdefaults\":{\"arrowcolor\":\"#f2f5fa\",\"arrowhead\":0,\"arrowwidth\":1},\"autotypenumbers\":\"strict\",\"coloraxis\":{\"colorbar\":{\"outlinewidth\":0,\"ticks\":\"\"}},\"colorscale\":{\"diverging\":[[0,\"#8e0152\"],[0.1,\"#c51b7d\"],[0.2,\"#de77ae\"],[0.3,\"#f1b6da\"],[0.4,\"#fde0ef\"],[0.5,\"#f7f7f7\"],[0.6,\"#e6f5d0\"],[0.7,\"#b8e186\"],[0.8,\"#7fbc41\"],[0.9,\"#4d9221\"],[1,\"#276419\"]],\"sequential\":[[0.0,\"#0d0887\"],[0.1111111111111111,\"#46039f\"],[0.2222222222222222,\"#7201a8\"],[0.3333333333333333,\"#9c179e\"],[0.4444444444444444,\"#bd3786\"],[0.5555555555555556,\"#d8576b\"],[0.6666666666666666,\"#ed7953\"],[0.7777777777777778,\"#fb9f3a\"],[0.8888888888888888,\"#fdca26\"],[1.0,\"#f0f921\"]],\"sequentialminus\":[[0.0,\"#0d0887\"],[0.1111111111111111,\"#46039f\"],[0.2222222222222222,\"#7201a8\"],[0.3333333333333333,\"#9c179e\"],[0.4444444444444444,\"#bd3786\"],[0.5555555555555556,\"#d8576b\"],[0.6666666666666666,\"#ed7953\"],[0.7777777777777778,\"#fb9f3a\"],[0.8888888888888888,\"#fdca26\"],[1.0,\"#f0f921\"]]},\"colorway\":[\"#636efa\",\"#EF553B\",\"#00cc96\",\"#ab63fa\",\"#FFA15A\",\"#19d3f3\",\"#FF6692\",\"#B6E880\",\"#FF97FF\",\"#FECB52\"],\"font\":{\"color\":\"#f2f5fa\"},\"geo\":{\"bgcolor\":\"rgb(17,17,17)\",\"lakecolor\":\"rgb(17,17,17)\",\"landcolor\":\"rgb(17,17,17)\",\"showlakes\":true,\"showland\":true,\"subunitcolor\":\"#506784\"},\"hoverlabel\":{\"align\":\"left\"},\"hovermode\":\"closest\",\"mapbox\":{\"style\":\"dark\"},\"paper_bgcolor\":\"rgb(17,17,17)\",\"plot_bgcolor\":\"rgb(17,17,17)\",\"polar\":{\"angularaxis\":{\"gridcolor\":\"#506784\",\"linecolor\":\"#506784\",\"ticks\":\"\"},\"bgcolor\":\"rgb(17,17,17)\",\"radialaxis\":{\"gridcolor\":\"#506784\",\"linecolor\":\"#506784\",\"ticks\":\"\"}},\"scene\":{\"xaxis\":{\"backgroundcolor\":\"rgb(17,17,17)\",\"gridcolor\":\"#506784\",\"gridwidth\":2,\"linecolor\":\"#506784\",\"showbackground\":true,\"ticks\":\"\",\"zerolinecolor\":\"#C8D4E3\"},\"yaxis\":{\"backgroundcolor\":\"rgb(17,17,17)\",\"gridcolor\":\"#506784\",\"gridwidth\":2,\"linecolor\":\"#506784\",\"showbackground\":true,\"ticks\":\"\",\"zerolinecolor\":\"#C8D4E3\"},\"zaxis\":{\"backgroundcolor\":\"rgb(17,17,17)\",\"gridcolor\":\"#506784\",\"gridwidth\":2,\"linecolor\":\"#506784\",\"showbackground\":true,\"ticks\":\"\",\"zerolinecolor\":\"#C8D4E3\"}},\"shapedefaults\":{\"line\":{\"color\":\"#f2f5fa\"}},\"sliderdefaults\":{\"bgcolor\":\"#C8D4E3\",\"bordercolor\":\"rgb(17,17,17)\",\"borderwidth\":1,\"tickwidth\":0},\"ternary\":{\"aaxis\":{\"gridcolor\":\"#506784\",\"linecolor\":\"#506784\",\"ticks\":\"\"},\"baxis\":{\"gridcolor\":\"#506784\",\"linecolor\":\"#506784\",\"ticks\":\"\"},\"bgcolor\":\"rgb(17,17,17)\",\"caxis\":{\"gridcolor\":\"#506784\",\"linecolor\":\"#506784\",\"ticks\":\"\"}},\"title\":{\"x\":0.05},\"updatemenudefaults\":{\"bgcolor\":\"#506784\",\"borderwidth\":0},\"xaxis\":{\"automargin\":true,\"gridcolor\":\"#283442\",\"linecolor\":\"#506784\",\"ticks\":\"\",\"title\":{\"standoff\":15},\"zerolinecolor\":\"#283442\",\"zerolinewidth\":2},\"yaxis\":{\"automargin\":true,\"gridcolor\":\"#283442\",\"linecolor\":\"#506784\",\"ticks\":\"\",\"title\":{\"standoff\":15},\"zerolinecolor\":\"#283442\",\"zerolinewidth\":2}}},\"title\":{\"text\":\"tempo distribution in top hits\"},\"xaxis\":{\"anchor\":\"y\",\"domain\":[0.0,1.0],\"title\":{\"text\":\"tempo\"}},\"yaxis\":{\"anchor\":\"x\",\"domain\":[0.0,1.0],\"title\":{\"text\":\"count\"}}},                        {\"responsive\": true}                    ).then(function(){\n",
       "                            \n",
       "var gd = document.getElementById('874c4464-c817-40c7-8adb-517d355f49b3');\n",
       "var x = new MutationObserver(function (mutations, observer) {{\n",
       "        var display = window.getComputedStyle(gd).display;\n",
       "        if (!display || display === 'none') {{\n",
       "            console.log([gd, 'removed!']);\n",
       "            Plotly.purge(gd);\n",
       "            observer.disconnect();\n",
       "        }}\n",
       "}});\n",
       "\n",
       "// Listen for the removal of the full notebook cells\n",
       "var notebookContainer = gd.closest('#notebook-container');\n",
       "if (notebookContainer) {{\n",
       "    x.observe(notebookContainer, {childList: true});\n",
       "}}\n",
       "\n",
       "// Listen for the clearing of the current output cell\n",
       "var outputEl = gd.closest('.output');\n",
       "if (outputEl) {{\n",
       "    x.observe(outputEl, {childList: true});\n",
       "}}\n",
       "\n",
       "                        })                };                });            </script>        </div>"
      ]
     },
     "metadata": {},
     "output_type": "display_data"
    }
   ],
   "source": [
    "histogram_labels = ['popularity',\n",
    "                    'danceability', \n",
    "                    'energy', \n",
    "                    'speechiness', \n",
    "                    'loudness', \n",
    "                    'acousticness', \n",
    "                    'liveness', \n",
    "                    'instrumentalness',\n",
    "                    'valence',\n",
    "                    'tempo'\n",
    "                   ]\n",
    "\n",
    "colors = px.colors.qualitative.Vivid\n",
    "for i in range(len(histogram_labels)):\n",
    "    fig = px.histogram(df, \n",
    "                       histogram_labels[i],\n",
    "                       template='plotly_dark',\n",
    "                       title=f'{histogram_labels[i]} distribution in top hits', \n",
    "                       color_discrete_sequence=[colors[i]]\n",
    "                      )\n",
    "    iplot(fig)"
   ]
  },
  {
   "cell_type": "code",
   "execution_count": 23,
   "id": "bc6ab1a9",
   "metadata": {
    "execution": {
     "iopub.execute_input": "2024-02-01T16:39:42.042691Z",
     "iopub.status.busy": "2024-02-01T16:39:42.042395Z",
     "iopub.status.idle": "2024-02-01T16:39:42.126563Z",
     "shell.execute_reply": "2024-02-01T16:39:42.125895Z"
    },
    "papermill": {
     "duration": 0.098113,
     "end_time": "2024-02-01T16:39:42.128216",
     "exception": false,
     "start_time": "2024-02-01T16:39:42.030103",
     "status": "completed"
    },
    "tags": []
   },
   "outputs": [
    {
     "data": {
      "text/html": [
       "<div>                            <div id=\"e929dc8b-1110-4b41-8973-ea7f564acb11\" class=\"plotly-graph-div\" style=\"height:525px; width:100%;\"></div>            <script type=\"text/javascript\">                require([\"plotly\"], function(Plotly) {                    window.PLOTLYENV=window.PLOTLYENV || {};                                    if (document.getElementById(\"e929dc8b-1110-4b41-8973-ea7f564acb11\")) {                    Plotly.newPlot(                        \"e929dc8b-1110-4b41-8973-ea7f564acb11\",                        [{\"alignmentgroup\":\"True\",\"bingroup\":\"x\",\"histfunc\":\"sum\",\"hovertemplate\":\"genre=%{x}\\u003cbr\\u003esum of song=%{y}\\u003cextra\\u003e\\u003c\\u002fextra\\u003e\",\"legendgroup\":\"\",\"marker\":{\"color\":\"#1DB954\",\"pattern\":{\"shape\":\"\"}},\"name\":\"\",\"offsetgroup\":\"\",\"orientation\":\"v\",\"showlegend\":false,\"x\":[\"pop\",\"hip hop, pop\",\"hip hop, pop, R&B\",\"pop, Dance\\u002fElectronic\",\"pop, R&B\",\"hip hop\",\"hip hop, pop, Dance\\u002fElectronic\",\"rock\",\"rock, pop\",\"Dance\\u002fElectronic\",\"rock, metal\",\"pop, latin\",\"pop, rock\",\"set()\",\"hip hop, Dance\\u002fElectronic\",\"latin\",\"hip hop, pop, latin\",\"pop, rock, metal\",\"R&B\",\"pop, rock, Dance\\u002fElectronic\",\"country\",\"metal\",\"hip hop, pop, rock\",\"rock, pop, Dance\\u002fElectronic\",\"pop, Folk\\u002fAcoustic\",\"pop, country\",\"pop, R&B, Dance\\u002fElectronic\",\"rock, pop, metal\",\"hip hop, R&B\",\"hip hop, pop, R&B, latin\",\"hip hop, pop, R&B, Dance\\u002fElectronic\",\"pop, rock, Folk\\u002fAcoustic\",\"rock, blues, latin\",\"hip hop, rock, pop\",\"World\\u002fTraditional, hip hop\",\"pop, easy listening, jazz\",\"World\\u002fTraditional, rock, pop\",\"World\\u002fTraditional, pop, Folk\\u002fAcoustic\",\"World\\u002fTraditional, rock\",\"Folk\\u002fAcoustic, pop\",\"rock, blues\",\"rock, R&B, Folk\\u002fAcoustic, pop\",\"rock, pop, metal, Dance\\u002fElectronic\",\"Folk\\u002fAcoustic, rock\",\"Folk\\u002fAcoustic, rock, pop\",\"rock, easy listening\",\"rock, classical\",\"hip hop, pop, country\",\"rock, Folk\\u002fAcoustic, pop\",\"rock, Folk\\u002fAcoustic, easy listening\",\"rock, Dance\\u002fElectronic\",\"hip hop, country\",\"hip hop, latin, Dance\\u002fElectronic\",\"country, latin\",\"World\\u002fTraditional, Folk\\u002fAcoustic\",\"pop, easy listening, Dance\\u002fElectronic\",\"pop, R&B, easy listening\",\"World\\u002fTraditional, pop\",\"easy listening\"],\"xaxis\":\"x\",\"y\":[428,277,244,221,178,124,78,58,43,41,38,28,26,22,16,15,14,14,13,13,10,9,9,8,8,8,6,4,3,3,3,2,2,2,2,2,2,2,2,2,2,1,1,1,1,1,1,1,1,1,1,1,1,1,1,1,1,1,1],\"yaxis\":\"y\",\"type\":\"histogram\"},{\"alignmentgroup\":\"True\",\"hovertemplate\":\"genre=%{x}\\u003cextra\\u003e\\u003c\\u002fextra\\u003e\",\"legendgroup\":\"\",\"marker\":{\"color\":\"#1DB954\"},\"name\":\"\",\"notched\":true,\"offsetgroup\":\"\",\"showlegend\":false,\"x\":[\"pop\",\"hip hop, pop\",\"hip hop, pop, R&B\",\"pop, Dance\\u002fElectronic\",\"pop, R&B\",\"hip hop\",\"hip hop, pop, Dance\\u002fElectronic\",\"rock\",\"rock, pop\",\"Dance\\u002fElectronic\",\"rock, metal\",\"pop, latin\",\"pop, rock\",\"set()\",\"hip hop, Dance\\u002fElectronic\",\"latin\",\"hip hop, pop, latin\",\"pop, rock, metal\",\"R&B\",\"pop, rock, Dance\\u002fElectronic\",\"country\",\"metal\",\"hip hop, pop, rock\",\"rock, pop, Dance\\u002fElectronic\",\"pop, Folk\\u002fAcoustic\",\"pop, country\",\"pop, R&B, Dance\\u002fElectronic\",\"rock, pop, metal\",\"hip hop, R&B\",\"hip hop, pop, R&B, latin\",\"hip hop, pop, R&B, Dance\\u002fElectronic\",\"pop, rock, Folk\\u002fAcoustic\",\"rock, blues, latin\",\"hip hop, rock, pop\",\"World\\u002fTraditional, hip hop\",\"pop, easy listening, jazz\",\"World\\u002fTraditional, rock, pop\",\"World\\u002fTraditional, pop, Folk\\u002fAcoustic\",\"World\\u002fTraditional, rock\",\"Folk\\u002fAcoustic, pop\",\"rock, blues\",\"rock, R&B, Folk\\u002fAcoustic, pop\",\"rock, pop, metal, Dance\\u002fElectronic\",\"Folk\\u002fAcoustic, rock\",\"Folk\\u002fAcoustic, rock, pop\",\"rock, easy listening\",\"rock, classical\",\"hip hop, pop, country\",\"rock, Folk\\u002fAcoustic, pop\",\"rock, Folk\\u002fAcoustic, easy listening\",\"rock, Dance\\u002fElectronic\",\"hip hop, country\",\"hip hop, latin, Dance\\u002fElectronic\",\"country, latin\",\"World\\u002fTraditional, Folk\\u002fAcoustic\",\"pop, easy listening, Dance\\u002fElectronic\",\"pop, R&B, easy listening\",\"World\\u002fTraditional, pop\",\"easy listening\"],\"xaxis\":\"x2\",\"yaxis\":\"y2\",\"type\":\"box\"}],                        {\"template\":{\"data\":{\"barpolar\":[{\"marker\":{\"line\":{\"color\":\"rgb(17,17,17)\",\"width\":0.5},\"pattern\":{\"fillmode\":\"overlay\",\"size\":10,\"solidity\":0.2}},\"type\":\"barpolar\"}],\"bar\":[{\"error_x\":{\"color\":\"#f2f5fa\"},\"error_y\":{\"color\":\"#f2f5fa\"},\"marker\":{\"line\":{\"color\":\"rgb(17,17,17)\",\"width\":0.5},\"pattern\":{\"fillmode\":\"overlay\",\"size\":10,\"solidity\":0.2}},\"type\":\"bar\"}],\"carpet\":[{\"aaxis\":{\"endlinecolor\":\"#A2B1C6\",\"gridcolor\":\"#506784\",\"linecolor\":\"#506784\",\"minorgridcolor\":\"#506784\",\"startlinecolor\":\"#A2B1C6\"},\"baxis\":{\"endlinecolor\":\"#A2B1C6\",\"gridcolor\":\"#506784\",\"linecolor\":\"#506784\",\"minorgridcolor\":\"#506784\",\"startlinecolor\":\"#A2B1C6\"},\"type\":\"carpet\"}],\"choropleth\":[{\"colorbar\":{\"outlinewidth\":0,\"ticks\":\"\"},\"type\":\"choropleth\"}],\"contourcarpet\":[{\"colorbar\":{\"outlinewidth\":0,\"ticks\":\"\"},\"type\":\"contourcarpet\"}],\"contour\":[{\"colorbar\":{\"outlinewidth\":0,\"ticks\":\"\"},\"colorscale\":[[0.0,\"#0d0887\"],[0.1111111111111111,\"#46039f\"],[0.2222222222222222,\"#7201a8\"],[0.3333333333333333,\"#9c179e\"],[0.4444444444444444,\"#bd3786\"],[0.5555555555555556,\"#d8576b\"],[0.6666666666666666,\"#ed7953\"],[0.7777777777777778,\"#fb9f3a\"],[0.8888888888888888,\"#fdca26\"],[1.0,\"#f0f921\"]],\"type\":\"contour\"}],\"heatmapgl\":[{\"colorbar\":{\"outlinewidth\":0,\"ticks\":\"\"},\"colorscale\":[[0.0,\"#0d0887\"],[0.1111111111111111,\"#46039f\"],[0.2222222222222222,\"#7201a8\"],[0.3333333333333333,\"#9c179e\"],[0.4444444444444444,\"#bd3786\"],[0.5555555555555556,\"#d8576b\"],[0.6666666666666666,\"#ed7953\"],[0.7777777777777778,\"#fb9f3a\"],[0.8888888888888888,\"#fdca26\"],[1.0,\"#f0f921\"]],\"type\":\"heatmapgl\"}],\"heatmap\":[{\"colorbar\":{\"outlinewidth\":0,\"ticks\":\"\"},\"colorscale\":[[0.0,\"#0d0887\"],[0.1111111111111111,\"#46039f\"],[0.2222222222222222,\"#7201a8\"],[0.3333333333333333,\"#9c179e\"],[0.4444444444444444,\"#bd3786\"],[0.5555555555555556,\"#d8576b\"],[0.6666666666666666,\"#ed7953\"],[0.7777777777777778,\"#fb9f3a\"],[0.8888888888888888,\"#fdca26\"],[1.0,\"#f0f921\"]],\"type\":\"heatmap\"}],\"histogram2dcontour\":[{\"colorbar\":{\"outlinewidth\":0,\"ticks\":\"\"},\"colorscale\":[[0.0,\"#0d0887\"],[0.1111111111111111,\"#46039f\"],[0.2222222222222222,\"#7201a8\"],[0.3333333333333333,\"#9c179e\"],[0.4444444444444444,\"#bd3786\"],[0.5555555555555556,\"#d8576b\"],[0.6666666666666666,\"#ed7953\"],[0.7777777777777778,\"#fb9f3a\"],[0.8888888888888888,\"#fdca26\"],[1.0,\"#f0f921\"]],\"type\":\"histogram2dcontour\"}],\"histogram2d\":[{\"colorbar\":{\"outlinewidth\":0,\"ticks\":\"\"},\"colorscale\":[[0.0,\"#0d0887\"],[0.1111111111111111,\"#46039f\"],[0.2222222222222222,\"#7201a8\"],[0.3333333333333333,\"#9c179e\"],[0.4444444444444444,\"#bd3786\"],[0.5555555555555556,\"#d8576b\"],[0.6666666666666666,\"#ed7953\"],[0.7777777777777778,\"#fb9f3a\"],[0.8888888888888888,\"#fdca26\"],[1.0,\"#f0f921\"]],\"type\":\"histogram2d\"}],\"histogram\":[{\"marker\":{\"pattern\":{\"fillmode\":\"overlay\",\"size\":10,\"solidity\":0.2}},\"type\":\"histogram\"}],\"mesh3d\":[{\"colorbar\":{\"outlinewidth\":0,\"ticks\":\"\"},\"type\":\"mesh3d\"}],\"parcoords\":[{\"line\":{\"colorbar\":{\"outlinewidth\":0,\"ticks\":\"\"}},\"type\":\"parcoords\"}],\"pie\":[{\"automargin\":true,\"type\":\"pie\"}],\"scatter3d\":[{\"line\":{\"colorbar\":{\"outlinewidth\":0,\"ticks\":\"\"}},\"marker\":{\"colorbar\":{\"outlinewidth\":0,\"ticks\":\"\"}},\"type\":\"scatter3d\"}],\"scattercarpet\":[{\"marker\":{\"colorbar\":{\"outlinewidth\":0,\"ticks\":\"\"}},\"type\":\"scattercarpet\"}],\"scattergeo\":[{\"marker\":{\"colorbar\":{\"outlinewidth\":0,\"ticks\":\"\"}},\"type\":\"scattergeo\"}],\"scattergl\":[{\"marker\":{\"line\":{\"color\":\"#283442\"}},\"type\":\"scattergl\"}],\"scattermapbox\":[{\"marker\":{\"colorbar\":{\"outlinewidth\":0,\"ticks\":\"\"}},\"type\":\"scattermapbox\"}],\"scatterpolargl\":[{\"marker\":{\"colorbar\":{\"outlinewidth\":0,\"ticks\":\"\"}},\"type\":\"scatterpolargl\"}],\"scatterpolar\":[{\"marker\":{\"colorbar\":{\"outlinewidth\":0,\"ticks\":\"\"}},\"type\":\"scatterpolar\"}],\"scatter\":[{\"marker\":{\"line\":{\"color\":\"#283442\"}},\"type\":\"scatter\"}],\"scatterternary\":[{\"marker\":{\"colorbar\":{\"outlinewidth\":0,\"ticks\":\"\"}},\"type\":\"scatterternary\"}],\"surface\":[{\"colorbar\":{\"outlinewidth\":0,\"ticks\":\"\"},\"colorscale\":[[0.0,\"#0d0887\"],[0.1111111111111111,\"#46039f\"],[0.2222222222222222,\"#7201a8\"],[0.3333333333333333,\"#9c179e\"],[0.4444444444444444,\"#bd3786\"],[0.5555555555555556,\"#d8576b\"],[0.6666666666666666,\"#ed7953\"],[0.7777777777777778,\"#fb9f3a\"],[0.8888888888888888,\"#fdca26\"],[1.0,\"#f0f921\"]],\"type\":\"surface\"}],\"table\":[{\"cells\":{\"fill\":{\"color\":\"#506784\"},\"line\":{\"color\":\"rgb(17,17,17)\"}},\"header\":{\"fill\":{\"color\":\"#2a3f5f\"},\"line\":{\"color\":\"rgb(17,17,17)\"}},\"type\":\"table\"}]},\"layout\":{\"annotationdefaults\":{\"arrowcolor\":\"#f2f5fa\",\"arrowhead\":0,\"arrowwidth\":1},\"autotypenumbers\":\"strict\",\"coloraxis\":{\"colorbar\":{\"outlinewidth\":0,\"ticks\":\"\"}},\"colorscale\":{\"diverging\":[[0,\"#8e0152\"],[0.1,\"#c51b7d\"],[0.2,\"#de77ae\"],[0.3,\"#f1b6da\"],[0.4,\"#fde0ef\"],[0.5,\"#f7f7f7\"],[0.6,\"#e6f5d0\"],[0.7,\"#b8e186\"],[0.8,\"#7fbc41\"],[0.9,\"#4d9221\"],[1,\"#276419\"]],\"sequential\":[[0.0,\"#0d0887\"],[0.1111111111111111,\"#46039f\"],[0.2222222222222222,\"#7201a8\"],[0.3333333333333333,\"#9c179e\"],[0.4444444444444444,\"#bd3786\"],[0.5555555555555556,\"#d8576b\"],[0.6666666666666666,\"#ed7953\"],[0.7777777777777778,\"#fb9f3a\"],[0.8888888888888888,\"#fdca26\"],[1.0,\"#f0f921\"]],\"sequentialminus\":[[0.0,\"#0d0887\"],[0.1111111111111111,\"#46039f\"],[0.2222222222222222,\"#7201a8\"],[0.3333333333333333,\"#9c179e\"],[0.4444444444444444,\"#bd3786\"],[0.5555555555555556,\"#d8576b\"],[0.6666666666666666,\"#ed7953\"],[0.7777777777777778,\"#fb9f3a\"],[0.8888888888888888,\"#fdca26\"],[1.0,\"#f0f921\"]]},\"colorway\":[\"#636efa\",\"#EF553B\",\"#00cc96\",\"#ab63fa\",\"#FFA15A\",\"#19d3f3\",\"#FF6692\",\"#B6E880\",\"#FF97FF\",\"#FECB52\"],\"font\":{\"color\":\"#f2f5fa\"},\"geo\":{\"bgcolor\":\"rgb(17,17,17)\",\"lakecolor\":\"rgb(17,17,17)\",\"landcolor\":\"rgb(17,17,17)\",\"showlakes\":true,\"showland\":true,\"subunitcolor\":\"#506784\"},\"hoverlabel\":{\"align\":\"left\"},\"hovermode\":\"closest\",\"mapbox\":{\"style\":\"dark\"},\"paper_bgcolor\":\"rgb(17,17,17)\",\"plot_bgcolor\":\"rgb(17,17,17)\",\"polar\":{\"angularaxis\":{\"gridcolor\":\"#506784\",\"linecolor\":\"#506784\",\"ticks\":\"\"},\"bgcolor\":\"rgb(17,17,17)\",\"radialaxis\":{\"gridcolor\":\"#506784\",\"linecolor\":\"#506784\",\"ticks\":\"\"}},\"scene\":{\"xaxis\":{\"backgroundcolor\":\"rgb(17,17,17)\",\"gridcolor\":\"#506784\",\"gridwidth\":2,\"linecolor\":\"#506784\",\"showbackground\":true,\"ticks\":\"\",\"zerolinecolor\":\"#C8D4E3\"},\"yaxis\":{\"backgroundcolor\":\"rgb(17,17,17)\",\"gridcolor\":\"#506784\",\"gridwidth\":2,\"linecolor\":\"#506784\",\"showbackground\":true,\"ticks\":\"\",\"zerolinecolor\":\"#C8D4E3\"},\"zaxis\":{\"backgroundcolor\":\"rgb(17,17,17)\",\"gridcolor\":\"#506784\",\"gridwidth\":2,\"linecolor\":\"#506784\",\"showbackground\":true,\"ticks\":\"\",\"zerolinecolor\":\"#C8D4E3\"}},\"shapedefaults\":{\"line\":{\"color\":\"#f2f5fa\"}},\"sliderdefaults\":{\"bgcolor\":\"#C8D4E3\",\"bordercolor\":\"rgb(17,17,17)\",\"borderwidth\":1,\"tickwidth\":0},\"ternary\":{\"aaxis\":{\"gridcolor\":\"#506784\",\"linecolor\":\"#506784\",\"ticks\":\"\"},\"baxis\":{\"gridcolor\":\"#506784\",\"linecolor\":\"#506784\",\"ticks\":\"\"},\"bgcolor\":\"rgb(17,17,17)\",\"caxis\":{\"gridcolor\":\"#506784\",\"linecolor\":\"#506784\",\"ticks\":\"\"}},\"title\":{\"x\":0.05},\"updatemenudefaults\":{\"bgcolor\":\"#506784\",\"borderwidth\":0},\"xaxis\":{\"automargin\":true,\"gridcolor\":\"#283442\",\"linecolor\":\"#506784\",\"ticks\":\"\",\"title\":{\"standoff\":15},\"zerolinecolor\":\"#283442\",\"zerolinewidth\":2},\"yaxis\":{\"automargin\":true,\"gridcolor\":\"#283442\",\"linecolor\":\"#506784\",\"ticks\":\"\",\"title\":{\"standoff\":15},\"zerolinecolor\":\"#283442\",\"zerolinewidth\":2}}},\"xaxis\":{\"anchor\":\"y\",\"domain\":[0.0,1.0],\"title\":{\"text\":\"genre\"}},\"yaxis\":{\"anchor\":\"x\",\"domain\":[0.0,0.8316],\"title\":{\"text\":\"sum of song\"}},\"xaxis2\":{\"anchor\":\"y2\",\"domain\":[0.0,1.0],\"matches\":\"x\",\"showticklabels\":false,\"showgrid\":true},\"yaxis2\":{\"anchor\":\"x2\",\"domain\":[0.8416,1.0],\"matches\":\"y2\",\"showticklabels\":false,\"showline\":false,\"ticks\":\"\",\"showgrid\":false},\"legend\":{\"tracegroupgap\":0},\"title\":{\"text\":\"\\u003cb\\u003eTotal songs based on genres\\u003c\\u002fb\\u003e\",\"x\":0.5},\"barmode\":\"relative\"},                        {\"responsive\": true}                    ).then(function(){\n",
       "                            \n",
       "var gd = document.getElementById('e929dc8b-1110-4b41-8973-ea7f564acb11');\n",
       "var x = new MutationObserver(function (mutations, observer) {{\n",
       "        var display = window.getComputedStyle(gd).display;\n",
       "        if (!display || display === 'none') {{\n",
       "            console.log([gd, 'removed!']);\n",
       "            Plotly.purge(gd);\n",
       "            observer.disconnect();\n",
       "        }}\n",
       "}});\n",
       "\n",
       "// Listen for the removal of the full notebook cells\n",
       "var notebookContainer = gd.closest('#notebook-container');\n",
       "if (notebookContainer) {{\n",
       "    x.observe(notebookContainer, {childList: true});\n",
       "}}\n",
       "\n",
       "// Listen for the clearing of the current output cell\n",
       "var outputEl = gd.closest('.output');\n",
       "if (outputEl) {{\n",
       "    x.observe(outputEl, {childList: true});\n",
       "}}\n",
       "\n",
       "                        })                };                });            </script>        </div>"
      ]
     },
     "metadata": {},
     "output_type": "display_data"
    }
   ],
   "source": [
    "fig=px.histogram(df.groupby('genre',as_index=False).count().sort_values(by='song',ascending=False),\n",
    "                 x='genre',\n",
    "                 y='song',\n",
    "                 color_discrete_sequence=['#1DB954'],\n",
    "                 template='plotly_dark',\n",
    "                 marginal='box',\n",
    "                 title='<b>Total songs based on genres</b>')\n",
    "fig.update_layout(title_x=0.5)"
   ]
  }
 ],
 "metadata": {
  "kaggle": {
   "accelerator": "none",
   "dataSources": [
    {
     "datasetId": 2125460,
     "sourceId": 3723559,
     "sourceType": "datasetVersion"
    }
   ],
   "dockerImageVersionId": 30646,
   "isGpuEnabled": false,
   "isInternetEnabled": true,
   "language": "python",
   "sourceType": "notebook"
  },
  "kernelspec": {
   "display_name": "Python 3",
   "language": "python",
   "name": "python3"
  },
  "language_info": {
   "codemirror_mode": {
    "name": "ipython",
    "version": 3
   },
   "file_extension": ".py",
   "mimetype": "text/x-python",
   "name": "python",
   "nbconvert_exporter": "python",
   "pygments_lexer": "ipython3",
   "version": "3.10.13"
  },
  "papermill": {
   "default_parameters": {},
   "duration": 8.901368,
   "end_time": "2024-02-01T16:39:42.759390",
   "environment_variables": {},
   "exception": null,
   "input_path": "__notebook__.ipynb",
   "output_path": "__notebook__.ipynb",
   "parameters": {},
   "start_time": "2024-02-01T16:39:33.858022",
   "version": "2.5.0"
  }
 },
 "nbformat": 4,
 "nbformat_minor": 5
}
